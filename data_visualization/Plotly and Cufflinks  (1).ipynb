{
 "cells": [
  {
   "cell_type": "markdown",
   "metadata": {},
   "source": [
    "Plotly is a library that allows you to create interactive plots that you can use in dashboards or websites (you can save them as html files or static images).\n",
    "\n",
    "## Installation\n",
    "\n",
    "In order for this all to work, you'll need to install plotly and cufflinks to call plots directly off of a pandas dataframe. These libraries are not currently available through **conda** but are available through **pip**. Install the libraries at your command line/terminal using:\n",
    "\n",
    "    !pip install plotly\n",
    "    !pip install cufflinks\n",
    "\n",
    "** NOTE: Make sure you only have one installation of Python on your computer when you do this, otherwise the installation may not work. **\n",
    "\n",
    "## Imports and Set-up"
   ]
  },
  {
   "cell_type": "code",
   "execution_count": 1,
   "metadata": {},
   "outputs": [
    {
     "name": "stdout",
     "output_type": "stream",
     "text": [
      "Collecting plotly\n",
      "  Downloading plotly-4.8.1-py2.py3-none-any.whl (11.5 MB)\n",
      "Requirement already satisfied: six in c:\\users\\eshan\\anaconda3\\lib\\site-packages (from plotly) (1.14.0)\n",
      "Collecting retrying>=1.3.3\n",
      "  Downloading retrying-1.3.3.tar.gz (10 kB)\n",
      "Building wheels for collected packages: retrying\n",
      "  Building wheel for retrying (setup.py): started\n",
      "  Building wheel for retrying (setup.py): finished with status 'done'\n",
      "  Created wheel for retrying: filename=retrying-1.3.3-py3-none-any.whl size=11435 sha256=6d64845aa795b0c38320dd889c1867f490b5c7d56d7ad82b83be00ae721e0d3f\n",
      "  Stored in directory: c:\\users\\eshan\\appdata\\local\\pip\\cache\\wheels\\f9\\8d\\8d\\f6af3f7f9eea3553bc2fe6d53e4b287dad18b06a861ac56ddf\n",
      "Successfully built retrying\n",
      "Installing collected packages: retrying, plotly\n",
      "Successfully installed plotly-4.8.1 retrying-1.3.3\n",
      "Collecting cufflinks\n",
      "  Downloading cufflinks-0.17.3.tar.gz (81 kB)\n",
      "Requirement already satisfied: numpy>=1.9.2 in c:\\users\\eshan\\anaconda3\\lib\\site-packages (from cufflinks) (1.18.1)\n",
      "Requirement already satisfied: pandas>=0.19.2 in c:\\users\\eshan\\anaconda3\\lib\\site-packages (from cufflinks) (1.0.1)\n",
      "Requirement already satisfied: plotly>=4.1.1 in c:\\users\\eshan\\anaconda3\\lib\\site-packages (from cufflinks) (4.8.1)\n",
      "Requirement already satisfied: six>=1.9.0 in c:\\users\\eshan\\anaconda3\\lib\\site-packages (from cufflinks) (1.14.0)\n",
      "Collecting colorlover>=0.2.1\n",
      "  Downloading colorlover-0.3.0-py3-none-any.whl (8.9 kB)\n",
      "Requirement already satisfied: setuptools>=34.4.1 in c:\\users\\eshan\\anaconda3\\lib\\site-packages (from cufflinks) (45.2.0.post20200210)\n",
      "Requirement already satisfied: ipython>=5.3.0 in c:\\users\\eshan\\anaconda3\\lib\\site-packages (from cufflinks) (7.12.0)\n",
      "Requirement already satisfied: ipywidgets>=7.0.0 in c:\\users\\eshan\\anaconda3\\lib\\site-packages (from cufflinks) (7.5.1)\n",
      "Requirement already satisfied: python-dateutil>=2.6.1 in c:\\users\\eshan\\anaconda3\\lib\\site-packages (from pandas>=0.19.2->cufflinks) (2.8.1)\n",
      "Requirement already satisfied: pytz>=2017.2 in c:\\users\\eshan\\anaconda3\\lib\\site-packages (from pandas>=0.19.2->cufflinks) (2019.3)\n",
      "Requirement already satisfied: retrying>=1.3.3 in c:\\users\\eshan\\anaconda3\\lib\\site-packages (from plotly>=4.1.1->cufflinks) (1.3.3)\n",
      "Requirement already satisfied: colorama; sys_platform == \"win32\" in c:\\users\\eshan\\anaconda3\\lib\\site-packages (from ipython>=5.3.0->cufflinks) (0.4.3)\n",
      "Requirement already satisfied: traitlets>=4.2 in c:\\users\\eshan\\anaconda3\\lib\\site-packages (from ipython>=5.3.0->cufflinks) (4.3.3)\n",
      "Requirement already satisfied: pickleshare in c:\\users\\eshan\\anaconda3\\lib\\site-packages (from ipython>=5.3.0->cufflinks) (0.7.5)\n",
      "Requirement already satisfied: decorator in c:\\users\\eshan\\anaconda3\\lib\\site-packages (from ipython>=5.3.0->cufflinks) (4.4.1)\n",
      "Requirement already satisfied: jedi>=0.10 in c:\\users\\eshan\\anaconda3\\lib\\site-packages (from ipython>=5.3.0->cufflinks) (0.14.1)\n",
      "Requirement already satisfied: pygments in c:\\users\\eshan\\anaconda3\\lib\\site-packages (from ipython>=5.3.0->cufflinks) (2.5.2)\n",
      "Requirement already satisfied: prompt-toolkit!=3.0.0,!=3.0.1,<3.1.0,>=2.0.0 in c:\\users\\eshan\\anaconda3\\lib\\site-packages (from ipython>=5.3.0->cufflinks) (3.0.3)\n",
      "Requirement already satisfied: backcall in c:\\users\\eshan\\anaconda3\\lib\\site-packages (from ipython>=5.3.0->cufflinks) (0.1.0)\n",
      "Requirement already satisfied: nbformat>=4.2.0 in c:\\users\\eshan\\anaconda3\\lib\\site-packages (from ipywidgets>=7.0.0->cufflinks) (5.0.4)\n",
      "Requirement already satisfied: widgetsnbextension~=3.5.0 in c:\\users\\eshan\\anaconda3\\lib\\site-packages (from ipywidgets>=7.0.0->cufflinks) (3.5.1)\n",
      "Requirement already satisfied: ipykernel>=4.5.1 in c:\\users\\eshan\\anaconda3\\lib\\site-packages (from ipywidgets>=7.0.0->cufflinks) (5.1.4)\n",
      "Requirement already satisfied: ipython-genutils in c:\\users\\eshan\\anaconda3\\lib\\site-packages (from traitlets>=4.2->ipython>=5.3.0->cufflinks) (0.2.0)\n",
      "Requirement already satisfied: parso>=0.5.0 in c:\\users\\eshan\\anaconda3\\lib\\site-packages (from jedi>=0.10->ipython>=5.3.0->cufflinks) (0.5.2)\n",
      "Requirement already satisfied: wcwidth in c:\\users\\eshan\\anaconda3\\lib\\site-packages (from prompt-toolkit!=3.0.0,!=3.0.1,<3.1.0,>=2.0.0->ipython>=5.3.0->cufflinks) (0.1.8)\n",
      "Requirement already satisfied: jupyter-core in c:\\users\\eshan\\anaconda3\\lib\\site-packages (from nbformat>=4.2.0->ipywidgets>=7.0.0->cufflinks) (4.6.1)\n",
      "Requirement already satisfied: jsonschema!=2.5.0,>=2.4 in c:\\users\\eshan\\anaconda3\\lib\\site-packages (from nbformat>=4.2.0->ipywidgets>=7.0.0->cufflinks) (3.2.0)\n",
      "Requirement already satisfied: notebook>=4.4.1 in c:\\users\\eshan\\anaconda3\\lib\\site-packages (from widgetsnbextension~=3.5.0->ipywidgets>=7.0.0->cufflinks) (6.0.3)\n",
      "Requirement already satisfied: jupyter-client in c:\\users\\eshan\\anaconda3\\lib\\site-packages (from ipykernel>=4.5.1->ipywidgets>=7.0.0->cufflinks) (5.3.4)\n",
      "Requirement already satisfied: tornado>=4.2 in c:\\users\\eshan\\anaconda3\\lib\\site-packages (from ipykernel>=4.5.1->ipywidgets>=7.0.0->cufflinks) (6.0.3)\n",
      "Requirement already satisfied: pywin32>=1.0; sys_platform == \"win32\" in c:\\users\\eshan\\anaconda3\\lib\\site-packages (from jupyter-core->nbformat>=4.2.0->ipywidgets>=7.0.0->cufflinks) (227)\n",
      "Requirement already satisfied: pyrsistent>=0.14.0 in c:\\users\\eshan\\anaconda3\\lib\\site-packages (from jsonschema!=2.5.0,>=2.4->nbformat>=4.2.0->ipywidgets>=7.0.0->cufflinks) (0.15.7)\n",
      "Requirement already satisfied: attrs>=17.4.0 in c:\\users\\eshan\\anaconda3\\lib\\site-packages (from jsonschema!=2.5.0,>=2.4->nbformat>=4.2.0->ipywidgets>=7.0.0->cufflinks) (19.3.0)\n",
      "Requirement already satisfied: importlib-metadata; python_version < \"3.8\" in c:\\users\\eshan\\anaconda3\\lib\\site-packages (from jsonschema!=2.5.0,>=2.4->nbformat>=4.2.0->ipywidgets>=7.0.0->cufflinks) (1.5.0)\n",
      "Requirement already satisfied: pyzmq>=17 in c:\\users\\eshan\\anaconda3\\lib\\site-packages (from notebook>=4.4.1->widgetsnbextension~=3.5.0->ipywidgets>=7.0.0->cufflinks) (18.1.1)\n",
      "Requirement already satisfied: jinja2 in c:\\users\\eshan\\anaconda3\\lib\\site-packages (from notebook>=4.4.1->widgetsnbextension~=3.5.0->ipywidgets>=7.0.0->cufflinks) (2.11.1)\n",
      "Requirement already satisfied: nbconvert in c:\\users\\eshan\\anaconda3\\lib\\site-packages (from notebook>=4.4.1->widgetsnbextension~=3.5.0->ipywidgets>=7.0.0->cufflinks) (5.6.1)\n",
      "Requirement already satisfied: prometheus-client in c:\\users\\eshan\\anaconda3\\lib\\site-packages (from notebook>=4.4.1->widgetsnbextension~=3.5.0->ipywidgets>=7.0.0->cufflinks) (0.7.1)\n",
      "Requirement already satisfied: terminado>=0.8.1 in c:\\users\\eshan\\anaconda3\\lib\\site-packages (from notebook>=4.4.1->widgetsnbextension~=3.5.0->ipywidgets>=7.0.0->cufflinks) (0.8.3)\n",
      "Requirement already satisfied: Send2Trash in c:\\users\\eshan\\anaconda3\\lib\\site-packages (from notebook>=4.4.1->widgetsnbextension~=3.5.0->ipywidgets>=7.0.0->cufflinks) (1.5.0)\n",
      "Requirement already satisfied: zipp>=0.5 in c:\\users\\eshan\\anaconda3\\lib\\site-packages (from importlib-metadata; python_version < \"3.8\"->jsonschema!=2.5.0,>=2.4->nbformat>=4.2.0->ipywidgets>=7.0.0->cufflinks) (2.2.0)\n",
      "Requirement already satisfied: MarkupSafe>=0.23 in c:\\users\\eshan\\anaconda3\\lib\\site-packages (from jinja2->notebook>=4.4.1->widgetsnbextension~=3.5.0->ipywidgets>=7.0.0->cufflinks) (1.1.1)\n",
      "Requirement already satisfied: bleach in c:\\users\\eshan\\anaconda3\\lib\\site-packages (from nbconvert->notebook>=4.4.1->widgetsnbextension~=3.5.0->ipywidgets>=7.0.0->cufflinks) (3.1.0)\n",
      "Requirement already satisfied: pandocfilters>=1.4.1 in c:\\users\\eshan\\anaconda3\\lib\\site-packages (from nbconvert->notebook>=4.4.1->widgetsnbextension~=3.5.0->ipywidgets>=7.0.0->cufflinks) (1.4.2)\n",
      "Requirement already satisfied: entrypoints>=0.2.2 in c:\\users\\eshan\\anaconda3\\lib\\site-packages (from nbconvert->notebook>=4.4.1->widgetsnbextension~=3.5.0->ipywidgets>=7.0.0->cufflinks) (0.3)\n",
      "Requirement already satisfied: mistune<2,>=0.8.1 in c:\\users\\eshan\\anaconda3\\lib\\site-packages (from nbconvert->notebook>=4.4.1->widgetsnbextension~=3.5.0->ipywidgets>=7.0.0->cufflinks) (0.8.4)\n",
      "Requirement already satisfied: defusedxml in c:\\users\\eshan\\anaconda3\\lib\\site-packages (from nbconvert->notebook>=4.4.1->widgetsnbextension~=3.5.0->ipywidgets>=7.0.0->cufflinks) (0.6.0)\n",
      "Requirement already satisfied: testpath in c:\\users\\eshan\\anaconda3\\lib\\site-packages (from nbconvert->notebook>=4.4.1->widgetsnbextension~=3.5.0->ipywidgets>=7.0.0->cufflinks) (0.4.4)\n",
      "Requirement already satisfied: webencodings in c:\\users\\eshan\\anaconda3\\lib\\site-packages (from bleach->nbconvert->notebook>=4.4.1->widgetsnbextension~=3.5.0->ipywidgets>=7.0.0->cufflinks) (0.5.1)\n",
      "Building wheels for collected packages: cufflinks\n",
      "  Building wheel for cufflinks (setup.py): started\n",
      "  Building wheel for cufflinks (setup.py): finished with status 'done'\n",
      "  Created wheel for cufflinks: filename=cufflinks-0.17.3-py3-none-any.whl size=68729 sha256=51d6e98732df0f2bffcfd3aaceac2d0bdb08325399d20d947a04c7f6fb7ac64b\n",
      "  Stored in directory: c:\\users\\eshan\\appdata\\local\\pip\\cache\\wheels\\e1\\27\\13\\3fe67fa7ea7be444b831d117220b3b586b872c9acd4df480d0\n",
      "Successfully built cufflinks\n",
      "Installing collected packages: colorlover, cufflinks\n",
      "Successfully installed colorlover-0.3.0 cufflinks-0.17.3\n"
     ]
    },
    {
     "name": "stdout",
     "output_type": "stream",
     "text": [
      "Collecting folium\n",
      "  Downloading folium-0.11.0-py2.py3-none-any.whl (93 kB)\n",
      "Requirement already satisfied: jinja2>=2.9 in c:\\users\\eshan\\anaconda3\\lib\\site-packages (from folium) (2.11.1)\n",
      "Collecting branca>=0.3.0\n",
      "  Downloading branca-0.4.1-py3-none-any.whl (24 kB)\n",
      "Requirement already satisfied: numpy in c:\\users\\eshan\\anaconda3\\lib\\site-packages (from folium) (1.18.1)\n",
      "Requirement already satisfied: requests in c:\\users\\eshan\\anaconda3\\lib\\site-packages (from folium) (2.22.0)\n",
      "Requirement already satisfied: MarkupSafe>=0.23 in c:\\users\\eshan\\anaconda3\\lib\\site-packages (from jinja2>=2.9->folium) (1.1.1)\n",
      "Requirement already satisfied: urllib3!=1.25.0,!=1.25.1,<1.26,>=1.21.1 in c:\\users\\eshan\\anaconda3\\lib\\site-packages (from requests->folium) (1.25.8)\n",
      "Requirement already satisfied: idna<2.9,>=2.5 in c:\\users\\eshan\\anaconda3\\lib\\site-packages (from requests->folium) (2.8)\n",
      "Requirement already satisfied: chardet<3.1.0,>=3.0.2 in c:\\users\\eshan\\anaconda3\\lib\\site-packages (from requests->folium) (3.0.4)\n",
      "Requirement already satisfied: certifi>=2017.4.17 in c:\\users\\eshan\\anaconda3\\lib\\site-packages (from requests->folium) (2019.11.28)\n",
      "Installing collected packages: branca, folium\n",
      "Successfully installed branca-0.4.1 folium-0.11.0\n"
     ]
    }
   ],
   "source": [
    "!pip install plotly\n"
   ]
  },
  {
   "cell_type": "code",
   "execution_count": 1,
   "metadata": {},
   "outputs": [
    {
     "name": "stdout",
     "output_type": "stream",
     "text": [
      "Requirement already satisfied: cufflinks in c:\\users\\eshan\\anaconda3\\lib\\site-packages (0.17.3)\n",
      "Requirement already satisfied: colorlover>=0.2.1 in c:\\users\\eshan\\anaconda3\\lib\\site-packages (from cufflinks) (0.3.0)\n",
      "Requirement already satisfied: ipywidgets>=7.0.0 in c:\\users\\eshan\\anaconda3\\lib\\site-packages (from cufflinks) (7.5.1)\n",
      "Requirement already satisfied: setuptools>=34.4.1 in c:\\users\\eshan\\anaconda3\\lib\\site-packages (from cufflinks) (49.6.0.post20200814)\n",
      "Requirement already satisfied: ipython>=5.3.0 in c:\\users\\eshan\\anaconda3\\lib\\site-packages (from cufflinks) (7.18.1)\n",
      "Requirement already satisfied: pandas>=0.19.2 in c:\\users\\eshan\\anaconda3\\lib\\site-packages (from cufflinks) (1.0.1)\n",
      "Requirement already satisfied: plotly>=4.1.1 in c:\\users\\eshan\\anaconda3\\lib\\site-packages (from cufflinks) (4.8.1)\n",
      "Requirement already satisfied: numpy>=1.9.2 in c:\\users\\eshan\\anaconda3\\lib\\site-packages (from cufflinks) (1.19.1)\n",
      "Requirement already satisfied: six>=1.9.0 in c:\\users\\eshan\\anaconda3\\lib\\site-packages (from cufflinks) (1.15.0)\n",
      "Requirement already satisfied: ipykernel>=4.5.1 in c:\\users\\eshan\\anaconda3\\lib\\site-packages (from ipywidgets>=7.0.0->cufflinks) (5.3.4)\n",
      "Requirement already satisfied: traitlets>=4.3.1 in c:\\users\\eshan\\anaconda3\\lib\\site-packages (from ipywidgets>=7.0.0->cufflinks) (4.3.3)\n",
      "Requirement already satisfied: widgetsnbextension~=3.5.0 in c:\\users\\eshan\\anaconda3\\lib\\site-packages (from ipywidgets>=7.0.0->cufflinks) (3.5.1)\n",
      "Requirement already satisfied: nbformat>=4.2.0 in c:\\users\\eshan\\anaconda3\\lib\\site-packages (from ipywidgets>=7.0.0->cufflinks) (5.0.7)\n",
      "Requirement already satisfied: jedi>=0.10 in c:\\users\\eshan\\anaconda3\\lib\\site-packages (from ipython>=5.3.0->cufflinks) (0.14.1)\n",
      "Requirement already satisfied: colorama; sys_platform == \"win32\" in c:\\users\\eshan\\anaconda3\\lib\\site-packages (from ipython>=5.3.0->cufflinks) (0.4.3)\n",
      "Requirement already satisfied: backcall in c:\\users\\eshan\\anaconda3\\lib\\site-packages (from ipython>=5.3.0->cufflinks) (0.2.0)\n",
      "Requirement already satisfied: pickleshare in c:\\users\\eshan\\anaconda3\\lib\\site-packages (from ipython>=5.3.0->cufflinks) (0.7.5)\n",
      "Requirement already satisfied: pygments in c:\\users\\eshan\\anaconda3\\lib\\site-packages (from ipython>=5.3.0->cufflinks) (2.6.1)\n",
      "Requirement already satisfied: decorator in c:\\users\\eshan\\anaconda3\\lib\\site-packages (from ipython>=5.3.0->cufflinks) (4.4.2)\n",
      "Requirement already satisfied: prompt-toolkit!=3.0.0,!=3.0.1,<3.1.0,>=2.0.0 in c:\\users\\eshan\\anaconda3\\lib\\site-packages (from ipython>=5.3.0->cufflinks) (3.0.7)\n",
      "Requirement already satisfied: python-dateutil>=2.6.1 in c:\\users\\eshan\\anaconda3\\lib\\site-packages (from pandas>=0.19.2->cufflinks) (2.8.1)\n",
      "Requirement already satisfied: pytz>=2017.2 in c:\\users\\eshan\\anaconda3\\lib\\site-packages (from pandas>=0.19.2->cufflinks) (2020.1)\n",
      "Requirement already satisfied: retrying>=1.3.3 in c:\\users\\eshan\\anaconda3\\lib\\site-packages (from plotly>=4.1.1->cufflinks) (1.3.3)\n",
      "Requirement already satisfied: tornado>=4.2 in c:\\users\\eshan\\anaconda3\\lib\\site-packages (from ipykernel>=4.5.1->ipywidgets>=7.0.0->cufflinks) (6.0.4)\n",
      "Requirement already satisfied: jupyter-client in c:\\users\\eshan\\anaconda3\\lib\\site-packages (from ipykernel>=4.5.1->ipywidgets>=7.0.0->cufflinks) (6.1.6)\n",
      "Requirement already satisfied: ipython-genutils in c:\\users\\eshan\\anaconda3\\lib\\site-packages (from traitlets>=4.3.1->ipywidgets>=7.0.0->cufflinks) (0.2.0)\n",
      "Requirement already satisfied: notebook>=4.4.1 in c:\\users\\eshan\\anaconda3\\lib\\site-packages (from widgetsnbextension~=3.5.0->ipywidgets>=7.0.0->cufflinks) (6.1.1)\n",
      "Requirement already satisfied: jsonschema!=2.5.0,>=2.4 in c:\\users\\eshan\\anaconda3\\lib\\site-packages (from nbformat>=4.2.0->ipywidgets>=7.0.0->cufflinks) (3.2.0)\n",
      "Requirement already satisfied: jupyter-core in c:\\users\\eshan\\anaconda3\\lib\\site-packages (from nbformat>=4.2.0->ipywidgets>=7.0.0->cufflinks) (4.6.3)\n",
      "Requirement already satisfied: parso>=0.5.0 in c:\\users\\eshan\\anaconda3\\lib\\site-packages (from jedi>=0.10->ipython>=5.3.0->cufflinks) (0.5.2)\n",
      "Requirement already satisfied: wcwidth in c:\\users\\eshan\\anaconda3\\lib\\site-packages (from prompt-toolkit!=3.0.0,!=3.0.1,<3.1.0,>=2.0.0->ipython>=5.3.0->cufflinks) (0.2.5)\n",
      "Requirement already satisfied: pyzmq>=13 in c:\\users\\eshan\\anaconda3\\lib\\site-packages (from jupyter-client->ipykernel>=4.5.1->ipywidgets>=7.0.0->cufflinks) (19.0.1)\n",
      "Requirement already satisfied: terminado>=0.8.3 in c:\\users\\eshan\\anaconda3\\lib\\site-packages (from notebook>=4.4.1->widgetsnbextension~=3.5.0->ipywidgets>=7.0.0->cufflinks) (0.8.3)\n",
      "Requirement already satisfied: prometheus-client in c:\\users\\eshan\\anaconda3\\lib\\site-packages (from notebook>=4.4.1->widgetsnbextension~=3.5.0->ipywidgets>=7.0.0->cufflinks) (0.8.0)\n",
      "Requirement already satisfied: nbconvert in c:\\users\\eshan\\anaconda3\\lib\\site-packages (from notebook>=4.4.1->widgetsnbextension~=3.5.0->ipywidgets>=7.0.0->cufflinks) (5.6.1)\n",
      "Requirement already satisfied: argon2-cffi in c:\\users\\eshan\\anaconda3\\lib\\site-packages (from notebook>=4.4.1->widgetsnbextension~=3.5.0->ipywidgets>=7.0.0->cufflinks) (20.1.0)\n",
      "Requirement already satisfied: Send2Trash in c:\\users\\eshan\\anaconda3\\lib\\site-packages (from notebook>=4.4.1->widgetsnbextension~=3.5.0->ipywidgets>=7.0.0->cufflinks) (1.5.0)\n",
      "Requirement already satisfied: jinja2 in c:\\users\\eshan\\anaconda3\\lib\\site-packages (from notebook>=4.4.1->widgetsnbextension~=3.5.0->ipywidgets>=7.0.0->cufflinks) (2.11.2)\n",
      "Requirement already satisfied: attrs>=17.4.0 in c:\\users\\eshan\\anaconda3\\lib\\site-packages (from jsonschema!=2.5.0,>=2.4->nbformat>=4.2.0->ipywidgets>=7.0.0->cufflinks) (20.1.0)\n",
      "Requirement already satisfied: importlib-metadata; python_version < \"3.8\" in c:\\users\\eshan\\anaconda3\\lib\\site-packages (from jsonschema!=2.5.0,>=2.4->nbformat>=4.2.0->ipywidgets>=7.0.0->cufflinks) (1.7.0)\n",
      "Requirement already satisfied: pyrsistent>=0.14.0 in c:\\users\\eshan\\anaconda3\\lib\\site-packages (from jsonschema!=2.5.0,>=2.4->nbformat>=4.2.0->ipywidgets>=7.0.0->cufflinks) (0.16.0)\n",
      "Requirement already satisfied: pywin32>=1.0; sys_platform == \"win32\" in c:\\users\\eshan\\anaconda3\\lib\\site-packages (from jupyter-core->nbformat>=4.2.0->ipywidgets>=7.0.0->cufflinks) (227)\n",
      "Requirement already satisfied: testpath in c:\\users\\eshan\\anaconda3\\lib\\site-packages (from nbconvert->notebook>=4.4.1->widgetsnbextension~=3.5.0->ipywidgets>=7.0.0->cufflinks) (0.4.4)\n",
      "Requirement already satisfied: defusedxml in c:\\users\\eshan\\anaconda3\\lib\\site-packages (from nbconvert->notebook>=4.4.1->widgetsnbextension~=3.5.0->ipywidgets>=7.0.0->cufflinks) (0.6.0)\n",
      "Requirement already satisfied: entrypoints>=0.2.2 in c:\\users\\eshan\\anaconda3\\lib\\site-packages (from nbconvert->notebook>=4.4.1->widgetsnbextension~=3.5.0->ipywidgets>=7.0.0->cufflinks) (0.3)\n",
      "Requirement already satisfied: bleach in c:\\users\\eshan\\anaconda3\\lib\\site-packages (from nbconvert->notebook>=4.4.1->widgetsnbextension~=3.5.0->ipywidgets>=7.0.0->cufflinks) (3.1.5)\n",
      "Requirement already satisfied: pandocfilters>=1.4.1 in c:\\users\\eshan\\anaconda3\\lib\\site-packages (from nbconvert->notebook>=4.4.1->widgetsnbextension~=3.5.0->ipywidgets>=7.0.0->cufflinks) (1.4.2)\n",
      "Requirement already satisfied: mistune<2,>=0.8.1 in c:\\users\\eshan\\anaconda3\\lib\\site-packages (from nbconvert->notebook>=4.4.1->widgetsnbextension~=3.5.0->ipywidgets>=7.0.0->cufflinks) (0.8.4)\n",
      "Requirement already satisfied: cffi>=1.0.0 in c:\\users\\eshan\\anaconda3\\lib\\site-packages (from argon2-cffi->notebook>=4.4.1->widgetsnbextension~=3.5.0->ipywidgets>=7.0.0->cufflinks) (1.14.2)\n",
      "Requirement already satisfied: MarkupSafe>=0.23 in c:\\users\\eshan\\anaconda3\\lib\\site-packages (from jinja2->notebook>=4.4.1->widgetsnbextension~=3.5.0->ipywidgets>=7.0.0->cufflinks) (1.1.1)\n",
      "Requirement already satisfied: zipp>=0.5 in c:\\users\\eshan\\anaconda3\\lib\\site-packages (from importlib-metadata; python_version < \"3.8\"->jsonschema!=2.5.0,>=2.4->nbformat>=4.2.0->ipywidgets>=7.0.0->cufflinks) (3.1.0)\n",
      "Requirement already satisfied: packaging in c:\\users\\eshan\\anaconda3\\lib\\site-packages (from bleach->nbconvert->notebook>=4.4.1->widgetsnbextension~=3.5.0->ipywidgets>=7.0.0->cufflinks) (20.4)\n",
      "Requirement already satisfied: webencodings in c:\\users\\eshan\\anaconda3\\lib\\site-packages (from bleach->nbconvert->notebook>=4.4.1->widgetsnbextension~=3.5.0->ipywidgets>=7.0.0->cufflinks) (0.5.1)\n",
      "Requirement already satisfied: pycparser in c:\\users\\eshan\\anaconda3\\lib\\site-packages (from cffi>=1.0.0->argon2-cffi->notebook>=4.4.1->widgetsnbextension~=3.5.0->ipywidgets>=7.0.0->cufflinks) (2.20)\n",
      "Requirement already satisfied: pyparsing>=2.0.2 in c:\\users\\eshan\\anaconda3\\lib\\site-packages (from packaging->bleach->nbconvert->notebook>=4.4.1->widgetsnbextension~=3.5.0->ipywidgets>=7.0.0->cufflinks) (2.4.7)\n"
     ]
    },
    {
     "name": "stdout",
     "output_type": "stream",
     "text": [
      "Requirement already satisfied: folium in c:\\users\\eshan\\anaconda3\\lib\\site-packages (0.11.0)\n",
      "Requirement already satisfied: numpy in c:\\users\\eshan\\anaconda3\\lib\\site-packages (from folium) (1.19.1)\n",
      "Requirement already satisfied: branca>=0.3.0 in c:\\users\\eshan\\anaconda3\\lib\\site-packages (from folium) (0.4.1)\n",
      "Requirement already satisfied: requests in c:\\users\\eshan\\anaconda3\\lib\\site-packages (from folium) (2.24.0)\n",
      "Requirement already satisfied: jinja2>=2.9 in c:\\users\\eshan\\anaconda3\\lib\\site-packages (from folium) (2.11.2)\n",
      "Requirement already satisfied: certifi>=2017.4.17 in c:\\users\\eshan\\anaconda3\\lib\\site-packages (from requests->folium) (2020.6.20)\n",
      "Requirement already satisfied: chardet<4,>=3.0.2 in c:\\users\\eshan\\anaconda3\\lib\\site-packages (from requests->folium) (3.0.4)\n",
      "Requirement already satisfied: idna<3,>=2.5 in c:\\users\\eshan\\anaconda3\\lib\\site-packages (from requests->folium) (2.10)\n",
      "Requirement already satisfied: urllib3!=1.25.0,!=1.25.1,<1.26,>=1.21.1 in c:\\users\\eshan\\anaconda3\\lib\\site-packages (from requests->folium) (1.25.10)\n",
      "Requirement already satisfied: MarkupSafe>=0.23 in c:\\users\\eshan\\anaconda3\\lib\\site-packages (from jinja2>=2.9->folium) (1.1.1)\n"
     ]
    }
   ],
   "source": [
    "!pip install cufflinks\n",
    "!pip install folium"
   ]
  },
  {
   "cell_type": "code",
   "execution_count": 2,
   "metadata": {},
   "outputs": [
    {
     "name": "stderr",
     "output_type": "stream",
     "text": [
      "\n",
      "Bad key \"text.kerning_factor\" on line 4 in\n",
      "C:\\Users\\eshan\\anaconda3\\lib\\site-packages\\matplotlib\\mpl-data\\stylelib\\_classic_test_patch.mplstyle.\n",
      "You probably need to get an updated matplotlibrc file from\n",
      "https://github.com/matplotlib/matplotlib/blob/v3.1.3/matplotlibrc.template\n",
      "or from the matplotlib source distribution\n"
     ]
    }
   ],
   "source": [
    "import pandas as pd\n",
    "import numpy as np\n",
    "import seaborn as sns\n",
    "import matplotlib.pyplot as plt\n",
    "%matplotlib inline"
   ]
  },
  {
   "cell_type": "code",
   "execution_count": 57,
   "metadata": {},
   "outputs": [],
   "source": [
    "from plotly.offline import iplot\n",
    "import plotly as py\n",
    "import plotly.tools as tls"
   ]
  },
  {
   "cell_type": "code",
   "execution_count": 58,
   "metadata": {},
   "outputs": [],
   "source": [
    "import cufflinks as cf"
   ]
  },
  {
   "cell_type": "code",
   "execution_count": 59,
   "metadata": {},
   "outputs": [
    {
     "name": "stdout",
     "output_type": "stream",
     "text": [
      "4.8.1\n"
     ]
    }
   ],
   "source": [
    "print(py.__version__)"
   ]
  },
  {
   "cell_type": "code",
   "execution_count": 60,
   "metadata": {},
   "outputs": [
    {
     "data": {
      "text/html": [
       "        <script type=\"text/javascript\">\n",
       "        window.PlotlyConfig = {MathJaxConfig: 'local'};\n",
       "        if (window.MathJax) {MathJax.Hub.Config({SVG: {font: \"STIX-Web\"}});}\n",
       "        if (typeof require !== 'undefined') {\n",
       "        require.undef(\"plotly\");\n",
       "        requirejs.config({\n",
       "            paths: {\n",
       "                'plotly': ['https://cdn.plot.ly/plotly-latest.min']\n",
       "            }\n",
       "        });\n",
       "        require(['plotly'], function(Plotly) {\n",
       "            window._Plotly = Plotly;\n",
       "        });\n",
       "        }\n",
       "        </script>\n",
       "        "
      ]
     },
     "metadata": {},
     "output_type": "display_data"
    },
    {
     "data": {
      "text/html": [
       "        <script type=\"text/javascript\">\n",
       "        window.PlotlyConfig = {MathJaxConfig: 'local'};\n",
       "        if (window.MathJax) {MathJax.Hub.Config({SVG: {font: \"STIX-Web\"}});}\n",
       "        if (typeof require !== 'undefined') {\n",
       "        require.undef(\"plotly\");\n",
       "        requirejs.config({\n",
       "            paths: {\n",
       "                'plotly': ['https://cdn.plot.ly/plotly-latest.min']\n",
       "            }\n",
       "        });\n",
       "        require(['plotly'], function(Plotly) {\n",
       "            window._Plotly = Plotly;\n",
       "        });\n",
       "        }\n",
       "        </script>\n",
       "        "
      ]
     },
     "metadata": {},
     "output_type": "display_data"
    }
   ],
   "source": [
    "py.offline.init_notebook_mode(connected=True)\n",
    "cf.go_offline()"
   ]
  },
  {
   "cell_type": "markdown",
   "metadata": {},
   "source": [
    "# Using Cufflinks and iplot()\n",
    "* line\n",
    "* scatter\n",
    "* bar\n",
    "* box\n",
    "* spread\n",
    "* ratio\n",
    "* heatmap\n",
    "* surface\n",
    "* histogram\n",
    "* bubble"
   ]
  },
  {
   "cell_type": "code",
   "execution_count": 9,
   "metadata": {},
   "outputs": [
    {
     "data": {
      "text/plain": [
       "['ggplot', 'pearl', 'solar', 'space', 'white', 'polar', 'henanigans']"
      ]
     },
     "execution_count": 9,
     "metadata": {},
     "output_type": "execute_result"
    }
   ],
   "source": [
    "cf.getThemes()"
   ]
  },
  {
   "cell_type": "code",
   "execution_count": 61,
   "metadata": {},
   "outputs": [],
   "source": [
    "cf.set_config_file(theme='space')"
   ]
  },
  {
   "cell_type": "code",
   "execution_count": 62,
   "metadata": {},
   "outputs": [],
   "source": [
    "\n",
    "df = pd.DataFrame(np.random.randn(100,3), columns = ['A', 'B', 'C'])\n",
    "df.head()\n",
    "df['A'] = df['A'].cumsum() + 20\n",
    "df['B'] = df['B'].cumsum() + 20\n",
    "df['C'] = df['C'].cumsum() + 20"
   ]
  },
  {
   "cell_type": "code",
   "execution_count": 63,
   "metadata": {},
   "outputs": [
    {
     "data": {
      "text/html": [
       "<div>\n",
       "<style scoped>\n",
       "    .dataframe tbody tr th:only-of-type {\n",
       "        vertical-align: middle;\n",
       "    }\n",
       "\n",
       "    .dataframe tbody tr th {\n",
       "        vertical-align: top;\n",
       "    }\n",
       "\n",
       "    .dataframe thead th {\n",
       "        text-align: right;\n",
       "    }\n",
       "</style>\n",
       "<table border=\"1\" class=\"dataframe\">\n",
       "  <thead>\n",
       "    <tr style=\"text-align: right;\">\n",
       "      <th></th>\n",
       "      <th>A</th>\n",
       "      <th>B</th>\n",
       "      <th>C</th>\n",
       "    </tr>\n",
       "  </thead>\n",
       "  <tbody>\n",
       "    <tr>\n",
       "      <th>0</th>\n",
       "      <td>18.939837</td>\n",
       "      <td>19.578118</td>\n",
       "      <td>19.601427</td>\n",
       "    </tr>\n",
       "    <tr>\n",
       "      <th>1</th>\n",
       "      <td>18.575363</td>\n",
       "      <td>20.678217</td>\n",
       "      <td>19.850834</td>\n",
       "    </tr>\n",
       "    <tr>\n",
       "      <th>2</th>\n",
       "      <td>18.336635</td>\n",
       "      <td>21.468675</td>\n",
       "      <td>17.262957</td>\n",
       "    </tr>\n",
       "    <tr>\n",
       "      <th>3</th>\n",
       "      <td>18.697864</td>\n",
       "      <td>21.992651</td>\n",
       "      <td>18.575130</td>\n",
       "    </tr>\n",
       "    <tr>\n",
       "      <th>4</th>\n",
       "      <td>19.366290</td>\n",
       "      <td>22.590705</td>\n",
       "      <td>18.649815</td>\n",
       "    </tr>\n",
       "  </tbody>\n",
       "</table>\n",
       "</div>"
      ],
      "text/plain": [
       "           A          B          C\n",
       "0  18.939837  19.578118  19.601427\n",
       "1  18.575363  20.678217  19.850834\n",
       "2  18.336635  21.468675  17.262957\n",
       "3  18.697864  21.992651  18.575130\n",
       "4  19.366290  22.590705  18.649815"
      ]
     },
     "execution_count": 63,
     "metadata": {},
     "output_type": "execute_result"
    }
   ],
   "source": [
    "df.head()"
   ]
  },
  {
   "cell_type": "code",
   "execution_count": 64,
   "metadata": {},
   "outputs": [
    {
     "data": {
      "application/vnd.plotly.v1+json": {
       "config": {
        "linkText": "Export to plot.ly",
        "plotlyServerURL": "https://plot.ly",
        "showLink": true
       },
       "data": [
        {
         "line": {
          "color": "rgba(255, 153, 51, 1.0)",
          "dash": "solid",
          "shape": "linear",
          "width": 1.3
         },
         "mode": "lines",
         "name": "A",
         "text": "",
         "type": "scatter",
         "x": [
          0,
          1,
          2,
          3,
          4,
          5,
          6,
          7,
          8,
          9,
          10,
          11,
          12,
          13,
          14,
          15,
          16,
          17,
          18,
          19,
          20,
          21,
          22,
          23,
          24,
          25,
          26,
          27,
          28,
          29,
          30,
          31,
          32,
          33,
          34,
          35,
          36,
          37,
          38,
          39,
          40,
          41,
          42,
          43,
          44,
          45,
          46,
          47,
          48,
          49,
          50,
          51,
          52,
          53,
          54,
          55,
          56,
          57,
          58,
          59,
          60,
          61,
          62,
          63,
          64,
          65,
          66,
          67,
          68,
          69,
          70,
          71,
          72,
          73,
          74,
          75,
          76,
          77,
          78,
          79,
          80,
          81,
          82,
          83,
          84,
          85,
          86,
          87,
          88,
          89,
          90,
          91,
          92,
          93,
          94,
          95,
          96,
          97,
          98,
          99
         ],
         "y": [
          18.939836529413366,
          18.57536317065325,
          18.336635226348214,
          18.697863962736864,
          19.366290077918997,
          19.092877224412625,
          19.261927308479674,
          19.070284867263755,
          21.431589346093155,
          20.475609087731144,
          18.974584338404725,
          18.543508338820796,
          18.082622133483657,
          19.69665413077819,
          18.974847645815437,
          17.237599352876373,
          16.272477837350642,
          16.884011620497258,
          15.690410493034438,
          15.363712087275186,
          16.225956134402548,
          15.673437402089853,
          15.689721555994854,
          14.874995704220487,
          16.781349846692613,
          16.766746588722278,
          17.437023461421365,
          18.407254621023664,
          18.778322874746365,
          18.983167775362922,
          20.280012505532344,
          20.966727262132668,
          21.3469385769036,
          18.109732789961864,
          17.74223490805164,
          16.67645900722814,
          17.2109808368415,
          16.225926830666246,
          16.280290562618234,
          16.310036144986377,
          16.75261515323721,
          15.849319662830442,
          16.593276042002714,
          18.49288801271804,
          19.353968848237443,
          17.93862487493714,
          18.324248321201814,
          18.925068710509603,
          17.392229168570704,
          16.191286317981696,
          17.253830607391073,
          15.952339438509785,
          15.297738981433854,
          16.283707299270795,
          15.749084701700184,
          14.370752817349668,
          15.303463746448205,
          13.827456294134599,
          13.81516644052611,
          14.325623370447243,
          15.97271169687874,
          15.085252769120892,
          14.817254258513294,
          14.241794570869569,
          14.208284738686732,
          12.966561751953925,
          12.590482441266257,
          9.948038467487647,
          11.032266409982899,
          8.891491839984331,
          8.163049698022995,
          8.979907465238242,
          9.287343172794754,
          10.114616024723174,
          10.465815149781305,
          12.496273529110058,
          12.255291716666108,
          12.48570479434714,
          12.052354735540451,
          10.303924782744446,
          8.572860049980218,
          7.293868133117167,
          8.437051955852471,
          8.27326115872482,
          9.053010838181457,
          6.851951218144077,
          6.7132342761241794,
          7.857634380841375,
          9.254614304695345,
          12.032692181592157,
          11.567349553414724,
          8.992923530539171,
          6.987426346784449,
          6.443275573164618,
          5.666244245097008,
          7.37917778442533,
          5.541628217325204,
          5.328180819895762,
          5.444276528135589,
          5.602228529266361
         ]
        },
        {
         "line": {
          "color": "rgba(55, 128, 191, 1.0)",
          "dash": "solid",
          "shape": "linear",
          "width": 1.3
         },
         "mode": "lines",
         "name": "B",
         "text": "",
         "type": "scatter",
         "x": [
          0,
          1,
          2,
          3,
          4,
          5,
          6,
          7,
          8,
          9,
          10,
          11,
          12,
          13,
          14,
          15,
          16,
          17,
          18,
          19,
          20,
          21,
          22,
          23,
          24,
          25,
          26,
          27,
          28,
          29,
          30,
          31,
          32,
          33,
          34,
          35,
          36,
          37,
          38,
          39,
          40,
          41,
          42,
          43,
          44,
          45,
          46,
          47,
          48,
          49,
          50,
          51,
          52,
          53,
          54,
          55,
          56,
          57,
          58,
          59,
          60,
          61,
          62,
          63,
          64,
          65,
          66,
          67,
          68,
          69,
          70,
          71,
          72,
          73,
          74,
          75,
          76,
          77,
          78,
          79,
          80,
          81,
          82,
          83,
          84,
          85,
          86,
          87,
          88,
          89,
          90,
          91,
          92,
          93,
          94,
          95,
          96,
          97,
          98,
          99
         ],
         "y": [
          19.57811765823711,
          20.67821727264487,
          21.468674831135477,
          21.992650726303197,
          22.59070512232445,
          20.867900003575024,
          20.365513305889916,
          20.913470537490042,
          21.090882817729412,
          21.68193571878041,
          22.636158920705995,
          23.536766878768287,
          23.971367204293422,
          24.587802024695673,
          25.398796398181773,
          25.198735063890453,
          25.248666318458625,
          24.2572815816471,
          24.725622045472626,
          24.70606590576826,
          24.904816173365795,
          25.69274160358888,
          25.318222557924997,
          25.881797294360027,
          25.149005275607976,
          26.158306200641068,
          24.96467012433253,
          25.703393643547926,
          24.501570109309206,
          24.801022335851982,
          25.501324319961423,
          25.50086978292324,
          25.56794289117986,
          26.05129699810626,
          27.879270978399088,
          28.035715011190494,
          28.417621536191334,
          27.45150432479886,
          25.365409693787665,
          25.569699453062658,
          25.871828040861512,
          25.811349616237685,
          25.507065615897233,
          25.359834372240382,
          24.461654398131433,
          25.713853093333597,
          24.36999338773402,
          24.21381050894856,
          23.521083330480558,
          24.812337744604157,
          26.22442520575146,
          25.42282289886684,
          24.801672584853485,
          23.795197723661467,
          23.218274304310114,
          24.441539869052512,
          23.38321461149637,
          22.605941570869334,
          22.961896130440156,
          22.225405362707768,
          22.10595019122328,
          22.517392115635495,
          21.475553665572292,
          21.769720295929822,
          20.14714973294842,
          20.01295951168225,
          20.642452444786795,
          20.07646910957776,
          20.717595768900587,
          21.90117045667466,
          21.144119719795288,
          20.21568542385949,
          20.11832983031426,
          20.25320071536521,
          21.079422705104005,
          20.178029294199376,
          20.41702064132579,
          19.53350372776044,
          17.2389060491363,
          17.919819649682246,
          17.873327116523644,
          19.16249070679284,
          18.548690862504664,
          19.44310771240245,
          19.1972035065841,
          18.712028267850634,
          18.48844417247204,
          18.15349006866355,
          17.867561285442036,
          17.29321406647523,
          17.398166853899877,
          19.247233445105156,
          20.047597351883915,
          18.78589828631096,
          19.297309251402723,
          19.07135904384581,
          18.723948022892316,
          19.530950057733442,
          19.068236729746076,
          16.898675239248913
         ]
        },
        {
         "line": {
          "color": "rgba(50, 171, 96, 1.0)",
          "dash": "solid",
          "shape": "linear",
          "width": 1.3
         },
         "mode": "lines",
         "name": "C",
         "text": "",
         "type": "scatter",
         "x": [
          0,
          1,
          2,
          3,
          4,
          5,
          6,
          7,
          8,
          9,
          10,
          11,
          12,
          13,
          14,
          15,
          16,
          17,
          18,
          19,
          20,
          21,
          22,
          23,
          24,
          25,
          26,
          27,
          28,
          29,
          30,
          31,
          32,
          33,
          34,
          35,
          36,
          37,
          38,
          39,
          40,
          41,
          42,
          43,
          44,
          45,
          46,
          47,
          48,
          49,
          50,
          51,
          52,
          53,
          54,
          55,
          56,
          57,
          58,
          59,
          60,
          61,
          62,
          63,
          64,
          65,
          66,
          67,
          68,
          69,
          70,
          71,
          72,
          73,
          74,
          75,
          76,
          77,
          78,
          79,
          80,
          81,
          82,
          83,
          84,
          85,
          86,
          87,
          88,
          89,
          90,
          91,
          92,
          93,
          94,
          95,
          96,
          97,
          98,
          99
         ],
         "y": [
          19.60142742296272,
          19.850834310233786,
          17.26295717314104,
          18.575130234244927,
          18.649815081003418,
          16.187364271401435,
          16.83327707529083,
          17.00829837263115,
          19.208742179909265,
          16.895158132496448,
          17.319347698131015,
          16.939276576515184,
          17.445366576364325,
          17.638588609076354,
          17.258509481465452,
          17.286869221921418,
          16.506548141702037,
          16.151709024133623,
          16.09848802515722,
          17.092421192295976,
          17.872105000572574,
          17.806117362194872,
          18.150007123655403,
          16.957122125424352,
          16.92994835512515,
          16.758553949623117,
          15.774845681256942,
          18.060152262817095,
          18.15229282455728,
          19.02795900495338,
          19.49302099652112,
          18.836755265502706,
          16.878896305092276,
          15.687515713008718,
          15.940164884463984,
          16.464089189174473,
          16.55546174456284,
          17.002618386359664,
          17.205102920401043,
          19.17203130140711,
          18.57801051926247,
          18.456585892440255,
          17.6193624525526,
          18.732100151060042,
          17.556766750936994,
          15.945535123872169,
          16.577448209785068,
          16.757449951175825,
          16.326060136179365,
          13.669310530754606,
          12.56779501388871,
          12.785708153691573,
          15.223884679756864,
          15.894497039607295,
          15.098340845301632,
          14.953377725149977,
          15.357102114195273,
          15.983788153268696,
          14.868106909858069,
          14.026933126308741,
          13.7568883447751,
          15.231989630000637,
          15.383881880895478,
          16.382588531083307,
          16.43322132276507,
          16.461558197689243,
          17.305011421274564,
          16.010747846021136,
          16.839646372310973,
          18.005743115693416,
          17.48742238164607,
          17.69108585845791,
          17.835111137476378,
          16.894666400726123,
          17.191622339832097,
          17.167071839480002,
          17.68691715092639,
          17.028739902661005,
          15.414571912627235,
          15.45576031216001,
          16.232317046637696,
          15.445976972864562,
          17.211532521350136,
          18.483445261686082,
          18.030804994536023,
          18.464612018830422,
          17.948728927363632,
          17.212379914264904,
          17.231048164772314,
          15.53966706854438,
          16.15486292195792,
          15.56126396950727,
          14.313029895849528,
          12.118614728283392,
          11.666360294191552,
          13.516095653489876,
          15.144094960578572,
          14.263878277842988,
          14.858855311310744,
          14.050273317419077
         ]
        }
       ],
       "layout": {
        "legend": {
         "bgcolor": "#1A1A1C",
         "font": {
          "color": "#D9D9D9"
         }
        },
        "paper_bgcolor": "#1A1A1C",
        "plot_bgcolor": "#1A1A1C",
        "template": {
         "data": {
          "bar": [
           {
            "error_x": {
             "color": "#2a3f5f"
            },
            "error_y": {
             "color": "#2a3f5f"
            },
            "marker": {
             "line": {
              "color": "#E5ECF6",
              "width": 0.5
             }
            },
            "type": "bar"
           }
          ],
          "barpolar": [
           {
            "marker": {
             "line": {
              "color": "#E5ECF6",
              "width": 0.5
             }
            },
            "type": "barpolar"
           }
          ],
          "carpet": [
           {
            "aaxis": {
             "endlinecolor": "#2a3f5f",
             "gridcolor": "white",
             "linecolor": "white",
             "minorgridcolor": "white",
             "startlinecolor": "#2a3f5f"
            },
            "baxis": {
             "endlinecolor": "#2a3f5f",
             "gridcolor": "white",
             "linecolor": "white",
             "minorgridcolor": "white",
             "startlinecolor": "#2a3f5f"
            },
            "type": "carpet"
           }
          ],
          "choropleth": [
           {
            "colorbar": {
             "outlinewidth": 0,
             "ticks": ""
            },
            "type": "choropleth"
           }
          ],
          "contour": [
           {
            "colorbar": {
             "outlinewidth": 0,
             "ticks": ""
            },
            "colorscale": [
             [
              0,
              "#0d0887"
             ],
             [
              0.1111111111111111,
              "#46039f"
             ],
             [
              0.2222222222222222,
              "#7201a8"
             ],
             [
              0.3333333333333333,
              "#9c179e"
             ],
             [
              0.4444444444444444,
              "#bd3786"
             ],
             [
              0.5555555555555556,
              "#d8576b"
             ],
             [
              0.6666666666666666,
              "#ed7953"
             ],
             [
              0.7777777777777778,
              "#fb9f3a"
             ],
             [
              0.8888888888888888,
              "#fdca26"
             ],
             [
              1,
              "#f0f921"
             ]
            ],
            "type": "contour"
           }
          ],
          "contourcarpet": [
           {
            "colorbar": {
             "outlinewidth": 0,
             "ticks": ""
            },
            "type": "contourcarpet"
           }
          ],
          "heatmap": [
           {
            "colorbar": {
             "outlinewidth": 0,
             "ticks": ""
            },
            "colorscale": [
             [
              0,
              "#0d0887"
             ],
             [
              0.1111111111111111,
              "#46039f"
             ],
             [
              0.2222222222222222,
              "#7201a8"
             ],
             [
              0.3333333333333333,
              "#9c179e"
             ],
             [
              0.4444444444444444,
              "#bd3786"
             ],
             [
              0.5555555555555556,
              "#d8576b"
             ],
             [
              0.6666666666666666,
              "#ed7953"
             ],
             [
              0.7777777777777778,
              "#fb9f3a"
             ],
             [
              0.8888888888888888,
              "#fdca26"
             ],
             [
              1,
              "#f0f921"
             ]
            ],
            "type": "heatmap"
           }
          ],
          "heatmapgl": [
           {
            "colorbar": {
             "outlinewidth": 0,
             "ticks": ""
            },
            "colorscale": [
             [
              0,
              "#0d0887"
             ],
             [
              0.1111111111111111,
              "#46039f"
             ],
             [
              0.2222222222222222,
              "#7201a8"
             ],
             [
              0.3333333333333333,
              "#9c179e"
             ],
             [
              0.4444444444444444,
              "#bd3786"
             ],
             [
              0.5555555555555556,
              "#d8576b"
             ],
             [
              0.6666666666666666,
              "#ed7953"
             ],
             [
              0.7777777777777778,
              "#fb9f3a"
             ],
             [
              0.8888888888888888,
              "#fdca26"
             ],
             [
              1,
              "#f0f921"
             ]
            ],
            "type": "heatmapgl"
           }
          ],
          "histogram": [
           {
            "marker": {
             "colorbar": {
              "outlinewidth": 0,
              "ticks": ""
             }
            },
            "type": "histogram"
           }
          ],
          "histogram2d": [
           {
            "colorbar": {
             "outlinewidth": 0,
             "ticks": ""
            },
            "colorscale": [
             [
              0,
              "#0d0887"
             ],
             [
              0.1111111111111111,
              "#46039f"
             ],
             [
              0.2222222222222222,
              "#7201a8"
             ],
             [
              0.3333333333333333,
              "#9c179e"
             ],
             [
              0.4444444444444444,
              "#bd3786"
             ],
             [
              0.5555555555555556,
              "#d8576b"
             ],
             [
              0.6666666666666666,
              "#ed7953"
             ],
             [
              0.7777777777777778,
              "#fb9f3a"
             ],
             [
              0.8888888888888888,
              "#fdca26"
             ],
             [
              1,
              "#f0f921"
             ]
            ],
            "type": "histogram2d"
           }
          ],
          "histogram2dcontour": [
           {
            "colorbar": {
             "outlinewidth": 0,
             "ticks": ""
            },
            "colorscale": [
             [
              0,
              "#0d0887"
             ],
             [
              0.1111111111111111,
              "#46039f"
             ],
             [
              0.2222222222222222,
              "#7201a8"
             ],
             [
              0.3333333333333333,
              "#9c179e"
             ],
             [
              0.4444444444444444,
              "#bd3786"
             ],
             [
              0.5555555555555556,
              "#d8576b"
             ],
             [
              0.6666666666666666,
              "#ed7953"
             ],
             [
              0.7777777777777778,
              "#fb9f3a"
             ],
             [
              0.8888888888888888,
              "#fdca26"
             ],
             [
              1,
              "#f0f921"
             ]
            ],
            "type": "histogram2dcontour"
           }
          ],
          "mesh3d": [
           {
            "colorbar": {
             "outlinewidth": 0,
             "ticks": ""
            },
            "type": "mesh3d"
           }
          ],
          "parcoords": [
           {
            "line": {
             "colorbar": {
              "outlinewidth": 0,
              "ticks": ""
             }
            },
            "type": "parcoords"
           }
          ],
          "pie": [
           {
            "automargin": true,
            "type": "pie"
           }
          ],
          "scatter": [
           {
            "marker": {
             "colorbar": {
              "outlinewidth": 0,
              "ticks": ""
             }
            },
            "type": "scatter"
           }
          ],
          "scatter3d": [
           {
            "line": {
             "colorbar": {
              "outlinewidth": 0,
              "ticks": ""
             }
            },
            "marker": {
             "colorbar": {
              "outlinewidth": 0,
              "ticks": ""
             }
            },
            "type": "scatter3d"
           }
          ],
          "scattercarpet": [
           {
            "marker": {
             "colorbar": {
              "outlinewidth": 0,
              "ticks": ""
             }
            },
            "type": "scattercarpet"
           }
          ],
          "scattergeo": [
           {
            "marker": {
             "colorbar": {
              "outlinewidth": 0,
              "ticks": ""
             }
            },
            "type": "scattergeo"
           }
          ],
          "scattergl": [
           {
            "marker": {
             "colorbar": {
              "outlinewidth": 0,
              "ticks": ""
             }
            },
            "type": "scattergl"
           }
          ],
          "scattermapbox": [
           {
            "marker": {
             "colorbar": {
              "outlinewidth": 0,
              "ticks": ""
             }
            },
            "type": "scattermapbox"
           }
          ],
          "scatterpolar": [
           {
            "marker": {
             "colorbar": {
              "outlinewidth": 0,
              "ticks": ""
             }
            },
            "type": "scatterpolar"
           }
          ],
          "scatterpolargl": [
           {
            "marker": {
             "colorbar": {
              "outlinewidth": 0,
              "ticks": ""
             }
            },
            "type": "scatterpolargl"
           }
          ],
          "scatterternary": [
           {
            "marker": {
             "colorbar": {
              "outlinewidth": 0,
              "ticks": ""
             }
            },
            "type": "scatterternary"
           }
          ],
          "surface": [
           {
            "colorbar": {
             "outlinewidth": 0,
             "ticks": ""
            },
            "colorscale": [
             [
              0,
              "#0d0887"
             ],
             [
              0.1111111111111111,
              "#46039f"
             ],
             [
              0.2222222222222222,
              "#7201a8"
             ],
             [
              0.3333333333333333,
              "#9c179e"
             ],
             [
              0.4444444444444444,
              "#bd3786"
             ],
             [
              0.5555555555555556,
              "#d8576b"
             ],
             [
              0.6666666666666666,
              "#ed7953"
             ],
             [
              0.7777777777777778,
              "#fb9f3a"
             ],
             [
              0.8888888888888888,
              "#fdca26"
             ],
             [
              1,
              "#f0f921"
             ]
            ],
            "type": "surface"
           }
          ],
          "table": [
           {
            "cells": {
             "fill": {
              "color": "#EBF0F8"
             },
             "line": {
              "color": "white"
             }
            },
            "header": {
             "fill": {
              "color": "#C8D4E3"
             },
             "line": {
              "color": "white"
             }
            },
            "type": "table"
           }
          ]
         },
         "layout": {
          "annotationdefaults": {
           "arrowcolor": "#2a3f5f",
           "arrowhead": 0,
           "arrowwidth": 1
          },
          "coloraxis": {
           "colorbar": {
            "outlinewidth": 0,
            "ticks": ""
           }
          },
          "colorscale": {
           "diverging": [
            [
             0,
             "#8e0152"
            ],
            [
             0.1,
             "#c51b7d"
            ],
            [
             0.2,
             "#de77ae"
            ],
            [
             0.3,
             "#f1b6da"
            ],
            [
             0.4,
             "#fde0ef"
            ],
            [
             0.5,
             "#f7f7f7"
            ],
            [
             0.6,
             "#e6f5d0"
            ],
            [
             0.7,
             "#b8e186"
            ],
            [
             0.8,
             "#7fbc41"
            ],
            [
             0.9,
             "#4d9221"
            ],
            [
             1,
             "#276419"
            ]
           ],
           "sequential": [
            [
             0,
             "#0d0887"
            ],
            [
             0.1111111111111111,
             "#46039f"
            ],
            [
             0.2222222222222222,
             "#7201a8"
            ],
            [
             0.3333333333333333,
             "#9c179e"
            ],
            [
             0.4444444444444444,
             "#bd3786"
            ],
            [
             0.5555555555555556,
             "#d8576b"
            ],
            [
             0.6666666666666666,
             "#ed7953"
            ],
            [
             0.7777777777777778,
             "#fb9f3a"
            ],
            [
             0.8888888888888888,
             "#fdca26"
            ],
            [
             1,
             "#f0f921"
            ]
           ],
           "sequentialminus": [
            [
             0,
             "#0d0887"
            ],
            [
             0.1111111111111111,
             "#46039f"
            ],
            [
             0.2222222222222222,
             "#7201a8"
            ],
            [
             0.3333333333333333,
             "#9c179e"
            ],
            [
             0.4444444444444444,
             "#bd3786"
            ],
            [
             0.5555555555555556,
             "#d8576b"
            ],
            [
             0.6666666666666666,
             "#ed7953"
            ],
            [
             0.7777777777777778,
             "#fb9f3a"
            ],
            [
             0.8888888888888888,
             "#fdca26"
            ],
            [
             1,
             "#f0f921"
            ]
           ]
          },
          "colorway": [
           "#636efa",
           "#EF553B",
           "#00cc96",
           "#ab63fa",
           "#FFA15A",
           "#19d3f3",
           "#FF6692",
           "#B6E880",
           "#FF97FF",
           "#FECB52"
          ],
          "font": {
           "color": "#2a3f5f"
          },
          "geo": {
           "bgcolor": "white",
           "lakecolor": "white",
           "landcolor": "#E5ECF6",
           "showlakes": true,
           "showland": true,
           "subunitcolor": "white"
          },
          "hoverlabel": {
           "align": "left"
          },
          "hovermode": "closest",
          "mapbox": {
           "style": "light"
          },
          "paper_bgcolor": "white",
          "plot_bgcolor": "#E5ECF6",
          "polar": {
           "angularaxis": {
            "gridcolor": "white",
            "linecolor": "white",
            "ticks": ""
           },
           "bgcolor": "#E5ECF6",
           "radialaxis": {
            "gridcolor": "white",
            "linecolor": "white",
            "ticks": ""
           }
          },
          "scene": {
           "xaxis": {
            "backgroundcolor": "#E5ECF6",
            "gridcolor": "white",
            "gridwidth": 2,
            "linecolor": "white",
            "showbackground": true,
            "ticks": "",
            "zerolinecolor": "white"
           },
           "yaxis": {
            "backgroundcolor": "#E5ECF6",
            "gridcolor": "white",
            "gridwidth": 2,
            "linecolor": "white",
            "showbackground": true,
            "ticks": "",
            "zerolinecolor": "white"
           },
           "zaxis": {
            "backgroundcolor": "#E5ECF6",
            "gridcolor": "white",
            "gridwidth": 2,
            "linecolor": "white",
            "showbackground": true,
            "ticks": "",
            "zerolinecolor": "white"
           }
          },
          "shapedefaults": {
           "line": {
            "color": "#2a3f5f"
           }
          },
          "ternary": {
           "aaxis": {
            "gridcolor": "white",
            "linecolor": "white",
            "ticks": ""
           },
           "baxis": {
            "gridcolor": "white",
            "linecolor": "white",
            "ticks": ""
           },
           "bgcolor": "#E5ECF6",
           "caxis": {
            "gridcolor": "white",
            "linecolor": "white",
            "ticks": ""
           }
          },
          "title": {
           "x": 0.05
          },
          "xaxis": {
           "automargin": true,
           "gridcolor": "white",
           "linecolor": "white",
           "ticks": "",
           "title": {
            "standoff": 15
           },
           "zerolinecolor": "white",
           "zerolinewidth": 2
          },
          "yaxis": {
           "automargin": true,
           "gridcolor": "white",
           "linecolor": "white",
           "ticks": "",
           "title": {
            "standoff": 15
           },
           "zerolinecolor": "white",
           "zerolinewidth": 2
          }
         }
        },
        "title": {
         "font": {
          "color": "#D9D9D9"
         },
         "text": "LINE PLOT"
        },
        "xaxis": {
         "gridcolor": "#434343",
         "showgrid": true,
         "tickfont": {
          "color": "#C2C2C2"
         },
         "title": {
          "font": {
           "color": "#D9D9D9"
          },
          "text": "x-axis"
         },
         "zerolinecolor": "#666570"
        },
        "yaxis": {
         "gridcolor": "#434343",
         "showgrid": true,
         "tickfont": {
          "color": "#C2C2C2"
         },
         "title": {
          "font": {
           "color": "#D9D9D9"
          },
          "text": "y-axis"
         },
         "zerolinecolor": "#666570"
        }
       }
      },
      "text/html": [
       "<div>\n",
       "        \n",
       "        \n",
       "            <div id=\"4b47a416-3717-440c-b018-abdea3a79781\" class=\"plotly-graph-div\" style=\"height:525px; width:100%;\"></div>\n",
       "            <script type=\"text/javascript\">\n",
       "                require([\"plotly\"], function(Plotly) {\n",
       "                    window.PLOTLYENV=window.PLOTLYENV || {};\n",
       "                    window.PLOTLYENV.BASE_URL='https://plot.ly';\n",
       "                    \n",
       "                if (document.getElementById(\"4b47a416-3717-440c-b018-abdea3a79781\")) {\n",
       "                    Plotly.newPlot(\n",
       "                        '4b47a416-3717-440c-b018-abdea3a79781',\n",
       "                        [{\"line\": {\"color\": \"rgba(255, 153, 51, 1.0)\", \"dash\": \"solid\", \"shape\": \"linear\", \"width\": 1.3}, \"mode\": \"lines\", \"name\": \"A\", \"text\": \"\", \"type\": \"scatter\", \"x\": [0, 1, 2, 3, 4, 5, 6, 7, 8, 9, 10, 11, 12, 13, 14, 15, 16, 17, 18, 19, 20, 21, 22, 23, 24, 25, 26, 27, 28, 29, 30, 31, 32, 33, 34, 35, 36, 37, 38, 39, 40, 41, 42, 43, 44, 45, 46, 47, 48, 49, 50, 51, 52, 53, 54, 55, 56, 57, 58, 59, 60, 61, 62, 63, 64, 65, 66, 67, 68, 69, 70, 71, 72, 73, 74, 75, 76, 77, 78, 79, 80, 81, 82, 83, 84, 85, 86, 87, 88, 89, 90, 91, 92, 93, 94, 95, 96, 97, 98, 99], \"y\": [18.939836529413366, 18.57536317065325, 18.336635226348214, 18.697863962736864, 19.366290077918997, 19.092877224412625, 19.261927308479674, 19.070284867263755, 21.431589346093155, 20.475609087731144, 18.974584338404725, 18.543508338820796, 18.082622133483657, 19.69665413077819, 18.974847645815437, 17.237599352876373, 16.272477837350642, 16.884011620497258, 15.690410493034438, 15.363712087275186, 16.225956134402548, 15.673437402089853, 15.689721555994854, 14.874995704220487, 16.781349846692613, 16.766746588722278, 17.437023461421365, 18.407254621023664, 18.778322874746365, 18.983167775362922, 20.280012505532344, 20.966727262132668, 21.3469385769036, 18.109732789961864, 17.74223490805164, 16.67645900722814, 17.2109808368415, 16.225926830666246, 16.280290562618234, 16.310036144986377, 16.75261515323721, 15.849319662830442, 16.593276042002714, 18.49288801271804, 19.353968848237443, 17.93862487493714, 18.324248321201814, 18.925068710509603, 17.392229168570704, 16.191286317981696, 17.253830607391073, 15.952339438509785, 15.297738981433854, 16.283707299270795, 15.749084701700184, 14.370752817349668, 15.303463746448205, 13.827456294134599, 13.81516644052611, 14.325623370447243, 15.97271169687874, 15.085252769120892, 14.817254258513294, 14.241794570869569, 14.208284738686732, 12.966561751953925, 12.590482441266257, 9.948038467487647, 11.032266409982899, 8.891491839984331, 8.163049698022995, 8.979907465238242, 9.287343172794754, 10.114616024723174, 10.465815149781305, 12.496273529110058, 12.255291716666108, 12.48570479434714, 12.052354735540451, 10.303924782744446, 8.572860049980218, 7.293868133117167, 8.437051955852471, 8.27326115872482, 9.053010838181457, 6.851951218144077, 6.7132342761241794, 7.857634380841375, 9.254614304695345, 12.032692181592157, 11.567349553414724, 8.992923530539171, 6.987426346784449, 6.443275573164618, 5.666244245097008, 7.37917778442533, 5.541628217325204, 5.328180819895762, 5.444276528135589, 5.602228529266361]}, {\"line\": {\"color\": \"rgba(55, 128, 191, 1.0)\", \"dash\": \"solid\", \"shape\": \"linear\", \"width\": 1.3}, \"mode\": \"lines\", \"name\": \"B\", \"text\": \"\", \"type\": \"scatter\", \"x\": [0, 1, 2, 3, 4, 5, 6, 7, 8, 9, 10, 11, 12, 13, 14, 15, 16, 17, 18, 19, 20, 21, 22, 23, 24, 25, 26, 27, 28, 29, 30, 31, 32, 33, 34, 35, 36, 37, 38, 39, 40, 41, 42, 43, 44, 45, 46, 47, 48, 49, 50, 51, 52, 53, 54, 55, 56, 57, 58, 59, 60, 61, 62, 63, 64, 65, 66, 67, 68, 69, 70, 71, 72, 73, 74, 75, 76, 77, 78, 79, 80, 81, 82, 83, 84, 85, 86, 87, 88, 89, 90, 91, 92, 93, 94, 95, 96, 97, 98, 99], \"y\": [19.57811765823711, 20.67821727264487, 21.468674831135477, 21.992650726303197, 22.59070512232445, 20.867900003575024, 20.365513305889916, 20.913470537490042, 21.090882817729412, 21.68193571878041, 22.636158920705995, 23.536766878768287, 23.971367204293422, 24.587802024695673, 25.398796398181773, 25.198735063890453, 25.248666318458625, 24.2572815816471, 24.725622045472626, 24.70606590576826, 24.904816173365795, 25.69274160358888, 25.318222557924997, 25.881797294360027, 25.149005275607976, 26.158306200641068, 24.96467012433253, 25.703393643547926, 24.501570109309206, 24.801022335851982, 25.501324319961423, 25.50086978292324, 25.56794289117986, 26.05129699810626, 27.879270978399088, 28.035715011190494, 28.417621536191334, 27.45150432479886, 25.365409693787665, 25.569699453062658, 25.871828040861512, 25.811349616237685, 25.507065615897233, 25.359834372240382, 24.461654398131433, 25.713853093333597, 24.36999338773402, 24.21381050894856, 23.521083330480558, 24.812337744604157, 26.22442520575146, 25.42282289886684, 24.801672584853485, 23.795197723661467, 23.218274304310114, 24.441539869052512, 23.38321461149637, 22.605941570869334, 22.961896130440156, 22.225405362707768, 22.10595019122328, 22.517392115635495, 21.475553665572292, 21.769720295929822, 20.14714973294842, 20.01295951168225, 20.642452444786795, 20.07646910957776, 20.717595768900587, 21.90117045667466, 21.144119719795288, 20.21568542385949, 20.11832983031426, 20.25320071536521, 21.079422705104005, 20.178029294199376, 20.41702064132579, 19.53350372776044, 17.2389060491363, 17.919819649682246, 17.873327116523644, 19.16249070679284, 18.548690862504664, 19.44310771240245, 19.1972035065841, 18.712028267850634, 18.48844417247204, 18.15349006866355, 17.867561285442036, 17.29321406647523, 17.398166853899877, 19.247233445105156, 20.047597351883915, 18.78589828631096, 19.297309251402723, 19.07135904384581, 18.723948022892316, 19.530950057733442, 19.068236729746076, 16.898675239248913]}, {\"line\": {\"color\": \"rgba(50, 171, 96, 1.0)\", \"dash\": \"solid\", \"shape\": \"linear\", \"width\": 1.3}, \"mode\": \"lines\", \"name\": \"C\", \"text\": \"\", \"type\": \"scatter\", \"x\": [0, 1, 2, 3, 4, 5, 6, 7, 8, 9, 10, 11, 12, 13, 14, 15, 16, 17, 18, 19, 20, 21, 22, 23, 24, 25, 26, 27, 28, 29, 30, 31, 32, 33, 34, 35, 36, 37, 38, 39, 40, 41, 42, 43, 44, 45, 46, 47, 48, 49, 50, 51, 52, 53, 54, 55, 56, 57, 58, 59, 60, 61, 62, 63, 64, 65, 66, 67, 68, 69, 70, 71, 72, 73, 74, 75, 76, 77, 78, 79, 80, 81, 82, 83, 84, 85, 86, 87, 88, 89, 90, 91, 92, 93, 94, 95, 96, 97, 98, 99], \"y\": [19.60142742296272, 19.850834310233786, 17.26295717314104, 18.575130234244927, 18.649815081003418, 16.187364271401435, 16.83327707529083, 17.00829837263115, 19.208742179909265, 16.895158132496448, 17.319347698131015, 16.939276576515184, 17.445366576364325, 17.638588609076354, 17.258509481465452, 17.286869221921418, 16.506548141702037, 16.151709024133623, 16.09848802515722, 17.092421192295976, 17.872105000572574, 17.806117362194872, 18.150007123655403, 16.957122125424352, 16.92994835512515, 16.758553949623117, 15.774845681256942, 18.060152262817095, 18.15229282455728, 19.02795900495338, 19.49302099652112, 18.836755265502706, 16.878896305092276, 15.687515713008718, 15.940164884463984, 16.464089189174473, 16.55546174456284, 17.002618386359664, 17.205102920401043, 19.17203130140711, 18.57801051926247, 18.456585892440255, 17.6193624525526, 18.732100151060042, 17.556766750936994, 15.945535123872169, 16.577448209785068, 16.757449951175825, 16.326060136179365, 13.669310530754606, 12.56779501388871, 12.785708153691573, 15.223884679756864, 15.894497039607295, 15.098340845301632, 14.953377725149977, 15.357102114195273, 15.983788153268696, 14.868106909858069, 14.026933126308741, 13.7568883447751, 15.231989630000637, 15.383881880895478, 16.382588531083307, 16.43322132276507, 16.461558197689243, 17.305011421274564, 16.010747846021136, 16.839646372310973, 18.005743115693416, 17.48742238164607, 17.69108585845791, 17.835111137476378, 16.894666400726123, 17.191622339832097, 17.167071839480002, 17.68691715092639, 17.028739902661005, 15.414571912627235, 15.45576031216001, 16.232317046637696, 15.445976972864562, 17.211532521350136, 18.483445261686082, 18.030804994536023, 18.464612018830422, 17.948728927363632, 17.212379914264904, 17.231048164772314, 15.53966706854438, 16.15486292195792, 15.56126396950727, 14.313029895849528, 12.118614728283392, 11.666360294191552, 13.516095653489876, 15.144094960578572, 14.263878277842988, 14.858855311310744, 14.050273317419077]}],\n",
       "                        {\"legend\": {\"bgcolor\": \"#1A1A1C\", \"font\": {\"color\": \"#D9D9D9\"}}, \"paper_bgcolor\": \"#1A1A1C\", \"plot_bgcolor\": \"#1A1A1C\", \"template\": {\"data\": {\"bar\": [{\"error_x\": {\"color\": \"#2a3f5f\"}, \"error_y\": {\"color\": \"#2a3f5f\"}, \"marker\": {\"line\": {\"color\": \"#E5ECF6\", \"width\": 0.5}}, \"type\": \"bar\"}], \"barpolar\": [{\"marker\": {\"line\": {\"color\": \"#E5ECF6\", \"width\": 0.5}}, \"type\": \"barpolar\"}], \"carpet\": [{\"aaxis\": {\"endlinecolor\": \"#2a3f5f\", \"gridcolor\": \"white\", \"linecolor\": \"white\", \"minorgridcolor\": \"white\", \"startlinecolor\": \"#2a3f5f\"}, \"baxis\": {\"endlinecolor\": \"#2a3f5f\", \"gridcolor\": \"white\", \"linecolor\": \"white\", \"minorgridcolor\": \"white\", \"startlinecolor\": \"#2a3f5f\"}, \"type\": \"carpet\"}], \"choropleth\": [{\"colorbar\": {\"outlinewidth\": 0, \"ticks\": \"\"}, \"type\": \"choropleth\"}], \"contour\": [{\"colorbar\": {\"outlinewidth\": 0, \"ticks\": \"\"}, \"colorscale\": [[0.0, \"#0d0887\"], [0.1111111111111111, \"#46039f\"], [0.2222222222222222, \"#7201a8\"], [0.3333333333333333, \"#9c179e\"], [0.4444444444444444, \"#bd3786\"], [0.5555555555555556, \"#d8576b\"], [0.6666666666666666, \"#ed7953\"], [0.7777777777777778, \"#fb9f3a\"], [0.8888888888888888, \"#fdca26\"], [1.0, \"#f0f921\"]], \"type\": \"contour\"}], \"contourcarpet\": [{\"colorbar\": {\"outlinewidth\": 0, \"ticks\": \"\"}, \"type\": \"contourcarpet\"}], \"heatmap\": [{\"colorbar\": {\"outlinewidth\": 0, \"ticks\": \"\"}, \"colorscale\": [[0.0, \"#0d0887\"], [0.1111111111111111, \"#46039f\"], [0.2222222222222222, \"#7201a8\"], [0.3333333333333333, \"#9c179e\"], [0.4444444444444444, \"#bd3786\"], [0.5555555555555556, \"#d8576b\"], [0.6666666666666666, \"#ed7953\"], [0.7777777777777778, \"#fb9f3a\"], [0.8888888888888888, \"#fdca26\"], [1.0, \"#f0f921\"]], \"type\": \"heatmap\"}], \"heatmapgl\": [{\"colorbar\": {\"outlinewidth\": 0, \"ticks\": \"\"}, \"colorscale\": [[0.0, \"#0d0887\"], [0.1111111111111111, \"#46039f\"], [0.2222222222222222, \"#7201a8\"], [0.3333333333333333, \"#9c179e\"], [0.4444444444444444, \"#bd3786\"], [0.5555555555555556, \"#d8576b\"], [0.6666666666666666, \"#ed7953\"], [0.7777777777777778, \"#fb9f3a\"], [0.8888888888888888, \"#fdca26\"], [1.0, \"#f0f921\"]], \"type\": \"heatmapgl\"}], \"histogram\": [{\"marker\": {\"colorbar\": {\"outlinewidth\": 0, \"ticks\": \"\"}}, \"type\": \"histogram\"}], \"histogram2d\": [{\"colorbar\": {\"outlinewidth\": 0, \"ticks\": \"\"}, \"colorscale\": [[0.0, \"#0d0887\"], [0.1111111111111111, \"#46039f\"], [0.2222222222222222, \"#7201a8\"], [0.3333333333333333, \"#9c179e\"], [0.4444444444444444, \"#bd3786\"], [0.5555555555555556, \"#d8576b\"], [0.6666666666666666, \"#ed7953\"], [0.7777777777777778, \"#fb9f3a\"], [0.8888888888888888, \"#fdca26\"], [1.0, \"#f0f921\"]], \"type\": \"histogram2d\"}], \"histogram2dcontour\": [{\"colorbar\": {\"outlinewidth\": 0, \"ticks\": \"\"}, \"colorscale\": [[0.0, \"#0d0887\"], [0.1111111111111111, \"#46039f\"], [0.2222222222222222, \"#7201a8\"], [0.3333333333333333, \"#9c179e\"], [0.4444444444444444, \"#bd3786\"], [0.5555555555555556, \"#d8576b\"], [0.6666666666666666, \"#ed7953\"], [0.7777777777777778, \"#fb9f3a\"], [0.8888888888888888, \"#fdca26\"], [1.0, \"#f0f921\"]], \"type\": \"histogram2dcontour\"}], \"mesh3d\": [{\"colorbar\": {\"outlinewidth\": 0, \"ticks\": \"\"}, \"type\": \"mesh3d\"}], \"parcoords\": [{\"line\": {\"colorbar\": {\"outlinewidth\": 0, \"ticks\": \"\"}}, \"type\": \"parcoords\"}], \"pie\": [{\"automargin\": true, \"type\": \"pie\"}], \"scatter\": [{\"marker\": {\"colorbar\": {\"outlinewidth\": 0, \"ticks\": \"\"}}, \"type\": \"scatter\"}], \"scatter3d\": [{\"line\": {\"colorbar\": {\"outlinewidth\": 0, \"ticks\": \"\"}}, \"marker\": {\"colorbar\": {\"outlinewidth\": 0, \"ticks\": \"\"}}, \"type\": \"scatter3d\"}], \"scattercarpet\": [{\"marker\": {\"colorbar\": {\"outlinewidth\": 0, \"ticks\": \"\"}}, \"type\": \"scattercarpet\"}], \"scattergeo\": [{\"marker\": {\"colorbar\": {\"outlinewidth\": 0, \"ticks\": \"\"}}, \"type\": \"scattergeo\"}], \"scattergl\": [{\"marker\": {\"colorbar\": {\"outlinewidth\": 0, \"ticks\": \"\"}}, \"type\": \"scattergl\"}], \"scattermapbox\": [{\"marker\": {\"colorbar\": {\"outlinewidth\": 0, \"ticks\": \"\"}}, \"type\": \"scattermapbox\"}], \"scatterpolar\": [{\"marker\": {\"colorbar\": {\"outlinewidth\": 0, \"ticks\": \"\"}}, \"type\": \"scatterpolar\"}], \"scatterpolargl\": [{\"marker\": {\"colorbar\": {\"outlinewidth\": 0, \"ticks\": \"\"}}, \"type\": \"scatterpolargl\"}], \"scatterternary\": [{\"marker\": {\"colorbar\": {\"outlinewidth\": 0, \"ticks\": \"\"}}, \"type\": \"scatterternary\"}], \"surface\": [{\"colorbar\": {\"outlinewidth\": 0, \"ticks\": \"\"}, \"colorscale\": [[0.0, \"#0d0887\"], [0.1111111111111111, \"#46039f\"], [0.2222222222222222, \"#7201a8\"], [0.3333333333333333, \"#9c179e\"], [0.4444444444444444, \"#bd3786\"], [0.5555555555555556, \"#d8576b\"], [0.6666666666666666, \"#ed7953\"], [0.7777777777777778, \"#fb9f3a\"], [0.8888888888888888, \"#fdca26\"], [1.0, \"#f0f921\"]], \"type\": \"surface\"}], \"table\": [{\"cells\": {\"fill\": {\"color\": \"#EBF0F8\"}, \"line\": {\"color\": \"white\"}}, \"header\": {\"fill\": {\"color\": \"#C8D4E3\"}, \"line\": {\"color\": \"white\"}}, \"type\": \"table\"}]}, \"layout\": {\"annotationdefaults\": {\"arrowcolor\": \"#2a3f5f\", \"arrowhead\": 0, \"arrowwidth\": 1}, \"coloraxis\": {\"colorbar\": {\"outlinewidth\": 0, \"ticks\": \"\"}}, \"colorscale\": {\"diverging\": [[0, \"#8e0152\"], [0.1, \"#c51b7d\"], [0.2, \"#de77ae\"], [0.3, \"#f1b6da\"], [0.4, \"#fde0ef\"], [0.5, \"#f7f7f7\"], [0.6, \"#e6f5d0\"], [0.7, \"#b8e186\"], [0.8, \"#7fbc41\"], [0.9, \"#4d9221\"], [1, \"#276419\"]], \"sequential\": [[0.0, \"#0d0887\"], [0.1111111111111111, \"#46039f\"], [0.2222222222222222, \"#7201a8\"], [0.3333333333333333, \"#9c179e\"], [0.4444444444444444, \"#bd3786\"], [0.5555555555555556, \"#d8576b\"], [0.6666666666666666, \"#ed7953\"], [0.7777777777777778, \"#fb9f3a\"], [0.8888888888888888, \"#fdca26\"], [1.0, \"#f0f921\"]], \"sequentialminus\": [[0.0, \"#0d0887\"], [0.1111111111111111, \"#46039f\"], [0.2222222222222222, \"#7201a8\"], [0.3333333333333333, \"#9c179e\"], [0.4444444444444444, \"#bd3786\"], [0.5555555555555556, \"#d8576b\"], [0.6666666666666666, \"#ed7953\"], [0.7777777777777778, \"#fb9f3a\"], [0.8888888888888888, \"#fdca26\"], [1.0, \"#f0f921\"]]}, \"colorway\": [\"#636efa\", \"#EF553B\", \"#00cc96\", \"#ab63fa\", \"#FFA15A\", \"#19d3f3\", \"#FF6692\", \"#B6E880\", \"#FF97FF\", \"#FECB52\"], \"font\": {\"color\": \"#2a3f5f\"}, \"geo\": {\"bgcolor\": \"white\", \"lakecolor\": \"white\", \"landcolor\": \"#E5ECF6\", \"showlakes\": true, \"showland\": true, \"subunitcolor\": \"white\"}, \"hoverlabel\": {\"align\": \"left\"}, \"hovermode\": \"closest\", \"mapbox\": {\"style\": \"light\"}, \"paper_bgcolor\": \"white\", \"plot_bgcolor\": \"#E5ECF6\", \"polar\": {\"angularaxis\": {\"gridcolor\": \"white\", \"linecolor\": \"white\", \"ticks\": \"\"}, \"bgcolor\": \"#E5ECF6\", \"radialaxis\": {\"gridcolor\": \"white\", \"linecolor\": \"white\", \"ticks\": \"\"}}, \"scene\": {\"xaxis\": {\"backgroundcolor\": \"#E5ECF6\", \"gridcolor\": \"white\", \"gridwidth\": 2, \"linecolor\": \"white\", \"showbackground\": true, \"ticks\": \"\", \"zerolinecolor\": \"white\"}, \"yaxis\": {\"backgroundcolor\": \"#E5ECF6\", \"gridcolor\": \"white\", \"gridwidth\": 2, \"linecolor\": \"white\", \"showbackground\": true, \"ticks\": \"\", \"zerolinecolor\": \"white\"}, \"zaxis\": {\"backgroundcolor\": \"#E5ECF6\", \"gridcolor\": \"white\", \"gridwidth\": 2, \"linecolor\": \"white\", \"showbackground\": true, \"ticks\": \"\", \"zerolinecolor\": \"white\"}}, \"shapedefaults\": {\"line\": {\"color\": \"#2a3f5f\"}}, \"ternary\": {\"aaxis\": {\"gridcolor\": \"white\", \"linecolor\": \"white\", \"ticks\": \"\"}, \"baxis\": {\"gridcolor\": \"white\", \"linecolor\": \"white\", \"ticks\": \"\"}, \"bgcolor\": \"#E5ECF6\", \"caxis\": {\"gridcolor\": \"white\", \"linecolor\": \"white\", \"ticks\": \"\"}}, \"title\": {\"x\": 0.05}, \"xaxis\": {\"automargin\": true, \"gridcolor\": \"white\", \"linecolor\": \"white\", \"ticks\": \"\", \"title\": {\"standoff\": 15}, \"zerolinecolor\": \"white\", \"zerolinewidth\": 2}, \"yaxis\": {\"automargin\": true, \"gridcolor\": \"white\", \"linecolor\": \"white\", \"ticks\": \"\", \"title\": {\"standoff\": 15}, \"zerolinecolor\": \"white\", \"zerolinewidth\": 2}}}, \"title\": {\"font\": {\"color\": \"#D9D9D9\"}, \"text\": \"LINE PLOT\"}, \"xaxis\": {\"gridcolor\": \"#434343\", \"showgrid\": true, \"tickfont\": {\"color\": \"#C2C2C2\"}, \"title\": {\"font\": {\"color\": \"#D9D9D9\"}, \"text\": \"x-axis\"}, \"zerolinecolor\": \"#666570\"}, \"yaxis\": {\"gridcolor\": \"#434343\", \"showgrid\": true, \"tickfont\": {\"color\": \"#C2C2C2\"}, \"title\": {\"font\": {\"color\": \"#D9D9D9\"}, \"text\": \"y-axis\"}, \"zerolinecolor\": \"#666570\"}},\n",
       "                        {\"showLink\": true, \"linkText\": \"Export to plot.ly\", \"plotlyServerURL\": \"https://plot.ly\", \"responsive\": true}\n",
       "                    ).then(function(){\n",
       "                            \n",
       "var gd = document.getElementById('4b47a416-3717-440c-b018-abdea3a79781');\n",
       "var x = new MutationObserver(function (mutations, observer) {{\n",
       "        var display = window.getComputedStyle(gd).display;\n",
       "        if (!display || display === 'none') {{\n",
       "            console.log([gd, 'removed!']);\n",
       "            Plotly.purge(gd);\n",
       "            observer.disconnect();\n",
       "        }}\n",
       "}});\n",
       "\n",
       "// Listen for the removal of the full notebook cells\n",
       "var notebookContainer = gd.closest('#notebook-container');\n",
       "if (notebookContainer) {{\n",
       "    x.observe(notebookContainer, {childList: true});\n",
       "}}\n",
       "\n",
       "// Listen for the clearing of the current output cell\n",
       "var outputEl = gd.closest('.output');\n",
       "if (outputEl) {{\n",
       "    x.observe(outputEl, {childList: true});\n",
       "}}\n",
       "\n",
       "                        })\n",
       "                };\n",
       "                });\n",
       "            </script>\n",
       "        </div>"
      ]
     },
     "metadata": {},
     "output_type": "display_data"
    }
   ],
   "source": [
    "df.iplot(title=\"LINE PLOT\",xTitle=\"x-axis\",yTitle=\"y-axis\")"
   ]
  },
  {
   "cell_type": "code",
   "execution_count": 65,
   "metadata": {
    "scrolled": true
   },
   "outputs": [
    {
     "data": {
      "text/plain": [
       "[<matplotlib.lines.Line2D at 0x1d0420b3108>,\n",
       " <matplotlib.lines.Line2D at 0x1d0420891c8>,\n",
       " <matplotlib.lines.Line2D at 0x1d042089bc8>]"
      ]
     },
     "execution_count": 65,
     "metadata": {},
     "output_type": "execute_result"
    },
    {
     "data": {
      "image/png": "[encoded data removed]",
      "text/plain": [
       "<Figure size 432x288 with 1 Axes>"
      ]
     },
     "metadata": {
      "needs_background": "light"
     },
     "output_type": "display_data"
    }
   ],
   "source": [
    "plt.plot(df)"
   ]
  },
  {
   "cell_type": "code",
   "execution_count": 66,
   "metadata": {},
   "outputs": [
    {
     "data": {
      "text/plain": [
       "<matplotlib.axes._subplots.AxesSubplot at 0x1d0420e21c8>"
      ]
     },
     "execution_count": 66,
     "metadata": {},
     "output_type": "execute_result"
    },
    {
     "data": {
      "image/png": "[encoded data removed]",
      "text/plain": [
       "<Figure size 432x288 with 1 Axes>"
      ]
     },
     "metadata": {
      "needs_background": "light"
     },
     "output_type": "display_data"
    }
   ],
   "source": [
    "df.plot()"
   ]
  },
  {
   "cell_type": "code",
   "execution_count": 67,
   "metadata": {},
   "outputs": [
    {
     "data": {
      "application/vnd.plotly.v1+json": {
       "config": {
        "linkText": "Export to plot.ly",
        "plotlyServerURL": "https://plot.ly",
        "showLink": true
       },
       "data": [
        {
         "line": {
          "color": "rgba(255, 153, 51, 1.0)",
          "dash": "solid",
          "shape": "linear",
          "width": 1.3
         },
         "marker": {
          "size": 25,
          "symbol": "circle"
         },
         "mode": "markers",
         "name": "B",
         "text": "",
         "type": "scatter",
         "x": [
          18.939836529413366,
          18.57536317065325,
          18.336635226348214,
          18.697863962736864,
          19.366290077918997,
          19.092877224412625,
          19.261927308479674,
          19.070284867263755,
          21.431589346093155,
          20.475609087731144,
          18.974584338404725,
          18.543508338820796,
          18.082622133483657,
          19.69665413077819,
          18.974847645815437,
          17.237599352876373,
          16.272477837350642,
          16.884011620497258,
          15.690410493034438,
          15.363712087275186,
          16.225956134402548,
          15.673437402089853,
          15.689721555994854,
          14.874995704220487,
          16.781349846692613,
          16.766746588722278,
          17.437023461421365,
          18.407254621023664,
          18.778322874746365,
          18.983167775362922,
          20.280012505532344,
          20.966727262132668,
          21.3469385769036,
          18.109732789961864,
          17.74223490805164,
          16.67645900722814,
          17.2109808368415,
          16.225926830666246,
          16.280290562618234,
          16.310036144986377,
          16.75261515323721,
          15.849319662830442,
          16.593276042002714,
          18.49288801271804,
          19.353968848237443,
          17.93862487493714,
          18.324248321201814,
          18.925068710509603,
          17.392229168570704,
          16.191286317981696,
          17.253830607391073,
          15.952339438509785,
          15.297738981433854,
          16.283707299270795,
          15.749084701700184,
          14.370752817349668,
          15.303463746448205,
          13.827456294134599,
          13.81516644052611,
          14.325623370447243,
          15.97271169687874,
          15.085252769120892,
          14.817254258513294,
          14.241794570869569,
          14.208284738686732,
          12.966561751953925,
          12.590482441266257,
          9.948038467487647,
          11.032266409982899,
          8.891491839984331,
          8.163049698022995,
          8.979907465238242,
          9.287343172794754,
          10.114616024723174,
          10.465815149781305,
          12.496273529110058,
          12.255291716666108,
          12.48570479434714,
          12.052354735540451,
          10.303924782744446,
          8.572860049980218,
          7.293868133117167,
          8.437051955852471,
          8.27326115872482,
          9.053010838181457,
          6.851951218144077,
          6.7132342761241794,
          7.857634380841375,
          9.254614304695345,
          12.032692181592157,
          11.567349553414724,
          8.992923530539171,
          6.987426346784449,
          6.443275573164618,
          5.666244245097008,
          7.37917778442533,
          5.541628217325204,
          5.328180819895762,
          5.444276528135589,
          5.602228529266361
         ],
         "y": [
          19.57811765823711,
          20.67821727264487,
          21.468674831135477,
          21.992650726303197,
          22.59070512232445,
          20.867900003575024,
          20.365513305889916,
          20.913470537490042,
          21.090882817729412,
          21.68193571878041,
          22.636158920705995,
          23.536766878768287,
          23.971367204293422,
          24.587802024695673,
          25.398796398181773,
          25.198735063890453,
          25.248666318458625,
          24.2572815816471,
          24.725622045472626,
          24.70606590576826,
          24.904816173365795,
          25.69274160358888,
          25.318222557924997,
          25.881797294360027,
          25.149005275607976,
          26.158306200641068,
          24.96467012433253,
          25.703393643547926,
          24.501570109309206,
          24.801022335851982,
          25.501324319961423,
          25.50086978292324,
          25.56794289117986,
          26.05129699810626,
          27.879270978399088,
          28.035715011190494,
          28.417621536191334,
          27.45150432479886,
          25.365409693787665,
          25.569699453062658,
          25.871828040861512,
          25.811349616237685,
          25.507065615897233,
          25.359834372240382,
          24.461654398131433,
          25.713853093333597,
          24.36999338773402,
          24.21381050894856,
          23.521083330480558,
          24.812337744604157,
          26.22442520575146,
          25.42282289886684,
          24.801672584853485,
          23.795197723661467,
          23.218274304310114,
          24.441539869052512,
          23.38321461149637,
          22.605941570869334,
          22.961896130440156,
          22.225405362707768,
          22.10595019122328,
          22.517392115635495,
          21.475553665572292,
          21.769720295929822,
          20.14714973294842,
          20.01295951168225,
          20.642452444786795,
          20.07646910957776,
          20.717595768900587,
          21.90117045667466,
          21.144119719795288,
          20.21568542385949,
          20.11832983031426,
          20.25320071536521,
          21.079422705104005,
          20.178029294199376,
          20.41702064132579,
          19.53350372776044,
          17.2389060491363,
          17.919819649682246,
          17.873327116523644,
          19.16249070679284,
          18.548690862504664,
          19.44310771240245,
          19.1972035065841,
          18.712028267850634,
          18.48844417247204,
          18.15349006866355,
          17.867561285442036,
          17.29321406647523,
          17.398166853899877,
          19.247233445105156,
          20.047597351883915,
          18.78589828631096,
          19.297309251402723,
          19.07135904384581,
          18.723948022892316,
          19.530950057733442,
          19.068236729746076,
          16.898675239248913
         ]
        }
       ],
       "layout": {
        "legend": {
         "bgcolor": "#1A1A1C",
         "font": {
          "color": "#D9D9D9"
         }
        },
        "paper_bgcolor": "#1A1A1C",
        "plot_bgcolor": "#1A1A1C",
        "template": {
         "data": {
          "bar": [
           {
            "error_x": {
             "color": "#2a3f5f"
            },
            "error_y": {
             "color": "#2a3f5f"
            },
            "marker": {
             "line": {
              "color": "#E5ECF6",
              "width": 0.5
             }
            },
            "type": "bar"
           }
          ],
          "barpolar": [
           {
            "marker": {
             "line": {
              "color": "#E5ECF6",
              "width": 0.5
             }
            },
            "type": "barpolar"
           }
          ],
          "carpet": [
           {
            "aaxis": {
             "endlinecolor": "#2a3f5f",
             "gridcolor": "white",
             "linecolor": "white",
             "minorgridcolor": "white",
             "startlinecolor": "#2a3f5f"
            },
            "baxis": {
             "endlinecolor": "#2a3f5f",
             "gridcolor": "white",
             "linecolor": "white",
             "minorgridcolor": "white",
             "startlinecolor": "#2a3f5f"
            },
            "type": "carpet"
           }
          ],
          "choropleth": [
           {
            "colorbar": {
             "outlinewidth": 0,
             "ticks": ""
            },
            "type": "choropleth"
           }
          ],
          "contour": [
           {
            "colorbar": {
             "outlinewidth": 0,
             "ticks": ""
            },
            "colorscale": [
             [
              0,
              "#0d0887"
             ],
             [
              0.1111111111111111,
              "#46039f"
             ],
             [
              0.2222222222222222,
              "#7201a8"
             ],
             [
              0.3333333333333333,
              "#9c179e"
             ],
             [
              0.4444444444444444,
              "#bd3786"
             ],
             [
              0.5555555555555556,
              "#d8576b"
             ],
             [
              0.6666666666666666,
              "#ed7953"
             ],
             [
              0.7777777777777778,
              "#fb9f3a"
             ],
             [
              0.8888888888888888,
              "#fdca26"
             ],
             [
              1,
              "#f0f921"
             ]
            ],
            "type": "contour"
           }
          ],
          "contourcarpet": [
           {
            "colorbar": {
             "outlinewidth": 0,
             "ticks": ""
            },
            "type": "contourcarpet"
           }
          ],
          "heatmap": [
           {
            "colorbar": {
             "outlinewidth": 0,
             "ticks": ""
            },
            "colorscale": [
             [
              0,
              "#0d0887"
             ],
             [
              0.1111111111111111,
              "#46039f"
             ],
             [
              0.2222222222222222,
              "#7201a8"
             ],
             [
              0.3333333333333333,
              "#9c179e"
             ],
             [
              0.4444444444444444,
              "#bd3786"
             ],
             [
              0.5555555555555556,
              "#d8576b"
             ],
             [
              0.6666666666666666,
              "#ed7953"
             ],
             [
              0.7777777777777778,
              "#fb9f3a"
             ],
             [
              0.8888888888888888,
              "#fdca26"
             ],
             [
              1,
              "#f0f921"
             ]
            ],
            "type": "heatmap"
           }
          ],
          "heatmapgl": [
           {
            "colorbar": {
             "outlinewidth": 0,
             "ticks": ""
            },
            "colorscale": [
             [
              0,
              "#0d0887"
             ],
             [
              0.1111111111111111,
              "#46039f"
             ],
             [
              0.2222222222222222,
              "#7201a8"
             ],
             [
              0.3333333333333333,
              "#9c179e"
             ],
             [
              0.4444444444444444,
              "#bd3786"
             ],
             [
              0.5555555555555556,
              "#d8576b"
             ],
             [
              0.6666666666666666,
              "#ed7953"
             ],
             [
              0.7777777777777778,
              "#fb9f3a"
             ],
             [
              0.8888888888888888,
              "#fdca26"
             ],
             [
              1,
              "#f0f921"
             ]
            ],
            "type": "heatmapgl"
           }
          ],
          "histogram": [
           {
            "marker": {
             "colorbar": {
              "outlinewidth": 0,
              "ticks": ""
             }
            },
            "type": "histogram"
           }
          ],
          "histogram2d": [
           {
            "colorbar": {
             "outlinewidth": 0,
             "ticks": ""
            },
            "colorscale": [
             [
              0,
              "#0d0887"
             ],
             [
              0.1111111111111111,
              "#46039f"
             ],
             [
              0.2222222222222222,
              "#7201a8"
             ],
             [
              0.3333333333333333,
              "#9c179e"
             ],
             [
              0.4444444444444444,
              "#bd3786"
             ],
             [
              0.5555555555555556,
              "#d8576b"
             ],
             [
              0.6666666666666666,
              "#ed7953"
             ],
             [
              0.7777777777777778,
              "#fb9f3a"
             ],
             [
              0.8888888888888888,
              "#fdca26"
             ],
             [
              1,
              "#f0f921"
             ]
            ],
            "type": "histogram2d"
           }
          ],
          "histogram2dcontour": [
           {
            "colorbar": {
             "outlinewidth": 0,
             "ticks": ""
            },
            "colorscale": [
             [
              0,
              "#0d0887"
             ],
             [
              0.1111111111111111,
              "#46039f"
             ],
             [
              0.2222222222222222,
              "#7201a8"
             ],
             [
              0.3333333333333333,
              "#9c179e"
             ],
             [
              0.4444444444444444,
              "#bd3786"
             ],
             [
              0.5555555555555556,
              "#d8576b"
             ],
             [
              0.6666666666666666,
              "#ed7953"
             ],
             [
              0.7777777777777778,
              "#fb9f3a"
             ],
             [
              0.8888888888888888,
              "#fdca26"
             ],
             [
              1,
              "#f0f921"
             ]
            ],
            "type": "histogram2dcontour"
           }
          ],
          "mesh3d": [
           {
            "colorbar": {
             "outlinewidth": 0,
             "ticks": ""
            },
            "type": "mesh3d"
           }
          ],
          "parcoords": [
           {
            "line": {
             "colorbar": {
              "outlinewidth": 0,
              "ticks": ""
             }
            },
            "type": "parcoords"
           }
          ],
          "pie": [
           {
            "automargin": true,
            "type": "pie"
           }
          ],
          "scatter": [
           {
            "marker": {
             "colorbar": {
              "outlinewidth": 0,
              "ticks": ""
             }
            },
            "type": "scatter"
           }
          ],
          "scatter3d": [
           {
            "line": {
             "colorbar": {
              "outlinewidth": 0,
              "ticks": ""
             }
            },
            "marker": {
             "colorbar": {
              "outlinewidth": 0,
              "ticks": ""
             }
            },
            "type": "scatter3d"
           }
          ],
          "scattercarpet": [
           {
            "marker": {
             "colorbar": {
              "outlinewidth": 0,
              "ticks": ""
             }
            },
            "type": "scattercarpet"
           }
          ],
          "scattergeo": [
           {
            "marker": {
             "colorbar": {
              "outlinewidth": 0,
              "ticks": ""
             }
            },
            "type": "scattergeo"
           }
          ],
          "scattergl": [
           {
            "marker": {
             "colorbar": {
              "outlinewidth": 0,
              "ticks": ""
             }
            },
            "type": "scattergl"
           }
          ],
          "scattermapbox": [
           {
            "marker": {
             "colorbar": {
              "outlinewidth": 0,
              "ticks": ""
             }
            },
            "type": "scattermapbox"
           }
          ],
          "scatterpolar": [
           {
            "marker": {
             "colorbar": {
              "outlinewidth": 0,
              "ticks": ""
             }
            },
            "type": "scatterpolar"
           }
          ],
          "scatterpolargl": [
           {
            "marker": {
             "colorbar": {
              "outlinewidth": 0,
              "ticks": ""
             }
            },
            "type": "scatterpolargl"
           }
          ],
          "scatterternary": [
           {
            "marker": {
             "colorbar": {
              "outlinewidth": 0,
              "ticks": ""
             }
            },
            "type": "scatterternary"
           }
          ],
          "surface": [
           {
            "colorbar": {
             "outlinewidth": 0,
             "ticks": ""
            },
            "colorscale": [
             [
              0,
              "#0d0887"
             ],
             [
              0.1111111111111111,
              "#46039f"
             ],
             [
              0.2222222222222222,
              "#7201a8"
             ],
             [
              0.3333333333333333,
              "#9c179e"
             ],
             [
              0.4444444444444444,
              "#bd3786"
             ],
             [
              0.5555555555555556,
              "#d8576b"
             ],
             [
              0.6666666666666666,
              "#ed7953"
             ],
             [
              0.7777777777777778,
              "#fb9f3a"
             ],
             [
              0.8888888888888888,
              "#fdca26"
             ],
             [
              1,
              "#f0f921"
             ]
            ],
            "type": "surface"
           }
          ],
          "table": [
           {
            "cells": {
             "fill": {
              "color": "#EBF0F8"
             },
             "line": {
              "color": "white"
             }
            },
            "header": {
             "fill": {
              "color": "#C8D4E3"
             },
             "line": {
              "color": "white"
             }
            },
            "type": "table"
           }
          ]
         },
         "layout": {
          "annotationdefaults": {
           "arrowcolor": "#2a3f5f",
           "arrowhead": 0,
           "arrowwidth": 1
          },
          "coloraxis": {
           "colorbar": {
            "outlinewidth": 0,
            "ticks": ""
           }
          },
          "colorscale": {
           "diverging": [
            [
             0,
             "#8e0152"
            ],
            [
             0.1,
             "#c51b7d"
            ],
            [
             0.2,
             "#de77ae"
            ],
            [
             0.3,
             "#f1b6da"
            ],
            [
             0.4,
             "#fde0ef"
            ],
            [
             0.5,
             "#f7f7f7"
            ],
            [
             0.6,
             "#e6f5d0"
            ],
            [
             0.7,
             "#b8e186"
            ],
            [
             0.8,
             "#7fbc41"
            ],
            [
             0.9,
             "#4d9221"
            ],
            [
             1,
             "#276419"
            ]
           ],
           "sequential": [
            [
             0,
             "#0d0887"
            ],
            [
             0.1111111111111111,
             "#46039f"
            ],
            [
             0.2222222222222222,
             "#7201a8"
            ],
            [
             0.3333333333333333,
             "#9c179e"
            ],
            [
             0.4444444444444444,
             "#bd3786"
            ],
            [
             0.5555555555555556,
             "#d8576b"
            ],
            [
             0.6666666666666666,
             "#ed7953"
            ],
            [
             0.7777777777777778,
             "#fb9f3a"
            ],
            [
             0.8888888888888888,
             "#fdca26"
            ],
            [
             1,
             "#f0f921"
            ]
           ],
           "sequentialminus": [
            [
             0,
             "#0d0887"
            ],
            [
             0.1111111111111111,
             "#46039f"
            ],
            [
             0.2222222222222222,
             "#7201a8"
            ],
            [
             0.3333333333333333,
             "#9c179e"
            ],
            [
             0.4444444444444444,
             "#bd3786"
            ],
            [
             0.5555555555555556,
             "#d8576b"
            ],
            [
             0.6666666666666666,
             "#ed7953"
            ],
            [
             0.7777777777777778,
             "#fb9f3a"
            ],
            [
             0.8888888888888888,
             "#fdca26"
            ],
            [
             1,
             "#f0f921"
            ]
           ]
          },
          "colorway": [
           "#636efa",
           "#EF553B",
           "#00cc96",
           "#ab63fa",
           "#FFA15A",
           "#19d3f3",
           "#FF6692",
           "#B6E880",
           "#FF97FF",
           "#FECB52"
          ],
          "font": {
           "color": "#2a3f5f"
          },
          "geo": {
           "bgcolor": "white",
           "lakecolor": "white",
           "landcolor": "#E5ECF6",
           "showlakes": true,
           "showland": true,
           "subunitcolor": "white"
          },
          "hoverlabel": {
           "align": "left"
          },
          "hovermode": "closest",
          "mapbox": {
           "style": "light"
          },
          "paper_bgcolor": "white",
          "plot_bgcolor": "#E5ECF6",
          "polar": {
           "angularaxis": {
            "gridcolor": "white",
            "linecolor": "white",
            "ticks": ""
           },
           "bgcolor": "#E5ECF6",
           "radialaxis": {
            "gridcolor": "white",
            "linecolor": "white",
            "ticks": ""
           }
          },
          "scene": {
           "xaxis": {
            "backgroundcolor": "#E5ECF6",
            "gridcolor": "white",
            "gridwidth": 2,
            "linecolor": "white",
            "showbackground": true,
            "ticks": "",
            "zerolinecolor": "white"
           },
           "yaxis": {
            "backgroundcolor": "#E5ECF6",
            "gridcolor": "white",
            "gridwidth": 2,
            "linecolor": "white",
            "showbackground": true,
            "ticks": "",
            "zerolinecolor": "white"
           },
           "zaxis": {
            "backgroundcolor": "#E5ECF6",
            "gridcolor": "white",
            "gridwidth": 2,
            "linecolor": "white",
            "showbackground": true,
            "ticks": "",
            "zerolinecolor": "white"
           }
          },
          "shapedefaults": {
           "line": {
            "color": "#2a3f5f"
           }
          },
          "ternary": {
           "aaxis": {
            "gridcolor": "white",
            "linecolor": "white",
            "ticks": ""
           },
           "baxis": {
            "gridcolor": "white",
            "linecolor": "white",
            "ticks": ""
           },
           "bgcolor": "#E5ECF6",
           "caxis": {
            "gridcolor": "white",
            "linecolor": "white",
            "ticks": ""
           }
          },
          "title": {
           "x": 0.05
          },
          "xaxis": {
           "automargin": true,
           "gridcolor": "white",
           "linecolor": "white",
           "ticks": "",
           "title": {
            "standoff": 15
           },
           "zerolinecolor": "white",
           "zerolinewidth": 2
          },
          "yaxis": {
           "automargin": true,
           "gridcolor": "white",
           "linecolor": "white",
           "ticks": "",
           "title": {
            "standoff": 15
           },
           "zerolinecolor": "white",
           "zerolinewidth": 2
          }
         }
        },
        "title": {
         "font": {
          "color": "#D9D9D9"
         }
        },
        "xaxis": {
         "gridcolor": "#434343",
         "showgrid": true,
         "tickfont": {
          "color": "#C2C2C2"
         },
         "title": {
          "font": {
           "color": "#D9D9D9"
          },
          "text": ""
         },
         "zerolinecolor": "#666570"
        },
        "yaxis": {
         "gridcolor": "#434343",
         "showgrid": true,
         "tickfont": {
          "color": "#C2C2C2"
         },
         "title": {
          "font": {
           "color": "#D9D9D9"
          },
          "text": ""
         },
         "zerolinecolor": "#666570"
        }
       }
      },
      "text/html": [
       "<div>\n",
       "        \n",
       "        \n",
       "            <div id=\"4228095a-41dd-4633-8962-5e70c459aa30\" class=\"plotly-graph-div\" style=\"height:525px; width:100%;\"></div>\n",
       "            <script type=\"text/javascript\">\n",
       "                require([\"plotly\"], function(Plotly) {\n",
       "                    window.PLOTLYENV=window.PLOTLYENV || {};\n",
       "                    window.PLOTLYENV.BASE_URL='https://plot.ly';\n",
       "                    \n",
       "                if (document.getElementById(\"4228095a-41dd-4633-8962-5e70c459aa30\")) {\n",
       "                    Plotly.newPlot(\n",
       "                        '4228095a-41dd-4633-8962-5e70c459aa30',\n",
       "                        [{\"line\": {\"color\": \"rgba(255, 153, 51, 1.0)\", \"dash\": \"solid\", \"shape\": \"linear\", \"width\": 1.3}, \"marker\": {\"size\": 25, \"symbol\": \"circle\"}, \"mode\": \"markers\", \"name\": \"B\", \"text\": \"\", \"type\": \"scatter\", \"x\": [18.939836529413366, 18.57536317065325, 18.336635226348214, 18.697863962736864, 19.366290077918997, 19.092877224412625, 19.261927308479674, 19.070284867263755, 21.431589346093155, 20.475609087731144, 18.974584338404725, 18.543508338820796, 18.082622133483657, 19.69665413077819, 18.974847645815437, 17.237599352876373, 16.272477837350642, 16.884011620497258, 15.690410493034438, 15.363712087275186, 16.225956134402548, 15.673437402089853, 15.689721555994854, 14.874995704220487, 16.781349846692613, 16.766746588722278, 17.437023461421365, 18.407254621023664, 18.778322874746365, 18.983167775362922, 20.280012505532344, 20.966727262132668, 21.3469385769036, 18.109732789961864, 17.74223490805164, 16.67645900722814, 17.2109808368415, 16.225926830666246, 16.280290562618234, 16.310036144986377, 16.75261515323721, 15.849319662830442, 16.593276042002714, 18.49288801271804, 19.353968848237443, 17.93862487493714, 18.324248321201814, 18.925068710509603, 17.392229168570704, 16.191286317981696, 17.253830607391073, 15.952339438509785, 15.297738981433854, 16.283707299270795, 15.749084701700184, 14.370752817349668, 15.303463746448205, 13.827456294134599, 13.81516644052611, 14.325623370447243, 15.97271169687874, 15.085252769120892, 14.817254258513294, 14.241794570869569, 14.208284738686732, 12.966561751953925, 12.590482441266257, 9.948038467487647, 11.032266409982899, 8.891491839984331, 8.163049698022995, 8.979907465238242, 9.287343172794754, 10.114616024723174, 10.465815149781305, 12.496273529110058, 12.255291716666108, 12.48570479434714, 12.052354735540451, 10.303924782744446, 8.572860049980218, 7.293868133117167, 8.437051955852471, 8.27326115872482, 9.053010838181457, 6.851951218144077, 6.7132342761241794, 7.857634380841375, 9.254614304695345, 12.032692181592157, 11.567349553414724, 8.992923530539171, 6.987426346784449, 6.443275573164618, 5.666244245097008, 7.37917778442533, 5.541628217325204, 5.328180819895762, 5.444276528135589, 5.602228529266361], \"y\": [19.57811765823711, 20.67821727264487, 21.468674831135477, 21.992650726303197, 22.59070512232445, 20.867900003575024, 20.365513305889916, 20.913470537490042, 21.090882817729412, 21.68193571878041, 22.636158920705995, 23.536766878768287, 23.971367204293422, 24.587802024695673, 25.398796398181773, 25.198735063890453, 25.248666318458625, 24.2572815816471, 24.725622045472626, 24.70606590576826, 24.904816173365795, 25.69274160358888, 25.318222557924997, 25.881797294360027, 25.149005275607976, 26.158306200641068, 24.96467012433253, 25.703393643547926, 24.501570109309206, 24.801022335851982, 25.501324319961423, 25.50086978292324, 25.56794289117986, 26.05129699810626, 27.879270978399088, 28.035715011190494, 28.417621536191334, 27.45150432479886, 25.365409693787665, 25.569699453062658, 25.871828040861512, 25.811349616237685, 25.507065615897233, 25.359834372240382, 24.461654398131433, 25.713853093333597, 24.36999338773402, 24.21381050894856, 23.521083330480558, 24.812337744604157, 26.22442520575146, 25.42282289886684, 24.801672584853485, 23.795197723661467, 23.218274304310114, 24.441539869052512, 23.38321461149637, 22.605941570869334, 22.961896130440156, 22.225405362707768, 22.10595019122328, 22.517392115635495, 21.475553665572292, 21.769720295929822, 20.14714973294842, 20.01295951168225, 20.642452444786795, 20.07646910957776, 20.717595768900587, 21.90117045667466, 21.144119719795288, 20.21568542385949, 20.11832983031426, 20.25320071536521, 21.079422705104005, 20.178029294199376, 20.41702064132579, 19.53350372776044, 17.2389060491363, 17.919819649682246, 17.873327116523644, 19.16249070679284, 18.548690862504664, 19.44310771240245, 19.1972035065841, 18.712028267850634, 18.48844417247204, 18.15349006866355, 17.867561285442036, 17.29321406647523, 17.398166853899877, 19.247233445105156, 20.047597351883915, 18.78589828631096, 19.297309251402723, 19.07135904384581, 18.723948022892316, 19.530950057733442, 19.068236729746076, 16.898675239248913]}],\n",
       "                        {\"legend\": {\"bgcolor\": \"#1A1A1C\", \"font\": {\"color\": \"#D9D9D9\"}}, \"paper_bgcolor\": \"#1A1A1C\", \"plot_bgcolor\": \"#1A1A1C\", \"template\": {\"data\": {\"bar\": [{\"error_x\": {\"color\": \"#2a3f5f\"}, \"error_y\": {\"color\": \"#2a3f5f\"}, \"marker\": {\"line\": {\"color\": \"#E5ECF6\", \"width\": 0.5}}, \"type\": \"bar\"}], \"barpolar\": [{\"marker\": {\"line\": {\"color\": \"#E5ECF6\", \"width\": 0.5}}, \"type\": \"barpolar\"}], \"carpet\": [{\"aaxis\": {\"endlinecolor\": \"#2a3f5f\", \"gridcolor\": \"white\", \"linecolor\": \"white\", \"minorgridcolor\": \"white\", \"startlinecolor\": \"#2a3f5f\"}, \"baxis\": {\"endlinecolor\": \"#2a3f5f\", \"gridcolor\": \"white\", \"linecolor\": \"white\", \"minorgridcolor\": \"white\", \"startlinecolor\": \"#2a3f5f\"}, \"type\": \"carpet\"}], \"choropleth\": [{\"colorbar\": {\"outlinewidth\": 0, \"ticks\": \"\"}, \"type\": \"choropleth\"}], \"contour\": [{\"colorbar\": {\"outlinewidth\": 0, \"ticks\": \"\"}, \"colorscale\": [[0.0, \"#0d0887\"], [0.1111111111111111, \"#46039f\"], [0.2222222222222222, \"#7201a8\"], [0.3333333333333333, \"#9c179e\"], [0.4444444444444444, \"#bd3786\"], [0.5555555555555556, \"#d8576b\"], [0.6666666666666666, \"#ed7953\"], [0.7777777777777778, \"#fb9f3a\"], [0.8888888888888888, \"#fdca26\"], [1.0, \"#f0f921\"]], \"type\": \"contour\"}], \"contourcarpet\": [{\"colorbar\": {\"outlinewidth\": 0, \"ticks\": \"\"}, \"type\": \"contourcarpet\"}], \"heatmap\": [{\"colorbar\": {\"outlinewidth\": 0, \"ticks\": \"\"}, \"colorscale\": [[0.0, \"#0d0887\"], [0.1111111111111111, \"#46039f\"], [0.2222222222222222, \"#7201a8\"], [0.3333333333333333, \"#9c179e\"], [0.4444444444444444, \"#bd3786\"], [0.5555555555555556, \"#d8576b\"], [0.6666666666666666, \"#ed7953\"], [0.7777777777777778, \"#fb9f3a\"], [0.8888888888888888, \"#fdca26\"], [1.0, \"#f0f921\"]], \"type\": \"heatmap\"}], \"heatmapgl\": [{\"colorbar\": {\"outlinewidth\": 0, \"ticks\": \"\"}, \"colorscale\": [[0.0, \"#0d0887\"], [0.1111111111111111, \"#46039f\"], [0.2222222222222222, \"#7201a8\"], [0.3333333333333333, \"#9c179e\"], [0.4444444444444444, \"#bd3786\"], [0.5555555555555556, \"#d8576b\"], [0.6666666666666666, \"#ed7953\"], [0.7777777777777778, \"#fb9f3a\"], [0.8888888888888888, \"#fdca26\"], [1.0, \"#f0f921\"]], \"type\": \"heatmapgl\"}], \"histogram\": [{\"marker\": {\"colorbar\": {\"outlinewidth\": 0, \"ticks\": \"\"}}, \"type\": \"histogram\"}], \"histogram2d\": [{\"colorbar\": {\"outlinewidth\": 0, \"ticks\": \"\"}, \"colorscale\": [[0.0, \"#0d0887\"], [0.1111111111111111, \"#46039f\"], [0.2222222222222222, \"#7201a8\"], [0.3333333333333333, \"#9c179e\"], [0.4444444444444444, \"#bd3786\"], [0.5555555555555556, \"#d8576b\"], [0.6666666666666666, \"#ed7953\"], [0.7777777777777778, \"#fb9f3a\"], [0.8888888888888888, \"#fdca26\"], [1.0, \"#f0f921\"]], \"type\": \"histogram2d\"}], \"histogram2dcontour\": [{\"colorbar\": {\"outlinewidth\": 0, \"ticks\": \"\"}, \"colorscale\": [[0.0, \"#0d0887\"], [0.1111111111111111, \"#46039f\"], [0.2222222222222222, \"#7201a8\"], [0.3333333333333333, \"#9c179e\"], [0.4444444444444444, \"#bd3786\"], [0.5555555555555556, \"#d8576b\"], [0.6666666666666666, \"#ed7953\"], [0.7777777777777778, \"#fb9f3a\"], [0.8888888888888888, \"#fdca26\"], [1.0, \"#f0f921\"]], \"type\": \"histogram2dcontour\"}], \"mesh3d\": [{\"colorbar\": {\"outlinewidth\": 0, \"ticks\": \"\"}, \"type\": \"mesh3d\"}], \"parcoords\": [{\"line\": {\"colorbar\": {\"outlinewidth\": 0, \"ticks\": \"\"}}, \"type\": \"parcoords\"}], \"pie\": [{\"automargin\": true, \"type\": \"pie\"}], \"scatter\": [{\"marker\": {\"colorbar\": {\"outlinewidth\": 0, \"ticks\": \"\"}}, \"type\": \"scatter\"}], \"scatter3d\": [{\"line\": {\"colorbar\": {\"outlinewidth\": 0, \"ticks\": \"\"}}, \"marker\": {\"colorbar\": {\"outlinewidth\": 0, \"ticks\": \"\"}}, \"type\": \"scatter3d\"}], \"scattercarpet\": [{\"marker\": {\"colorbar\": {\"outlinewidth\": 0, \"ticks\": \"\"}}, \"type\": \"scattercarpet\"}], \"scattergeo\": [{\"marker\": {\"colorbar\": {\"outlinewidth\": 0, \"ticks\": \"\"}}, \"type\": \"scattergeo\"}], \"scattergl\": [{\"marker\": {\"colorbar\": {\"outlinewidth\": 0, \"ticks\": \"\"}}, \"type\": \"scattergl\"}], \"scattermapbox\": [{\"marker\": {\"colorbar\": {\"outlinewidth\": 0, \"ticks\": \"\"}}, \"type\": \"scattermapbox\"}], \"scatterpolar\": [{\"marker\": {\"colorbar\": {\"outlinewidth\": 0, \"ticks\": \"\"}}, \"type\": \"scatterpolar\"}], \"scatterpolargl\": [{\"marker\": {\"colorbar\": {\"outlinewidth\": 0, \"ticks\": \"\"}}, \"type\": \"scatterpolargl\"}], \"scatterternary\": [{\"marker\": {\"colorbar\": {\"outlinewidth\": 0, \"ticks\": \"\"}}, \"type\": \"scatterternary\"}], \"surface\": [{\"colorbar\": {\"outlinewidth\": 0, \"ticks\": \"\"}, \"colorscale\": [[0.0, \"#0d0887\"], [0.1111111111111111, \"#46039f\"], [0.2222222222222222, \"#7201a8\"], [0.3333333333333333, \"#9c179e\"], [0.4444444444444444, \"#bd3786\"], [0.5555555555555556, \"#d8576b\"], [0.6666666666666666, \"#ed7953\"], [0.7777777777777778, \"#fb9f3a\"], [0.8888888888888888, \"#fdca26\"], [1.0, \"#f0f921\"]], \"type\": \"surface\"}], \"table\": [{\"cells\": {\"fill\": {\"color\": \"#EBF0F8\"}, \"line\": {\"color\": \"white\"}}, \"header\": {\"fill\": {\"color\": \"#C8D4E3\"}, \"line\": {\"color\": \"white\"}}, \"type\": \"table\"}]}, \"layout\": {\"annotationdefaults\": {\"arrowcolor\": \"#2a3f5f\", \"arrowhead\": 0, \"arrowwidth\": 1}, \"coloraxis\": {\"colorbar\": {\"outlinewidth\": 0, \"ticks\": \"\"}}, \"colorscale\": {\"diverging\": [[0, \"#8e0152\"], [0.1, \"#c51b7d\"], [0.2, \"#de77ae\"], [0.3, \"#f1b6da\"], [0.4, \"#fde0ef\"], [0.5, \"#f7f7f7\"], [0.6, \"#e6f5d0\"], [0.7, \"#b8e186\"], [0.8, \"#7fbc41\"], [0.9, \"#4d9221\"], [1, \"#276419\"]], \"sequential\": [[0.0, \"#0d0887\"], [0.1111111111111111, \"#46039f\"], [0.2222222222222222, \"#7201a8\"], [0.3333333333333333, \"#9c179e\"], [0.4444444444444444, \"#bd3786\"], [0.5555555555555556, \"#d8576b\"], [0.6666666666666666, \"#ed7953\"], [0.7777777777777778, \"#fb9f3a\"], [0.8888888888888888, \"#fdca26\"], [1.0, \"#f0f921\"]], \"sequentialminus\": [[0.0, \"#0d0887\"], [0.1111111111111111, \"#46039f\"], [0.2222222222222222, \"#7201a8\"], [0.3333333333333333, \"#9c179e\"], [0.4444444444444444, \"#bd3786\"], [0.5555555555555556, \"#d8576b\"], [0.6666666666666666, \"#ed7953\"], [0.7777777777777778, \"#fb9f3a\"], [0.8888888888888888, \"#fdca26\"], [1.0, \"#f0f921\"]]}, \"colorway\": [\"#636efa\", \"#EF553B\", \"#00cc96\", \"#ab63fa\", \"#FFA15A\", \"#19d3f3\", \"#FF6692\", \"#B6E880\", \"#FF97FF\", \"#FECB52\"], \"font\": {\"color\": \"#2a3f5f\"}, \"geo\": {\"bgcolor\": \"white\", \"lakecolor\": \"white\", \"landcolor\": \"#E5ECF6\", \"showlakes\": true, \"showland\": true, \"subunitcolor\": \"white\"}, \"hoverlabel\": {\"align\": \"left\"}, \"hovermode\": \"closest\", \"mapbox\": {\"style\": \"light\"}, \"paper_bgcolor\": \"white\", \"plot_bgcolor\": \"#E5ECF6\", \"polar\": {\"angularaxis\": {\"gridcolor\": \"white\", \"linecolor\": \"white\", \"ticks\": \"\"}, \"bgcolor\": \"#E5ECF6\", \"radialaxis\": {\"gridcolor\": \"white\", \"linecolor\": \"white\", \"ticks\": \"\"}}, \"scene\": {\"xaxis\": {\"backgroundcolor\": \"#E5ECF6\", \"gridcolor\": \"white\", \"gridwidth\": 2, \"linecolor\": \"white\", \"showbackground\": true, \"ticks\": \"\", \"zerolinecolor\": \"white\"}, \"yaxis\": {\"backgroundcolor\": \"#E5ECF6\", \"gridcolor\": \"white\", \"gridwidth\": 2, \"linecolor\": \"white\", \"showbackground\": true, \"ticks\": \"\", \"zerolinecolor\": \"white\"}, \"zaxis\": {\"backgroundcolor\": \"#E5ECF6\", \"gridcolor\": \"white\", \"gridwidth\": 2, \"linecolor\": \"white\", \"showbackground\": true, \"ticks\": \"\", \"zerolinecolor\": \"white\"}}, \"shapedefaults\": {\"line\": {\"color\": \"#2a3f5f\"}}, \"ternary\": {\"aaxis\": {\"gridcolor\": \"white\", \"linecolor\": \"white\", \"ticks\": \"\"}, \"baxis\": {\"gridcolor\": \"white\", \"linecolor\": \"white\", \"ticks\": \"\"}, \"bgcolor\": \"#E5ECF6\", \"caxis\": {\"gridcolor\": \"white\", \"linecolor\": \"white\", \"ticks\": \"\"}}, \"title\": {\"x\": 0.05}, \"xaxis\": {\"automargin\": true, \"gridcolor\": \"white\", \"linecolor\": \"white\", \"ticks\": \"\", \"title\": {\"standoff\": 15}, \"zerolinecolor\": \"white\", \"zerolinewidth\": 2}, \"yaxis\": {\"automargin\": true, \"gridcolor\": \"white\", \"linecolor\": \"white\", \"ticks\": \"\", \"title\": {\"standoff\": 15}, \"zerolinecolor\": \"white\", \"zerolinewidth\": 2}}}, \"title\": {\"font\": {\"color\": \"#D9D9D9\"}}, \"xaxis\": {\"gridcolor\": \"#434343\", \"showgrid\": true, \"tickfont\": {\"color\": \"#C2C2C2\"}, \"title\": {\"font\": {\"color\": \"#D9D9D9\"}, \"text\": \"\"}, \"zerolinecolor\": \"#666570\"}, \"yaxis\": {\"gridcolor\": \"#434343\", \"showgrid\": true, \"tickfont\": {\"color\": \"#C2C2C2\"}, \"title\": {\"font\": {\"color\": \"#D9D9D9\"}, \"text\": \"\"}, \"zerolinecolor\": \"#666570\"}},\n",
       "                        {\"showLink\": true, \"linkText\": \"Export to plot.ly\", \"plotlyServerURL\": \"https://plot.ly\", \"responsive\": true}\n",
       "                    ).then(function(){\n",
       "                            \n",
       "var gd = document.getElementById('4228095a-41dd-4633-8962-5e70c459aa30');\n",
       "var x = new MutationObserver(function (mutations, observer) {{\n",
       "        var display = window.getComputedStyle(gd).display;\n",
       "        if (!display || display === 'none') {{\n",
       "            console.log([gd, 'removed!']);\n",
       "            Plotly.purge(gd);\n",
       "            observer.disconnect();\n",
       "        }}\n",
       "}});\n",
       "\n",
       "// Listen for the removal of the full notebook cells\n",
       "var notebookContainer = gd.closest('#notebook-container');\n",
       "if (notebookContainer) {{\n",
       "    x.observe(notebookContainer, {childList: true});\n",
       "}}\n",
       "\n",
       "// Listen for the clearing of the current output cell\n",
       "var outputEl = gd.closest('.output');\n",
       "if (outputEl) {{\n",
       "    x.observe(outputEl, {childList: true});\n",
       "}}\n",
       "\n",
       "                        })\n",
       "                };\n",
       "                });\n",
       "            </script>\n",
       "        </div>"
      ]
     },
     "metadata": {},
     "output_type": "display_data"
    }
   ],
   "source": [
    "df.iplot(x = 'A', y = 'B', mode = 'markers', size = 25)"
   ]
  },
  {
   "cell_type": "code",
   "execution_count": 69,
   "metadata": {},
   "outputs": [
    {
     "data": {
      "application/vnd.plotly.v1+json": {
       "config": {
        "linkText": "Export to plot.ly",
        "plotlyServerURL": "https://plot.ly",
        "showLink": true
       },
       "data": [
        {
         "marker": {
          "color": "rgba(255, 153, 51, 0.6)",
          "line": {
           "color": "rgba(255, 153, 51, 1.0)",
           "width": 1
          }
         },
         "name": "A",
         "orientation": "v",
         "text": "",
         "type": "bar",
         "x": [
          0,
          1,
          2,
          3,
          4,
          5,
          6,
          7,
          8,
          9,
          10,
          11,
          12,
          13,
          14,
          15,
          16,
          17,
          18,
          19,
          20,
          21,
          22,
          23,
          24,
          25,
          26,
          27,
          28,
          29,
          30,
          31,
          32,
          33,
          34,
          35,
          36,
          37,
          38,
          39,
          40,
          41,
          42,
          43,
          44,
          45,
          46,
          47,
          48,
          49,
          50,
          51,
          52,
          53,
          54,
          55,
          56,
          57,
          58,
          59,
          60,
          61,
          62,
          63,
          64,
          65,
          66,
          67,
          68,
          69,
          70,
          71,
          72,
          73,
          74,
          75,
          76,
          77,
          78,
          79,
          80,
          81,
          82,
          83,
          84,
          85,
          86,
          87,
          88,
          89,
          90,
          91,
          92,
          93,
          94,
          95,
          96,
          97,
          98,
          99
         ],
         "y": [
          18.939836529413366,
          18.57536317065325,
          18.336635226348214,
          18.697863962736864,
          19.366290077918997,
          19.092877224412625,
          19.261927308479674,
          19.070284867263755,
          21.431589346093155,
          20.475609087731144,
          18.974584338404725,
          18.543508338820796,
          18.082622133483657,
          19.69665413077819,
          18.974847645815437,
          17.237599352876373,
          16.272477837350642,
          16.884011620497258,
          15.690410493034438,
          15.363712087275186,
          16.225956134402548,
          15.673437402089853,
          15.689721555994854,
          14.874995704220487,
          16.781349846692613,
          16.766746588722278,
          17.437023461421365,
          18.407254621023664,
          18.778322874746365,
          18.983167775362922,
          20.280012505532344,
          20.966727262132668,
          21.3469385769036,
          18.109732789961864,
          17.74223490805164,
          16.67645900722814,
          17.2109808368415,
          16.225926830666246,
          16.280290562618234,
          16.310036144986377,
          16.75261515323721,
          15.849319662830442,
          16.593276042002714,
          18.49288801271804,
          19.353968848237443,
          17.93862487493714,
          18.324248321201814,
          18.925068710509603,
          17.392229168570704,
          16.191286317981696,
          17.253830607391073,
          15.952339438509785,
          15.297738981433854,
          16.283707299270795,
          15.749084701700184,
          14.370752817349668,
          15.303463746448205,
          13.827456294134599,
          13.81516644052611,
          14.325623370447243,
          15.97271169687874,
          15.085252769120892,
          14.817254258513294,
          14.241794570869569,
          14.208284738686732,
          12.966561751953925,
          12.590482441266257,
          9.948038467487647,
          11.032266409982899,
          8.891491839984331,
          8.163049698022995,
          8.979907465238242,
          9.287343172794754,
          10.114616024723174,
          10.465815149781305,
          12.496273529110058,
          12.255291716666108,
          12.48570479434714,
          12.052354735540451,
          10.303924782744446,
          8.572860049980218,
          7.293868133117167,
          8.437051955852471,
          8.27326115872482,
          9.053010838181457,
          6.851951218144077,
          6.7132342761241794,
          7.857634380841375,
          9.254614304695345,
          12.032692181592157,
          11.567349553414724,
          8.992923530539171,
          6.987426346784449,
          6.443275573164618,
          5.666244245097008,
          7.37917778442533,
          5.541628217325204,
          5.328180819895762,
          5.444276528135589,
          5.602228529266361
         ]
        },
        {
         "marker": {
          "color": "rgba(55, 128, 191, 0.6)",
          "line": {
           "color": "rgba(55, 128, 191, 1.0)",
           "width": 1
          }
         },
         "name": "B",
         "orientation": "v",
         "text": "",
         "type": "bar",
         "x": [
          0,
          1,
          2,
          3,
          4,
          5,
          6,
          7,
          8,
          9,
          10,
          11,
          12,
          13,
          14,
          15,
          16,
          17,
          18,
          19,
          20,
          21,
          22,
          23,
          24,
          25,
          26,
          27,
          28,
          29,
          30,
          31,
          32,
          33,
          34,
          35,
          36,
          37,
          38,
          39,
          40,
          41,
          42,
          43,
          44,
          45,
          46,
          47,
          48,
          49,
          50,
          51,
          52,
          53,
          54,
          55,
          56,
          57,
          58,
          59,
          60,
          61,
          62,
          63,
          64,
          65,
          66,
          67,
          68,
          69,
          70,
          71,
          72,
          73,
          74,
          75,
          76,
          77,
          78,
          79,
          80,
          81,
          82,
          83,
          84,
          85,
          86,
          87,
          88,
          89,
          90,
          91,
          92,
          93,
          94,
          95,
          96,
          97,
          98,
          99
         ],
         "y": [
          19.57811765823711,
          20.67821727264487,
          21.468674831135477,
          21.992650726303197,
          22.59070512232445,
          20.867900003575024,
          20.365513305889916,
          20.913470537490042,
          21.090882817729412,
          21.68193571878041,
          22.636158920705995,
          23.536766878768287,
          23.971367204293422,
          24.587802024695673,
          25.398796398181773,
          25.198735063890453,
          25.248666318458625,
          24.2572815816471,
          24.725622045472626,
          24.70606590576826,
          24.904816173365795,
          25.69274160358888,
          25.318222557924997,
          25.881797294360027,
          25.149005275607976,
          26.158306200641068,
          24.96467012433253,
          25.703393643547926,
          24.501570109309206,
          24.801022335851982,
          25.501324319961423,
          25.50086978292324,
          25.56794289117986,
          26.05129699810626,
          27.879270978399088,
          28.035715011190494,
          28.417621536191334,
          27.45150432479886,
          25.365409693787665,
          25.569699453062658,
          25.871828040861512,
          25.811349616237685,
          25.507065615897233,
          25.359834372240382,
          24.461654398131433,
          25.713853093333597,
          24.36999338773402,
          24.21381050894856,
          23.521083330480558,
          24.812337744604157,
          26.22442520575146,
          25.42282289886684,
          24.801672584853485,
          23.795197723661467,
          23.218274304310114,
          24.441539869052512,
          23.38321461149637,
          22.605941570869334,
          22.961896130440156,
          22.225405362707768,
          22.10595019122328,
          22.517392115635495,
          21.475553665572292,
          21.769720295929822,
          20.14714973294842,
          20.01295951168225,
          20.642452444786795,
          20.07646910957776,
          20.717595768900587,
          21.90117045667466,
          21.144119719795288,
          20.21568542385949,
          20.11832983031426,
          20.25320071536521,
          21.079422705104005,
          20.178029294199376,
          20.41702064132579,
          19.53350372776044,
          17.2389060491363,
          17.919819649682246,
          17.873327116523644,
          19.16249070679284,
          18.548690862504664,
          19.44310771240245,
          19.1972035065841,
          18.712028267850634,
          18.48844417247204,
          18.15349006866355,
          17.867561285442036,
          17.29321406647523,
          17.398166853899877,
          19.247233445105156,
          20.047597351883915,
          18.78589828631096,
          19.297309251402723,
          19.07135904384581,
          18.723948022892316,
          19.530950057733442,
          19.068236729746076,
          16.898675239248913
         ]
        },
        {
         "marker": {
          "color": "rgba(50, 171, 96, 0.6)",
          "line": {
           "color": "rgba(50, 171, 96, 1.0)",
           "width": 1
          }
         },
         "name": "C",
         "orientation": "v",
         "text": "",
         "type": "bar",
         "x": [
          0,
          1,
          2,
          3,
          4,
          5,
          6,
          7,
          8,
          9,
          10,
          11,
          12,
          13,
          14,
          15,
          16,
          17,
          18,
          19,
          20,
          21,
          22,
          23,
          24,
          25,
          26,
          27,
          28,
          29,
          30,
          31,
          32,
          33,
          34,
          35,
          36,
          37,
          38,
          39,
          40,
          41,
          42,
          43,
          44,
          45,
          46,
          47,
          48,
          49,
          50,
          51,
          52,
          53,
          54,
          55,
          56,
          57,
          58,
          59,
          60,
          61,
          62,
          63,
          64,
          65,
          66,
          67,
          68,
          69,
          70,
          71,
          72,
          73,
          74,
          75,
          76,
          77,
          78,
          79,
          80,
          81,
          82,
          83,
          84,
          85,
          86,
          87,
          88,
          89,
          90,
          91,
          92,
          93,
          94,
          95,
          96,
          97,
          98,
          99
         ],
         "y": [
          19.60142742296272,
          19.850834310233786,
          17.26295717314104,
          18.575130234244927,
          18.649815081003418,
          16.187364271401435,
          16.83327707529083,
          17.00829837263115,
          19.208742179909265,
          16.895158132496448,
          17.319347698131015,
          16.939276576515184,
          17.445366576364325,
          17.638588609076354,
          17.258509481465452,
          17.286869221921418,
          16.506548141702037,
          16.151709024133623,
          16.09848802515722,
          17.092421192295976,
          17.872105000572574,
          17.806117362194872,
          18.150007123655403,
          16.957122125424352,
          16.92994835512515,
          16.758553949623117,
          15.774845681256942,
          18.060152262817095,
          18.15229282455728,
          19.02795900495338,
          19.49302099652112,
          18.836755265502706,
          16.878896305092276,
          15.687515713008718,
          15.940164884463984,
          16.464089189174473,
          16.55546174456284,
          17.002618386359664,
          17.205102920401043,
          19.17203130140711,
          18.57801051926247,
          18.456585892440255,
          17.6193624525526,
          18.732100151060042,
          17.556766750936994,
          15.945535123872169,
          16.577448209785068,
          16.757449951175825,
          16.326060136179365,
          13.669310530754606,
          12.56779501388871,
          12.785708153691573,
          15.223884679756864,
          15.894497039607295,
          15.098340845301632,
          14.953377725149977,
          15.357102114195273,
          15.983788153268696,
          14.868106909858069,
          14.026933126308741,
          13.7568883447751,
          15.231989630000637,
          15.383881880895478,
          16.382588531083307,
          16.43322132276507,
          16.461558197689243,
          17.305011421274564,
          16.010747846021136,
          16.839646372310973,
          18.005743115693416,
          17.48742238164607,
          17.69108585845791,
          17.835111137476378,
          16.894666400726123,
          17.191622339832097,
          17.167071839480002,
          17.68691715092639,
          17.028739902661005,
          15.414571912627235,
          15.45576031216001,
          16.232317046637696,
          15.445976972864562,
          17.211532521350136,
          18.483445261686082,
          18.030804994536023,
          18.464612018830422,
          17.948728927363632,
          17.212379914264904,
          17.231048164772314,
          15.53966706854438,
          16.15486292195792,
          15.56126396950727,
          14.313029895849528,
          12.118614728283392,
          11.666360294191552,
          13.516095653489876,
          15.144094960578572,
          14.263878277842988,
          14.858855311310744,
          14.050273317419077
         ]
        }
       ],
       "layout": {
        "bargap": 0.5,
        "legend": {
         "bgcolor": "#1A1A1C",
         "font": {
          "color": "#D9D9D9"
         }
        },
        "paper_bgcolor": "#1A1A1C",
        "plot_bgcolor": "#1A1A1C",
        "template": {
         "data": {
          "bar": [
           {
            "error_x": {
             "color": "#2a3f5f"
            },
            "error_y": {
             "color": "#2a3f5f"
            },
            "marker": {
             "line": {
              "color": "#E5ECF6",
              "width": 0.5
             }
            },
            "type": "bar"
           }
          ],
          "barpolar": [
           {
            "marker": {
             "line": {
              "color": "#E5ECF6",
              "width": 0.5
             }
            },
            "type": "barpolar"
           }
          ],
          "carpet": [
           {
            "aaxis": {
             "endlinecolor": "#2a3f5f",
             "gridcolor": "white",
             "linecolor": "white",
             "minorgridcolor": "white",
             "startlinecolor": "#2a3f5f"
            },
            "baxis": {
             "endlinecolor": "#2a3f5f",
             "gridcolor": "white",
             "linecolor": "white",
             "minorgridcolor": "white",
             "startlinecolor": "#2a3f5f"
            },
            "type": "carpet"
           }
          ],
          "choropleth": [
           {
            "colorbar": {
             "outlinewidth": 0,
             "ticks": ""
            },
            "type": "choropleth"
           }
          ],
          "contour": [
           {
            "colorbar": {
             "outlinewidth": 0,
             "ticks": ""
            },
            "colorscale": [
             [
              0,
              "#0d0887"
             ],
             [
              0.1111111111111111,
              "#46039f"
             ],
             [
              0.2222222222222222,
              "#7201a8"
             ],
             [
              0.3333333333333333,
              "#9c179e"
             ],
             [
              0.4444444444444444,
              "#bd3786"
             ],
             [
              0.5555555555555556,
              "#d8576b"
             ],
             [
              0.6666666666666666,
              "#ed7953"
             ],
             [
              0.7777777777777778,
              "#fb9f3a"
             ],
             [
              0.8888888888888888,
              "#fdca26"
             ],
             [
              1,
              "#f0f921"
             ]
            ],
            "type": "contour"
           }
          ],
          "contourcarpet": [
           {
            "colorbar": {
             "outlinewidth": 0,
             "ticks": ""
            },
            "type": "contourcarpet"
           }
          ],
          "heatmap": [
           {
            "colorbar": {
             "outlinewidth": 0,
             "ticks": ""
            },
            "colorscale": [
             [
              0,
              "#0d0887"
             ],
             [
              0.1111111111111111,
              "#46039f"
             ],
             [
              0.2222222222222222,
              "#7201a8"
             ],
             [
              0.3333333333333333,
              "#9c179e"
             ],
             [
              0.4444444444444444,
              "#bd3786"
             ],
             [
              0.5555555555555556,
              "#d8576b"
             ],
             [
              0.6666666666666666,
              "#ed7953"
             ],
             [
              0.7777777777777778,
              "#fb9f3a"
             ],
             [
              0.8888888888888888,
              "#fdca26"
             ],
             [
              1,
              "#f0f921"
             ]
            ],
            "type": "heatmap"
           }
          ],
          "heatmapgl": [
           {
            "colorbar": {
             "outlinewidth": 0,
             "ticks": ""
            },
            "colorscale": [
             [
              0,
              "#0d0887"
             ],
             [
              0.1111111111111111,
              "#46039f"
             ],
             [
              0.2222222222222222,
              "#7201a8"
             ],
             [
              0.3333333333333333,
              "#9c179e"
             ],
             [
              0.4444444444444444,
              "#bd3786"
             ],
             [
              0.5555555555555556,
              "#d8576b"
             ],
             [
              0.6666666666666666,
              "#ed7953"
             ],
             [
              0.7777777777777778,
              "#fb9f3a"
             ],
             [
              0.8888888888888888,
              "#fdca26"
             ],
             [
              1,
              "#f0f921"
             ]
            ],
            "type": "heatmapgl"
           }
          ],
          "histogram": [
           {
            "marker": {
             "colorbar": {
              "outlinewidth": 0,
              "ticks": ""
             }
            },
            "type": "histogram"
           }
          ],
          "histogram2d": [
           {
            "colorbar": {
             "outlinewidth": 0,
             "ticks": ""
            },
            "colorscale": [
             [
              0,
              "#0d0887"
             ],
             [
              0.1111111111111111,
              "#46039f"
             ],
             [
              0.2222222222222222,
              "#7201a8"
             ],
             [
              0.3333333333333333,
              "#9c179e"
             ],
             [
              0.4444444444444444,
              "#bd3786"
             ],
             [
              0.5555555555555556,
              "#d8576b"
             ],
             [
              0.6666666666666666,
              "#ed7953"
             ],
             [
              0.7777777777777778,
              "#fb9f3a"
             ],
             [
              0.8888888888888888,
              "#fdca26"
             ],
             [
              1,
              "#f0f921"
             ]
            ],
            "type": "histogram2d"
           }
          ],
          "histogram2dcontour": [
           {
            "colorbar": {
             "outlinewidth": 0,
             "ticks": ""
            },
            "colorscale": [
             [
              0,
              "#0d0887"
             ],
             [
              0.1111111111111111,
              "#46039f"
             ],
             [
              0.2222222222222222,
              "#7201a8"
             ],
             [
              0.3333333333333333,
              "#9c179e"
             ],
             [
              0.4444444444444444,
              "#bd3786"
             ],
             [
              0.5555555555555556,
              "#d8576b"
             ],
             [
              0.6666666666666666,
              "#ed7953"
             ],
             [
              0.7777777777777778,
              "#fb9f3a"
             ],
             [
              0.8888888888888888,
              "#fdca26"
             ],
             [
              1,
              "#f0f921"
             ]
            ],
            "type": "histogram2dcontour"
           }
          ],
          "mesh3d": [
           {
            "colorbar": {
             "outlinewidth": 0,
             "ticks": ""
            },
            "type": "mesh3d"
           }
          ],
          "parcoords": [
           {
            "line": {
             "colorbar": {
              "outlinewidth": 0,
              "ticks": ""
             }
            },
            "type": "parcoords"
           }
          ],
          "pie": [
           {
            "automargin": true,
            "type": "pie"
           }
          ],
          "scatter": [
           {
            "marker": {
             "colorbar": {
              "outlinewidth": 0,
              "ticks": ""
             }
            },
            "type": "scatter"
           }
          ],
          "scatter3d": [
           {
            "line": {
             "colorbar": {
              "outlinewidth": 0,
              "ticks": ""
             }
            },
            "marker": {
             "colorbar": {
              "outlinewidth": 0,
              "ticks": ""
             }
            },
            "type": "scatter3d"
           }
          ],
          "scattercarpet": [
           {
            "marker": {
             "colorbar": {
              "outlinewidth": 0,
              "ticks": ""
             }
            },
            "type": "scattercarpet"
           }
          ],
          "scattergeo": [
           {
            "marker": {
             "colorbar": {
              "outlinewidth": 0,
              "ticks": ""
             }
            },
            "type": "scattergeo"
           }
          ],
          "scattergl": [
           {
            "marker": {
             "colorbar": {
              "outlinewidth": 0,
              "ticks": ""
             }
            },
            "type": "scattergl"
           }
          ],
          "scattermapbox": [
           {
            "marker": {
             "colorbar": {
              "outlinewidth": 0,
              "ticks": ""
             }
            },
            "type": "scattermapbox"
           }
          ],
          "scatterpolar": [
           {
            "marker": {
             "colorbar": {
              "outlinewidth": 0,
              "ticks": ""
             }
            },
            "type": "scatterpolar"
           }
          ],
          "scatterpolargl": [
           {
            "marker": {
             "colorbar": {
              "outlinewidth": 0,
              "ticks": ""
             }
            },
            "type": "scatterpolargl"
           }
          ],
          "scatterternary": [
           {
            "marker": {
             "colorbar": {
              "outlinewidth": 0,
              "ticks": ""
             }
            },
            "type": "scatterternary"
           }
          ],
          "surface": [
           {
            "colorbar": {
             "outlinewidth": 0,
             "ticks": ""
            },
            "colorscale": [
             [
              0,
              "#0d0887"
             ],
             [
              0.1111111111111111,
              "#46039f"
             ],
             [
              0.2222222222222222,
              "#7201a8"
             ],
             [
              0.3333333333333333,
              "#9c179e"
             ],
             [
              0.4444444444444444,
              "#bd3786"
             ],
             [
              0.5555555555555556,
              "#d8576b"
             ],
             [
              0.6666666666666666,
              "#ed7953"
             ],
             [
              0.7777777777777778,
              "#fb9f3a"
             ],
             [
              0.8888888888888888,
              "#fdca26"
             ],
             [
              1,
              "#f0f921"
             ]
            ],
            "type": "surface"
           }
          ],
          "table": [
           {
            "cells": {
             "fill": {
              "color": "#EBF0F8"
             },
             "line": {
              "color": "white"
             }
            },
            "header": {
             "fill": {
              "color": "#C8D4E3"
             },
             "line": {
              "color": "white"
             }
            },
            "type": "table"
           }
          ]
         },
         "layout": {
          "annotationdefaults": {
           "arrowcolor": "#2a3f5f",
           "arrowhead": 0,
           "arrowwidth": 1
          },
          "coloraxis": {
           "colorbar": {
            "outlinewidth": 0,
            "ticks": ""
           }
          },
          "colorscale": {
           "diverging": [
            [
             0,
             "#8e0152"
            ],
            [
             0.1,
             "#c51b7d"
            ],
            [
             0.2,
             "#de77ae"
            ],
            [
             0.3,
             "#f1b6da"
            ],
            [
             0.4,
             "#fde0ef"
            ],
            [
             0.5,
             "#f7f7f7"
            ],
            [
             0.6,
             "#e6f5d0"
            ],
            [
             0.7,
             "#b8e186"
            ],
            [
             0.8,
             "#7fbc41"
            ],
            [
             0.9,
             "#4d9221"
            ],
            [
             1,
             "#276419"
            ]
           ],
           "sequential": [
            [
             0,
             "#0d0887"
            ],
            [
             0.1111111111111111,
             "#46039f"
            ],
            [
             0.2222222222222222,
             "#7201a8"
            ],
            [
             0.3333333333333333,
             "#9c179e"
            ],
            [
             0.4444444444444444,
             "#bd3786"
            ],
            [
             0.5555555555555556,
             "#d8576b"
            ],
            [
             0.6666666666666666,
             "#ed7953"
            ],
            [
             0.7777777777777778,
             "#fb9f3a"
            ],
            [
             0.8888888888888888,
             "#fdca26"
            ],
            [
             1,
             "#f0f921"
            ]
           ],
           "sequentialminus": [
            [
             0,
             "#0d0887"
            ],
            [
             0.1111111111111111,
             "#46039f"
            ],
            [
             0.2222222222222222,
             "#7201a8"
            ],
            [
             0.3333333333333333,
             "#9c179e"
            ],
            [
             0.4444444444444444,
             "#bd3786"
            ],
            [
             0.5555555555555556,
             "#d8576b"
            ],
            [
             0.6666666666666666,
             "#ed7953"
            ],
            [
             0.7777777777777778,
             "#fb9f3a"
            ],
            [
             0.8888888888888888,
             "#fdca26"
            ],
            [
             1,
             "#f0f921"
            ]
           ]
          },
          "colorway": [
           "#636efa",
           "#EF553B",
           "#00cc96",
           "#ab63fa",
           "#FFA15A",
           "#19d3f3",
           "#FF6692",
           "#B6E880",
           "#FF97FF",
           "#FECB52"
          ],
          "font": {
           "color": "#2a3f5f"
          },
          "geo": {
           "bgcolor": "white",
           "lakecolor": "white",
           "landcolor": "#E5ECF6",
           "showlakes": true,
           "showland": true,
           "subunitcolor": "white"
          },
          "hoverlabel": {
           "align": "left"
          },
          "hovermode": "closest",
          "mapbox": {
           "style": "light"
          },
          "paper_bgcolor": "white",
          "plot_bgcolor": "#E5ECF6",
          "polar": {
           "angularaxis": {
            "gridcolor": "white",
            "linecolor": "white",
            "ticks": ""
           },
           "bgcolor": "#E5ECF6",
           "radialaxis": {
            "gridcolor": "white",
            "linecolor": "white",
            "ticks": ""
           }
          },
          "scene": {
           "xaxis": {
            "backgroundcolor": "#E5ECF6",
            "gridcolor": "white",
            "gridwidth": 2,
            "linecolor": "white",
            "showbackground": true,
            "ticks": "",
            "zerolinecolor": "white"
           },
           "yaxis": {
            "backgroundcolor": "#E5ECF6",
            "gridcolor": "white",
            "gridwidth": 2,
            "linecolor": "white",
            "showbackground": true,
            "ticks": "",
            "zerolinecolor": "white"
           },
           "zaxis": {
            "backgroundcolor": "#E5ECF6",
            "gridcolor": "white",
            "gridwidth": 2,
            "linecolor": "white",
            "showbackground": true,
            "ticks": "",
            "zerolinecolor": "white"
           }
          },
          "shapedefaults": {
           "line": {
            "color": "#2a3f5f"
           }
          },
          "ternary": {
           "aaxis": {
            "gridcolor": "white",
            "linecolor": "white",
            "ticks": ""
           },
           "baxis": {
            "gridcolor": "white",
            "linecolor": "white",
            "ticks": ""
           },
           "bgcolor": "#E5ECF6",
           "caxis": {
            "gridcolor": "white",
            "linecolor": "white",
            "ticks": ""
           }
          },
          "title": {
           "x": 0.05
          },
          "xaxis": {
           "automargin": true,
           "gridcolor": "white",
           "linecolor": "white",
           "ticks": "",
           "title": {
            "standoff": 15
           },
           "zerolinecolor": "white",
           "zerolinewidth": 2
          },
          "yaxis": {
           "automargin": true,
           "gridcolor": "white",
           "linecolor": "white",
           "ticks": "",
           "title": {
            "standoff": 15
           },
           "zerolinecolor": "white",
           "zerolinewidth": 2
          }
         }
        },
        "title": {
         "font": {
          "color": "#D9D9D9"
         }
        },
        "xaxis": {
         "gridcolor": "#434343",
         "showgrid": true,
         "tickfont": {
          "color": "#C2C2C2"
         },
         "title": {
          "font": {
           "color": "#D9D9D9"
          },
          "text": ""
         },
         "zerolinecolor": "#666570"
        },
        "yaxis": {
         "gridcolor": "#434343",
         "showgrid": true,
         "tickfont": {
          "color": "#C2C2C2"
         },
         "title": {
          "font": {
           "color": "#D9D9D9"
          },
          "text": ""
         },
         "zerolinecolor": "#666570"
        }
       }
      },
      "text/html": [
       "<div>\n",
       "        \n",
       "        \n",
       "            <div id=\"6024834b-2c72-4838-8b44-fd7dfe5eedbd\" class=\"plotly-graph-div\" style=\"height:525px; width:100%;\"></div>\n",
       "            <script type=\"text/javascript\">\n",
       "                require([\"plotly\"], function(Plotly) {\n",
       "                    window.PLOTLYENV=window.PLOTLYENV || {};\n",
       "                    window.PLOTLYENV.BASE_URL='https://plot.ly';\n",
       "                    \n",
       "                if (document.getElementById(\"6024834b-2c72-4838-8b44-fd7dfe5eedbd\")) {\n",
       "                    Plotly.newPlot(\n",
       "                        '6024834b-2c72-4838-8b44-fd7dfe5eedbd',\n",
       "                        [{\"marker\": {\"color\": \"rgba(255, 153, 51, 0.6)\", \"line\": {\"color\": \"rgba(255, 153, 51, 1.0)\", \"width\": 1}}, \"name\": \"A\", \"orientation\": \"v\", \"text\": \"\", \"type\": \"bar\", \"x\": [0, 1, 2, 3, 4, 5, 6, 7, 8, 9, 10, 11, 12, 13, 14, 15, 16, 17, 18, 19, 20, 21, 22, 23, 24, 25, 26, 27, 28, 29, 30, 31, 32, 33, 34, 35, 36, 37, 38, 39, 40, 41, 42, 43, 44, 45, 46, 47, 48, 49, 50, 51, 52, 53, 54, 55, 56, 57, 58, 59, 60, 61, 62, 63, 64, 65, 66, 67, 68, 69, 70, 71, 72, 73, 74, 75, 76, 77, 78, 79, 80, 81, 82, 83, 84, 85, 86, 87, 88, 89, 90, 91, 92, 93, 94, 95, 96, 97, 98, 99], \"y\": [18.939836529413366, 18.57536317065325, 18.336635226348214, 18.697863962736864, 19.366290077918997, 19.092877224412625, 19.261927308479674, 19.070284867263755, 21.431589346093155, 20.475609087731144, 18.974584338404725, 18.543508338820796, 18.082622133483657, 19.69665413077819, 18.974847645815437, 17.237599352876373, 16.272477837350642, 16.884011620497258, 15.690410493034438, 15.363712087275186, 16.225956134402548, 15.673437402089853, 15.689721555994854, 14.874995704220487, 16.781349846692613, 16.766746588722278, 17.437023461421365, 18.407254621023664, 18.778322874746365, 18.983167775362922, 20.280012505532344, 20.966727262132668, 21.3469385769036, 18.109732789961864, 17.74223490805164, 16.67645900722814, 17.2109808368415, 16.225926830666246, 16.280290562618234, 16.310036144986377, 16.75261515323721, 15.849319662830442, 16.593276042002714, 18.49288801271804, 19.353968848237443, 17.93862487493714, 18.324248321201814, 18.925068710509603, 17.392229168570704, 16.191286317981696, 17.253830607391073, 15.952339438509785, 15.297738981433854, 16.283707299270795, 15.749084701700184, 14.370752817349668, 15.303463746448205, 13.827456294134599, 13.81516644052611, 14.325623370447243, 15.97271169687874, 15.085252769120892, 14.817254258513294, 14.241794570869569, 14.208284738686732, 12.966561751953925, 12.590482441266257, 9.948038467487647, 11.032266409982899, 8.891491839984331, 8.163049698022995, 8.979907465238242, 9.287343172794754, 10.114616024723174, 10.465815149781305, 12.496273529110058, 12.255291716666108, 12.48570479434714, 12.052354735540451, 10.303924782744446, 8.572860049980218, 7.293868133117167, 8.437051955852471, 8.27326115872482, 9.053010838181457, 6.851951218144077, 6.7132342761241794, 7.857634380841375, 9.254614304695345, 12.032692181592157, 11.567349553414724, 8.992923530539171, 6.987426346784449, 6.443275573164618, 5.666244245097008, 7.37917778442533, 5.541628217325204, 5.328180819895762, 5.444276528135589, 5.602228529266361]}, {\"marker\": {\"color\": \"rgba(55, 128, 191, 0.6)\", \"line\": {\"color\": \"rgba(55, 128, 191, 1.0)\", \"width\": 1}}, \"name\": \"B\", \"orientation\": \"v\", \"text\": \"\", \"type\": \"bar\", \"x\": [0, 1, 2, 3, 4, 5, 6, 7, 8, 9, 10, 11, 12, 13, 14, 15, 16, 17, 18, 19, 20, 21, 22, 23, 24, 25, 26, 27, 28, 29, 30, 31, 32, 33, 34, 35, 36, 37, 38, 39, 40, 41, 42, 43, 44, 45, 46, 47, 48, 49, 50, 51, 52, 53, 54, 55, 56, 57, 58, 59, 60, 61, 62, 63, 64, 65, 66, 67, 68, 69, 70, 71, 72, 73, 74, 75, 76, 77, 78, 79, 80, 81, 82, 83, 84, 85, 86, 87, 88, 89, 90, 91, 92, 93, 94, 95, 96, 97, 98, 99], \"y\": [19.57811765823711, 20.67821727264487, 21.468674831135477, 21.992650726303197, 22.59070512232445, 20.867900003575024, 20.365513305889916, 20.913470537490042, 21.090882817729412, 21.68193571878041, 22.636158920705995, 23.536766878768287, 23.971367204293422, 24.587802024695673, 25.398796398181773, 25.198735063890453, 25.248666318458625, 24.2572815816471, 24.725622045472626, 24.70606590576826, 24.904816173365795, 25.69274160358888, 25.318222557924997, 25.881797294360027, 25.149005275607976, 26.158306200641068, 24.96467012433253, 25.703393643547926, 24.501570109309206, 24.801022335851982, 25.501324319961423, 25.50086978292324, 25.56794289117986, 26.05129699810626, 27.879270978399088, 28.035715011190494, 28.417621536191334, 27.45150432479886, 25.365409693787665, 25.569699453062658, 25.871828040861512, 25.811349616237685, 25.507065615897233, 25.359834372240382, 24.461654398131433, 25.713853093333597, 24.36999338773402, 24.21381050894856, 23.521083330480558, 24.812337744604157, 26.22442520575146, 25.42282289886684, 24.801672584853485, 23.795197723661467, 23.218274304310114, 24.441539869052512, 23.38321461149637, 22.605941570869334, 22.961896130440156, 22.225405362707768, 22.10595019122328, 22.517392115635495, 21.475553665572292, 21.769720295929822, 20.14714973294842, 20.01295951168225, 20.642452444786795, 20.07646910957776, 20.717595768900587, 21.90117045667466, 21.144119719795288, 20.21568542385949, 20.11832983031426, 20.25320071536521, 21.079422705104005, 20.178029294199376, 20.41702064132579, 19.53350372776044, 17.2389060491363, 17.919819649682246, 17.873327116523644, 19.16249070679284, 18.548690862504664, 19.44310771240245, 19.1972035065841, 18.712028267850634, 18.48844417247204, 18.15349006866355, 17.867561285442036, 17.29321406647523, 17.398166853899877, 19.247233445105156, 20.047597351883915, 18.78589828631096, 19.297309251402723, 19.07135904384581, 18.723948022892316, 19.530950057733442, 19.068236729746076, 16.898675239248913]}, {\"marker\": {\"color\": \"rgba(50, 171, 96, 0.6)\", \"line\": {\"color\": \"rgba(50, 171, 96, 1.0)\", \"width\": 1}}, \"name\": \"C\", \"orientation\": \"v\", \"text\": \"\", \"type\": \"bar\", \"x\": [0, 1, 2, 3, 4, 5, 6, 7, 8, 9, 10, 11, 12, 13, 14, 15, 16, 17, 18, 19, 20, 21, 22, 23, 24, 25, 26, 27, 28, 29, 30, 31, 32, 33, 34, 35, 36, 37, 38, 39, 40, 41, 42, 43, 44, 45, 46, 47, 48, 49, 50, 51, 52, 53, 54, 55, 56, 57, 58, 59, 60, 61, 62, 63, 64, 65, 66, 67, 68, 69, 70, 71, 72, 73, 74, 75, 76, 77, 78, 79, 80, 81, 82, 83, 84, 85, 86, 87, 88, 89, 90, 91, 92, 93, 94, 95, 96, 97, 98, 99], \"y\": [19.60142742296272, 19.850834310233786, 17.26295717314104, 18.575130234244927, 18.649815081003418, 16.187364271401435, 16.83327707529083, 17.00829837263115, 19.208742179909265, 16.895158132496448, 17.319347698131015, 16.939276576515184, 17.445366576364325, 17.638588609076354, 17.258509481465452, 17.286869221921418, 16.506548141702037, 16.151709024133623, 16.09848802515722, 17.092421192295976, 17.872105000572574, 17.806117362194872, 18.150007123655403, 16.957122125424352, 16.92994835512515, 16.758553949623117, 15.774845681256942, 18.060152262817095, 18.15229282455728, 19.02795900495338, 19.49302099652112, 18.836755265502706, 16.878896305092276, 15.687515713008718, 15.940164884463984, 16.464089189174473, 16.55546174456284, 17.002618386359664, 17.205102920401043, 19.17203130140711, 18.57801051926247, 18.456585892440255, 17.6193624525526, 18.732100151060042, 17.556766750936994, 15.945535123872169, 16.577448209785068, 16.757449951175825, 16.326060136179365, 13.669310530754606, 12.56779501388871, 12.785708153691573, 15.223884679756864, 15.894497039607295, 15.098340845301632, 14.953377725149977, 15.357102114195273, 15.983788153268696, 14.868106909858069, 14.026933126308741, 13.7568883447751, 15.231989630000637, 15.383881880895478, 16.382588531083307, 16.43322132276507, 16.461558197689243, 17.305011421274564, 16.010747846021136, 16.839646372310973, 18.005743115693416, 17.48742238164607, 17.69108585845791, 17.835111137476378, 16.894666400726123, 17.191622339832097, 17.167071839480002, 17.68691715092639, 17.028739902661005, 15.414571912627235, 15.45576031216001, 16.232317046637696, 15.445976972864562, 17.211532521350136, 18.483445261686082, 18.030804994536023, 18.464612018830422, 17.948728927363632, 17.212379914264904, 17.231048164772314, 15.53966706854438, 16.15486292195792, 15.56126396950727, 14.313029895849528, 12.118614728283392, 11.666360294191552, 13.516095653489876, 15.144094960578572, 14.263878277842988, 14.858855311310744, 14.050273317419077]}],\n",
       "                        {\"bargap\": 0.5, \"legend\": {\"bgcolor\": \"#1A1A1C\", \"font\": {\"color\": \"#D9D9D9\"}}, \"paper_bgcolor\": \"#1A1A1C\", \"plot_bgcolor\": \"#1A1A1C\", \"template\": {\"data\": {\"bar\": [{\"error_x\": {\"color\": \"#2a3f5f\"}, \"error_y\": {\"color\": \"#2a3f5f\"}, \"marker\": {\"line\": {\"color\": \"#E5ECF6\", \"width\": 0.5}}, \"type\": \"bar\"}], \"barpolar\": [{\"marker\": {\"line\": {\"color\": \"#E5ECF6\", \"width\": 0.5}}, \"type\": \"barpolar\"}], \"carpet\": [{\"aaxis\": {\"endlinecolor\": \"#2a3f5f\", \"gridcolor\": \"white\", \"linecolor\": \"white\", \"minorgridcolor\": \"white\", \"startlinecolor\": \"#2a3f5f\"}, \"baxis\": {\"endlinecolor\": \"#2a3f5f\", \"gridcolor\": \"white\", \"linecolor\": \"white\", \"minorgridcolor\": \"white\", \"startlinecolor\": \"#2a3f5f\"}, \"type\": \"carpet\"}], \"choropleth\": [{\"colorbar\": {\"outlinewidth\": 0, \"ticks\": \"\"}, \"type\": \"choropleth\"}], \"contour\": [{\"colorbar\": {\"outlinewidth\": 0, \"ticks\": \"\"}, \"colorscale\": [[0.0, \"#0d0887\"], [0.1111111111111111, \"#46039f\"], [0.2222222222222222, \"#7201a8\"], [0.3333333333333333, \"#9c179e\"], [0.4444444444444444, \"#bd3786\"], [0.5555555555555556, \"#d8576b\"], [0.6666666666666666, \"#ed7953\"], [0.7777777777777778, \"#fb9f3a\"], [0.8888888888888888, \"#fdca26\"], [1.0, \"#f0f921\"]], \"type\": \"contour\"}], \"contourcarpet\": [{\"colorbar\": {\"outlinewidth\": 0, \"ticks\": \"\"}, \"type\": \"contourcarpet\"}], \"heatmap\": [{\"colorbar\": {\"outlinewidth\": 0, \"ticks\": \"\"}, \"colorscale\": [[0.0, \"#0d0887\"], [0.1111111111111111, \"#46039f\"], [0.2222222222222222, \"#7201a8\"], [0.3333333333333333, \"#9c179e\"], [0.4444444444444444, \"#bd3786\"], [0.5555555555555556, \"#d8576b\"], [0.6666666666666666, \"#ed7953\"], [0.7777777777777778, \"#fb9f3a\"], [0.8888888888888888, \"#fdca26\"], [1.0, \"#f0f921\"]], \"type\": \"heatmap\"}], \"heatmapgl\": [{\"colorbar\": {\"outlinewidth\": 0, \"ticks\": \"\"}, \"colorscale\": [[0.0, \"#0d0887\"], [0.1111111111111111, \"#46039f\"], [0.2222222222222222, \"#7201a8\"], [0.3333333333333333, \"#9c179e\"], [0.4444444444444444, \"#bd3786\"], [0.5555555555555556, \"#d8576b\"], [0.6666666666666666, \"#ed7953\"], [0.7777777777777778, \"#fb9f3a\"], [0.8888888888888888, \"#fdca26\"], [1.0, \"#f0f921\"]], \"type\": \"heatmapgl\"}], \"histogram\": [{\"marker\": {\"colorbar\": {\"outlinewidth\": 0, \"ticks\": \"\"}}, \"type\": \"histogram\"}], \"histogram2d\": [{\"colorbar\": {\"outlinewidth\": 0, \"ticks\": \"\"}, \"colorscale\": [[0.0, \"#0d0887\"], [0.1111111111111111, \"#46039f\"], [0.2222222222222222, \"#7201a8\"], [0.3333333333333333, \"#9c179e\"], [0.4444444444444444, \"#bd3786\"], [0.5555555555555556, \"#d8576b\"], [0.6666666666666666, \"#ed7953\"], [0.7777777777777778, \"#fb9f3a\"], [0.8888888888888888, \"#fdca26\"], [1.0, \"#f0f921\"]], \"type\": \"histogram2d\"}], \"histogram2dcontour\": [{\"colorbar\": {\"outlinewidth\": 0, \"ticks\": \"\"}, \"colorscale\": [[0.0, \"#0d0887\"], [0.1111111111111111, \"#46039f\"], [0.2222222222222222, \"#7201a8\"], [0.3333333333333333, \"#9c179e\"], [0.4444444444444444, \"#bd3786\"], [0.5555555555555556, \"#d8576b\"], [0.6666666666666666, \"#ed7953\"], [0.7777777777777778, \"#fb9f3a\"], [0.8888888888888888, \"#fdca26\"], [1.0, \"#f0f921\"]], \"type\": \"histogram2dcontour\"}], \"mesh3d\": [{\"colorbar\": {\"outlinewidth\": 0, \"ticks\": \"\"}, \"type\": \"mesh3d\"}], \"parcoords\": [{\"line\": {\"colorbar\": {\"outlinewidth\": 0, \"ticks\": \"\"}}, \"type\": \"parcoords\"}], \"pie\": [{\"automargin\": true, \"type\": \"pie\"}], \"scatter\": [{\"marker\": {\"colorbar\": {\"outlinewidth\": 0, \"ticks\": \"\"}}, \"type\": \"scatter\"}], \"scatter3d\": [{\"line\": {\"colorbar\": {\"outlinewidth\": 0, \"ticks\": \"\"}}, \"marker\": {\"colorbar\": {\"outlinewidth\": 0, \"ticks\": \"\"}}, \"type\": \"scatter3d\"}], \"scattercarpet\": [{\"marker\": {\"colorbar\": {\"outlinewidth\": 0, \"ticks\": \"\"}}, \"type\": \"scattercarpet\"}], \"scattergeo\": [{\"marker\": {\"colorbar\": {\"outlinewidth\": 0, \"ticks\": \"\"}}, \"type\": \"scattergeo\"}], \"scattergl\": [{\"marker\": {\"colorbar\": {\"outlinewidth\": 0, \"ticks\": \"\"}}, \"type\": \"scattergl\"}], \"scattermapbox\": [{\"marker\": {\"colorbar\": {\"outlinewidth\": 0, \"ticks\": \"\"}}, \"type\": \"scattermapbox\"}], \"scatterpolar\": [{\"marker\": {\"colorbar\": {\"outlinewidth\": 0, \"ticks\": \"\"}}, \"type\": \"scatterpolar\"}], \"scatterpolargl\": [{\"marker\": {\"colorbar\": {\"outlinewidth\": 0, \"ticks\": \"\"}}, \"type\": \"scatterpolargl\"}], \"scatterternary\": [{\"marker\": {\"colorbar\": {\"outlinewidth\": 0, \"ticks\": \"\"}}, \"type\": \"scatterternary\"}], \"surface\": [{\"colorbar\": {\"outlinewidth\": 0, \"ticks\": \"\"}, \"colorscale\": [[0.0, \"#0d0887\"], [0.1111111111111111, \"#46039f\"], [0.2222222222222222, \"#7201a8\"], [0.3333333333333333, \"#9c179e\"], [0.4444444444444444, \"#bd3786\"], [0.5555555555555556, \"#d8576b\"], [0.6666666666666666, \"#ed7953\"], [0.7777777777777778, \"#fb9f3a\"], [0.8888888888888888, \"#fdca26\"], [1.0, \"#f0f921\"]], \"type\": \"surface\"}], \"table\": [{\"cells\": {\"fill\": {\"color\": \"#EBF0F8\"}, \"line\": {\"color\": \"white\"}}, \"header\": {\"fill\": {\"color\": \"#C8D4E3\"}, \"line\": {\"color\": \"white\"}}, \"type\": \"table\"}]}, \"layout\": {\"annotationdefaults\": {\"arrowcolor\": \"#2a3f5f\", \"arrowhead\": 0, \"arrowwidth\": 1}, \"coloraxis\": {\"colorbar\": {\"outlinewidth\": 0, \"ticks\": \"\"}}, \"colorscale\": {\"diverging\": [[0, \"#8e0152\"], [0.1, \"#c51b7d\"], [0.2, \"#de77ae\"], [0.3, \"#f1b6da\"], [0.4, \"#fde0ef\"], [0.5, \"#f7f7f7\"], [0.6, \"#e6f5d0\"], [0.7, \"#b8e186\"], [0.8, \"#7fbc41\"], [0.9, \"#4d9221\"], [1, \"#276419\"]], \"sequential\": [[0.0, \"#0d0887\"], [0.1111111111111111, \"#46039f\"], [0.2222222222222222, \"#7201a8\"], [0.3333333333333333, \"#9c179e\"], [0.4444444444444444, \"#bd3786\"], [0.5555555555555556, \"#d8576b\"], [0.6666666666666666, \"#ed7953\"], [0.7777777777777778, \"#fb9f3a\"], [0.8888888888888888, \"#fdca26\"], [1.0, \"#f0f921\"]], \"sequentialminus\": [[0.0, \"#0d0887\"], [0.1111111111111111, \"#46039f\"], [0.2222222222222222, \"#7201a8\"], [0.3333333333333333, \"#9c179e\"], [0.4444444444444444, \"#bd3786\"], [0.5555555555555556, \"#d8576b\"], [0.6666666666666666, \"#ed7953\"], [0.7777777777777778, \"#fb9f3a\"], [0.8888888888888888, \"#fdca26\"], [1.0, \"#f0f921\"]]}, \"colorway\": [\"#636efa\", \"#EF553B\", \"#00cc96\", \"#ab63fa\", \"#FFA15A\", \"#19d3f3\", \"#FF6692\", \"#B6E880\", \"#FF97FF\", \"#FECB52\"], \"font\": {\"color\": \"#2a3f5f\"}, \"geo\": {\"bgcolor\": \"white\", \"lakecolor\": \"white\", \"landcolor\": \"#E5ECF6\", \"showlakes\": true, \"showland\": true, \"subunitcolor\": \"white\"}, \"hoverlabel\": {\"align\": \"left\"}, \"hovermode\": \"closest\", \"mapbox\": {\"style\": \"light\"}, \"paper_bgcolor\": \"white\", \"plot_bgcolor\": \"#E5ECF6\", \"polar\": {\"angularaxis\": {\"gridcolor\": \"white\", \"linecolor\": \"white\", \"ticks\": \"\"}, \"bgcolor\": \"#E5ECF6\", \"radialaxis\": {\"gridcolor\": \"white\", \"linecolor\": \"white\", \"ticks\": \"\"}}, \"scene\": {\"xaxis\": {\"backgroundcolor\": \"#E5ECF6\", \"gridcolor\": \"white\", \"gridwidth\": 2, \"linecolor\": \"white\", \"showbackground\": true, \"ticks\": \"\", \"zerolinecolor\": \"white\"}, \"yaxis\": {\"backgroundcolor\": \"#E5ECF6\", \"gridcolor\": \"white\", \"gridwidth\": 2, \"linecolor\": \"white\", \"showbackground\": true, \"ticks\": \"\", \"zerolinecolor\": \"white\"}, \"zaxis\": {\"backgroundcolor\": \"#E5ECF6\", \"gridcolor\": \"white\", \"gridwidth\": 2, \"linecolor\": \"white\", \"showbackground\": true, \"ticks\": \"\", \"zerolinecolor\": \"white\"}}, \"shapedefaults\": {\"line\": {\"color\": \"#2a3f5f\"}}, \"ternary\": {\"aaxis\": {\"gridcolor\": \"white\", \"linecolor\": \"white\", \"ticks\": \"\"}, \"baxis\": {\"gridcolor\": \"white\", \"linecolor\": \"white\", \"ticks\": \"\"}, \"bgcolor\": \"#E5ECF6\", \"caxis\": {\"gridcolor\": \"white\", \"linecolor\": \"white\", \"ticks\": \"\"}}, \"title\": {\"x\": 0.05}, \"xaxis\": {\"automargin\": true, \"gridcolor\": \"white\", \"linecolor\": \"white\", \"ticks\": \"\", \"title\": {\"standoff\": 15}, \"zerolinecolor\": \"white\", \"zerolinewidth\": 2}, \"yaxis\": {\"automargin\": true, \"gridcolor\": \"white\", \"linecolor\": \"white\", \"ticks\": \"\", \"title\": {\"standoff\": 15}, \"zerolinecolor\": \"white\", \"zerolinewidth\": 2}}}, \"title\": {\"font\": {\"color\": \"#D9D9D9\"}}, \"xaxis\": {\"gridcolor\": \"#434343\", \"showgrid\": true, \"tickfont\": {\"color\": \"#C2C2C2\"}, \"title\": {\"font\": {\"color\": \"#D9D9D9\"}, \"text\": \"\"}, \"zerolinecolor\": \"#666570\"}, \"yaxis\": {\"gridcolor\": \"#434343\", \"showgrid\": true, \"tickfont\": {\"color\": \"#C2C2C2\"}, \"title\": {\"font\": {\"color\": \"#D9D9D9\"}, \"text\": \"\"}, \"zerolinecolor\": \"#666570\"}},\n",
       "                        {\"showLink\": true, \"linkText\": \"Export to plot.ly\", \"plotlyServerURL\": \"https://plot.ly\", \"responsive\": true}\n",
       "                    ).then(function(){\n",
       "                            \n",
       "var gd = document.getElementById('6024834b-2c72-4838-8b44-fd7dfe5eedbd');\n",
       "var x = new MutationObserver(function (mutations, observer) {{\n",
       "        var display = window.getComputedStyle(gd).display;\n",
       "        if (!display || display === 'none') {{\n",
       "            console.log([gd, 'removed!']);\n",
       "            Plotly.purge(gd);\n",
       "            observer.disconnect();\n",
       "        }}\n",
       "}});\n",
       "\n",
       "// Listen for the removal of the full notebook cells\n",
       "var notebookContainer = gd.closest('#notebook-container');\n",
       "if (notebookContainer) {{\n",
       "    x.observe(notebookContainer, {childList: true});\n",
       "}}\n",
       "\n",
       "// Listen for the clearing of the current output cell\n",
       "var outputEl = gd.closest('.output');\n",
       "if (outputEl) {{\n",
       "    x.observe(outputEl, {childList: true});\n",
       "}}\n",
       "\n",
       "                        })\n",
       "                };\n",
       "                });\n",
       "            </script>\n",
       "        </div>"
      ]
     },
     "metadata": {},
     "output_type": "display_data"
    }
   ],
   "source": [
    "\n",
    "df.iplot(kind = 'bar', barmode=\"stacked\",bargap=0.5)"
   ]
  },
  {
   "cell_type": "code",
   "execution_count": 25,
   "metadata": {},
   "outputs": [
    {
     "data": {
      "application/vnd.plotly.v1+json": {
       "config": {
        "linkText": "Export to plot.ly",
        "plotlyServerURL": "https://plot.ly",
        "showLink": true
       },
       "data": [
        {
         "marker": {
          "color": "rgba(255, 153, 51, 0.6)",
          "line": {
           "color": "rgba(255, 153, 51, 1.0)",
           "width": 1
          }
         },
         "name": "A",
         "orientation": "h",
         "text": "",
         "type": "bar",
         "x": [
          20.12673138572275,
          19.80195418396253,
          18.702383202636394,
          18.57670519418266,
          18.62485456355262,
          15.888377483269213,
          17.719042122899776,
          18.561409778727725,
          18.052477283036907,
          18.60234653634774,
          19.475958793008964,
          19.280074979182626,
          18.258881376332667,
          18.59357209405077,
          17.17768051599905,
          17.38689495600998,
          16.96597300780234,
          16.67842019649132,
          15.701541554831323,
          15.769238949058472,
          16.164123718079537,
          17.29880988934266,
          17.425568908506648,
          16.972386780717773,
          17.227838598519764,
          18.683501417959963,
          18.757678447430152,
          20.107544435109535,
          21.20492708401242,
          22.066345127177105,
          23.18791512791598,
          22.717603456294757,
          23.527350701630596,
          22.539301592452393,
          23.1880591264918,
          23.245542416981113,
          23.13845003523375,
          22.638325213115188,
          22.74244221733351,
          24.31570712947231,
          22.915248706798764,
          21.68155606495358,
          22.723673745742133,
          20.944699477760693,
          20.78328459344449,
          20.55978680956105,
          20.445338429111636,
          20.470392880134554,
          20.08468756540696,
          21.090335225678032,
          21.718217625481792,
          20.479200570287794,
          21.298319794057093,
          20.752791183422897,
          19.428676861497184,
          19.661229688706133,
          18.270761520509737,
          19.743868174812793,
          18.81640400540149,
          19.296486613416008,
          19.92235420096989,
          19.198270069250295,
          18.220850504172972,
          17.516884743655755,
          17.230007477633894,
          16.572054523321295,
          16.049860417399277,
          15.954812219374158,
          16.06098557229929,
          16.271428701051082,
          17.059103728683905,
          16.081081953328756,
          17.075351855511226,
          17.48430503009457,
          17.787039710768447,
          19.149546139593976,
          19.91668352944465,
          19.447153936929826,
          18.756512108278574,
          18.18832556066939,
          20.080089225583162,
          21.517556950893237,
          22.405389159119277,
          20.978626939567675,
          21.525311990368714,
          21.141512267335518,
          21.807511793615568,
          23.40432619290601,
          23.245367624388575,
          24.425211475593507,
          25.581543570487334,
          25.532785703163235,
          26.80199399857818,
          27.177307422926084,
          27.21511329466845,
          25.697118226030575,
          25.440863455273774,
          25.47645805359717,
          24.712259750576276,
          21.81080189221602
         ],
         "y": [
          0,
          1,
          2,
          3,
          4,
          5,
          6,
          7,
          8,
          9,
          10,
          11,
          12,
          13,
          14,
          15,
          16,
          17,
          18,
          19,
          20,
          21,
          22,
          23,
          24,
          25,
          26,
          27,
          28,
          29,
          30,
          31,
          32,
          33,
          34,
          35,
          36,
          37,
          38,
          39,
          40,
          41,
          42,
          43,
          44,
          45,
          46,
          47,
          48,
          49,
          50,
          51,
          52,
          53,
          54,
          55,
          56,
          57,
          58,
          59,
          60,
          61,
          62,
          63,
          64,
          65,
          66,
          67,
          68,
          69,
          70,
          71,
          72,
          73,
          74,
          75,
          76,
          77,
          78,
          79,
          80,
          81,
          82,
          83,
          84,
          85,
          86,
          87,
          88,
          89,
          90,
          91,
          92,
          93,
          94,
          95,
          96,
          97,
          98,
          99
         ]
        },
        {
         "marker": {
          "color": "rgba(55, 128, 191, 0.6)",
          "line": {
           "color": "rgba(55, 128, 191, 1.0)",
           "width": 1
          }
         },
         "name": "B",
         "orientation": "h",
         "text": "",
         "type": "bar",
         "x": [
          20.206121037158105,
          19.01781859797179,
          18.30780042020633,
          18.071063213847257,
          17.100012325429255,
          17.107303129827823,
          16.764917562711176,
          15.640045467939379,
          17.695933255173806,
          17.734293642151467,
          16.243753122954473,
          16.56286759865563,
          17.507710542106786,
          18.19863703075929,
          17.772760978932812,
          17.357958704079564,
          17.007716877106652,
          16.364818054587445,
          17.102019815624914,
          17.22293334744017,
          15.821769360559612,
          17.21212378269066,
          16.519632073721915,
          16.60368867264581,
          14.900829675881072,
          14.374423984529678,
          12.517909316166605,
          12.43253703427564,
          14.030851296811688,
          14.475605606786708,
          15.075184083021952,
          13.283813146594671,
          12.516138538331905,
          13.967927609170186,
          13.520913372832409,
          14.8575015451753,
          14.550716577416637,
          13.381656651186445,
          12.563316716846147,
          12.89301739951992,
          13.104443641917626,
          13.850624457499588,
          15.658788272085554,
          15.45573184011344,
          16.212200445586326,
          16.401059068863272,
          16.394283213734813,
          15.099825410693779,
          14.73692029154644,
          16.207580606589044,
          16.34729811472022,
          15.866383429443939,
          16.245712181628438,
          16.15380126022748,
          15.48768531156141,
          16.00917383683585,
          16.954249426106696,
          16.627596878618206,
          17.723416272874143,
          16.961074831889825,
          15.311343694571297,
          15.383546520102772,
          14.767065823505796,
          13.564679116055856,
          13.614977814056122,
          11.595181912514771,
          10.995768774367631,
          11.56061734348809,
          11.160022619948544,
          12.1209417843227,
          10.4185276592045,
          9.283896899107656,
          11.174056586439539,
          10.491481944787445,
          11.074379528553731,
          9.141980272998474,
          9.753240259785954,
          8.949199649725664,
          9.761237182643567,
          9.464009595551648,
          10.19619020721401,
          10.224355819517621,
          10.405349020499976,
          11.278338246219281,
          10.147198463414645,
          10.658623454518128,
          11.429040339001158,
          12.460015130903741,
          14.104023610449095,
          14.806589392801929,
          14.538175008652164,
          13.780872924139594,
          14.540594281381157,
          13.737288726037498,
          15.225835399784117,
          14.58620117155541,
          14.563497411727855,
          13.267707410587587,
          13.359502049286007,
          11.907334734425925
         ],
         "y": [
          0,
          1,
          2,
          3,
          4,
          5,
          6,
          7,
          8,
          9,
          10,
          11,
          12,
          13,
          14,
          15,
          16,
          17,
          18,
          19,
          20,
          21,
          22,
          23,
          24,
          25,
          26,
          27,
          28,
          29,
          30,
          31,
          32,
          33,
          34,
          35,
          36,
          37,
          38,
          39,
          40,
          41,
          42,
          43,
          44,
          45,
          46,
          47,
          48,
          49,
          50,
          51,
          52,
          53,
          54,
          55,
          56,
          57,
          58,
          59,
          60,
          61,
          62,
          63,
          64,
          65,
          66,
          67,
          68,
          69,
          70,
          71,
          72,
          73,
          74,
          75,
          76,
          77,
          78,
          79,
          80,
          81,
          82,
          83,
          84,
          85,
          86,
          87,
          88,
          89,
          90,
          91,
          92,
          93,
          94,
          95,
          96,
          97,
          98,
          99
         ]
        },
        {
         "marker": {
          "color": "rgba(50, 171, 96, 0.6)",
          "line": {
           "color": "rgba(50, 171, 96, 1.0)",
           "width": 1
          }
         },
         "name": "C",
         "orientation": "h",
         "text": "",
         "type": "bar",
         "x": [
          21.239623840339867,
          21.40439317758355,
          21.898516189769587,
          23.519327603198363,
          22.8977970873766,
          23.589377322187516,
          23.4168215576739,
          24.009865670264226,
          26.70093212395011,
          27.035239553645688,
          29.83042536492254,
          29.567781170121293,
          29.361986840970445,
          29.937423421090465,
          28.939840744437944,
          29.707608148479245,
          29.311027705027193,
          29.86219726220982,
          29.213028166905428,
          28.597533553590665,
          29.706222719295646,
          28.83844834312108,
          30.20347069198084,
          29.685140102969797,
          30.622048751821104,
          30.214237487800304,
          30.939406963778374,
          32.02401716315499,
          31.351705926755507,
          30.39874143295256,
          29.11743710549207,
          30.512992749618377,
          31.99666659598317,
          32.16848395215419,
          30.08858770869149,
          29.024034365336348,
          29.05276387925338,
          29.809121969516625,
          29.99445587246887,
          28.722215870854896,
          28.741835304239316,
          29.31910669535921,
          28.535634850273162,
          28.048718726301583,
          27.564915187482384,
          26.937054810027924,
          26.110936018122032,
          26.99297732252122,
          27.768880506390857,
          27.333349936051714,
          27.982957922275162,
          27.61114274341387,
          28.610446545385756,
          28.445118103254416,
          28.26568498771322,
          29.687310227593805,
          28.900363930399024,
          28.21440967235464,
          28.787576988932656,
          28.606497958703603,
          28.64779988442315,
          29.38839357195829,
          30.71097046777221,
          30.997748127165593,
          29.45313026057451,
          31.250509119043897,
          30.367204917375034,
          31.095319714887278,
          32.49155564080165,
          30.420658217779064,
          30.037490055971958,
          29.314288830968792,
          29.87915024688827,
          28.09073591027291,
          28.957498109357385,
          29.244556158030576,
          28.10768015046407,
          26.495645012238185,
          28.342326797121117,
          28.433338899279814,
          29.14773633157547,
          30.154722663899356,
          28.731511228784264,
          29.859362157813862,
          30.157333407008085,
          31.61821440786112,
          32.87251854069244,
          33.81780520353123,
          34.70395054284689,
          34.554151638899555,
          34.496222172958156,
          33.852929589767186,
          32.7087044459407,
          31.44995560520543,
          33.11586449077559,
          34.31510637995867,
          33.948185709212794,
          32.6388682205883,
          33.499791778833114,
          32.48296325407913
         ],
         "y": [
          0,
          1,
          2,
          3,
          4,
          5,
          6,
          7,
          8,
          9,
          10,
          11,
          12,
          13,
          14,
          15,
          16,
          17,
          18,
          19,
          20,
          21,
          22,
          23,
          24,
          25,
          26,
          27,
          28,
          29,
          30,
          31,
          32,
          33,
          34,
          35,
          36,
          37,
          38,
          39,
          40,
          41,
          42,
          43,
          44,
          45,
          46,
          47,
          48,
          49,
          50,
          51,
          52,
          53,
          54,
          55,
          56,
          57,
          58,
          59,
          60,
          61,
          62,
          63,
          64,
          65,
          66,
          67,
          68,
          69,
          70,
          71,
          72,
          73,
          74,
          75,
          76,
          77,
          78,
          79,
          80,
          81,
          82,
          83,
          84,
          85,
          86,
          87,
          88,
          89,
          90,
          91,
          92,
          93,
          94,
          95,
          96,
          97,
          98,
          99
         ]
        }
       ],
       "layout": {
        "bargap": 0.5,
        "barmode": "stack",
        "legend": {
         "bgcolor": "#1A1A1C",
         "font": {
          "color": "#D9D9D9"
         },
         "traceorder": "normal"
        },
        "paper_bgcolor": "#1A1A1C",
        "plot_bgcolor": "#1A1A1C",
        "template": {
         "data": {
          "bar": [
           {
            "error_x": {
             "color": "#2a3f5f"
            },
            "error_y": {
             "color": "#2a3f5f"
            },
            "marker": {
             "line": {
              "color": "#E5ECF6",
              "width": 0.5
             }
            },
            "type": "bar"
           }
          ],
          "barpolar": [
           {
            "marker": {
             "line": {
              "color": "#E5ECF6",
              "width": 0.5
             }
            },
            "type": "barpolar"
           }
          ],
          "carpet": [
           {
            "aaxis": {
             "endlinecolor": "#2a3f5f",
             "gridcolor": "white",
             "linecolor": "white",
             "minorgridcolor": "white",
             "startlinecolor": "#2a3f5f"
            },
            "baxis": {
             "endlinecolor": "#2a3f5f",
             "gridcolor": "white",
             "linecolor": "white",
             "minorgridcolor": "white",
             "startlinecolor": "#2a3f5f"
            },
            "type": "carpet"
           }
          ],
          "choropleth": [
           {
            "colorbar": {
             "outlinewidth": 0,
             "ticks": ""
            },
            "type": "choropleth"
           }
          ],
          "contour": [
           {
            "colorbar": {
             "outlinewidth": 0,
             "ticks": ""
            },
            "colorscale": [
             [
              0,
              "#0d0887"
             ],
             [
              0.1111111111111111,
              "#46039f"
             ],
             [
              0.2222222222222222,
              "#7201a8"
             ],
             [
              0.3333333333333333,
              "#9c179e"
             ],
             [
              0.4444444444444444,
              "#bd3786"
             ],
             [
              0.5555555555555556,
              "#d8576b"
             ],
             [
              0.6666666666666666,
              "#ed7953"
             ],
             [
              0.7777777777777778,
              "#fb9f3a"
             ],
             [
              0.8888888888888888,
              "#fdca26"
             ],
             [
              1,
              "#f0f921"
             ]
            ],
            "type": "contour"
           }
          ],
          "contourcarpet": [
           {
            "colorbar": {
             "outlinewidth": 0,
             "ticks": ""
            },
            "type": "contourcarpet"
           }
          ],
          "heatmap": [
           {
            "colorbar": {
             "outlinewidth": 0,
             "ticks": ""
            },
            "colorscale": [
             [
              0,
              "#0d0887"
             ],
             [
              0.1111111111111111,
              "#46039f"
             ],
             [
              0.2222222222222222,
              "#7201a8"
             ],
             [
              0.3333333333333333,
              "#9c179e"
             ],
             [
              0.4444444444444444,
              "#bd3786"
             ],
             [
              0.5555555555555556,
              "#d8576b"
             ],
             [
              0.6666666666666666,
              "#ed7953"
             ],
             [
              0.7777777777777778,
              "#fb9f3a"
             ],
             [
              0.8888888888888888,
              "#fdca26"
             ],
             [
              1,
              "#f0f921"
             ]
            ],
            "type": "heatmap"
           }
          ],
          "heatmapgl": [
           {
            "colorbar": {
             "outlinewidth": 0,
             "ticks": ""
            },
            "colorscale": [
             [
              0,
              "#0d0887"
             ],
             [
              0.1111111111111111,
              "#46039f"
             ],
             [
              0.2222222222222222,
              "#7201a8"
             ],
             [
              0.3333333333333333,
              "#9c179e"
             ],
             [
              0.4444444444444444,
              "#bd3786"
             ],
             [
              0.5555555555555556,
              "#d8576b"
             ],
             [
              0.6666666666666666,
              "#ed7953"
             ],
             [
              0.7777777777777778,
              "#fb9f3a"
             ],
             [
              0.8888888888888888,
              "#fdca26"
             ],
             [
              1,
              "#f0f921"
             ]
            ],
            "type": "heatmapgl"
           }
          ],
          "histogram": [
           {
            "marker": {
             "colorbar": {
              "outlinewidth": 0,
              "ticks": ""
             }
            },
            "type": "histogram"
           }
          ],
          "histogram2d": [
           {
            "colorbar": {
             "outlinewidth": 0,
             "ticks": ""
            },
            "colorscale": [
             [
              0,
              "#0d0887"
             ],
             [
              0.1111111111111111,
              "#46039f"
             ],
             [
              0.2222222222222222,
              "#7201a8"
             ],
             [
              0.3333333333333333,
              "#9c179e"
             ],
             [
              0.4444444444444444,
              "#bd3786"
             ],
             [
              0.5555555555555556,
              "#d8576b"
             ],
             [
              0.6666666666666666,
              "#ed7953"
             ],
             [
              0.7777777777777778,
              "#fb9f3a"
             ],
             [
              0.8888888888888888,
              "#fdca26"
             ],
             [
              1,
              "#f0f921"
             ]
            ],
            "type": "histogram2d"
           }
          ],
          "histogram2dcontour": [
           {
            "colorbar": {
             "outlinewidth": 0,
             "ticks": ""
            },
            "colorscale": [
             [
              0,
              "#0d0887"
             ],
             [
              0.1111111111111111,
              "#46039f"
             ],
             [
              0.2222222222222222,
              "#7201a8"
             ],
             [
              0.3333333333333333,
              "#9c179e"
             ],
             [
              0.4444444444444444,
              "#bd3786"
             ],
             [
              0.5555555555555556,
              "#d8576b"
             ],
             [
              0.6666666666666666,
              "#ed7953"
             ],
             [
              0.7777777777777778,
              "#fb9f3a"
             ],
             [
              0.8888888888888888,
              "#fdca26"
             ],
             [
              1,
              "#f0f921"
             ]
            ],
            "type": "histogram2dcontour"
           }
          ],
          "mesh3d": [
           {
            "colorbar": {
             "outlinewidth": 0,
             "ticks": ""
            },
            "type": "mesh3d"
           }
          ],
          "parcoords": [
           {
            "line": {
             "colorbar": {
              "outlinewidth": 0,
              "ticks": ""
             }
            },
            "type": "parcoords"
           }
          ],
          "pie": [
           {
            "automargin": true,
            "type": "pie"
           }
          ],
          "scatter": [
           {
            "marker": {
             "colorbar": {
              "outlinewidth": 0,
              "ticks": ""
             }
            },
            "type": "scatter"
           }
          ],
          "scatter3d": [
           {
            "line": {
             "colorbar": {
              "outlinewidth": 0,
              "ticks": ""
             }
            },
            "marker": {
             "colorbar": {
              "outlinewidth": 0,
              "ticks": ""
             }
            },
            "type": "scatter3d"
           }
          ],
          "scattercarpet": [
           {
            "marker": {
             "colorbar": {
              "outlinewidth": 0,
              "ticks": ""
             }
            },
            "type": "scattercarpet"
           }
          ],
          "scattergeo": [
           {
            "marker": {
             "colorbar": {
              "outlinewidth": 0,
              "ticks": ""
             }
            },
            "type": "scattergeo"
           }
          ],
          "scattergl": [
           {
            "marker": {
             "colorbar": {
              "outlinewidth": 0,
              "ticks": ""
             }
            },
            "type": "scattergl"
           }
          ],
          "scattermapbox": [
           {
            "marker": {
             "colorbar": {
              "outlinewidth": 0,
              "ticks": ""
             }
            },
            "type": "scattermapbox"
           }
          ],
          "scatterpolar": [
           {
            "marker": {
             "colorbar": {
              "outlinewidth": 0,
              "ticks": ""
             }
            },
            "type": "scatterpolar"
           }
          ],
          "scatterpolargl": [
           {
            "marker": {
             "colorbar": {
              "outlinewidth": 0,
              "ticks": ""
             }
            },
            "type": "scatterpolargl"
           }
          ],
          "scatterternary": [
           {
            "marker": {
             "colorbar": {
              "outlinewidth": 0,
              "ticks": ""
             }
            },
            "type": "scatterternary"
           }
          ],
          "surface": [
           {
            "colorbar": {
             "outlinewidth": 0,
             "ticks": ""
            },
            "colorscale": [
             [
              0,
              "#0d0887"
             ],
             [
              0.1111111111111111,
              "#46039f"
             ],
             [
              0.2222222222222222,
              "#7201a8"
             ],
             [
              0.3333333333333333,
              "#9c179e"
             ],
             [
              0.4444444444444444,
              "#bd3786"
             ],
             [
              0.5555555555555556,
              "#d8576b"
             ],
             [
              0.6666666666666666,
              "#ed7953"
             ],
             [
              0.7777777777777778,
              "#fb9f3a"
             ],
             [
              0.8888888888888888,
              "#fdca26"
             ],
             [
              1,
              "#f0f921"
             ]
            ],
            "type": "surface"
           }
          ],
          "table": [
           {
            "cells": {
             "fill": {
              "color": "#EBF0F8"
             },
             "line": {
              "color": "white"
             }
            },
            "header": {
             "fill": {
              "color": "#C8D4E3"
             },
             "line": {
              "color": "white"
             }
            },
            "type": "table"
           }
          ]
         },
         "layout": {
          "annotationdefaults": {
           "arrowcolor": "#2a3f5f",
           "arrowhead": 0,
           "arrowwidth": 1
          },
          "coloraxis": {
           "colorbar": {
            "outlinewidth": 0,
            "ticks": ""
           }
          },
          "colorscale": {
           "diverging": [
            [
             0,
             "#8e0152"
            ],
            [
             0.1,
             "#c51b7d"
            ],
            [
             0.2,
             "#de77ae"
            ],
            [
             0.3,
             "#f1b6da"
            ],
            [
             0.4,
             "#fde0ef"
            ],
            [
             0.5,
             "#f7f7f7"
            ],
            [
             0.6,
             "#e6f5d0"
            ],
            [
             0.7,
             "#b8e186"
            ],
            [
             0.8,
             "#7fbc41"
            ],
            [
             0.9,
             "#4d9221"
            ],
            [
             1,
             "#276419"
            ]
           ],
           "sequential": [
            [
             0,
             "#0d0887"
            ],
            [
             0.1111111111111111,
             "#46039f"
            ],
            [
             0.2222222222222222,
             "#7201a8"
            ],
            [
             0.3333333333333333,
             "#9c179e"
            ],
            [
             0.4444444444444444,
             "#bd3786"
            ],
            [
             0.5555555555555556,
             "#d8576b"
            ],
            [
             0.6666666666666666,
             "#ed7953"
            ],
            [
             0.7777777777777778,
             "#fb9f3a"
            ],
            [
             0.8888888888888888,
             "#fdca26"
            ],
            [
             1,
             "#f0f921"
            ]
           ],
           "sequentialminus": [
            [
             0,
             "#0d0887"
            ],
            [
             0.1111111111111111,
             "#46039f"
            ],
            [
             0.2222222222222222,
             "#7201a8"
            ],
            [
             0.3333333333333333,
             "#9c179e"
            ],
            [
             0.4444444444444444,
             "#bd3786"
            ],
            [
             0.5555555555555556,
             "#d8576b"
            ],
            [
             0.6666666666666666,
             "#ed7953"
            ],
            [
             0.7777777777777778,
             "#fb9f3a"
            ],
            [
             0.8888888888888888,
             "#fdca26"
            ],
            [
             1,
             "#f0f921"
            ]
           ]
          },
          "colorway": [
           "#636efa",
           "#EF553B",
           "#00cc96",
           "#ab63fa",
           "#FFA15A",
           "#19d3f3",
           "#FF6692",
           "#B6E880",
           "#FF97FF",
           "#FECB52"
          ],
          "font": {
           "color": "#2a3f5f"
          },
          "geo": {
           "bgcolor": "white",
           "lakecolor": "white",
           "landcolor": "#E5ECF6",
           "showlakes": true,
           "showland": true,
           "subunitcolor": "white"
          },
          "hoverlabel": {
           "align": "left"
          },
          "hovermode": "closest",
          "mapbox": {
           "style": "light"
          },
          "paper_bgcolor": "white",
          "plot_bgcolor": "#E5ECF6",
          "polar": {
           "angularaxis": {
            "gridcolor": "white",
            "linecolor": "white",
            "ticks": ""
           },
           "bgcolor": "#E5ECF6",
           "radialaxis": {
            "gridcolor": "white",
            "linecolor": "white",
            "ticks": ""
           }
          },
          "scene": {
           "xaxis": {
            "backgroundcolor": "#E5ECF6",
            "gridcolor": "white",
            "gridwidth": 2,
            "linecolor": "white",
            "showbackground": true,
            "ticks": "",
            "zerolinecolor": "white"
           },
           "yaxis": {
            "backgroundcolor": "#E5ECF6",
            "gridcolor": "white",
            "gridwidth": 2,
            "linecolor": "white",
            "showbackground": true,
            "ticks": "",
            "zerolinecolor": "white"
           },
           "zaxis": {
            "backgroundcolor": "#E5ECF6",
            "gridcolor": "white",
            "gridwidth": 2,
            "linecolor": "white",
            "showbackground": true,
            "ticks": "",
            "zerolinecolor": "white"
           }
          },
          "shapedefaults": {
           "line": {
            "color": "#2a3f5f"
           }
          },
          "ternary": {
           "aaxis": {
            "gridcolor": "white",
            "linecolor": "white",
            "ticks": ""
           },
           "baxis": {
            "gridcolor": "white",
            "linecolor": "white",
            "ticks": ""
           },
           "bgcolor": "#E5ECF6",
           "caxis": {
            "gridcolor": "white",
            "linecolor": "white",
            "ticks": ""
           }
          },
          "title": {
           "x": 0.05
          },
          "xaxis": {
           "automargin": true,
           "gridcolor": "white",
           "linecolor": "white",
           "ticks": "",
           "title": {
            "standoff": 15
           },
           "zerolinecolor": "white",
           "zerolinewidth": 2
          },
          "yaxis": {
           "automargin": true,
           "gridcolor": "white",
           "linecolor": "white",
           "ticks": "",
           "title": {
            "standoff": 15
           },
           "zerolinecolor": "white",
           "zerolinewidth": 2
          }
         }
        },
        "title": {
         "font": {
          "color": "#D9D9D9"
         }
        },
        "xaxis": {
         "gridcolor": "#434343",
         "showgrid": true,
         "tickfont": {
          "color": "#C2C2C2"
         },
         "title": {
          "font": {
           "color": "#D9D9D9"
          },
          "text": ""
         },
         "zerolinecolor": "#666570"
        },
        "yaxis": {
         "gridcolor": "#434343",
         "showgrid": true,
         "tickfont": {
          "color": "#C2C2C2"
         },
         "title": {
          "font": {
           "color": "#D9D9D9"
          },
          "text": ""
         },
         "zerolinecolor": "#666570"
        }
       }
      },
      "text/html": [
       "<div>\n",
       "        \n",
       "        \n",
       "            <div id=\"b4db16bb-8e86-4d1f-ac17-3b8b976e2899\" class=\"plotly-graph-div\" style=\"height:525px; width:100%;\"></div>\n",
       "            <script type=\"text/javascript\">\n",
       "                require([\"plotly\"], function(Plotly) {\n",
       "                    window.PLOTLYENV=window.PLOTLYENV || {};\n",
       "                    window.PLOTLYENV.BASE_URL='https://plot.ly';\n",
       "                    \n",
       "                if (document.getElementById(\"b4db16bb-8e86-4d1f-ac17-3b8b976e2899\")) {\n",
       "                    Plotly.newPlot(\n",
       "                        'b4db16bb-8e86-4d1f-ac17-3b8b976e2899',\n",
       "                        [{\"marker\": {\"color\": \"rgba(255, 153, 51, 0.6)\", \"line\": {\"color\": \"rgba(255, 153, 51, 1.0)\", \"width\": 1}}, \"name\": \"A\", \"orientation\": \"h\", \"text\": \"\", \"type\": \"bar\", \"x\": [20.12673138572275, 19.80195418396253, 18.702383202636394, 18.57670519418266, 18.62485456355262, 15.888377483269213, 17.719042122899776, 18.561409778727725, 18.052477283036907, 18.60234653634774, 19.475958793008964, 19.280074979182626, 18.258881376332667, 18.59357209405077, 17.17768051599905, 17.38689495600998, 16.96597300780234, 16.67842019649132, 15.701541554831323, 15.769238949058472, 16.164123718079537, 17.29880988934266, 17.425568908506648, 16.972386780717773, 17.227838598519764, 18.683501417959963, 18.757678447430152, 20.107544435109535, 21.20492708401242, 22.066345127177105, 23.18791512791598, 22.717603456294757, 23.527350701630596, 22.539301592452393, 23.1880591264918, 23.245542416981113, 23.13845003523375, 22.638325213115188, 22.74244221733351, 24.31570712947231, 22.915248706798764, 21.68155606495358, 22.723673745742133, 20.944699477760693, 20.78328459344449, 20.55978680956105, 20.445338429111636, 20.470392880134554, 20.08468756540696, 21.090335225678032, 21.718217625481792, 20.479200570287794, 21.298319794057093, 20.752791183422897, 19.428676861497184, 19.661229688706133, 18.270761520509737, 19.743868174812793, 18.81640400540149, 19.296486613416008, 19.92235420096989, 19.198270069250295, 18.220850504172972, 17.516884743655755, 17.230007477633894, 16.572054523321295, 16.049860417399277, 15.954812219374158, 16.06098557229929, 16.271428701051082, 17.059103728683905, 16.081081953328756, 17.075351855511226, 17.48430503009457, 17.787039710768447, 19.149546139593976, 19.91668352944465, 19.447153936929826, 18.756512108278574, 18.18832556066939, 20.080089225583162, 21.517556950893237, 22.405389159119277, 20.978626939567675, 21.525311990368714, 21.141512267335518, 21.807511793615568, 23.40432619290601, 23.245367624388575, 24.425211475593507, 25.581543570487334, 25.532785703163235, 26.80199399857818, 27.177307422926084, 27.21511329466845, 25.697118226030575, 25.440863455273774, 25.47645805359717, 24.712259750576276, 21.81080189221602], \"y\": [0, 1, 2, 3, 4, 5, 6, 7, 8, 9, 10, 11, 12, 13, 14, 15, 16, 17, 18, 19, 20, 21, 22, 23, 24, 25, 26, 27, 28, 29, 30, 31, 32, 33, 34, 35, 36, 37, 38, 39, 40, 41, 42, 43, 44, 45, 46, 47, 48, 49, 50, 51, 52, 53, 54, 55, 56, 57, 58, 59, 60, 61, 62, 63, 64, 65, 66, 67, 68, 69, 70, 71, 72, 73, 74, 75, 76, 77, 78, 79, 80, 81, 82, 83, 84, 85, 86, 87, 88, 89, 90, 91, 92, 93, 94, 95, 96, 97, 98, 99]}, {\"marker\": {\"color\": \"rgba(55, 128, 191, 0.6)\", \"line\": {\"color\": \"rgba(55, 128, 191, 1.0)\", \"width\": 1}}, \"name\": \"B\", \"orientation\": \"h\", \"text\": \"\", \"type\": \"bar\", \"x\": [20.206121037158105, 19.01781859797179, 18.30780042020633, 18.071063213847257, 17.100012325429255, 17.107303129827823, 16.764917562711176, 15.640045467939379, 17.695933255173806, 17.734293642151467, 16.243753122954473, 16.56286759865563, 17.507710542106786, 18.19863703075929, 17.772760978932812, 17.357958704079564, 17.007716877106652, 16.364818054587445, 17.102019815624914, 17.22293334744017, 15.821769360559612, 17.21212378269066, 16.519632073721915, 16.60368867264581, 14.900829675881072, 14.374423984529678, 12.517909316166605, 12.43253703427564, 14.030851296811688, 14.475605606786708, 15.075184083021952, 13.283813146594671, 12.516138538331905, 13.967927609170186, 13.520913372832409, 14.8575015451753, 14.550716577416637, 13.381656651186445, 12.563316716846147, 12.89301739951992, 13.104443641917626, 13.850624457499588, 15.658788272085554, 15.45573184011344, 16.212200445586326, 16.401059068863272, 16.394283213734813, 15.099825410693779, 14.73692029154644, 16.207580606589044, 16.34729811472022, 15.866383429443939, 16.245712181628438, 16.15380126022748, 15.48768531156141, 16.00917383683585, 16.954249426106696, 16.627596878618206, 17.723416272874143, 16.961074831889825, 15.311343694571297, 15.383546520102772, 14.767065823505796, 13.564679116055856, 13.614977814056122, 11.595181912514771, 10.995768774367631, 11.56061734348809, 11.160022619948544, 12.1209417843227, 10.4185276592045, 9.283896899107656, 11.174056586439539, 10.491481944787445, 11.074379528553731, 9.141980272998474, 9.753240259785954, 8.949199649725664, 9.761237182643567, 9.464009595551648, 10.19619020721401, 10.224355819517621, 10.405349020499976, 11.278338246219281, 10.147198463414645, 10.658623454518128, 11.429040339001158, 12.460015130903741, 14.104023610449095, 14.806589392801929, 14.538175008652164, 13.780872924139594, 14.540594281381157, 13.737288726037498, 15.225835399784117, 14.58620117155541, 14.563497411727855, 13.267707410587587, 13.359502049286007, 11.907334734425925], \"y\": [0, 1, 2, 3, 4, 5, 6, 7, 8, 9, 10, 11, 12, 13, 14, 15, 16, 17, 18, 19, 20, 21, 22, 23, 24, 25, 26, 27, 28, 29, 30, 31, 32, 33, 34, 35, 36, 37, 38, 39, 40, 41, 42, 43, 44, 45, 46, 47, 48, 49, 50, 51, 52, 53, 54, 55, 56, 57, 58, 59, 60, 61, 62, 63, 64, 65, 66, 67, 68, 69, 70, 71, 72, 73, 74, 75, 76, 77, 78, 79, 80, 81, 82, 83, 84, 85, 86, 87, 88, 89, 90, 91, 92, 93, 94, 95, 96, 97, 98, 99]}, {\"marker\": {\"color\": \"rgba(50, 171, 96, 0.6)\", \"line\": {\"color\": \"rgba(50, 171, 96, 1.0)\", \"width\": 1}}, \"name\": \"C\", \"orientation\": \"h\", \"text\": \"\", \"type\": \"bar\", \"x\": [21.239623840339867, 21.40439317758355, 21.898516189769587, 23.519327603198363, 22.8977970873766, 23.589377322187516, 23.4168215576739, 24.009865670264226, 26.70093212395011, 27.035239553645688, 29.83042536492254, 29.567781170121293, 29.361986840970445, 29.937423421090465, 28.939840744437944, 29.707608148479245, 29.311027705027193, 29.86219726220982, 29.213028166905428, 28.597533553590665, 29.706222719295646, 28.83844834312108, 30.20347069198084, 29.685140102969797, 30.622048751821104, 30.214237487800304, 30.939406963778374, 32.02401716315499, 31.351705926755507, 30.39874143295256, 29.11743710549207, 30.512992749618377, 31.99666659598317, 32.16848395215419, 30.08858770869149, 29.024034365336348, 29.05276387925338, 29.809121969516625, 29.99445587246887, 28.722215870854896, 28.741835304239316, 29.31910669535921, 28.535634850273162, 28.048718726301583, 27.564915187482384, 26.937054810027924, 26.110936018122032, 26.99297732252122, 27.768880506390857, 27.333349936051714, 27.982957922275162, 27.61114274341387, 28.610446545385756, 28.445118103254416, 28.26568498771322, 29.687310227593805, 28.900363930399024, 28.21440967235464, 28.787576988932656, 28.606497958703603, 28.64779988442315, 29.38839357195829, 30.71097046777221, 30.997748127165593, 29.45313026057451, 31.250509119043897, 30.367204917375034, 31.095319714887278, 32.49155564080165, 30.420658217779064, 30.037490055971958, 29.314288830968792, 29.87915024688827, 28.09073591027291, 28.957498109357385, 29.244556158030576, 28.10768015046407, 26.495645012238185, 28.342326797121117, 28.433338899279814, 29.14773633157547, 30.154722663899356, 28.731511228784264, 29.859362157813862, 30.157333407008085, 31.61821440786112, 32.87251854069244, 33.81780520353123, 34.70395054284689, 34.554151638899555, 34.496222172958156, 33.852929589767186, 32.7087044459407, 31.44995560520543, 33.11586449077559, 34.31510637995867, 33.948185709212794, 32.6388682205883, 33.499791778833114, 32.48296325407913], \"y\": [0, 1, 2, 3, 4, 5, 6, 7, 8, 9, 10, 11, 12, 13, 14, 15, 16, 17, 18, 19, 20, 21, 22, 23, 24, 25, 26, 27, 28, 29, 30, 31, 32, 33, 34, 35, 36, 37, 38, 39, 40, 41, 42, 43, 44, 45, 46, 47, 48, 49, 50, 51, 52, 53, 54, 55, 56, 57, 58, 59, 60, 61, 62, 63, 64, 65, 66, 67, 68, 69, 70, 71, 72, 73, 74, 75, 76, 77, 78, 79, 80, 81, 82, 83, 84, 85, 86, 87, 88, 89, 90, 91, 92, 93, 94, 95, 96, 97, 98, 99]}],\n",
       "                        {\"bargap\": 0.5, \"barmode\": \"stack\", \"legend\": {\"bgcolor\": \"#1A1A1C\", \"font\": {\"color\": \"#D9D9D9\"}, \"traceorder\": \"normal\"}, \"paper_bgcolor\": \"#1A1A1C\", \"plot_bgcolor\": \"#1A1A1C\", \"template\": {\"data\": {\"bar\": [{\"error_x\": {\"color\": \"#2a3f5f\"}, \"error_y\": {\"color\": \"#2a3f5f\"}, \"marker\": {\"line\": {\"color\": \"#E5ECF6\", \"width\": 0.5}}, \"type\": \"bar\"}], \"barpolar\": [{\"marker\": {\"line\": {\"color\": \"#E5ECF6\", \"width\": 0.5}}, \"type\": \"barpolar\"}], \"carpet\": [{\"aaxis\": {\"endlinecolor\": \"#2a3f5f\", \"gridcolor\": \"white\", \"linecolor\": \"white\", \"minorgridcolor\": \"white\", \"startlinecolor\": \"#2a3f5f\"}, \"baxis\": {\"endlinecolor\": \"#2a3f5f\", \"gridcolor\": \"white\", \"linecolor\": \"white\", \"minorgridcolor\": \"white\", \"startlinecolor\": \"#2a3f5f\"}, \"type\": \"carpet\"}], \"choropleth\": [{\"colorbar\": {\"outlinewidth\": 0, \"ticks\": \"\"}, \"type\": \"choropleth\"}], \"contour\": [{\"colorbar\": {\"outlinewidth\": 0, \"ticks\": \"\"}, \"colorscale\": [[0.0, \"#0d0887\"], [0.1111111111111111, \"#46039f\"], [0.2222222222222222, \"#7201a8\"], [0.3333333333333333, \"#9c179e\"], [0.4444444444444444, \"#bd3786\"], [0.5555555555555556, \"#d8576b\"], [0.6666666666666666, \"#ed7953\"], [0.7777777777777778, \"#fb9f3a\"], [0.8888888888888888, \"#fdca26\"], [1.0, \"#f0f921\"]], \"type\": \"contour\"}], \"contourcarpet\": [{\"colorbar\": {\"outlinewidth\": 0, \"ticks\": \"\"}, \"type\": \"contourcarpet\"}], \"heatmap\": [{\"colorbar\": {\"outlinewidth\": 0, \"ticks\": \"\"}, \"colorscale\": [[0.0, \"#0d0887\"], [0.1111111111111111, \"#46039f\"], [0.2222222222222222, \"#7201a8\"], [0.3333333333333333, \"#9c179e\"], [0.4444444444444444, \"#bd3786\"], [0.5555555555555556, \"#d8576b\"], [0.6666666666666666, \"#ed7953\"], [0.7777777777777778, \"#fb9f3a\"], [0.8888888888888888, \"#fdca26\"], [1.0, \"#f0f921\"]], \"type\": \"heatmap\"}], \"heatmapgl\": [{\"colorbar\": {\"outlinewidth\": 0, \"ticks\": \"\"}, \"colorscale\": [[0.0, \"#0d0887\"], [0.1111111111111111, \"#46039f\"], [0.2222222222222222, \"#7201a8\"], [0.3333333333333333, \"#9c179e\"], [0.4444444444444444, \"#bd3786\"], [0.5555555555555556, \"#d8576b\"], [0.6666666666666666, \"#ed7953\"], [0.7777777777777778, \"#fb9f3a\"], [0.8888888888888888, \"#fdca26\"], [1.0, \"#f0f921\"]], \"type\": \"heatmapgl\"}], \"histogram\": [{\"marker\": {\"colorbar\": {\"outlinewidth\": 0, \"ticks\": \"\"}}, \"type\": \"histogram\"}], \"histogram2d\": [{\"colorbar\": {\"outlinewidth\": 0, \"ticks\": \"\"}, \"colorscale\": [[0.0, \"#0d0887\"], [0.1111111111111111, \"#46039f\"], [0.2222222222222222, \"#7201a8\"], [0.3333333333333333, \"#9c179e\"], [0.4444444444444444, \"#bd3786\"], [0.5555555555555556, \"#d8576b\"], [0.6666666666666666, \"#ed7953\"], [0.7777777777777778, \"#fb9f3a\"], [0.8888888888888888, \"#fdca26\"], [1.0, \"#f0f921\"]], \"type\": \"histogram2d\"}], \"histogram2dcontour\": [{\"colorbar\": {\"outlinewidth\": 0, \"ticks\": \"\"}, \"colorscale\": [[0.0, \"#0d0887\"], [0.1111111111111111, \"#46039f\"], [0.2222222222222222, \"#7201a8\"], [0.3333333333333333, \"#9c179e\"], [0.4444444444444444, \"#bd3786\"], [0.5555555555555556, \"#d8576b\"], [0.6666666666666666, \"#ed7953\"], [0.7777777777777778, \"#fb9f3a\"], [0.8888888888888888, \"#fdca26\"], [1.0, \"#f0f921\"]], \"type\": \"histogram2dcontour\"}], \"mesh3d\": [{\"colorbar\": {\"outlinewidth\": 0, \"ticks\": \"\"}, \"type\": \"mesh3d\"}], \"parcoords\": [{\"line\": {\"colorbar\": {\"outlinewidth\": 0, \"ticks\": \"\"}}, \"type\": \"parcoords\"}], \"pie\": [{\"automargin\": true, \"type\": \"pie\"}], \"scatter\": [{\"marker\": {\"colorbar\": {\"outlinewidth\": 0, \"ticks\": \"\"}}, \"type\": \"scatter\"}], \"scatter3d\": [{\"line\": {\"colorbar\": {\"outlinewidth\": 0, \"ticks\": \"\"}}, \"marker\": {\"colorbar\": {\"outlinewidth\": 0, \"ticks\": \"\"}}, \"type\": \"scatter3d\"}], \"scattercarpet\": [{\"marker\": {\"colorbar\": {\"outlinewidth\": 0, \"ticks\": \"\"}}, \"type\": \"scattercarpet\"}], \"scattergeo\": [{\"marker\": {\"colorbar\": {\"outlinewidth\": 0, \"ticks\": \"\"}}, \"type\": \"scattergeo\"}], \"scattergl\": [{\"marker\": {\"colorbar\": {\"outlinewidth\": 0, \"ticks\": \"\"}}, \"type\": \"scattergl\"}], \"scattermapbox\": [{\"marker\": {\"colorbar\": {\"outlinewidth\": 0, \"ticks\": \"\"}}, \"type\": \"scattermapbox\"}], \"scatterpolar\": [{\"marker\": {\"colorbar\": {\"outlinewidth\": 0, \"ticks\": \"\"}}, \"type\": \"scatterpolar\"}], \"scatterpolargl\": [{\"marker\": {\"colorbar\": {\"outlinewidth\": 0, \"ticks\": \"\"}}, \"type\": \"scatterpolargl\"}], \"scatterternary\": [{\"marker\": {\"colorbar\": {\"outlinewidth\": 0, \"ticks\": \"\"}}, \"type\": \"scatterternary\"}], \"surface\": [{\"colorbar\": {\"outlinewidth\": 0, \"ticks\": \"\"}, \"colorscale\": [[0.0, \"#0d0887\"], [0.1111111111111111, \"#46039f\"], [0.2222222222222222, \"#7201a8\"], [0.3333333333333333, \"#9c179e\"], [0.4444444444444444, \"#bd3786\"], [0.5555555555555556, \"#d8576b\"], [0.6666666666666666, \"#ed7953\"], [0.7777777777777778, \"#fb9f3a\"], [0.8888888888888888, \"#fdca26\"], [1.0, \"#f0f921\"]], \"type\": \"surface\"}], \"table\": [{\"cells\": {\"fill\": {\"color\": \"#EBF0F8\"}, \"line\": {\"color\": \"white\"}}, \"header\": {\"fill\": {\"color\": \"#C8D4E3\"}, \"line\": {\"color\": \"white\"}}, \"type\": \"table\"}]}, \"layout\": {\"annotationdefaults\": {\"arrowcolor\": \"#2a3f5f\", \"arrowhead\": 0, \"arrowwidth\": 1}, \"coloraxis\": {\"colorbar\": {\"outlinewidth\": 0, \"ticks\": \"\"}}, \"colorscale\": {\"diverging\": [[0, \"#8e0152\"], [0.1, \"#c51b7d\"], [0.2, \"#de77ae\"], [0.3, \"#f1b6da\"], [0.4, \"#fde0ef\"], [0.5, \"#f7f7f7\"], [0.6, \"#e6f5d0\"], [0.7, \"#b8e186\"], [0.8, \"#7fbc41\"], [0.9, \"#4d9221\"], [1, \"#276419\"]], \"sequential\": [[0.0, \"#0d0887\"], [0.1111111111111111, \"#46039f\"], [0.2222222222222222, \"#7201a8\"], [0.3333333333333333, \"#9c179e\"], [0.4444444444444444, \"#bd3786\"], [0.5555555555555556, \"#d8576b\"], [0.6666666666666666, \"#ed7953\"], [0.7777777777777778, \"#fb9f3a\"], [0.8888888888888888, \"#fdca26\"], [1.0, \"#f0f921\"]], \"sequentialminus\": [[0.0, \"#0d0887\"], [0.1111111111111111, \"#46039f\"], [0.2222222222222222, \"#7201a8\"], [0.3333333333333333, \"#9c179e\"], [0.4444444444444444, \"#bd3786\"], [0.5555555555555556, \"#d8576b\"], [0.6666666666666666, \"#ed7953\"], [0.7777777777777778, \"#fb9f3a\"], [0.8888888888888888, \"#fdca26\"], [1.0, \"#f0f921\"]]}, \"colorway\": [\"#636efa\", \"#EF553B\", \"#00cc96\", \"#ab63fa\", \"#FFA15A\", \"#19d3f3\", \"#FF6692\", \"#B6E880\", \"#FF97FF\", \"#FECB52\"], \"font\": {\"color\": \"#2a3f5f\"}, \"geo\": {\"bgcolor\": \"white\", \"lakecolor\": \"white\", \"landcolor\": \"#E5ECF6\", \"showlakes\": true, \"showland\": true, \"subunitcolor\": \"white\"}, \"hoverlabel\": {\"align\": \"left\"}, \"hovermode\": \"closest\", \"mapbox\": {\"style\": \"light\"}, \"paper_bgcolor\": \"white\", \"plot_bgcolor\": \"#E5ECF6\", \"polar\": {\"angularaxis\": {\"gridcolor\": \"white\", \"linecolor\": \"white\", \"ticks\": \"\"}, \"bgcolor\": \"#E5ECF6\", \"radialaxis\": {\"gridcolor\": \"white\", \"linecolor\": \"white\", \"ticks\": \"\"}}, \"scene\": {\"xaxis\": {\"backgroundcolor\": \"#E5ECF6\", \"gridcolor\": \"white\", \"gridwidth\": 2, \"linecolor\": \"white\", \"showbackground\": true, \"ticks\": \"\", \"zerolinecolor\": \"white\"}, \"yaxis\": {\"backgroundcolor\": \"#E5ECF6\", \"gridcolor\": \"white\", \"gridwidth\": 2, \"linecolor\": \"white\", \"showbackground\": true, \"ticks\": \"\", \"zerolinecolor\": \"white\"}, \"zaxis\": {\"backgroundcolor\": \"#E5ECF6\", \"gridcolor\": \"white\", \"gridwidth\": 2, \"linecolor\": \"white\", \"showbackground\": true, \"ticks\": \"\", \"zerolinecolor\": \"white\"}}, \"shapedefaults\": {\"line\": {\"color\": \"#2a3f5f\"}}, \"ternary\": {\"aaxis\": {\"gridcolor\": \"white\", \"linecolor\": \"white\", \"ticks\": \"\"}, \"baxis\": {\"gridcolor\": \"white\", \"linecolor\": \"white\", \"ticks\": \"\"}, \"bgcolor\": \"#E5ECF6\", \"caxis\": {\"gridcolor\": \"white\", \"linecolor\": \"white\", \"ticks\": \"\"}}, \"title\": {\"x\": 0.05}, \"xaxis\": {\"automargin\": true, \"gridcolor\": \"white\", \"linecolor\": \"white\", \"ticks\": \"\", \"title\": {\"standoff\": 15}, \"zerolinecolor\": \"white\", \"zerolinewidth\": 2}, \"yaxis\": {\"automargin\": true, \"gridcolor\": \"white\", \"linecolor\": \"white\", \"ticks\": \"\", \"title\": {\"standoff\": 15}, \"zerolinecolor\": \"white\", \"zerolinewidth\": 2}}}, \"title\": {\"font\": {\"color\": \"#D9D9D9\"}}, \"xaxis\": {\"gridcolor\": \"#434343\", \"showgrid\": true, \"tickfont\": {\"color\": \"#C2C2C2\"}, \"title\": {\"font\": {\"color\": \"#D9D9D9\"}, \"text\": \"\"}, \"zerolinecolor\": \"#666570\"}, \"yaxis\": {\"gridcolor\": \"#434343\", \"showgrid\": true, \"tickfont\": {\"color\": \"#C2C2C2\"}, \"title\": {\"font\": {\"color\": \"#D9D9D9\"}, \"text\": \"\"}, \"zerolinecolor\": \"#666570\"}},\n",
       "                        {\"showLink\": true, \"linkText\": \"Export to plot.ly\", \"plotlyServerURL\": \"https://plot.ly\", \"responsive\": true}\n",
       "                    ).then(function(){\n",
       "                            \n",
       "var gd = document.getElementById('b4db16bb-8e86-4d1f-ac17-3b8b976e2899');\n",
       "var x = new MutationObserver(function (mutations, observer) {{\n",
       "        var display = window.getComputedStyle(gd).display;\n",
       "        if (!display || display === 'none') {{\n",
       "            console.log([gd, 'removed!']);\n",
       "            Plotly.purge(gd);\n",
       "            observer.disconnect();\n",
       "        }}\n",
       "}});\n",
       "\n",
       "// Listen for the removal of the full notebook cells\n",
       "var notebookContainer = gd.closest('#notebook-container');\n",
       "if (notebookContainer) {{\n",
       "    x.observe(notebookContainer, {childList: true});\n",
       "}}\n",
       "\n",
       "// Listen for the clearing of the current output cell\n",
       "var outputEl = gd.closest('.output');\n",
       "if (outputEl) {{\n",
       "    x.observe(outputEl, {childList: true});\n",
       "}}\n",
       "\n",
       "                        })\n",
       "                };\n",
       "                });\n",
       "            </script>\n",
       "        </div>"
      ]
     },
     "metadata": {},
     "output_type": "display_data"
    }
   ],
   "source": [
    "df.iplot(kind = 'barh', barmode='stack', bargap=0.5)"
   ]
  },
  {
   "cell_type": "code",
   "execution_count": 26,
   "metadata": {},
   "outputs": [
    {
     "data": {
      "application/vnd.plotly.v1+json": {
       "config": {
        "linkText": "Export to plot.ly",
        "plotlyServerURL": "https://plot.ly",
        "showLink": true
       },
       "data": [
        {
         "boxpoints": false,
         "line": {
          "width": 1.3
         },
         "marker": {
          "color": "rgba(255, 153, 51, 1.0)"
         },
         "name": "A",
         "orientation": "v",
         "type": "box",
         "y": [
          20.12673138572275,
          19.80195418396253,
          18.702383202636394,
          18.57670519418266,
          18.62485456355262,
          15.888377483269213,
          17.719042122899776,
          18.561409778727725,
          18.052477283036907,
          18.60234653634774,
          19.475958793008964,
          19.280074979182626,
          18.258881376332667,
          18.59357209405077,
          17.17768051599905,
          17.38689495600998,
          16.96597300780234,
          16.67842019649132,
          15.701541554831323,
          15.769238949058472,
          16.164123718079537,
          17.29880988934266,
          17.425568908506648,
          16.972386780717773,
          17.227838598519764,
          18.683501417959963,
          18.757678447430152,
          20.107544435109535,
          21.20492708401242,
          22.066345127177105,
          23.18791512791598,
          22.717603456294757,
          23.527350701630596,
          22.539301592452393,
          23.1880591264918,
          23.245542416981113,
          23.13845003523375,
          22.638325213115188,
          22.74244221733351,
          24.31570712947231,
          22.915248706798764,
          21.68155606495358,
          22.723673745742133,
          20.944699477760693,
          20.78328459344449,
          20.55978680956105,
          20.445338429111636,
          20.470392880134554,
          20.08468756540696,
          21.090335225678032,
          21.718217625481792,
          20.479200570287794,
          21.298319794057093,
          20.752791183422897,
          19.428676861497184,
          19.661229688706133,
          18.270761520509737,
          19.743868174812793,
          18.81640400540149,
          19.296486613416008,
          19.92235420096989,
          19.198270069250295,
          18.220850504172972,
          17.516884743655755,
          17.230007477633894,
          16.572054523321295,
          16.049860417399277,
          15.954812219374158,
          16.06098557229929,
          16.271428701051082,
          17.059103728683905,
          16.081081953328756,
          17.075351855511226,
          17.48430503009457,
          17.787039710768447,
          19.149546139593976,
          19.91668352944465,
          19.447153936929826,
          18.756512108278574,
          18.18832556066939,
          20.080089225583162,
          21.517556950893237,
          22.405389159119277,
          20.978626939567675,
          21.525311990368714,
          21.141512267335518,
          21.807511793615568,
          23.40432619290601,
          23.245367624388575,
          24.425211475593507,
          25.581543570487334,
          25.532785703163235,
          26.80199399857818,
          27.177307422926084,
          27.21511329466845,
          25.697118226030575,
          25.440863455273774,
          25.47645805359717,
          24.712259750576276,
          21.81080189221602
         ]
        },
        {
         "boxpoints": false,
         "line": {
          "width": 1.3
         },
         "marker": {
          "color": "rgba(55, 128, 191, 1.0)"
         },
         "name": "B",
         "orientation": "v",
         "type": "box",
         "y": [
          20.206121037158105,
          19.01781859797179,
          18.30780042020633,
          18.071063213847257,
          17.100012325429255,
          17.107303129827823,
          16.764917562711176,
          15.640045467939379,
          17.695933255173806,
          17.734293642151467,
          16.243753122954473,
          16.56286759865563,
          17.507710542106786,
          18.19863703075929,
          17.772760978932812,
          17.357958704079564,
          17.007716877106652,
          16.364818054587445,
          17.102019815624914,
          17.22293334744017,
          15.821769360559612,
          17.21212378269066,
          16.519632073721915,
          16.60368867264581,
          14.900829675881072,
          14.374423984529678,
          12.517909316166605,
          12.43253703427564,
          14.030851296811688,
          14.475605606786708,
          15.075184083021952,
          13.283813146594671,
          12.516138538331905,
          13.967927609170186,
          13.520913372832409,
          14.8575015451753,
          14.550716577416637,
          13.381656651186445,
          12.563316716846147,
          12.89301739951992,
          13.104443641917626,
          13.850624457499588,
          15.658788272085554,
          15.45573184011344,
          16.212200445586326,
          16.401059068863272,
          16.394283213734813,
          15.099825410693779,
          14.73692029154644,
          16.207580606589044,
          16.34729811472022,
          15.866383429443939,
          16.245712181628438,
          16.15380126022748,
          15.48768531156141,
          16.00917383683585,
          16.954249426106696,
          16.627596878618206,
          17.723416272874143,
          16.961074831889825,
          15.311343694571297,
          15.383546520102772,
          14.767065823505796,
          13.564679116055856,
          13.614977814056122,
          11.595181912514771,
          10.995768774367631,
          11.56061734348809,
          11.160022619948544,
          12.1209417843227,
          10.4185276592045,
          9.283896899107656,
          11.174056586439539,
          10.491481944787445,
          11.074379528553731,
          9.141980272998474,
          9.753240259785954,
          8.949199649725664,
          9.761237182643567,
          9.464009595551648,
          10.19619020721401,
          10.224355819517621,
          10.405349020499976,
          11.278338246219281,
          10.147198463414645,
          10.658623454518128,
          11.429040339001158,
          12.460015130903741,
          14.104023610449095,
          14.806589392801929,
          14.538175008652164,
          13.780872924139594,
          14.540594281381157,
          13.737288726037498,
          15.225835399784117,
          14.58620117155541,
          14.563497411727855,
          13.267707410587587,
          13.359502049286007,
          11.907334734425925
         ]
        },
        {
         "boxpoints": false,
         "line": {
          "width": 1.3
         },
         "marker": {
          "color": "rgba(50, 171, 96, 1.0)"
         },
         "name": "C",
         "orientation": "v",
         "type": "box",
         "y": [
          21.239623840339867,
          21.40439317758355,
          21.898516189769587,
          23.519327603198363,
          22.8977970873766,
          23.589377322187516,
          23.4168215576739,
          24.009865670264226,
          26.70093212395011,
          27.035239553645688,
          29.83042536492254,
          29.567781170121293,
          29.361986840970445,
          29.937423421090465,
          28.939840744437944,
          29.707608148479245,
          29.311027705027193,
          29.86219726220982,
          29.213028166905428,
          28.597533553590665,
          29.706222719295646,
          28.83844834312108,
          30.20347069198084,
          29.685140102969797,
          30.622048751821104,
          30.214237487800304,
          30.939406963778374,
          32.02401716315499,
          31.351705926755507,
          30.39874143295256,
          29.11743710549207,
          30.512992749618377,
          31.99666659598317,
          32.16848395215419,
          30.08858770869149,
          29.024034365336348,
          29.05276387925338,
          29.809121969516625,
          29.99445587246887,
          28.722215870854896,
          28.741835304239316,
          29.31910669535921,
          28.535634850273162,
          28.048718726301583,
          27.564915187482384,
          26.937054810027924,
          26.110936018122032,
          26.99297732252122,
          27.768880506390857,
          27.333349936051714,
          27.982957922275162,
          27.61114274341387,
          28.610446545385756,
          28.445118103254416,
          28.26568498771322,
          29.687310227593805,
          28.900363930399024,
          28.21440967235464,
          28.787576988932656,
          28.606497958703603,
          28.64779988442315,
          29.38839357195829,
          30.71097046777221,
          30.997748127165593,
          29.45313026057451,
          31.250509119043897,
          30.367204917375034,
          31.095319714887278,
          32.49155564080165,
          30.420658217779064,
          30.037490055971958,
          29.314288830968792,
          29.87915024688827,
          28.09073591027291,
          28.957498109357385,
          29.244556158030576,
          28.10768015046407,
          26.495645012238185,
          28.342326797121117,
          28.433338899279814,
          29.14773633157547,
          30.154722663899356,
          28.731511228784264,
          29.859362157813862,
          30.157333407008085,
          31.61821440786112,
          32.87251854069244,
          33.81780520353123,
          34.70395054284689,
          34.554151638899555,
          34.496222172958156,
          33.852929589767186,
          32.7087044459407,
          31.44995560520543,
          33.11586449077559,
          34.31510637995867,
          33.948185709212794,
          32.6388682205883,
          33.499791778833114,
          32.48296325407913
         ]
        }
       ],
       "layout": {
        "legend": {
         "bgcolor": "#1A1A1C",
         "font": {
          "color": "#D9D9D9"
         }
        },
        "paper_bgcolor": "#1A1A1C",
        "plot_bgcolor": "#1A1A1C",
        "template": {
         "data": {
          "bar": [
           {
            "error_x": {
             "color": "#2a3f5f"
            },
            "error_y": {
             "color": "#2a3f5f"
            },
            "marker": {
             "line": {
              "color": "#E5ECF6",
              "width": 0.5
             }
            },
            "type": "bar"
           }
          ],
          "barpolar": [
           {
            "marker": {
             "line": {
              "color": "#E5ECF6",
              "width": 0.5
             }
            },
            "type": "barpolar"
           }
          ],
          "carpet": [
           {
            "aaxis": {
             "endlinecolor": "#2a3f5f",
             "gridcolor": "white",
             "linecolor": "white",
             "minorgridcolor": "white",
             "startlinecolor": "#2a3f5f"
            },
            "baxis": {
             "endlinecolor": "#2a3f5f",
             "gridcolor": "white",
             "linecolor": "white",
             "minorgridcolor": "white",
             "startlinecolor": "#2a3f5f"
            },
            "type": "carpet"
           }
          ],
          "choropleth": [
           {
            "colorbar": {
             "outlinewidth": 0,
             "ticks": ""
            },
            "type": "choropleth"
           }
          ],
          "contour": [
           {
            "colorbar": {
             "outlinewidth": 0,
             "ticks": ""
            },
            "colorscale": [
             [
              0,
              "#0d0887"
             ],
             [
              0.1111111111111111,
              "#46039f"
             ],
             [
              0.2222222222222222,
              "#7201a8"
             ],
             [
              0.3333333333333333,
              "#9c179e"
             ],
             [
              0.4444444444444444,
              "#bd3786"
             ],
             [
              0.5555555555555556,
              "#d8576b"
             ],
             [
              0.6666666666666666,
              "#ed7953"
             ],
             [
              0.7777777777777778,
              "#fb9f3a"
             ],
             [
              0.8888888888888888,
              "#fdca26"
             ],
             [
              1,
              "#f0f921"
             ]
            ],
            "type": "contour"
           }
          ],
          "contourcarpet": [
           {
            "colorbar": {
             "outlinewidth": 0,
             "ticks": ""
            },
            "type": "contourcarpet"
           }
          ],
          "heatmap": [
           {
            "colorbar": {
             "outlinewidth": 0,
             "ticks": ""
            },
            "colorscale": [
             [
              0,
              "#0d0887"
             ],
             [
              0.1111111111111111,
              "#46039f"
             ],
             [
              0.2222222222222222,
              "#7201a8"
             ],
             [
              0.3333333333333333,
              "#9c179e"
             ],
             [
              0.4444444444444444,
              "#bd3786"
             ],
             [
              0.5555555555555556,
              "#d8576b"
             ],
             [
              0.6666666666666666,
              "#ed7953"
             ],
             [
              0.7777777777777778,
              "#fb9f3a"
             ],
             [
              0.8888888888888888,
              "#fdca26"
             ],
             [
              1,
              "#f0f921"
             ]
            ],
            "type": "heatmap"
           }
          ],
          "heatmapgl": [
           {
            "colorbar": {
             "outlinewidth": 0,
             "ticks": ""
            },
            "colorscale": [
             [
              0,
              "#0d0887"
             ],
             [
              0.1111111111111111,
              "#46039f"
             ],
             [
              0.2222222222222222,
              "#7201a8"
             ],
             [
              0.3333333333333333,
              "#9c179e"
             ],
             [
              0.4444444444444444,
              "#bd3786"
             ],
             [
              0.5555555555555556,
              "#d8576b"
             ],
             [
              0.6666666666666666,
              "#ed7953"
             ],
             [
              0.7777777777777778,
              "#fb9f3a"
             ],
             [
              0.8888888888888888,
              "#fdca26"
             ],
             [
              1,
              "#f0f921"
             ]
            ],
            "type": "heatmapgl"
           }
          ],
          "histogram": [
           {
            "marker": {
             "colorbar": {
              "outlinewidth": 0,
              "ticks": ""
             }
            },
            "type": "histogram"
           }
          ],
          "histogram2d": [
           {
            "colorbar": {
             "outlinewidth": 0,
             "ticks": ""
            },
            "colorscale": [
             [
              0,
              "#0d0887"
             ],
             [
              0.1111111111111111,
              "#46039f"
             ],
             [
              0.2222222222222222,
              "#7201a8"
             ],
             [
              0.3333333333333333,
              "#9c179e"
             ],
             [
              0.4444444444444444,
              "#bd3786"
             ],
             [
              0.5555555555555556,
              "#d8576b"
             ],
             [
              0.6666666666666666,
              "#ed7953"
             ],
             [
              0.7777777777777778,
              "#fb9f3a"
             ],
             [
              0.8888888888888888,
              "#fdca26"
             ],
             [
              1,
              "#f0f921"
             ]
            ],
            "type": "histogram2d"
           }
          ],
          "histogram2dcontour": [
           {
            "colorbar": {
             "outlinewidth": 0,
             "ticks": ""
            },
            "colorscale": [
             [
              0,
              "#0d0887"
             ],
             [
              0.1111111111111111,
              "#46039f"
             ],
             [
              0.2222222222222222,
              "#7201a8"
             ],
             [
              0.3333333333333333,
              "#9c179e"
             ],
             [
              0.4444444444444444,
              "#bd3786"
             ],
             [
              0.5555555555555556,
              "#d8576b"
             ],
             [
              0.6666666666666666,
              "#ed7953"
             ],
             [
              0.7777777777777778,
              "#fb9f3a"
             ],
             [
              0.8888888888888888,
              "#fdca26"
             ],
             [
              1,
              "#f0f921"
             ]
            ],
            "type": "histogram2dcontour"
           }
          ],
          "mesh3d": [
           {
            "colorbar": {
             "outlinewidth": 0,
             "ticks": ""
            },
            "type": "mesh3d"
           }
          ],
          "parcoords": [
           {
            "line": {
             "colorbar": {
              "outlinewidth": 0,
              "ticks": ""
             }
            },
            "type": "parcoords"
           }
          ],
          "pie": [
           {
            "automargin": true,
            "type": "pie"
           }
          ],
          "scatter": [
           {
            "marker": {
             "colorbar": {
              "outlinewidth": 0,
              "ticks": ""
             }
            },
            "type": "scatter"
           }
          ],
          "scatter3d": [
           {
            "line": {
             "colorbar": {
              "outlinewidth": 0,
              "ticks": ""
             }
            },
            "marker": {
             "colorbar": {
              "outlinewidth": 0,
              "ticks": ""
             }
            },
            "type": "scatter3d"
           }
          ],
          "scattercarpet": [
           {
            "marker": {
             "colorbar": {
              "outlinewidth": 0,
              "ticks": ""
             }
            },
            "type": "scattercarpet"
           }
          ],
          "scattergeo": [
           {
            "marker": {
             "colorbar": {
              "outlinewidth": 0,
              "ticks": ""
             }
            },
            "type": "scattergeo"
           }
          ],
          "scattergl": [
           {
            "marker": {
             "colorbar": {
              "outlinewidth": 0,
              "ticks": ""
             }
            },
            "type": "scattergl"
           }
          ],
          "scattermapbox": [
           {
            "marker": {
             "colorbar": {
              "outlinewidth": 0,
              "ticks": ""
             }
            },
            "type": "scattermapbox"
           }
          ],
          "scatterpolar": [
           {
            "marker": {
             "colorbar": {
              "outlinewidth": 0,
              "ticks": ""
             }
            },
            "type": "scatterpolar"
           }
          ],
          "scatterpolargl": [
           {
            "marker": {
             "colorbar": {
              "outlinewidth": 0,
              "ticks": ""
             }
            },
            "type": "scatterpolargl"
           }
          ],
          "scatterternary": [
           {
            "marker": {
             "colorbar": {
              "outlinewidth": 0,
              "ticks": ""
             }
            },
            "type": "scatterternary"
           }
          ],
          "surface": [
           {
            "colorbar": {
             "outlinewidth": 0,
             "ticks": ""
            },
            "colorscale": [
             [
              0,
              "#0d0887"
             ],
             [
              0.1111111111111111,
              "#46039f"
             ],
             [
              0.2222222222222222,
              "#7201a8"
             ],
             [
              0.3333333333333333,
              "#9c179e"
             ],
             [
              0.4444444444444444,
              "#bd3786"
             ],
             [
              0.5555555555555556,
              "#d8576b"
             ],
             [
              0.6666666666666666,
              "#ed7953"
             ],
             [
              0.7777777777777778,
              "#fb9f3a"
             ],
             [
              0.8888888888888888,
              "#fdca26"
             ],
             [
              1,
              "#f0f921"
             ]
            ],
            "type": "surface"
           }
          ],
          "table": [
           {
            "cells": {
             "fill": {
              "color": "#EBF0F8"
             },
             "line": {
              "color": "white"
             }
            },
            "header": {
             "fill": {
              "color": "#C8D4E3"
             },
             "line": {
              "color": "white"
             }
            },
            "type": "table"
           }
          ]
         },
         "layout": {
          "annotationdefaults": {
           "arrowcolor": "#2a3f5f",
           "arrowhead": 0,
           "arrowwidth": 1
          },
          "coloraxis": {
           "colorbar": {
            "outlinewidth": 0,
            "ticks": ""
           }
          },
          "colorscale": {
           "diverging": [
            [
             0,
             "#8e0152"
            ],
            [
             0.1,
             "#c51b7d"
            ],
            [
             0.2,
             "#de77ae"
            ],
            [
             0.3,
             "#f1b6da"
            ],
            [
             0.4,
             "#fde0ef"
            ],
            [
             0.5,
             "#f7f7f7"
            ],
            [
             0.6,
             "#e6f5d0"
            ],
            [
             0.7,
             "#b8e186"
            ],
            [
             0.8,
             "#7fbc41"
            ],
            [
             0.9,
             "#4d9221"
            ],
            [
             1,
             "#276419"
            ]
           ],
           "sequential": [
            [
             0,
             "#0d0887"
            ],
            [
             0.1111111111111111,
             "#46039f"
            ],
            [
             0.2222222222222222,
             "#7201a8"
            ],
            [
             0.3333333333333333,
             "#9c179e"
            ],
            [
             0.4444444444444444,
             "#bd3786"
            ],
            [
             0.5555555555555556,
             "#d8576b"
            ],
            [
             0.6666666666666666,
             "#ed7953"
            ],
            [
             0.7777777777777778,
             "#fb9f3a"
            ],
            [
             0.8888888888888888,
             "#fdca26"
            ],
            [
             1,
             "#f0f921"
            ]
           ],
           "sequentialminus": [
            [
             0,
             "#0d0887"
            ],
            [
             0.1111111111111111,
             "#46039f"
            ],
            [
             0.2222222222222222,
             "#7201a8"
            ],
            [
             0.3333333333333333,
             "#9c179e"
            ],
            [
             0.4444444444444444,
             "#bd3786"
            ],
            [
             0.5555555555555556,
             "#d8576b"
            ],
            [
             0.6666666666666666,
             "#ed7953"
            ],
            [
             0.7777777777777778,
             "#fb9f3a"
            ],
            [
             0.8888888888888888,
             "#fdca26"
            ],
            [
             1,
             "#f0f921"
            ]
           ]
          },
          "colorway": [
           "#636efa",
           "#EF553B",
           "#00cc96",
           "#ab63fa",
           "#FFA15A",
           "#19d3f3",
           "#FF6692",
           "#B6E880",
           "#FF97FF",
           "#FECB52"
          ],
          "font": {
           "color": "#2a3f5f"
          },
          "geo": {
           "bgcolor": "white",
           "lakecolor": "white",
           "landcolor": "#E5ECF6",
           "showlakes": true,
           "showland": true,
           "subunitcolor": "white"
          },
          "hoverlabel": {
           "align": "left"
          },
          "hovermode": "closest",
          "mapbox": {
           "style": "light"
          },
          "paper_bgcolor": "white",
          "plot_bgcolor": "#E5ECF6",
          "polar": {
           "angularaxis": {
            "gridcolor": "white",
            "linecolor": "white",
            "ticks": ""
           },
           "bgcolor": "#E5ECF6",
           "radialaxis": {
            "gridcolor": "white",
            "linecolor": "white",
            "ticks": ""
           }
          },
          "scene": {
           "xaxis": {
            "backgroundcolor": "#E5ECF6",
            "gridcolor": "white",
            "gridwidth": 2,
            "linecolor": "white",
            "showbackground": true,
            "ticks": "",
            "zerolinecolor": "white"
           },
           "yaxis": {
            "backgroundcolor": "#E5ECF6",
            "gridcolor": "white",
            "gridwidth": 2,
            "linecolor": "white",
            "showbackground": true,
            "ticks": "",
            "zerolinecolor": "white"
           },
           "zaxis": {
            "backgroundcolor": "#E5ECF6",
            "gridcolor": "white",
            "gridwidth": 2,
            "linecolor": "white",
            "showbackground": true,
            "ticks": "",
            "zerolinecolor": "white"
           }
          },
          "shapedefaults": {
           "line": {
            "color": "#2a3f5f"
           }
          },
          "ternary": {
           "aaxis": {
            "gridcolor": "white",
            "linecolor": "white",
            "ticks": ""
           },
           "baxis": {
            "gridcolor": "white",
            "linecolor": "white",
            "ticks": ""
           },
           "bgcolor": "#E5ECF6",
           "caxis": {
            "gridcolor": "white",
            "linecolor": "white",
            "ticks": ""
           }
          },
          "title": {
           "x": 0.05
          },
          "xaxis": {
           "automargin": true,
           "gridcolor": "white",
           "linecolor": "white",
           "ticks": "",
           "title": {
            "standoff": 15
           },
           "zerolinecolor": "white",
           "zerolinewidth": 2
          },
          "yaxis": {
           "automargin": true,
           "gridcolor": "white",
           "linecolor": "white",
           "ticks": "",
           "title": {
            "standoff": 15
           },
           "zerolinecolor": "white",
           "zerolinewidth": 2
          }
         }
        },
        "title": {
         "font": {
          "color": "#D9D9D9"
         }
        },
        "xaxis": {
         "gridcolor": "#434343",
         "showgrid": true,
         "tickfont": {
          "color": "#C2C2C2"
         },
         "title": {
          "font": {
           "color": "#D9D9D9"
          },
          "text": ""
         },
         "zerolinecolor": "#666570"
        },
        "yaxis": {
         "gridcolor": "#434343",
         "showgrid": true,
         "tickfont": {
          "color": "#C2C2C2"
         },
         "title": {
          "font": {
           "color": "#D9D9D9"
          },
          "text": ""
         },
         "zerolinecolor": "#666570"
        }
       }
      },
      "text/html": [
       "<div>\n",
       "        \n",
       "        \n",
       "            <div id=\"d5efc2a7-43c6-40c6-a854-fb8442cefb37\" class=\"plotly-graph-div\" style=\"height:525px; width:100%;\"></div>\n",
       "            <script type=\"text/javascript\">\n",
       "                require([\"plotly\"], function(Plotly) {\n",
       "                    window.PLOTLYENV=window.PLOTLYENV || {};\n",
       "                    window.PLOTLYENV.BASE_URL='https://plot.ly';\n",
       "                    \n",
       "                if (document.getElementById(\"d5efc2a7-43c6-40c6-a854-fb8442cefb37\")) {\n",
       "                    Plotly.newPlot(\n",
       "                        'd5efc2a7-43c6-40c6-a854-fb8442cefb37',\n",
       "                        [{\"boxpoints\": false, \"line\": {\"width\": 1.3}, \"marker\": {\"color\": \"rgba(255, 153, 51, 1.0)\"}, \"name\": \"A\", \"orientation\": \"v\", \"type\": \"box\", \"y\": [20.12673138572275, 19.80195418396253, 18.702383202636394, 18.57670519418266, 18.62485456355262, 15.888377483269213, 17.719042122899776, 18.561409778727725, 18.052477283036907, 18.60234653634774, 19.475958793008964, 19.280074979182626, 18.258881376332667, 18.59357209405077, 17.17768051599905, 17.38689495600998, 16.96597300780234, 16.67842019649132, 15.701541554831323, 15.769238949058472, 16.164123718079537, 17.29880988934266, 17.425568908506648, 16.972386780717773, 17.227838598519764, 18.683501417959963, 18.757678447430152, 20.107544435109535, 21.20492708401242, 22.066345127177105, 23.18791512791598, 22.717603456294757, 23.527350701630596, 22.539301592452393, 23.1880591264918, 23.245542416981113, 23.13845003523375, 22.638325213115188, 22.74244221733351, 24.31570712947231, 22.915248706798764, 21.68155606495358, 22.723673745742133, 20.944699477760693, 20.78328459344449, 20.55978680956105, 20.445338429111636, 20.470392880134554, 20.08468756540696, 21.090335225678032, 21.718217625481792, 20.479200570287794, 21.298319794057093, 20.752791183422897, 19.428676861497184, 19.661229688706133, 18.270761520509737, 19.743868174812793, 18.81640400540149, 19.296486613416008, 19.92235420096989, 19.198270069250295, 18.220850504172972, 17.516884743655755, 17.230007477633894, 16.572054523321295, 16.049860417399277, 15.954812219374158, 16.06098557229929, 16.271428701051082, 17.059103728683905, 16.081081953328756, 17.075351855511226, 17.48430503009457, 17.787039710768447, 19.149546139593976, 19.91668352944465, 19.447153936929826, 18.756512108278574, 18.18832556066939, 20.080089225583162, 21.517556950893237, 22.405389159119277, 20.978626939567675, 21.525311990368714, 21.141512267335518, 21.807511793615568, 23.40432619290601, 23.245367624388575, 24.425211475593507, 25.581543570487334, 25.532785703163235, 26.80199399857818, 27.177307422926084, 27.21511329466845, 25.697118226030575, 25.440863455273774, 25.47645805359717, 24.712259750576276, 21.81080189221602]}, {\"boxpoints\": false, \"line\": {\"width\": 1.3}, \"marker\": {\"color\": \"rgba(55, 128, 191, 1.0)\"}, \"name\": \"B\", \"orientation\": \"v\", \"type\": \"box\", \"y\": [20.206121037158105, 19.01781859797179, 18.30780042020633, 18.071063213847257, 17.100012325429255, 17.107303129827823, 16.764917562711176, 15.640045467939379, 17.695933255173806, 17.734293642151467, 16.243753122954473, 16.56286759865563, 17.507710542106786, 18.19863703075929, 17.772760978932812, 17.357958704079564, 17.007716877106652, 16.364818054587445, 17.102019815624914, 17.22293334744017, 15.821769360559612, 17.21212378269066, 16.519632073721915, 16.60368867264581, 14.900829675881072, 14.374423984529678, 12.517909316166605, 12.43253703427564, 14.030851296811688, 14.475605606786708, 15.075184083021952, 13.283813146594671, 12.516138538331905, 13.967927609170186, 13.520913372832409, 14.8575015451753, 14.550716577416637, 13.381656651186445, 12.563316716846147, 12.89301739951992, 13.104443641917626, 13.850624457499588, 15.658788272085554, 15.45573184011344, 16.212200445586326, 16.401059068863272, 16.394283213734813, 15.099825410693779, 14.73692029154644, 16.207580606589044, 16.34729811472022, 15.866383429443939, 16.245712181628438, 16.15380126022748, 15.48768531156141, 16.00917383683585, 16.954249426106696, 16.627596878618206, 17.723416272874143, 16.961074831889825, 15.311343694571297, 15.383546520102772, 14.767065823505796, 13.564679116055856, 13.614977814056122, 11.595181912514771, 10.995768774367631, 11.56061734348809, 11.160022619948544, 12.1209417843227, 10.4185276592045, 9.283896899107656, 11.174056586439539, 10.491481944787445, 11.074379528553731, 9.141980272998474, 9.753240259785954, 8.949199649725664, 9.761237182643567, 9.464009595551648, 10.19619020721401, 10.224355819517621, 10.405349020499976, 11.278338246219281, 10.147198463414645, 10.658623454518128, 11.429040339001158, 12.460015130903741, 14.104023610449095, 14.806589392801929, 14.538175008652164, 13.780872924139594, 14.540594281381157, 13.737288726037498, 15.225835399784117, 14.58620117155541, 14.563497411727855, 13.267707410587587, 13.359502049286007, 11.907334734425925]}, {\"boxpoints\": false, \"line\": {\"width\": 1.3}, \"marker\": {\"color\": \"rgba(50, 171, 96, 1.0)\"}, \"name\": \"C\", \"orientation\": \"v\", \"type\": \"box\", \"y\": [21.239623840339867, 21.40439317758355, 21.898516189769587, 23.519327603198363, 22.8977970873766, 23.589377322187516, 23.4168215576739, 24.009865670264226, 26.70093212395011, 27.035239553645688, 29.83042536492254, 29.567781170121293, 29.361986840970445, 29.937423421090465, 28.939840744437944, 29.707608148479245, 29.311027705027193, 29.86219726220982, 29.213028166905428, 28.597533553590665, 29.706222719295646, 28.83844834312108, 30.20347069198084, 29.685140102969797, 30.622048751821104, 30.214237487800304, 30.939406963778374, 32.02401716315499, 31.351705926755507, 30.39874143295256, 29.11743710549207, 30.512992749618377, 31.99666659598317, 32.16848395215419, 30.08858770869149, 29.024034365336348, 29.05276387925338, 29.809121969516625, 29.99445587246887, 28.722215870854896, 28.741835304239316, 29.31910669535921, 28.535634850273162, 28.048718726301583, 27.564915187482384, 26.937054810027924, 26.110936018122032, 26.99297732252122, 27.768880506390857, 27.333349936051714, 27.982957922275162, 27.61114274341387, 28.610446545385756, 28.445118103254416, 28.26568498771322, 29.687310227593805, 28.900363930399024, 28.21440967235464, 28.787576988932656, 28.606497958703603, 28.64779988442315, 29.38839357195829, 30.71097046777221, 30.997748127165593, 29.45313026057451, 31.250509119043897, 30.367204917375034, 31.095319714887278, 32.49155564080165, 30.420658217779064, 30.037490055971958, 29.314288830968792, 29.87915024688827, 28.09073591027291, 28.957498109357385, 29.244556158030576, 28.10768015046407, 26.495645012238185, 28.342326797121117, 28.433338899279814, 29.14773633157547, 30.154722663899356, 28.731511228784264, 29.859362157813862, 30.157333407008085, 31.61821440786112, 32.87251854069244, 33.81780520353123, 34.70395054284689, 34.554151638899555, 34.496222172958156, 33.852929589767186, 32.7087044459407, 31.44995560520543, 33.11586449077559, 34.31510637995867, 33.948185709212794, 32.6388682205883, 33.499791778833114, 32.48296325407913]}],\n",
       "                        {\"legend\": {\"bgcolor\": \"#1A1A1C\", \"font\": {\"color\": \"#D9D9D9\"}}, \"paper_bgcolor\": \"#1A1A1C\", \"plot_bgcolor\": \"#1A1A1C\", \"template\": {\"data\": {\"bar\": [{\"error_x\": {\"color\": \"#2a3f5f\"}, \"error_y\": {\"color\": \"#2a3f5f\"}, \"marker\": {\"line\": {\"color\": \"#E5ECF6\", \"width\": 0.5}}, \"type\": \"bar\"}], \"barpolar\": [{\"marker\": {\"line\": {\"color\": \"#E5ECF6\", \"width\": 0.5}}, \"type\": \"barpolar\"}], \"carpet\": [{\"aaxis\": {\"endlinecolor\": \"#2a3f5f\", \"gridcolor\": \"white\", \"linecolor\": \"white\", \"minorgridcolor\": \"white\", \"startlinecolor\": \"#2a3f5f\"}, \"baxis\": {\"endlinecolor\": \"#2a3f5f\", \"gridcolor\": \"white\", \"linecolor\": \"white\", \"minorgridcolor\": \"white\", \"startlinecolor\": \"#2a3f5f\"}, \"type\": \"carpet\"}], \"choropleth\": [{\"colorbar\": {\"outlinewidth\": 0, \"ticks\": \"\"}, \"type\": \"choropleth\"}], \"contour\": [{\"colorbar\": {\"outlinewidth\": 0, \"ticks\": \"\"}, \"colorscale\": [[0.0, \"#0d0887\"], [0.1111111111111111, \"#46039f\"], [0.2222222222222222, \"#7201a8\"], [0.3333333333333333, \"#9c179e\"], [0.4444444444444444, \"#bd3786\"], [0.5555555555555556, \"#d8576b\"], [0.6666666666666666, \"#ed7953\"], [0.7777777777777778, \"#fb9f3a\"], [0.8888888888888888, \"#fdca26\"], [1.0, \"#f0f921\"]], \"type\": \"contour\"}], \"contourcarpet\": [{\"colorbar\": {\"outlinewidth\": 0, \"ticks\": \"\"}, \"type\": \"contourcarpet\"}], \"heatmap\": [{\"colorbar\": {\"outlinewidth\": 0, \"ticks\": \"\"}, \"colorscale\": [[0.0, \"#0d0887\"], [0.1111111111111111, \"#46039f\"], [0.2222222222222222, \"#7201a8\"], [0.3333333333333333, \"#9c179e\"], [0.4444444444444444, \"#bd3786\"], [0.5555555555555556, \"#d8576b\"], [0.6666666666666666, \"#ed7953\"], [0.7777777777777778, \"#fb9f3a\"], [0.8888888888888888, \"#fdca26\"], [1.0, \"#f0f921\"]], \"type\": \"heatmap\"}], \"heatmapgl\": [{\"colorbar\": {\"outlinewidth\": 0, \"ticks\": \"\"}, \"colorscale\": [[0.0, \"#0d0887\"], [0.1111111111111111, \"#46039f\"], [0.2222222222222222, \"#7201a8\"], [0.3333333333333333, \"#9c179e\"], [0.4444444444444444, \"#bd3786\"], [0.5555555555555556, \"#d8576b\"], [0.6666666666666666, \"#ed7953\"], [0.7777777777777778, \"#fb9f3a\"], [0.8888888888888888, \"#fdca26\"], [1.0, \"#f0f921\"]], \"type\": \"heatmapgl\"}], \"histogram\": [{\"marker\": {\"colorbar\": {\"outlinewidth\": 0, \"ticks\": \"\"}}, \"type\": \"histogram\"}], \"histogram2d\": [{\"colorbar\": {\"outlinewidth\": 0, \"ticks\": \"\"}, \"colorscale\": [[0.0, \"#0d0887\"], [0.1111111111111111, \"#46039f\"], [0.2222222222222222, \"#7201a8\"], [0.3333333333333333, \"#9c179e\"], [0.4444444444444444, \"#bd3786\"], [0.5555555555555556, \"#d8576b\"], [0.6666666666666666, \"#ed7953\"], [0.7777777777777778, \"#fb9f3a\"], [0.8888888888888888, \"#fdca26\"], [1.0, \"#f0f921\"]], \"type\": \"histogram2d\"}], \"histogram2dcontour\": [{\"colorbar\": {\"outlinewidth\": 0, \"ticks\": \"\"}, \"colorscale\": [[0.0, \"#0d0887\"], [0.1111111111111111, \"#46039f\"], [0.2222222222222222, \"#7201a8\"], [0.3333333333333333, \"#9c179e\"], [0.4444444444444444, \"#bd3786\"], [0.5555555555555556, \"#d8576b\"], [0.6666666666666666, \"#ed7953\"], [0.7777777777777778, \"#fb9f3a\"], [0.8888888888888888, \"#fdca26\"], [1.0, \"#f0f921\"]], \"type\": \"histogram2dcontour\"}], \"mesh3d\": [{\"colorbar\": {\"outlinewidth\": 0, \"ticks\": \"\"}, \"type\": \"mesh3d\"}], \"parcoords\": [{\"line\": {\"colorbar\": {\"outlinewidth\": 0, \"ticks\": \"\"}}, \"type\": \"parcoords\"}], \"pie\": [{\"automargin\": true, \"type\": \"pie\"}], \"scatter\": [{\"marker\": {\"colorbar\": {\"outlinewidth\": 0, \"ticks\": \"\"}}, \"type\": \"scatter\"}], \"scatter3d\": [{\"line\": {\"colorbar\": {\"outlinewidth\": 0, \"ticks\": \"\"}}, \"marker\": {\"colorbar\": {\"outlinewidth\": 0, \"ticks\": \"\"}}, \"type\": \"scatter3d\"}], \"scattercarpet\": [{\"marker\": {\"colorbar\": {\"outlinewidth\": 0, \"ticks\": \"\"}}, \"type\": \"scattercarpet\"}], \"scattergeo\": [{\"marker\": {\"colorbar\": {\"outlinewidth\": 0, \"ticks\": \"\"}}, \"type\": \"scattergeo\"}], \"scattergl\": [{\"marker\": {\"colorbar\": {\"outlinewidth\": 0, \"ticks\": \"\"}}, \"type\": \"scattergl\"}], \"scattermapbox\": [{\"marker\": {\"colorbar\": {\"outlinewidth\": 0, \"ticks\": \"\"}}, \"type\": \"scattermapbox\"}], \"scatterpolar\": [{\"marker\": {\"colorbar\": {\"outlinewidth\": 0, \"ticks\": \"\"}}, \"type\": \"scatterpolar\"}], \"scatterpolargl\": [{\"marker\": {\"colorbar\": {\"outlinewidth\": 0, \"ticks\": \"\"}}, \"type\": \"scatterpolargl\"}], \"scatterternary\": [{\"marker\": {\"colorbar\": {\"outlinewidth\": 0, \"ticks\": \"\"}}, \"type\": \"scatterternary\"}], \"surface\": [{\"colorbar\": {\"outlinewidth\": 0, \"ticks\": \"\"}, \"colorscale\": [[0.0, \"#0d0887\"], [0.1111111111111111, \"#46039f\"], [0.2222222222222222, \"#7201a8\"], [0.3333333333333333, \"#9c179e\"], [0.4444444444444444, \"#bd3786\"], [0.5555555555555556, \"#d8576b\"], [0.6666666666666666, \"#ed7953\"], [0.7777777777777778, \"#fb9f3a\"], [0.8888888888888888, \"#fdca26\"], [1.0, \"#f0f921\"]], \"type\": \"surface\"}], \"table\": [{\"cells\": {\"fill\": {\"color\": \"#EBF0F8\"}, \"line\": {\"color\": \"white\"}}, \"header\": {\"fill\": {\"color\": \"#C8D4E3\"}, \"line\": {\"color\": \"white\"}}, \"type\": \"table\"}]}, \"layout\": {\"annotationdefaults\": {\"arrowcolor\": \"#2a3f5f\", \"arrowhead\": 0, \"arrowwidth\": 1}, \"coloraxis\": {\"colorbar\": {\"outlinewidth\": 0, \"ticks\": \"\"}}, \"colorscale\": {\"diverging\": [[0, \"#8e0152\"], [0.1, \"#c51b7d\"], [0.2, \"#de77ae\"], [0.3, \"#f1b6da\"], [0.4, \"#fde0ef\"], [0.5, \"#f7f7f7\"], [0.6, \"#e6f5d0\"], [0.7, \"#b8e186\"], [0.8, \"#7fbc41\"], [0.9, \"#4d9221\"], [1, \"#276419\"]], \"sequential\": [[0.0, \"#0d0887\"], [0.1111111111111111, \"#46039f\"], [0.2222222222222222, \"#7201a8\"], [0.3333333333333333, \"#9c179e\"], [0.4444444444444444, \"#bd3786\"], [0.5555555555555556, \"#d8576b\"], [0.6666666666666666, \"#ed7953\"], [0.7777777777777778, \"#fb9f3a\"], [0.8888888888888888, \"#fdca26\"], [1.0, \"#f0f921\"]], \"sequentialminus\": [[0.0, \"#0d0887\"], [0.1111111111111111, \"#46039f\"], [0.2222222222222222, \"#7201a8\"], [0.3333333333333333, \"#9c179e\"], [0.4444444444444444, \"#bd3786\"], [0.5555555555555556, \"#d8576b\"], [0.6666666666666666, \"#ed7953\"], [0.7777777777777778, \"#fb9f3a\"], [0.8888888888888888, \"#fdca26\"], [1.0, \"#f0f921\"]]}, \"colorway\": [\"#636efa\", \"#EF553B\", \"#00cc96\", \"#ab63fa\", \"#FFA15A\", \"#19d3f3\", \"#FF6692\", \"#B6E880\", \"#FF97FF\", \"#FECB52\"], \"font\": {\"color\": \"#2a3f5f\"}, \"geo\": {\"bgcolor\": \"white\", \"lakecolor\": \"white\", \"landcolor\": \"#E5ECF6\", \"showlakes\": true, \"showland\": true, \"subunitcolor\": \"white\"}, \"hoverlabel\": {\"align\": \"left\"}, \"hovermode\": \"closest\", \"mapbox\": {\"style\": \"light\"}, \"paper_bgcolor\": \"white\", \"plot_bgcolor\": \"#E5ECF6\", \"polar\": {\"angularaxis\": {\"gridcolor\": \"white\", \"linecolor\": \"white\", \"ticks\": \"\"}, \"bgcolor\": \"#E5ECF6\", \"radialaxis\": {\"gridcolor\": \"white\", \"linecolor\": \"white\", \"ticks\": \"\"}}, \"scene\": {\"xaxis\": {\"backgroundcolor\": \"#E5ECF6\", \"gridcolor\": \"white\", \"gridwidth\": 2, \"linecolor\": \"white\", \"showbackground\": true, \"ticks\": \"\", \"zerolinecolor\": \"white\"}, \"yaxis\": {\"backgroundcolor\": \"#E5ECF6\", \"gridcolor\": \"white\", \"gridwidth\": 2, \"linecolor\": \"white\", \"showbackground\": true, \"ticks\": \"\", \"zerolinecolor\": \"white\"}, \"zaxis\": {\"backgroundcolor\": \"#E5ECF6\", \"gridcolor\": \"white\", \"gridwidth\": 2, \"linecolor\": \"white\", \"showbackground\": true, \"ticks\": \"\", \"zerolinecolor\": \"white\"}}, \"shapedefaults\": {\"line\": {\"color\": \"#2a3f5f\"}}, \"ternary\": {\"aaxis\": {\"gridcolor\": \"white\", \"linecolor\": \"white\", \"ticks\": \"\"}, \"baxis\": {\"gridcolor\": \"white\", \"linecolor\": \"white\", \"ticks\": \"\"}, \"bgcolor\": \"#E5ECF6\", \"caxis\": {\"gridcolor\": \"white\", \"linecolor\": \"white\", \"ticks\": \"\"}}, \"title\": {\"x\": 0.05}, \"xaxis\": {\"automargin\": true, \"gridcolor\": \"white\", \"linecolor\": \"white\", \"ticks\": \"\", \"title\": {\"standoff\": 15}, \"zerolinecolor\": \"white\", \"zerolinewidth\": 2}, \"yaxis\": {\"automargin\": true, \"gridcolor\": \"white\", \"linecolor\": \"white\", \"ticks\": \"\", \"title\": {\"standoff\": 15}, \"zerolinecolor\": \"white\", \"zerolinewidth\": 2}}}, \"title\": {\"font\": {\"color\": \"#D9D9D9\"}}, \"xaxis\": {\"gridcolor\": \"#434343\", \"showgrid\": true, \"tickfont\": {\"color\": \"#C2C2C2\"}, \"title\": {\"font\": {\"color\": \"#D9D9D9\"}, \"text\": \"\"}, \"zerolinecolor\": \"#666570\"}, \"yaxis\": {\"gridcolor\": \"#434343\", \"showgrid\": true, \"tickfont\": {\"color\": \"#C2C2C2\"}, \"title\": {\"font\": {\"color\": \"#D9D9D9\"}, \"text\": \"\"}, \"zerolinecolor\": \"#666570\"}},\n",
       "                        {\"showLink\": true, \"linkText\": \"Export to plot.ly\", \"plotlyServerURL\": \"https://plot.ly\", \"responsive\": true}\n",
       "                    ).then(function(){\n",
       "                            \n",
       "var gd = document.getElementById('d5efc2a7-43c6-40c6-a854-fb8442cefb37');\n",
       "var x = new MutationObserver(function (mutations, observer) {{\n",
       "        var display = window.getComputedStyle(gd).display;\n",
       "        if (!display || display === 'none') {{\n",
       "            console.log([gd, 'removed!']);\n",
       "            Plotly.purge(gd);\n",
       "            observer.disconnect();\n",
       "        }}\n",
       "}});\n",
       "\n",
       "// Listen for the removal of the full notebook cells\n",
       "var notebookContainer = gd.closest('#notebook-container');\n",
       "if (notebookContainer) {{\n",
       "    x.observe(notebookContainer, {childList: true});\n",
       "}}\n",
       "\n",
       "// Listen for the clearing of the current output cell\n",
       "var outputEl = gd.closest('.output');\n",
       "if (outputEl) {{\n",
       "    x.observe(outputEl, {childList: true});\n",
       "}}\n",
       "\n",
       "                        })\n",
       "                };\n",
       "                });\n",
       "            </script>\n",
       "        </div>"
      ]
     },
     "metadata": {},
     "output_type": "display_data"
    }
   ],
   "source": [
    "df.iplot(kind = 'box')"
   ]
  },
  {
   "cell_type": "code",
   "execution_count": 77,
   "metadata": {},
   "outputs": [
    {
     "data": {
      "text/html": [
       "<div>\n",
       "<style scoped>\n",
       "    .dataframe tbody tr th:only-of-type {\n",
       "        vertical-align: middle;\n",
       "    }\n",
       "\n",
       "    .dataframe tbody tr th {\n",
       "        vertical-align: top;\n",
       "    }\n",
       "\n",
       "    .dataframe thead th {\n",
       "        text-align: right;\n",
       "    }\n",
       "</style>\n",
       "<table border=\"1\" class=\"dataframe\">\n",
       "  <thead>\n",
       "    <tr style=\"text-align: right;\">\n",
       "      <th></th>\n",
       "      <th>X</th>\n",
       "      <th>Y</th>\n",
       "      <th>Z</th>\n",
       "    </tr>\n",
       "  </thead>\n",
       "  <tbody>\n",
       "    <tr>\n",
       "      <th>0</th>\n",
       "      <td>10</td>\n",
       "      <td>100</td>\n",
       "      <td>10</td>\n",
       "    </tr>\n",
       "    <tr>\n",
       "      <th>1</th>\n",
       "      <td>20</td>\n",
       "      <td>200</td>\n",
       "      <td>20</td>\n",
       "    </tr>\n",
       "    <tr>\n",
       "      <th>2</th>\n",
       "      <td>30</td>\n",
       "      <td>30</td>\n",
       "      <td>30</td>\n",
       "    </tr>\n",
       "    <tr>\n",
       "      <th>3</th>\n",
       "      <td>20</td>\n",
       "      <td>20</td>\n",
       "      <td>20</td>\n",
       "    </tr>\n",
       "    <tr>\n",
       "      <th>4</th>\n",
       "      <td>10</td>\n",
       "      <td>-10</td>\n",
       "      <td>10</td>\n",
       "    </tr>\n",
       "  </tbody>\n",
       "</table>\n",
       "</div>"
      ],
      "text/plain": [
       "    X    Y   Z\n",
       "0  10  100  10\n",
       "1  20  200  20\n",
       "2  30   30  30\n",
       "3  20   20  20\n",
       "4  10  -10  10"
      ]
     },
     "execution_count": 77,
     "metadata": {},
     "output_type": "execute_result"
    }
   ],
   "source": [
    "df3 = pd.DataFrame({'X': [10,20,30,20,10], 'Y': [100, 200, 30, 20, -10], 'Z': [10, 20, 30, 20, 10]})\n",
    "df3.head()"
   ]
  },
  {
   "cell_type": "code",
   "execution_count": 78,
   "metadata": {},
   "outputs": [
    {
     "data": {
      "application/vnd.plotly.v1+json": {
       "config": {
        "linkText": "Export to plot.ly",
        "plotlyServerURL": "https://plot.ly",
        "showLink": true
       },
       "data": [
        {
         "colorscale": [
          [
           0,
           "rgb(165,0,38)"
          ],
          [
           0.1,
           "rgb(215,48,39)"
          ],
          [
           0.2,
           "rgb(244,109,67)"
          ],
          [
           0.3,
           "rgb(253,174,97)"
          ],
          [
           0.4,
           "rgb(254,224,144)"
          ],
          [
           0.5,
           "rgb(255,255,191)"
          ],
          [
           0.6,
           "rgb(224,243,248)"
          ],
          [
           0.7,
           "rgb(171,217,233)"
          ],
          [
           0.8,
           "rgb(116,173,209)"
          ],
          [
           0.9,
           "rgb(69,117,180)"
          ],
          [
           1,
           "rgb(49,54,149)"
          ]
         ],
         "type": "surface",
         "x": [
          0,
          1,
          2,
          3,
          4
         ],
         "y": [
          "X",
          "Y",
          "Z"
         ],
         "z": [
          [
           10,
           20,
           30,
           20,
           10
          ],
          [
           100,
           200,
           30,
           20,
           -10
          ],
          [
           10,
           20,
           30,
           20,
           10
          ]
         ]
        }
       ],
       "layout": {
        "legend": {
         "bgcolor": "#1A1A1C",
         "font": {
          "color": "#D9D9D9"
         }
        },
        "paper_bgcolor": "#1A1A1C",
        "plot_bgcolor": "#1A1A1C",
        "template": {
         "data": {
          "bar": [
           {
            "error_x": {
             "color": "#2a3f5f"
            },
            "error_y": {
             "color": "#2a3f5f"
            },
            "marker": {
             "line": {
              "color": "#E5ECF6",
              "width": 0.5
             }
            },
            "type": "bar"
           }
          ],
          "barpolar": [
           {
            "marker": {
             "line": {
              "color": "#E5ECF6",
              "width": 0.5
             }
            },
            "type": "barpolar"
           }
          ],
          "carpet": [
           {
            "aaxis": {
             "endlinecolor": "#2a3f5f",
             "gridcolor": "white",
             "linecolor": "white",
             "minorgridcolor": "white",
             "startlinecolor": "#2a3f5f"
            },
            "baxis": {
             "endlinecolor": "#2a3f5f",
             "gridcolor": "white",
             "linecolor": "white",
             "minorgridcolor": "white",
             "startlinecolor": "#2a3f5f"
            },
            "type": "carpet"
           }
          ],
          "choropleth": [
           {
            "colorbar": {
             "outlinewidth": 0,
             "ticks": ""
            },
            "type": "choropleth"
           }
          ],
          "contour": [
           {
            "colorbar": {
             "outlinewidth": 0,
             "ticks": ""
            },
            "colorscale": [
             [
              0,
              "#0d0887"
             ],
             [
              0.1111111111111111,
              "#46039f"
             ],
             [
              0.2222222222222222,
              "#7201a8"
             ],
             [
              0.3333333333333333,
              "#9c179e"
             ],
             [
              0.4444444444444444,
              "#bd3786"
             ],
             [
              0.5555555555555556,
              "#d8576b"
             ],
             [
              0.6666666666666666,
              "#ed7953"
             ],
             [
              0.7777777777777778,
              "#fb9f3a"
             ],
             [
              0.8888888888888888,
              "#fdca26"
             ],
             [
              1,
              "#f0f921"
             ]
            ],
            "type": "contour"
           }
          ],
          "contourcarpet": [
           {
            "colorbar": {
             "outlinewidth": 0,
             "ticks": ""
            },
            "type": "contourcarpet"
           }
          ],
          "heatmap": [
           {
            "colorbar": {
             "outlinewidth": 0,
             "ticks": ""
            },
            "colorscale": [
             [
              0,
              "#0d0887"
             ],
             [
              0.1111111111111111,
              "#46039f"
             ],
             [
              0.2222222222222222,
              "#7201a8"
             ],
             [
              0.3333333333333333,
              "#9c179e"
             ],
             [
              0.4444444444444444,
              "#bd3786"
             ],
             [
              0.5555555555555556,
              "#d8576b"
             ],
             [
              0.6666666666666666,
              "#ed7953"
             ],
             [
              0.7777777777777778,
              "#fb9f3a"
             ],
             [
              0.8888888888888888,
              "#fdca26"
             ],
             [
              1,
              "#f0f921"
             ]
            ],
            "type": "heatmap"
           }
          ],
          "heatmapgl": [
           {
            "colorbar": {
             "outlinewidth": 0,
             "ticks": ""
            },
            "colorscale": [
             [
              0,
              "#0d0887"
             ],
             [
              0.1111111111111111,
              "#46039f"
             ],
             [
              0.2222222222222222,
              "#7201a8"
             ],
             [
              0.3333333333333333,
              "#9c179e"
             ],
             [
              0.4444444444444444,
              "#bd3786"
             ],
             [
              0.5555555555555556,
              "#d8576b"
             ],
             [
              0.6666666666666666,
              "#ed7953"
             ],
             [
              0.7777777777777778,
              "#fb9f3a"
             ],
             [
              0.8888888888888888,
              "#fdca26"
             ],
             [
              1,
              "#f0f921"
             ]
            ],
            "type": "heatmapgl"
           }
          ],
          "histogram": [
           {
            "marker": {
             "colorbar": {
              "outlinewidth": 0,
              "ticks": ""
             }
            },
            "type": "histogram"
           }
          ],
          "histogram2d": [
           {
            "colorbar": {
             "outlinewidth": 0,
             "ticks": ""
            },
            "colorscale": [
             [
              0,
              "#0d0887"
             ],
             [
              0.1111111111111111,
              "#46039f"
             ],
             [
              0.2222222222222222,
              "#7201a8"
             ],
             [
              0.3333333333333333,
              "#9c179e"
             ],
             [
              0.4444444444444444,
              "#bd3786"
             ],
             [
              0.5555555555555556,
              "#d8576b"
             ],
             [
              0.6666666666666666,
              "#ed7953"
             ],
             [
              0.7777777777777778,
              "#fb9f3a"
             ],
             [
              0.8888888888888888,
              "#fdca26"
             ],
             [
              1,
              "#f0f921"
             ]
            ],
            "type": "histogram2d"
           }
          ],
          "histogram2dcontour": [
           {
            "colorbar": {
             "outlinewidth": 0,
             "ticks": ""
            },
            "colorscale": [
             [
              0,
              "#0d0887"
             ],
             [
              0.1111111111111111,
              "#46039f"
             ],
             [
              0.2222222222222222,
              "#7201a8"
             ],
             [
              0.3333333333333333,
              "#9c179e"
             ],
             [
              0.4444444444444444,
              "#bd3786"
             ],
             [
              0.5555555555555556,
              "#d8576b"
             ],
             [
              0.6666666666666666,
              "#ed7953"
             ],
             [
              0.7777777777777778,
              "#fb9f3a"
             ],
             [
              0.8888888888888888,
              "#fdca26"
             ],
             [
              1,
              "#f0f921"
             ]
            ],
            "type": "histogram2dcontour"
           }
          ],
          "mesh3d": [
           {
            "colorbar": {
             "outlinewidth": 0,
             "ticks": ""
            },
            "type": "mesh3d"
           }
          ],
          "parcoords": [
           {
            "line": {
             "colorbar": {
              "outlinewidth": 0,
              "ticks": ""
             }
            },
            "type": "parcoords"
           }
          ],
          "pie": [
           {
            "automargin": true,
            "type": "pie"
           }
          ],
          "scatter": [
           {
            "marker": {
             "colorbar": {
              "outlinewidth": 0,
              "ticks": ""
             }
            },
            "type": "scatter"
           }
          ],
          "scatter3d": [
           {
            "line": {
             "colorbar": {
              "outlinewidth": 0,
              "ticks": ""
             }
            },
            "marker": {
             "colorbar": {
              "outlinewidth": 0,
              "ticks": ""
             }
            },
            "type": "scatter3d"
           }
          ],
          "scattercarpet": [
           {
            "marker": {
             "colorbar": {
              "outlinewidth": 0,
              "ticks": ""
             }
            },
            "type": "scattercarpet"
           }
          ],
          "scattergeo": [
           {
            "marker": {
             "colorbar": {
              "outlinewidth": 0,
              "ticks": ""
             }
            },
            "type": "scattergeo"
           }
          ],
          "scattergl": [
           {
            "marker": {
             "colorbar": {
              "outlinewidth": 0,
              "ticks": ""
             }
            },
            "type": "scattergl"
           }
          ],
          "scattermapbox": [
           {
            "marker": {
             "colorbar": {
              "outlinewidth": 0,
              "ticks": ""
             }
            },
            "type": "scattermapbox"
           }
          ],
          "scatterpolar": [
           {
            "marker": {
             "colorbar": {
              "outlinewidth": 0,
              "ticks": ""
             }
            },
            "type": "scatterpolar"
           }
          ],
          "scatterpolargl": [
           {
            "marker": {
             "colorbar": {
              "outlinewidth": 0,
              "ticks": ""
             }
            },
            "type": "scatterpolargl"
           }
          ],
          "scatterternary": [
           {
            "marker": {
             "colorbar": {
              "outlinewidth": 0,
              "ticks": ""
             }
            },
            "type": "scatterternary"
           }
          ],
          "surface": [
           {
            "colorbar": {
             "outlinewidth": 0,
             "ticks": ""
            },
            "colorscale": [
             [
              0,
              "#0d0887"
             ],
             [
              0.1111111111111111,
              "#46039f"
             ],
             [
              0.2222222222222222,
              "#7201a8"
             ],
             [
              0.3333333333333333,
              "#9c179e"
             ],
             [
              0.4444444444444444,
              "#bd3786"
             ],
             [
              0.5555555555555556,
              "#d8576b"
             ],
             [
              0.6666666666666666,
              "#ed7953"
             ],
             [
              0.7777777777777778,
              "#fb9f3a"
             ],
             [
              0.8888888888888888,
              "#fdca26"
             ],
             [
              1,
              "#f0f921"
             ]
            ],
            "type": "surface"
           }
          ],
          "table": [
           {
            "cells": {
             "fill": {
              "color": "#EBF0F8"
             },
             "line": {
              "color": "white"
             }
            },
            "header": {
             "fill": {
              "color": "#C8D4E3"
             },
             "line": {
              "color": "white"
             }
            },
            "type": "table"
           }
          ]
         },
         "layout": {
          "annotationdefaults": {
           "arrowcolor": "#2a3f5f",
           "arrowhead": 0,
           "arrowwidth": 1
          },
          "coloraxis": {
           "colorbar": {
            "outlinewidth": 0,
            "ticks": ""
           }
          },
          "colorscale": {
           "diverging": [
            [
             0,
             "#8e0152"
            ],
            [
             0.1,
             "#c51b7d"
            ],
            [
             0.2,
             "#de77ae"
            ],
            [
             0.3,
             "#f1b6da"
            ],
            [
             0.4,
             "#fde0ef"
            ],
            [
             0.5,
             "#f7f7f7"
            ],
            [
             0.6,
             "#e6f5d0"
            ],
            [
             0.7,
             "#b8e186"
            ],
            [
             0.8,
             "#7fbc41"
            ],
            [
             0.9,
             "#4d9221"
            ],
            [
             1,
             "#276419"
            ]
           ],
           "sequential": [
            [
             0,
             "#0d0887"
            ],
            [
             0.1111111111111111,
             "#46039f"
            ],
            [
             0.2222222222222222,
             "#7201a8"
            ],
            [
             0.3333333333333333,
             "#9c179e"
            ],
            [
             0.4444444444444444,
             "#bd3786"
            ],
            [
             0.5555555555555556,
             "#d8576b"
            ],
            [
             0.6666666666666666,
             "#ed7953"
            ],
            [
             0.7777777777777778,
             "#fb9f3a"
            ],
            [
             0.8888888888888888,
             "#fdca26"
            ],
            [
             1,
             "#f0f921"
            ]
           ],
           "sequentialminus": [
            [
             0,
             "#0d0887"
            ],
            [
             0.1111111111111111,
             "#46039f"
            ],
            [
             0.2222222222222222,
             "#7201a8"
            ],
            [
             0.3333333333333333,
             "#9c179e"
            ],
            [
             0.4444444444444444,
             "#bd3786"
            ],
            [
             0.5555555555555556,
             "#d8576b"
            ],
            [
             0.6666666666666666,
             "#ed7953"
            ],
            [
             0.7777777777777778,
             "#fb9f3a"
            ],
            [
             0.8888888888888888,
             "#fdca26"
            ],
            [
             1,
             "#f0f921"
            ]
           ]
          },
          "colorway": [
           "#636efa",
           "#EF553B",
           "#00cc96",
           "#ab63fa",
           "#FFA15A",
           "#19d3f3",
           "#FF6692",
           "#B6E880",
           "#FF97FF",
           "#FECB52"
          ],
          "font": {
           "color": "#2a3f5f"
          },
          "geo": {
           "bgcolor": "white",
           "lakecolor": "white",
           "landcolor": "#E5ECF6",
           "showlakes": true,
           "showland": true,
           "subunitcolor": "white"
          },
          "hoverlabel": {
           "align": "left"
          },
          "hovermode": "closest",
          "mapbox": {
           "style": "light"
          },
          "paper_bgcolor": "white",
          "plot_bgcolor": "#E5ECF6",
          "polar": {
           "angularaxis": {
            "gridcolor": "white",
            "linecolor": "white",
            "ticks": ""
           },
           "bgcolor": "#E5ECF6",
           "radialaxis": {
            "gridcolor": "white",
            "linecolor": "white",
            "ticks": ""
           }
          },
          "scene": {
           "xaxis": {
            "backgroundcolor": "#E5ECF6",
            "gridcolor": "white",
            "gridwidth": 2,
            "linecolor": "white",
            "showbackground": true,
            "ticks": "",
            "zerolinecolor": "white"
           },
           "yaxis": {
            "backgroundcolor": "#E5ECF6",
            "gridcolor": "white",
            "gridwidth": 2,
            "linecolor": "white",
            "showbackground": true,
            "ticks": "",
            "zerolinecolor": "white"
           },
           "zaxis": {
            "backgroundcolor": "#E5ECF6",
            "gridcolor": "white",
            "gridwidth": 2,
            "linecolor": "white",
            "showbackground": true,
            "ticks": "",
            "zerolinecolor": "white"
           }
          },
          "shapedefaults": {
           "line": {
            "color": "#2a3f5f"
           }
          },
          "ternary": {
           "aaxis": {
            "gridcolor": "white",
            "linecolor": "white",
            "ticks": ""
           },
           "baxis": {
            "gridcolor": "white",
            "linecolor": "white",
            "ticks": ""
           },
           "bgcolor": "#E5ECF6",
           "caxis": {
            "gridcolor": "white",
            "linecolor": "white",
            "ticks": ""
           }
          },
          "title": {
           "x": 0.05
          },
          "xaxis": {
           "automargin": true,
           "gridcolor": "white",
           "linecolor": "white",
           "ticks": "",
           "title": {
            "standoff": 15
           },
           "zerolinecolor": "white",
           "zerolinewidth": 2
          },
          "yaxis": {
           "automargin": true,
           "gridcolor": "white",
           "linecolor": "white",
           "ticks": "",
           "title": {
            "standoff": 15
           },
           "zerolinecolor": "white",
           "zerolinewidth": 2
          }
         }
        },
        "title": {
         "font": {
          "color": "#D9D9D9"
         }
        },
        "xaxis": {
         "gridcolor": "#434343",
         "showgrid": true,
         "tickfont": {
          "color": "#C2C2C2"
         },
         "title": {
          "font": {
           "color": "#D9D9D9"
          },
          "text": ""
         },
         "zerolinecolor": "#666570"
        },
        "yaxis": {
         "gridcolor": "#434343",
         "showgrid": true,
         "tickfont": {
          "color": "#C2C2C2"
         },
         "title": {
          "font": {
           "color": "#D9D9D9"
          },
          "text": ""
         },
         "zerolinecolor": "#666570"
        }
       }
      },
      "text/html": [
       "<div>\n",
       "        \n",
       "        \n",
       "            <div id=\"88273755-2b92-4be6-b1c4-0312979e7dec\" class=\"plotly-graph-div\" style=\"height:525px; width:100%;\"></div>\n",
       "            <script type=\"text/javascript\">\n",
       "                require([\"plotly\"], function(Plotly) {\n",
       "                    window.PLOTLYENV=window.PLOTLYENV || {};\n",
       "                    window.PLOTLYENV.BASE_URL='https://plot.ly';\n",
       "                    \n",
       "                if (document.getElementById(\"88273755-2b92-4be6-b1c4-0312979e7dec\")) {\n",
       "                    Plotly.newPlot(\n",
       "                        '88273755-2b92-4be6-b1c4-0312979e7dec',\n",
       "                        [{\"colorscale\": [[0.0, \"rgb(165,0,38)\"], [0.1, \"rgb(215,48,39)\"], [0.2, \"rgb(244,109,67)\"], [0.3, \"rgb(253,174,97)\"], [0.4, \"rgb(254,224,144)\"], [0.5, \"rgb(255,255,191)\"], [0.6, \"rgb(224,243,248)\"], [0.7, \"rgb(171,217,233)\"], [0.8, \"rgb(116,173,209)\"], [0.9, \"rgb(69,117,180)\"], [1.0, \"rgb(49,54,149)\"]], \"type\": \"surface\", \"x\": [0, 1, 2, 3, 4], \"y\": [\"X\", \"Y\", \"Z\"], \"z\": [[10, 20, 30, 20, 10], [100, 200, 30, 20, -10], [10, 20, 30, 20, 10]]}],\n",
       "                        {\"legend\": {\"bgcolor\": \"#1A1A1C\", \"font\": {\"color\": \"#D9D9D9\"}}, \"paper_bgcolor\": \"#1A1A1C\", \"plot_bgcolor\": \"#1A1A1C\", \"template\": {\"data\": {\"bar\": [{\"error_x\": {\"color\": \"#2a3f5f\"}, \"error_y\": {\"color\": \"#2a3f5f\"}, \"marker\": {\"line\": {\"color\": \"#E5ECF6\", \"width\": 0.5}}, \"type\": \"bar\"}], \"barpolar\": [{\"marker\": {\"line\": {\"color\": \"#E5ECF6\", \"width\": 0.5}}, \"type\": \"barpolar\"}], \"carpet\": [{\"aaxis\": {\"endlinecolor\": \"#2a3f5f\", \"gridcolor\": \"white\", \"linecolor\": \"white\", \"minorgridcolor\": \"white\", \"startlinecolor\": \"#2a3f5f\"}, \"baxis\": {\"endlinecolor\": \"#2a3f5f\", \"gridcolor\": \"white\", \"linecolor\": \"white\", \"minorgridcolor\": \"white\", \"startlinecolor\": \"#2a3f5f\"}, \"type\": \"carpet\"}], \"choropleth\": [{\"colorbar\": {\"outlinewidth\": 0, \"ticks\": \"\"}, \"type\": \"choropleth\"}], \"contour\": [{\"colorbar\": {\"outlinewidth\": 0, \"ticks\": \"\"}, \"colorscale\": [[0.0, \"#0d0887\"], [0.1111111111111111, \"#46039f\"], [0.2222222222222222, \"#7201a8\"], [0.3333333333333333, \"#9c179e\"], [0.4444444444444444, \"#bd3786\"], [0.5555555555555556, \"#d8576b\"], [0.6666666666666666, \"#ed7953\"], [0.7777777777777778, \"#fb9f3a\"], [0.8888888888888888, \"#fdca26\"], [1.0, \"#f0f921\"]], \"type\": \"contour\"}], \"contourcarpet\": [{\"colorbar\": {\"outlinewidth\": 0, \"ticks\": \"\"}, \"type\": \"contourcarpet\"}], \"heatmap\": [{\"colorbar\": {\"outlinewidth\": 0, \"ticks\": \"\"}, \"colorscale\": [[0.0, \"#0d0887\"], [0.1111111111111111, \"#46039f\"], [0.2222222222222222, \"#7201a8\"], [0.3333333333333333, \"#9c179e\"], [0.4444444444444444, \"#bd3786\"], [0.5555555555555556, \"#d8576b\"], [0.6666666666666666, \"#ed7953\"], [0.7777777777777778, \"#fb9f3a\"], [0.8888888888888888, \"#fdca26\"], [1.0, \"#f0f921\"]], \"type\": \"heatmap\"}], \"heatmapgl\": [{\"colorbar\": {\"outlinewidth\": 0, \"ticks\": \"\"}, \"colorscale\": [[0.0, \"#0d0887\"], [0.1111111111111111, \"#46039f\"], [0.2222222222222222, \"#7201a8\"], [0.3333333333333333, \"#9c179e\"], [0.4444444444444444, \"#bd3786\"], [0.5555555555555556, \"#d8576b\"], [0.6666666666666666, \"#ed7953\"], [0.7777777777777778, \"#fb9f3a\"], [0.8888888888888888, \"#fdca26\"], [1.0, \"#f0f921\"]], \"type\": \"heatmapgl\"}], \"histogram\": [{\"marker\": {\"colorbar\": {\"outlinewidth\": 0, \"ticks\": \"\"}}, \"type\": \"histogram\"}], \"histogram2d\": [{\"colorbar\": {\"outlinewidth\": 0, \"ticks\": \"\"}, \"colorscale\": [[0.0, \"#0d0887\"], [0.1111111111111111, \"#46039f\"], [0.2222222222222222, \"#7201a8\"], [0.3333333333333333, \"#9c179e\"], [0.4444444444444444, \"#bd3786\"], [0.5555555555555556, \"#d8576b\"], [0.6666666666666666, \"#ed7953\"], [0.7777777777777778, \"#fb9f3a\"], [0.8888888888888888, \"#fdca26\"], [1.0, \"#f0f921\"]], \"type\": \"histogram2d\"}], \"histogram2dcontour\": [{\"colorbar\": {\"outlinewidth\": 0, \"ticks\": \"\"}, \"colorscale\": [[0.0, \"#0d0887\"], [0.1111111111111111, \"#46039f\"], [0.2222222222222222, \"#7201a8\"], [0.3333333333333333, \"#9c179e\"], [0.4444444444444444, \"#bd3786\"], [0.5555555555555556, \"#d8576b\"], [0.6666666666666666, \"#ed7953\"], [0.7777777777777778, \"#fb9f3a\"], [0.8888888888888888, \"#fdca26\"], [1.0, \"#f0f921\"]], \"type\": \"histogram2dcontour\"}], \"mesh3d\": [{\"colorbar\": {\"outlinewidth\": 0, \"ticks\": \"\"}, \"type\": \"mesh3d\"}], \"parcoords\": [{\"line\": {\"colorbar\": {\"outlinewidth\": 0, \"ticks\": \"\"}}, \"type\": \"parcoords\"}], \"pie\": [{\"automargin\": true, \"type\": \"pie\"}], \"scatter\": [{\"marker\": {\"colorbar\": {\"outlinewidth\": 0, \"ticks\": \"\"}}, \"type\": \"scatter\"}], \"scatter3d\": [{\"line\": {\"colorbar\": {\"outlinewidth\": 0, \"ticks\": \"\"}}, \"marker\": {\"colorbar\": {\"outlinewidth\": 0, \"ticks\": \"\"}}, \"type\": \"scatter3d\"}], \"scattercarpet\": [{\"marker\": {\"colorbar\": {\"outlinewidth\": 0, \"ticks\": \"\"}}, \"type\": \"scattercarpet\"}], \"scattergeo\": [{\"marker\": {\"colorbar\": {\"outlinewidth\": 0, \"ticks\": \"\"}}, \"type\": \"scattergeo\"}], \"scattergl\": [{\"marker\": {\"colorbar\": {\"outlinewidth\": 0, \"ticks\": \"\"}}, \"type\": \"scattergl\"}], \"scattermapbox\": [{\"marker\": {\"colorbar\": {\"outlinewidth\": 0, \"ticks\": \"\"}}, \"type\": \"scattermapbox\"}], \"scatterpolar\": [{\"marker\": {\"colorbar\": {\"outlinewidth\": 0, \"ticks\": \"\"}}, \"type\": \"scatterpolar\"}], \"scatterpolargl\": [{\"marker\": {\"colorbar\": {\"outlinewidth\": 0, \"ticks\": \"\"}}, \"type\": \"scatterpolargl\"}], \"scatterternary\": [{\"marker\": {\"colorbar\": {\"outlinewidth\": 0, \"ticks\": \"\"}}, \"type\": \"scatterternary\"}], \"surface\": [{\"colorbar\": {\"outlinewidth\": 0, \"ticks\": \"\"}, \"colorscale\": [[0.0, \"#0d0887\"], [0.1111111111111111, \"#46039f\"], [0.2222222222222222, \"#7201a8\"], [0.3333333333333333, \"#9c179e\"], [0.4444444444444444, \"#bd3786\"], [0.5555555555555556, \"#d8576b\"], [0.6666666666666666, \"#ed7953\"], [0.7777777777777778, \"#fb9f3a\"], [0.8888888888888888, \"#fdca26\"], [1.0, \"#f0f921\"]], \"type\": \"surface\"}], \"table\": [{\"cells\": {\"fill\": {\"color\": \"#EBF0F8\"}, \"line\": {\"color\": \"white\"}}, \"header\": {\"fill\": {\"color\": \"#C8D4E3\"}, \"line\": {\"color\": \"white\"}}, \"type\": \"table\"}]}, \"layout\": {\"annotationdefaults\": {\"arrowcolor\": \"#2a3f5f\", \"arrowhead\": 0, \"arrowwidth\": 1}, \"coloraxis\": {\"colorbar\": {\"outlinewidth\": 0, \"ticks\": \"\"}}, \"colorscale\": {\"diverging\": [[0, \"#8e0152\"], [0.1, \"#c51b7d\"], [0.2, \"#de77ae\"], [0.3, \"#f1b6da\"], [0.4, \"#fde0ef\"], [0.5, \"#f7f7f7\"], [0.6, \"#e6f5d0\"], [0.7, \"#b8e186\"], [0.8, \"#7fbc41\"], [0.9, \"#4d9221\"], [1, \"#276419\"]], \"sequential\": [[0.0, \"#0d0887\"], [0.1111111111111111, \"#46039f\"], [0.2222222222222222, \"#7201a8\"], [0.3333333333333333, \"#9c179e\"], [0.4444444444444444, \"#bd3786\"], [0.5555555555555556, \"#d8576b\"], [0.6666666666666666, \"#ed7953\"], [0.7777777777777778, \"#fb9f3a\"], [0.8888888888888888, \"#fdca26\"], [1.0, \"#f0f921\"]], \"sequentialminus\": [[0.0, \"#0d0887\"], [0.1111111111111111, \"#46039f\"], [0.2222222222222222, \"#7201a8\"], [0.3333333333333333, \"#9c179e\"], [0.4444444444444444, \"#bd3786\"], [0.5555555555555556, \"#d8576b\"], [0.6666666666666666, \"#ed7953\"], [0.7777777777777778, \"#fb9f3a\"], [0.8888888888888888, \"#fdca26\"], [1.0, \"#f0f921\"]]}, \"colorway\": [\"#636efa\", \"#EF553B\", \"#00cc96\", \"#ab63fa\", \"#FFA15A\", \"#19d3f3\", \"#FF6692\", \"#B6E880\", \"#FF97FF\", \"#FECB52\"], \"font\": {\"color\": \"#2a3f5f\"}, \"geo\": {\"bgcolor\": \"white\", \"lakecolor\": \"white\", \"landcolor\": \"#E5ECF6\", \"showlakes\": true, \"showland\": true, \"subunitcolor\": \"white\"}, \"hoverlabel\": {\"align\": \"left\"}, \"hovermode\": \"closest\", \"mapbox\": {\"style\": \"light\"}, \"paper_bgcolor\": \"white\", \"plot_bgcolor\": \"#E5ECF6\", \"polar\": {\"angularaxis\": {\"gridcolor\": \"white\", \"linecolor\": \"white\", \"ticks\": \"\"}, \"bgcolor\": \"#E5ECF6\", \"radialaxis\": {\"gridcolor\": \"white\", \"linecolor\": \"white\", \"ticks\": \"\"}}, \"scene\": {\"xaxis\": {\"backgroundcolor\": \"#E5ECF6\", \"gridcolor\": \"white\", \"gridwidth\": 2, \"linecolor\": \"white\", \"showbackground\": true, \"ticks\": \"\", \"zerolinecolor\": \"white\"}, \"yaxis\": {\"backgroundcolor\": \"#E5ECF6\", \"gridcolor\": \"white\", \"gridwidth\": 2, \"linecolor\": \"white\", \"showbackground\": true, \"ticks\": \"\", \"zerolinecolor\": \"white\"}, \"zaxis\": {\"backgroundcolor\": \"#E5ECF6\", \"gridcolor\": \"white\", \"gridwidth\": 2, \"linecolor\": \"white\", \"showbackground\": true, \"ticks\": \"\", \"zerolinecolor\": \"white\"}}, \"shapedefaults\": {\"line\": {\"color\": \"#2a3f5f\"}}, \"ternary\": {\"aaxis\": {\"gridcolor\": \"white\", \"linecolor\": \"white\", \"ticks\": \"\"}, \"baxis\": {\"gridcolor\": \"white\", \"linecolor\": \"white\", \"ticks\": \"\"}, \"bgcolor\": \"#E5ECF6\", \"caxis\": {\"gridcolor\": \"white\", \"linecolor\": \"white\", \"ticks\": \"\"}}, \"title\": {\"x\": 0.05}, \"xaxis\": {\"automargin\": true, \"gridcolor\": \"white\", \"linecolor\": \"white\", \"ticks\": \"\", \"title\": {\"standoff\": 15}, \"zerolinecolor\": \"white\", \"zerolinewidth\": 2}, \"yaxis\": {\"automargin\": true, \"gridcolor\": \"white\", \"linecolor\": \"white\", \"ticks\": \"\", \"title\": {\"standoff\": 15}, \"zerolinecolor\": \"white\", \"zerolinewidth\": 2}}}, \"title\": {\"font\": {\"color\": \"#D9D9D9\"}}, \"xaxis\": {\"gridcolor\": \"#434343\", \"showgrid\": true, \"tickfont\": {\"color\": \"#C2C2C2\"}, \"title\": {\"font\": {\"color\": \"#D9D9D9\"}, \"text\": \"\"}, \"zerolinecolor\": \"#666570\"}, \"yaxis\": {\"gridcolor\": \"#434343\", \"showgrid\": true, \"tickfont\": {\"color\": \"#C2C2C2\"}, \"title\": {\"font\": {\"color\": \"#D9D9D9\"}, \"text\": \"\"}, \"zerolinecolor\": \"#666570\"}},\n",
       "                        {\"showLink\": true, \"linkText\": \"Export to plot.ly\", \"plotlyServerURL\": \"https://plot.ly\", \"responsive\": true}\n",
       "                    ).then(function(){\n",
       "                            \n",
       "var gd = document.getElementById('88273755-2b92-4be6-b1c4-0312979e7dec');\n",
       "var x = new MutationObserver(function (mutations, observer) {{\n",
       "        var display = window.getComputedStyle(gd).display;\n",
       "        if (!display || display === 'none') {{\n",
       "            console.log([gd, 'removed!']);\n",
       "            Plotly.purge(gd);\n",
       "            observer.disconnect();\n",
       "        }}\n",
       "}});\n",
       "\n",
       "// Listen for the removal of the full notebook cells\n",
       "var notebookContainer = gd.closest('#notebook-container');\n",
       "if (notebookContainer) {{\n",
       "    x.observe(notebookContainer, {childList: true});\n",
       "}}\n",
       "\n",
       "// Listen for the clearing of the current output cell\n",
       "var outputEl = gd.closest('.output');\n",
       "if (outputEl) {{\n",
       "    x.observe(outputEl, {childList: true});\n",
       "}}\n",
       "\n",
       "                        })\n",
       "                };\n",
       "                });\n",
       "            </script>\n",
       "        </div>"
      ]
     },
     "metadata": {},
     "output_type": "display_data"
    }
   ],
   "source": [
    "df3.iplot(kind='surface', colorscale='rdylbu')"
   ]
  },
  {
   "cell_type": "code",
   "execution_count": 30,
   "metadata": {},
   "outputs": [
    {
     "name": "stdout",
     "output_type": "stream",
     "text": [
      "Help on module cufflinks.datagen in cufflinks:\n",
      "\n",
      "NAME\n",
      "    cufflinks.datagen\n",
      "\n",
      "FUNCTIONS\n",
      "    bars(n=3, n_categories=3, prefix='category', columns=None, mode='abc')\n",
      "        Returns a DataFrame with the required format for \n",
      "        a bar plot\n",
      "        \n",
      "        Parameters:\n",
      "        -----------\n",
      "                n : int\n",
      "                        Number of points for each trace\n",
      "                n_categories : int\n",
      "                        Number of categories for each point\n",
      "                prefix : string\n",
      "                        Name for each category\n",
      "                columns : [str]\n",
      "                        List of column names\n",
      "                mode : string\n",
      "                        Format for each item\n",
      "                                'abc' for alphabet columns\n",
      "                                'stocks' for random stock names\n",
      "    \n",
      "    box(n_traces=5, n=100, mode=None)\n",
      "        Returns a DataFrame with the required format for \n",
      "        a box plot\n",
      "        \n",
      "        Parameters:\n",
      "        -----------\n",
      "                n_traces : int\n",
      "                        Number of traces \n",
      "                n : int\n",
      "                        Number of points for each trace\n",
      "                mode : string\n",
      "                        Format for each item\n",
      "                                'abc' for alphabet columns\n",
      "                                'stocks' for random stock names\n",
      "    \n",
      "    bubble(n_categories=5, n=10, prefix='category', mode=None)\n",
      "        Returns a DataFrame with the required format for \n",
      "        a bubble plot\n",
      "        \n",
      "        Parameters:\n",
      "        -----------\n",
      "                n_categories : int\n",
      "                        Number of categories \n",
      "                n : int\n",
      "                        Number of points for each category\n",
      "                prefix : string\n",
      "                        Name for each category\n",
      "                mode : string\n",
      "                        Format for each item\n",
      "                                'abc' for alphabet columns\n",
      "                                'stocks' for random stock names\n",
      "    \n",
      "    bubble3d(n_categories=5, n=10, prefix='category', mode=None)\n",
      "        Returns a DataFrame with the required format for \n",
      "        a bubble3d plot\n",
      "        \n",
      "        Parameters:\n",
      "        -----------\n",
      "                n_categories : int\n",
      "                        Number of categories \n",
      "                n : int\n",
      "                        Number of points for each trace\n",
      "                prefix : string\n",
      "                        Name for each trace\n",
      "                mode : string\n",
      "                        Format for each item\n",
      "                                'abc' for alphabet columns\n",
      "                                'stocks' for random stock names\n",
      "    \n",
      "    choropleth()\n",
      "        Returns\n",
      "    \n",
      "    distplot(n_traces=1, n=500, dispersion=3, mode=None)\n",
      "        Returns a DataFrame with the required format for \n",
      "        a distribution plot (distplot)\n",
      "        \n",
      "        Parameters:\n",
      "        -----------\n",
      "                n_traces : int\n",
      "                        Number of traces \n",
      "                n : int\n",
      "                        Number of points for each trace\n",
      "                mode : string\n",
      "                        Format for each item\n",
      "                                'abc' for alphabet columns\n",
      "                                'stocks' for random stock names\n",
      "    \n",
      "    getName(n=1, name=3, exchange=2, columns=None, mode='abc')\n",
      "    \n",
      "    heatmap(n_x=5, n_y=10)\n",
      "        Returns a DataFrame with the required format for \n",
      "        a heatmap plot\n",
      "        \n",
      "        Parameters:\n",
      "        -----------\n",
      "                n_x : int\n",
      "                        Number of x categories\n",
      "                n_y : int\n",
      "                        Number of y categories\n",
      "    \n",
      "    histogram(n_traces=1, n=500, dispersion=2, mode=None)\n",
      "        Returns a DataFrame with the required format for \n",
      "        a histogram plot\n",
      "        \n",
      "        Parameters:\n",
      "        -----------\n",
      "                n_traces : int\n",
      "                        Number of traces \n",
      "                n : int\n",
      "                        Number of points for each trace\n",
      "                mode : string\n",
      "                        Format for each item\n",
      "                                'abc' for alphabet columns\n",
      "                                'stocks' for random stock names\n",
      "    \n",
      "    lines(n_traces=5, n=100, columns=None, dateIndex=True, mode=None)\n",
      "        Returns a DataFrame with the required format for \n",
      "        a scatter (lines) plot\n",
      "        \n",
      "        Parameters:\n",
      "        -----------\n",
      "                n_traces : int\n",
      "                        Number of traces \n",
      "                n : int\n",
      "                        Number of points for each trace\n",
      "                columns : [str]\n",
      "                        List of column names\n",
      "                dateIndex : bool\n",
      "                        If True it will return a datetime index\n",
      "                        if False it will return a enumerated index\n",
      "                mode : string\n",
      "                        Format for each item\n",
      "                                'abc' for alphabet columns\n",
      "                                'stocks' for random stock names\n",
      "    \n",
      "    ohlc(n=100)\n",
      "        Returns a DataFrame with the required format for \n",
      "        a candlestick or ohlc plot\n",
      "        df[['open','high','low','close']]\n",
      "        \n",
      "        Parameters:\n",
      "        -----------\n",
      "                n : int\n",
      "                        Number of ohlc points\n",
      "    \n",
      "    ohlcv(n=100)\n",
      "        Returns a DataFrame with the required format for \n",
      "        a candlestick or ohlc plot\n",
      "        df[['open','high','low','close','volume']\n",
      "        \n",
      "        Parameters:\n",
      "        -----------\n",
      "                n : int\n",
      "                        Number of ohlc points\n",
      "    \n",
      "    pie(n_labels=5, mode=None)\n",
      "        Returns a DataFrame with the required format for \n",
      "        a pie plot\n",
      "        \n",
      "        Parameters:\n",
      "        -----------\n",
      "                n_labels : int\n",
      "                        Number of labels \n",
      "                mode : string\n",
      "                        Format for each item\n",
      "                                'abc' for alphabet columns\n",
      "                                'stocks' for random stock names\n",
      "    \n",
      "    scatter(n_categories=5, n=10, prefix='category', mode=None)\n",
      "        Returns a DataFrame with the required format for \n",
      "        a scatter plot\n",
      "        \n",
      "        Parameters:\n",
      "        -----------\n",
      "                n_categories : int\n",
      "                        Number of categories \n",
      "                n : int\n",
      "                        Number of points for each category\n",
      "                prefix : string\n",
      "                        Name for each category\n",
      "                mode : string\n",
      "                        Format for each item\n",
      "                                'abc' for alphabet columns\n",
      "                                'stocks' for random stock names\n",
      "    \n",
      "    scatter3d(n_categories=5, n=10, prefix='category', mode=None)\n",
      "        Returns a DataFrame with the required format for \n",
      "        a scatter3d plot\n",
      "        \n",
      "        Parameters:\n",
      "        -----------\n",
      "                n_categories : int\n",
      "                        Number of categories \n",
      "                n : int\n",
      "                        Number of points for each trace\n",
      "                prefix : string\n",
      "                        Name for each trace\n",
      "                mode : string\n",
      "                        Format for each item\n",
      "                                'abc' for alphabet columns\n",
      "                                'stocks' for random stock names\n",
      "    \n",
      "    scattergeo()\n",
      "        Returns\n",
      "    \n",
      "    sinwave(n=4, inc=0.25)\n",
      "        Returns a DataFrame with the required format for \n",
      "        a surface (sine wave) plot\n",
      "        \n",
      "        Parameters:\n",
      "        -----------\n",
      "                n : int\n",
      "                        Ranges for X and Y axis (-n,n)\n",
      "                n_y : int\n",
      "                        Size of increment along the axis\n",
      "    \n",
      "    surface(n_x=20, n_y=20)\n",
      "        Returns a DataFrame with the required format for \n",
      "        a surface plot\n",
      "        \n",
      "        Parameters:\n",
      "        -----------\n",
      "                n_x : int\n",
      "                        Number of points along the X axis\n",
      "                n_y : int\n",
      "                        Number of points along the Y axis\n",
      "    \n",
      "    violin(n=500, dispersion=3, categories=True, n_categories=5)\n",
      "        Returns a DataFrame with the required format for \n",
      "        a distribution plot (distplot)\n",
      "        \n",
      "        Parameters:\n",
      "        -----------\n",
      "                n : int\n",
      "                        Number of points \n",
      "                categories : bool or int\n",
      "                        If True, then a column with categories is added\n",
      "                n_categories : int\n",
      "                        Number of categories\n",
      "\n",
      "FILE\n",
      "    c:\\users\\eshan\\anaconda3\\lib\\site-packages\\cufflinks\\datagen.py\n",
      "\n",
      "\n"
     ]
    }
   ],
   "source": [
    "help(cf.datagen)"
   ]
  },
  {
   "cell_type": "code",
   "execution_count": null,
   "metadata": {},
   "outputs": [],
   "source": []
  },
  {
   "cell_type": "code",
   "execution_count": 79,
   "metadata": {},
   "outputs": [
    {
     "data": {
      "application/vnd.plotly.v1+json": {
       "config": {
        "linkText": "Export to plot.ly",
        "plotlyServerURL": "https://plot.ly",
        "showLink": true
       },
       "data": [
        {
         "marker": {
          "color": [
           "rgba(255, 153, 51, 1.0)",
           "rgba(55, 128, 191, 1.0)",
           "rgba(50, 171, 96, 1.0)",
           "rgba(128, 0, 128, 1.0)",
           "rgba(219, 64, 82, 1.0)",
           "rgba(0, 128, 128, 1.0)",
           "rgba(255, 255, 51, 1.0)",
           "rgba(128, 128, 0, 1.0)",
           "rgba(251, 128, 114, 1.0)",
           "rgba(128, 177, 211, 1.0)",
           "rgba(128, 177, 211, 0.9733333333333334)",
           "rgba(255, 153, 51, 0.9733333333333334)",
           "rgba(55, 128, 191, 0.9733333333333334)",
           "rgba(50, 171, 96, 0.9733333333333334)",
           "rgba(128, 0, 128, 0.9733333333333334)",
           "rgba(219, 64, 82, 0.9733333333333334)",
           "rgba(0, 128, 128, 0.9733333333333334)",
           "rgba(255, 255, 51, 0.9733333333333334)",
           "rgba(128, 128, 0, 0.9733333333333334)",
           "rgba(251, 128, 114, 0.9733333333333334)",
           "rgba(251, 128, 114, 0.9466666666666665)",
           "rgba(128, 177, 211, 0.9466666666666665)",
           "rgba(255, 153, 51, 0.9466666666666665)",
           "rgba(55, 128, 191, 0.9466666666666665)",
           "rgba(50, 171, 96, 0.9466666666666665)",
           "rgba(128, 0, 128, 0.9466666666666665)",
           "rgba(219, 64, 82, 0.9466666666666665)",
           "rgba(0, 128, 128, 0.9466666666666665)",
           "rgba(255, 255, 51, 0.9466666666666665)",
           "rgba(128, 128, 0, 0.9466666666666665)",
           "rgba(128, 128, 0, 0.9199999999999999)",
           "rgba(251, 128, 114, 0.9199999999999999)",
           "rgba(128, 177, 211, 0.9199999999999999)",
           "rgba(255, 153, 51, 0.9199999999999999)",
           "rgba(55, 128, 191, 0.9199999999999999)",
           "rgba(50, 171, 96, 0.9199999999999999)",
           "rgba(128, 0, 128, 0.9199999999999999)",
           "rgba(219, 64, 82, 0.9199999999999999)",
           "rgba(0, 128, 128, 0.9199999999999999)",
           "rgba(255, 255, 51, 0.9199999999999999)",
           "rgba(255, 255, 51, 0.8933333333333333)",
           "rgba(128, 128, 0, 0.8933333333333333)",
           "rgba(251, 128, 114, 0.8933333333333333)",
           "rgba(128, 177, 211, 0.8933333333333333)",
           "rgba(255, 153, 51, 0.8933333333333333)",
           "rgba(55, 128, 191, 0.8933333333333333)",
           "rgba(50, 171, 96, 0.8933333333333333)",
           "rgba(128, 0, 128, 0.8933333333333333)",
           "rgba(219, 64, 82, 0.8933333333333333)",
           "rgba(0, 128, 128, 0.8933333333333333)",
           "rgba(0, 128, 128, 0.8666666666666667)",
           "rgba(255, 255, 51, 0.8666666666666667)",
           "rgba(128, 128, 0, 0.8666666666666667)",
           "rgba(251, 128, 114, 0.8666666666666667)",
           "rgba(128, 177, 211, 0.8666666666666667)",
           "rgba(255, 153, 51, 0.8666666666666667)",
           "rgba(55, 128, 191, 0.8666666666666667)",
           "rgba(50, 171, 96, 0.8666666666666667)",
           "rgba(128, 0, 128, 0.8666666666666667)",
           "rgba(219, 64, 82, 0.8666666666666667)",
           "rgba(219, 64, 82, 0.8399999999999999)",
           "rgba(0, 128, 128, 0.8399999999999999)",
           "rgba(255, 255, 51, 0.8399999999999999)",
           "rgba(128, 128, 0, 0.8399999999999999)",
           "rgba(251, 128, 114, 0.8399999999999999)",
           "rgba(128, 177, 211, 0.8399999999999999)",
           "rgba(255, 153, 51, 0.8399999999999999)",
           "rgba(55, 128, 191, 0.8399999999999999)",
           "rgba(50, 171, 96, 0.8399999999999999)",
           "rgba(128, 0, 128, 0.8399999999999999)",
           "rgba(128, 0, 128, 0.8133333333333332)",
           "rgba(219, 64, 82, 0.8133333333333332)",
           "rgba(0, 128, 128, 0.8133333333333332)",
           "rgba(255, 255, 51, 0.8133333333333332)",
           "rgba(128, 128, 0, 0.8133333333333332)",
           "rgba(251, 128, 114, 0.8133333333333332)",
           "rgba(128, 177, 211, 0.8133333333333332)",
           "rgba(255, 153, 51, 0.8133333333333332)",
           "rgba(55, 128, 191, 0.8133333333333332)",
           "rgba(50, 171, 96, 0.8133333333333332)",
           "rgba(50, 171, 96, 0.7866666666666666)",
           "rgba(128, 0, 128, 0.7866666666666666)",
           "rgba(219, 64, 82, 0.7866666666666666)",
           "rgba(0, 128, 128, 0.7866666666666666)",
           "rgba(255, 255, 51, 0.7866666666666666)",
           "rgba(128, 128, 0, 0.7866666666666666)",
           "rgba(251, 128, 114, 0.7866666666666666)",
           "rgba(128, 177, 211, 0.7866666666666666)",
           "rgba(255, 153, 51, 0.7866666666666666)",
           "rgba(55, 128, 191, 0.7866666666666666)",
           "rgba(55, 128, 191, 0.76)",
           "rgba(50, 171, 96, 0.76)",
           "rgba(128, 0, 128, 0.76)",
           "rgba(219, 64, 82, 0.76)",
           "rgba(0, 128, 128, 0.76)",
           "rgba(255, 255, 51, 0.76)",
           "rgba(128, 128, 0, 0.76)",
           "rgba(251, 128, 114, 0.76)",
           "rgba(128, 177, 211, 0.76)",
           "rgba(255, 153, 51, 0.76)",
           "rgba(255, 153, 51, 0.7333333333333332)",
           "rgba(55, 128, 191, 0.7333333333333332)",
           "rgba(50, 171, 96, 0.7333333333333332)",
           "rgba(128, 0, 128, 0.7333333333333332)",
           "rgba(219, 64, 82, 0.7333333333333332)",
           "rgba(0, 128, 128, 0.7333333333333332)",
           "rgba(255, 255, 51, 0.7333333333333332)",
           "rgba(128, 128, 0, 0.7333333333333332)",
           "rgba(251, 128, 114, 0.7333333333333332)",
           "rgba(128, 177, 211, 0.7333333333333332)",
           "rgba(128, 177, 211, 0.7066666666666666)",
           "rgba(255, 153, 51, 0.7066666666666666)",
           "rgba(55, 128, 191, 0.7066666666666666)",
           "rgba(50, 171, 96, 0.7066666666666666)",
           "rgba(128, 0, 128, 0.7066666666666666)",
           "rgba(219, 64, 82, 0.7066666666666666)",
           "rgba(0, 128, 128, 0.7066666666666666)",
           "rgba(255, 255, 51, 0.7066666666666666)",
           "rgba(128, 128, 0, 0.7066666666666666)",
           "rgba(251, 128, 114, 0.7066666666666666)",
           "rgba(251, 128, 114, 0.6799999999999999)",
           "rgba(128, 177, 211, 0.6799999999999999)",
           "rgba(255, 153, 51, 0.6799999999999999)",
           "rgba(55, 128, 191, 0.6799999999999999)",
           "rgba(50, 171, 96, 0.6799999999999999)",
           "rgba(128, 0, 128, 0.6799999999999999)",
           "rgba(219, 64, 82, 0.6799999999999999)",
           "rgba(0, 128, 128, 0.6799999999999999)",
           "rgba(255, 255, 51, 0.6799999999999999)",
           "rgba(128, 128, 0, 0.6799999999999999)",
           "rgba(128, 128, 0, 0.6533333333333333)",
           "rgba(251, 128, 114, 0.6533333333333333)",
           "rgba(128, 177, 211, 0.6533333333333333)",
           "rgba(255, 153, 51, 0.6533333333333333)",
           "rgba(55, 128, 191, 0.6533333333333333)",
           "rgba(50, 171, 96, 0.6533333333333333)",
           "rgba(128, 0, 128, 0.6533333333333333)",
           "rgba(219, 64, 82, 0.6533333333333333)",
           "rgba(0, 128, 128, 0.6533333333333333)",
           "rgba(255, 255, 51, 0.6533333333333333)",
           "rgba(255, 255, 51, 0.6266666666666665)",
           "rgba(128, 128, 0, 0.6266666666666665)",
           "rgba(251, 128, 114, 0.6266666666666665)",
           "rgba(128, 177, 211, 0.6266666666666665)",
           "rgba(255, 153, 51, 0.6266666666666665)",
           "rgba(55, 128, 191, 0.6266666666666665)",
           "rgba(50, 171, 96, 0.6266666666666665)",
           "rgba(128, 0, 128, 0.6266666666666665)",
           "rgba(219, 64, 82, 0.6266666666666665)",
           "rgba(0, 128, 128, 0.6266666666666665)",
           "rgba(0, 128, 128, 0.5999999999999999)",
           "rgba(255, 255, 51, 0.5999999999999999)",
           "rgba(128, 128, 0, 0.5999999999999999)",
           "rgba(251, 128, 114, 0.5999999999999999)",
           "rgba(128, 177, 211, 0.5999999999999999)",
           "rgba(255, 153, 51, 0.5999999999999999)",
           "rgba(55, 128, 191, 0.5999999999999999)",
           "rgba(50, 171, 96, 0.5999999999999999)",
           "rgba(128, 0, 128, 0.5999999999999999)",
           "rgba(219, 64, 82, 0.5999999999999999)",
           "rgba(219, 64, 82, 0.5733333333333333)",
           "rgba(0, 128, 128, 0.5733333333333333)",
           "rgba(255, 255, 51, 0.5733333333333333)",
           "rgba(128, 128, 0, 0.5733333333333333)",
           "rgba(251, 128, 114, 0.5733333333333333)",
           "rgba(128, 177, 211, 0.5733333333333333)",
           "rgba(255, 153, 51, 0.5733333333333333)",
           "rgba(55, 128, 191, 0.5733333333333333)",
           "rgba(50, 171, 96, 0.5733333333333333)",
           "rgba(128, 0, 128, 0.5733333333333333)",
           "rgba(128, 0, 128, 0.5466666666666666)",
           "rgba(219, 64, 82, 0.5466666666666666)",
           "rgba(0, 128, 128, 0.5466666666666666)",
           "rgba(255, 255, 51, 0.5466666666666666)",
           "rgba(128, 128, 0, 0.5466666666666666)",
           "rgba(251, 128, 114, 0.5466666666666666)",
           "rgba(128, 177, 211, 0.5466666666666666)",
           "rgba(255, 153, 51, 0.5466666666666666)",
           "rgba(55, 128, 191, 0.5466666666666666)",
           "rgba(50, 171, 96, 0.5466666666666666)",
           "rgba(50, 171, 96, 0.5199999999999998)",
           "rgba(128, 0, 128, 0.5199999999999998)",
           "rgba(219, 64, 82, 0.5199999999999998)",
           "rgba(0, 128, 128, 0.5199999999999998)",
           "rgba(255, 255, 51, 0.5199999999999998)",
           "rgba(128, 128, 0, 0.5199999999999998)",
           "rgba(251, 128, 114, 0.5199999999999998)",
           "rgba(128, 177, 211, 0.5199999999999998)",
           "rgba(255, 153, 51, 0.5199999999999998)",
           "rgba(55, 128, 191, 0.5199999999999998)",
           "rgba(55, 128, 191, 0.49333333333333323)",
           "rgba(50, 171, 96, 0.49333333333333323)",
           "rgba(128, 0, 128, 0.49333333333333323)",
           "rgba(219, 64, 82, 0.49333333333333323)",
           "rgba(0, 128, 128, 0.49333333333333323)",
           "rgba(255, 255, 51, 0.49333333333333323)",
           "rgba(128, 128, 0, 0.49333333333333323)",
           "rgba(251, 128, 114, 0.49333333333333323)",
           "rgba(128, 177, 211, 0.49333333333333323)",
           "rgba(255, 153, 51, 0.49333333333333323)",
           "rgba(255, 153, 51, 0.4666666666666666)",
           "rgba(55, 128, 191, 0.4666666666666666)",
           "rgba(50, 171, 96, 0.4666666666666666)",
           "rgba(128, 0, 128, 0.4666666666666666)",
           "rgba(219, 64, 82, 0.4666666666666666)",
           "rgba(0, 128, 128, 0.4666666666666666)",
           "rgba(255, 255, 51, 0.4666666666666666)",
           "rgba(128, 128, 0, 0.4666666666666666)",
           "rgba(251, 128, 114, 0.4666666666666666)",
           "rgba(128, 177, 211, 0.4666666666666666)",
           "rgba(128, 177, 211, 0.44)",
           "rgba(255, 153, 51, 0.44)",
           "rgba(55, 128, 191, 0.44)",
           "rgba(50, 171, 96, 0.44)",
           "rgba(128, 0, 128, 0.44)",
           "rgba(219, 64, 82, 0.44)",
           "rgba(0, 128, 128, 0.44)",
           "rgba(255, 255, 51, 0.44)",
           "rgba(128, 128, 0, 0.44)",
           "rgba(251, 128, 114, 0.44)",
           "rgba(251, 128, 114, 0.41333333333333316)",
           "rgba(128, 177, 211, 0.41333333333333316)",
           "rgba(255, 153, 51, 0.41333333333333316)",
           "rgba(55, 128, 191, 0.41333333333333316)",
           "rgba(50, 171, 96, 0.41333333333333316)",
           "rgba(128, 0, 128, 0.41333333333333316)",
           "rgba(219, 64, 82, 0.41333333333333316)",
           "rgba(0, 128, 128, 0.41333333333333316)",
           "rgba(255, 255, 51, 0.41333333333333316)",
           "rgba(128, 128, 0, 0.41333333333333316)",
           "rgba(128, 128, 0, 0.38666666666666655)",
           "rgba(251, 128, 114, 0.38666666666666655)",
           "rgba(128, 177, 211, 0.38666666666666655)",
           "rgba(255, 153, 51, 0.38666666666666655)",
           "rgba(55, 128, 191, 0.38666666666666655)",
           "rgba(50, 171, 96, 0.38666666666666655)",
           "rgba(128, 0, 128, 0.38666666666666655)",
           "rgba(219, 64, 82, 0.38666666666666655)",
           "rgba(0, 128, 128, 0.38666666666666655)",
           "rgba(255, 255, 51, 0.38666666666666655)",
           "rgba(255, 255, 51, 0.35999999999999993)",
           "rgba(128, 128, 0, 0.35999999999999993)",
           "rgba(251, 128, 114, 0.35999999999999993)",
           "rgba(128, 177, 211, 0.35999999999999993)",
           "rgba(255, 153, 51, 0.35999999999999993)",
           "rgba(55, 128, 191, 0.35999999999999993)",
           "rgba(50, 171, 96, 0.35999999999999993)",
           "rgba(128, 0, 128, 0.35999999999999993)",
           "rgba(219, 64, 82, 0.35999999999999993)",
           "rgba(0, 128, 128, 0.35999999999999993)",
           "rgba(0, 128, 128, 0.3333333333333333)",
           "rgba(255, 255, 51, 0.3333333333333333)",
           "rgba(128, 128, 0, 0.3333333333333333)",
           "rgba(251, 128, 114, 0.3333333333333333)",
           "rgba(128, 177, 211, 0.3333333333333333)",
           "rgba(255, 153, 51, 0.3333333333333333)",
           "rgba(55, 128, 191, 0.3333333333333333)",
           "rgba(50, 171, 96, 0.3333333333333333)",
           "rgba(128, 0, 128, 0.3333333333333333)",
           "rgba(219, 64, 82, 0.3333333333333333)",
           "rgba(219, 64, 82, 0.3066666666666665)",
           "rgba(0, 128, 128, 0.3066666666666665)",
           "rgba(255, 255, 51, 0.3066666666666665)",
           "rgba(128, 128, 0, 0.3066666666666665)",
           "rgba(251, 128, 114, 0.3066666666666665)",
           "rgba(128, 177, 211, 0.3066666666666665)",
           "rgba(255, 153, 51, 0.3066666666666665)",
           "rgba(55, 128, 191, 0.3066666666666665)",
           "rgba(50, 171, 96, 0.3066666666666665)",
           "rgba(128, 0, 128, 0.3066666666666665)",
           "rgba(128, 0, 128, 0.27999999999999986)",
           "rgba(219, 64, 82, 0.27999999999999986)",
           "rgba(0, 128, 128, 0.27999999999999986)",
           "rgba(255, 255, 51, 0.27999999999999986)",
           "rgba(128, 128, 0, 0.27999999999999986)",
           "rgba(251, 128, 114, 0.27999999999999986)",
           "rgba(128, 177, 211, 0.27999999999999986)",
           "rgba(255, 153, 51, 0.27999999999999986)",
           "rgba(55, 128, 191, 0.27999999999999986)",
           "rgba(50, 171, 96, 0.27999999999999986)",
           "rgba(50, 171, 96, 0.25333333333333324)",
           "rgba(128, 0, 128, 0.25333333333333324)",
           "rgba(219, 64, 82, 0.25333333333333324)",
           "rgba(0, 128, 128, 0.25333333333333324)",
           "rgba(255, 255, 51, 0.25333333333333324)",
           "rgba(128, 128, 0, 0.25333333333333324)",
           "rgba(251, 128, 114, 0.25333333333333324)",
           "rgba(128, 177, 211, 0.25333333333333324)",
           "rgba(255, 153, 51, 0.25333333333333324)",
           "rgba(55, 128, 191, 0.25333333333333324)",
           "rgba(55, 128, 191, 0.22666666666666663)",
           "rgba(50, 171, 96, 0.22666666666666663)",
           "rgba(128, 0, 128, 0.22666666666666663)",
           "rgba(219, 64, 82, 0.22666666666666663)",
           "rgba(0, 128, 128, 0.22666666666666663)",
           "rgba(255, 255, 51, 0.22666666666666663)",
           "rgba(128, 128, 0, 0.22666666666666663)",
           "rgba(251, 128, 114, 0.22666666666666663)",
           "rgba(128, 177, 211, 0.22666666666666663)",
           "rgba(255, 153, 51, 0.22666666666666663)"
          ],
          "opacity": 0.8,
          "size": [
           12,
           12,
           12,
           12,
           12,
           12,
           12,
           12,
           12,
           12,
           12,
           12,
           12,
           12,
           12,
           12,
           12,
           12,
           12,
           12,
           12,
           12,
           12,
           12,
           12,
           12,
           12,
           12,
           12,
           12,
           12,
           12,
           12,
           12,
           12,
           12,
           12,
           12,
           12,
           12,
           12,
           12,
           12,
           12,
           12,
           12,
           12,
           12,
           12,
           12,
           12,
           12,
           12,
           12,
           12,
           12,
           12,
           12,
           12,
           12,
           12,
           12,
           12,
           12,
           12,
           12,
           12,
           12,
           12,
           12,
           12,
           12,
           12,
           12,
           12,
           12,
           12,
           12,
           12,
           12,
           12,
           12,
           12,
           12,
           12,
           12,
           12,
           12,
           12,
           12,
           12,
           12,
           12,
           12,
           12,
           12,
           12,
           12,
           12,
           12,
           12,
           12,
           12,
           12,
           12,
           12,
           12,
           12,
           12,
           12,
           12,
           12,
           12,
           12,
           12,
           12,
           12,
           12,
           12,
           12,
           12,
           12,
           12,
           12,
           12,
           12,
           12,
           12,
           12,
           12,
           12,
           12,
           12,
           12,
           12,
           12,
           12,
           12,
           12,
           12,
           12,
           12,
           12,
           12,
           12,
           12,
           12,
           12,
           12,
           12,
           12,
           12,
           12,
           12,
           12,
           12,
           12,
           12,
           12,
           12,
           12,
           12,
           12,
           12,
           12,
           12,
           12,
           12,
           12,
           12,
           12,
           12,
           12,
           12,
           12,
           12,
           12,
           12,
           12,
           12,
           12,
           12,
           12,
           12,
           12,
           12,
           12,
           12,
           12,
           12,
           12,
           12,
           12,
           12,
           12,
           12,
           12,
           12,
           12,
           12,
           12,
           12,
           12,
           12,
           12,
           12,
           12,
           12,
           12,
           12,
           12,
           12,
           12,
           12,
           12,
           12,
           12,
           12,
           12,
           12,
           12,
           12,
           12,
           12,
           12,
           12,
           12,
           12,
           12,
           12,
           12,
           12,
           12,
           12,
           12,
           12,
           12,
           12,
           12,
           12,
           12,
           12,
           12,
           12,
           12,
           12,
           12,
           12,
           12,
           12,
           12,
           12,
           12,
           12,
           12,
           12,
           12,
           12,
           12,
           12,
           12,
           12,
           12,
           12,
           12,
           12,
           12,
           12,
           12,
           12,
           12,
           12,
           12,
           12,
           12,
           12,
           12,
           12,
           12,
           12,
           12,
           12,
           12,
           12,
           12,
           12,
           12,
           12,
           12,
           12,
           12,
           12,
           12,
           12,
           12,
           12,
           12,
           12,
           12,
           12
          ],
          "symbol": "circle"
         },
         "mode": "markers",
         "text": [
          "0",
          "1",
          "2",
          "3",
          "4",
          "5",
          "6",
          "7",
          "8",
          "9",
          "10",
          "11",
          "12",
          "13",
          "14",
          "15",
          "16",
          "17",
          "18",
          "19",
          "20",
          "21",
          "22",
          "23",
          "24",
          "25",
          "26",
          "27",
          "28",
          "29",
          "30",
          "31",
          "32",
          "33",
          "34",
          "35",
          "36",
          "37",
          "38",
          "39",
          "40",
          "41",
          "42",
          "43",
          "44",
          "45",
          "46",
          "47",
          "48",
          "49",
          "50",
          "51",
          "52",
          "53",
          "54",
          "55",
          "56",
          "57",
          "58",
          "59",
          "60",
          "61",
          "62",
          "63",
          "64",
          "65",
          "66",
          "67",
          "68",
          "69",
          "70",
          "71",
          "72",
          "73",
          "74",
          "75",
          "76",
          "77",
          "78",
          "79",
          "80",
          "81",
          "82",
          "83",
          "84",
          "85",
          "86",
          "87",
          "88",
          "89",
          "90",
          "91",
          "92",
          "93",
          "94",
          "95",
          "96",
          "97",
          "98",
          "99",
          "100",
          "101",
          "102",
          "103",
          "104",
          "105",
          "106",
          "107",
          "108",
          "109",
          "110",
          "111",
          "112",
          "113",
          "114",
          "115",
          "116",
          "117",
          "118",
          "119",
          "120",
          "121",
          "122",
          "123",
          "124",
          "125",
          "126",
          "127",
          "128",
          "129",
          "130",
          "131",
          "132",
          "133",
          "134",
          "135",
          "136",
          "137",
          "138",
          "139",
          "140",
          "141",
          "142",
          "143",
          "144",
          "145",
          "146",
          "147",
          "148",
          "149",
          "150",
          "151",
          "152",
          "153",
          "154",
          "155",
          "156",
          "157",
          "158",
          "159",
          "160",
          "161",
          "162",
          "163",
          "164",
          "165",
          "166",
          "167",
          "168",
          "169",
          "170",
          "171",
          "172",
          "173",
          "174",
          "175",
          "176",
          "177",
          "178",
          "179",
          "180",
          "181",
          "182",
          "183",
          "184",
          "185",
          "186",
          "187",
          "188",
          "189",
          "190",
          "191",
          "192",
          "193",
          "194",
          "195",
          "196",
          "197",
          "198",
          "199",
          "200",
          "201",
          "202",
          "203",
          "204",
          "205",
          "206",
          "207",
          "208",
          "209",
          "210",
          "211",
          "212",
          "213",
          "214",
          "215",
          "216",
          "217",
          "218",
          "219",
          "220",
          "221",
          "222",
          "223",
          "224",
          "225",
          "226",
          "227",
          "228",
          "229",
          "230",
          "231",
          "232",
          "233",
          "234",
          "235",
          "236",
          "237",
          "238",
          "239",
          "240",
          "241",
          "242",
          "243",
          "244",
          "245",
          "246",
          "247",
          "248",
          "249",
          "250",
          "251",
          "252",
          "253",
          "254",
          "255",
          "256",
          "257",
          "258",
          "259",
          "260",
          "261",
          "262",
          "263",
          "264",
          "265",
          "266",
          "267",
          "268",
          "269",
          "270",
          "271",
          "272",
          "273",
          "274",
          "275",
          "276",
          "277",
          "278",
          "279",
          "280",
          "281",
          "282",
          "283",
          "284",
          "285",
          "286",
          "287",
          "288",
          "289",
          "290",
          "291",
          "292",
          "293",
          "294",
          "295",
          "296",
          "297",
          "298",
          "299"
         ],
         "type": "scatter3d",
         "x": [
          1.5453283565024312,
          -0.8731488267778855,
          -0.5204958868564024,
          1.256599638751138,
          0.33157332963599934,
          -0.3202883026759514,
          0.12614222326926003,
          -0.7471821122461282,
          0.26187593804100523,
          0.17405614091721824,
          1.9347305792198242,
          0.23620812995729598,
          1.886242533511763,
          -0.6144272883620214,
          0.5437282787880937,
          -0.5606646537282963,
          -1.0588334839090396,
          0.3864754477590648,
          0.27194536273752346,
          -0.4650864512395984,
          0.389929546644914,
          0.26812553738783096,
          -0.1481891505582523,
          0.21084741242460664,
          -0.23016163389313973,
          -1.1391321480372256,
          -0.6608369430851441,
          -0.6098642649911419,
          -0.5014603572216527,
          -1.1895622889501638,
          -0.14860593071294972,
          -0.09662677744071849,
          -0.07176074120596423,
          0.05126125082846317,
          -0.2980334663782202,
          -1.2356501632177492,
          -0.904936416921577,
          1.3218320369654206,
          -0.10733725013903798,
          1.0069746378279123,
          -0.17521134736523977,
          -0.3941982335155418,
          0.5260939302287906,
          0.7822323755684892,
          1.1852435348725785,
          0.42724594216945616,
          -2.4783888925651967,
          0.059683942625720285,
          -1.0029228227140414,
          -1.35834249324642,
          -0.34795393466012536,
          0.34595450353751755,
          -0.18683821097017045,
          0.8747297479532771,
          -0.4247278705953959,
          0.12175824354259773,
          2.3042434955470745,
          -1.952100814152419,
          0.8283055010023596,
          -0.9483454975787137,
          -1.099792439747465,
          1.2109739679886837,
          -0.17471820277341235,
          0.5012333124626646,
          1.6532640631340556,
          -1.2045414333472229,
          0.04438497967088193,
          0.050519147305390234,
          1.4990944739102763,
          -0.3477029437263369,
          0.9868248448819601,
          0.0853841372740163,
          -1.5539531956128931,
          1.678838582621722,
          -0.5655258808558287,
          -0.3265166994704553,
          1.1512375678396443,
          -1.4145987254083396,
          -1.2129781314074202,
          1.4178276347153074,
          -0.35893722358817104,
          1.9329032348866362,
          -1.6864395585131233,
          1.797544214951477,
          -2.1998521673681037,
          2.3983391561783267,
          0.21555317031676632,
          -0.08794235138548137,
          0.09639553060639738,
          0.4115508971262161,
          -0.16209776059311143,
          -0.2803073811418285,
          -1.6949247643538239,
          -1.1825252713915326,
          -0.07347527559876303,
          1.6768610944847473,
          -0.8807942654567806,
          -1.1372701971903096,
          0.08122660797673255,
          1.4235245369679175,
          -1.55644825758755,
          0.7278446585166397,
          -0.07135312496331915,
          2.2039744356736546,
          -2.8582248371092414,
          0.10402921027792877,
          0.0741756832040289,
          0.22789678375561095,
          0.972640973799545,
          -1.1656603561384418,
          -0.7873139085757386,
          -0.8229635180587748,
          -0.0841992544316335,
          -1.032519476835378,
          0.4629745090087341,
          1.4032508479966082,
          1.1110976189548925,
          0.9516070542994925,
          0.014477631036021989,
          0.6421209942111569,
          0.2643793027321222,
          0.479157814247637,
          -1.178857424683946,
          0.1034725859383503,
          -2.0708480426425426,
          -1.1283903354576366,
          -0.7735583173214389,
          -0.975569158571327,
          -0.29364178720896683,
          0.5148641229772265,
          0.8543785825294817,
          1.3331760415813418,
          1.4825647488054328,
          0.14253374286199783,
          -0.8363883685563495,
          0.24070265427250492,
          2.263498495720197,
          0.9023828559212861,
          -0.8904882122863275,
          0.07090821175538181,
          -1.277489198085359,
          -0.10527360025461657,
          -1.3054232179989373,
          0.7380178975576889,
          0.38015078017446685,
          1.1695919786269917,
          1.7890539093649378,
          -1.3128937607702318,
          -0.985290556650253,
          -1.3424756526119916,
          1.0527943746684378,
          1.7925486263293515,
          0.5410950399703709,
          0.7642595387904254,
          1.7766449622122695,
          -1.408310375417322,
          1.8983606068994954,
          -1.5934555729683977,
          1.4956664070850823,
          0.312912446935795,
          0.5201818376002469,
          -1.2134677727353822,
          1.1249548042998898,
          -0.5400738462358637,
          -1.5501745110554956,
          0.13927246748425848,
          0.12158176878057123,
          -1.2635763713891495,
          1.2032949271494708,
          -1.4858110747059479,
          -1.9526999112160768,
          -1.0703963533883625,
          0.26898998476675456,
          0.7849295699785734,
          -0.09475408664724692,
          0.17785040438042177,
          0.08781619903248505,
          -1.6050938207145413,
          -1.0166969500685765,
          -0.1797743136644175,
          -0.7192468612711421,
          -1.3831094610446388,
          0.7740263899301901,
          -0.4188576462805916,
          0.4534245727916041,
          1.3250138038557482,
          -0.656230280287482,
          -1.8996571934785318,
          -0.04523469725885853,
          0.3293987770285677,
          0.3183762876376879,
          -0.871827131893584,
          0.39028975761054613,
          1.9765672907098295,
          0.7307651655648603,
          1.2907907324627512,
          -0.14847745590752381,
          -0.19740254973111337,
          -0.1989086763683637,
          -1.5854381704062042,
          1.316695686284214,
          1.5259432652966423,
          -1.5778928931656517,
          0.6216505130204734,
          1.7093922029812743,
          -0.8379923902083594,
          -0.7662406096852229,
          -1.724593590446045,
          1.2865887019534588,
          -0.29854919426909804,
          0.47722480357674923,
          -1.9267604954137236,
          -0.54921127301377,
          0.7132010611430962,
          1.313351851795666,
          -0.17157761997361104,
          0.1778447231356006,
          0.5152112443883325,
          -0.3972332186128756,
          -0.2759911100912106,
          -0.6006346058495755,
          0.7340359584883124,
          0.16124957456122344,
          1.79991037527386,
          -1.135336831885014,
          1.4057011177952243,
          1.4178836133946662,
          -0.5791031479076973,
          -0.7161254573023467,
          0.3637230010688564,
          -0.16910248165913586,
          1.487847711618319,
          -0.9781082342801904,
          -0.09822551440167512,
          1.2635337525284704,
          1.1373316485803058,
          0.022862625833918463,
          -0.02160532947168251,
          -0.5930940632977864,
          -1.1292473704878032,
          -0.3720918929799184,
          -0.610965225642687,
          -0.03363613163845713,
          1.1649444582504034,
          -0.3988003739016019,
          0.9828283304370137,
          -0.5442767334562884,
          -0.9217371786325237,
          2.109349011101711,
          0.8575790679754031,
          0.9098400461075639,
          -0.042340220184424744,
          -0.584489800349318,
          -0.14210368864702277,
          -0.852340661525028,
          -0.19049643129589797,
          0.8409915343662487,
          -1.8769178058377791,
          -2.9503026466003233,
          2.6163676479985254,
          0.182044992394722,
          -1.100820503375894,
          -0.5271752584678556,
          -1.2914215386547203,
          0.7883350403731042,
          0.14388764659324677,
          2.968159004431347,
          -0.7272512482435304,
          0.014243936230288221,
          -1.3514302160199039,
          0.714129614241218,
          0.24598116706817671,
          0.7765739554060314,
          -1.520070561814217,
          -1.7900017898705158,
          0.2822934379223978,
          1.5883619492441226,
          -0.2915647946037395,
          0.21617625328242546,
          0.07652287921297153,
          -0.555511497720669,
          -0.0830192625873025,
          -0.04837930109013681,
          0.8058462923884081,
          -1.6523234838361471,
          1.9765779374081507,
          1.592858824533024,
          0.7934658192533324,
          0.061827871693913454,
          0.10924241697316284,
          0.14282963989991826,
          0.6165359644414742,
          0.20185200223816943,
          0.5035401075062098,
          0.037106597467748165,
          -0.4238334275188671,
          -0.48158309200642946,
          -1.748413856750423,
          -1.5617946813507757,
          0.12080263089916904
         ],
         "y": [
          -0.6358569871220594,
          -0.06916663936187936,
          0.5007987726260584,
          1.9891514468918656,
          -0.3911671303975681,
          -0.6185588673244762,
          -0.20483713731377573,
          0.6970511070869081,
          0.4194957266724947,
          0.061681049091514784,
          -0.9507556644710419,
          0.7340593384254429,
          0.6139051049732597,
          -0.8317653684491251,
          1.0954442004396332,
          -1.1581523414465595,
          0.3966780376468079,
          0.3911334835653038,
          1.2095194912637133,
          0.7546096977757631,
          -1.3150179870054592,
          -0.44464637026532283,
          1.1286384284839377,
          -0.35786232824239456,
          -0.9336274320787418,
          0.5863558023574281,
          -0.1919210478656607,
          0.5378313187354924,
          0.09082803619627672,
          1.7357221326385033,
          1.1556446253223256,
          0.5686597698696654,
          -1.1338032417124926,
          -0.9553152221549908,
          -1.7734744605316648,
          0.39868760063638614,
          1.1782807804737274,
          -0.6938982134007171,
          -1.1086136560997801,
          0.3204232718464325,
          -1.1806398279114312,
          0.33226045696221457,
          -0.3635645155671191,
          0.22050111182070808,
          1.1873887606302356,
          1.5684559422962188,
          -1.0265576789054391,
          0.6505214643076325,
          -0.5834513439943,
          -0.5268200783617016,
          0.6503092030235607,
          0.6736755471146182,
          1.4148694571160867,
          -0.022569580004478833,
          -0.20320652366496075,
          -0.29387086662203316,
          -0.5451948597033087,
          -1.06358208759049,
          -1.4169157973290598,
          -1.118309123684479,
          -0.9499298013641557,
          -0.7818328641766359,
          -0.8305414260347557,
          1.138280048658311,
          0.9827791956418489,
          -0.7534739522182484,
          0.031151918976957113,
          0.058969776558379414,
          -0.31011762031940837,
          1.6191912458677857,
          -0.49745827578734125,
          0.405464188720653,
          -0.8133523677756451,
          -1.0338862256537948,
          -1.7748824259558014,
          -0.9827201647973914,
          -0.34920108526022475,
          0.2812666668813555,
          0.01689806462404408,
          1.306413012772677,
          1.0644106325078488,
          0.3337782220265344,
          1.380257170016684,
          -0.13755899337646868,
          -0.013769941776081575,
          -0.5408542964447592,
          0.03137037167706236,
          -1.084073342092606,
          -0.41579142485416964,
          0.2809810006303696,
          -1.7987697246440635,
          1.036267895807932,
          -0.3790424119852946,
          -0.6711046058589851,
          -0.1186146918227979,
          0.6244041914159955,
          -0.28016996310202436,
          -0.3513737360399828,
          1.0804652947288627,
          0.378344445348406,
          -1.0341484404743888,
          0.862547291216096,
          -0.6698217325922827,
          0.7504903999494242,
          1.133460834905563,
          0.4946242672483324,
          -0.10055514296352448,
          0.4881393273443606,
          -0.45604536044337496,
          1.7660234165469835,
          0.45690610604274456,
          -0.19807772273596194,
          0.24425178899570163,
          1.0423058758854986,
          -1.142514560122431,
          0.06087176197903621,
          -1.1730727089843322,
          -0.39227552542458727,
          -0.3378887325312619,
          0.17283778661981195,
          -0.8775243250753965,
          0.15009121456019947,
          -0.799998575814641,
          -1.3922312010517266,
          -0.1873125055102102,
          2.6144505376452147,
          1.2568002678659533,
          0.2532488308954093,
          1.8096059160131888,
          -1.2338864447475002,
          0.4506326650327278,
          0.9494273748410135,
          1.6683121540478387,
          0.6541744104340571,
          0.20257180696299393,
          -0.807883551421819,
          -0.42719654735416657,
          0.4189730261020536,
          0.8545019282075624,
          0.2321218128317446,
          -0.9324121887782745,
          1.600694312565596,
          -0.39345762678786406,
          -0.6301598693186147,
          -0.34157370856873115,
          -0.757577594605336,
          -1.4860562897925071,
          0.07714339342109913,
          -0.0553193132417719,
          1.076905979079629,
          0.29835821676329016,
          -0.41708246564358087,
          0.882319128617517,
          0.8053275842772022,
          1.9428013501983319,
          -0.6005083612531761,
          0.3426975230431459,
          0.45080992350621724,
          -0.19162736491686516,
          1.5727945006147088,
          -0.23476488931599243,
          0.9746220597320001,
          -0.5747178158381694,
          0.8778726960293862,
          0.9172813809112739,
          -0.9152303513031546,
          -2.014833194021006,
          1.0040106634552128,
          0.628906881982984,
          -0.2911753563045876,
          -1.3077580050149529,
          1.2884261165646882,
          -1.3835529106694742,
          0.6322536773271952,
          0.26829737222164435,
          0.5008723427785602,
          -1.6247806001955263,
          0.6469075328523927,
          -1.0255901179339248,
          -0.2838246905373467,
          -0.6390250938449242,
          0.6179333382569174,
          -1.7913408070796308,
          1.4915649398329693,
          -1.0971614411642832,
          -0.22259117128691328,
          -0.09224956003379142,
          -0.8785412957822542,
          1.6433193925126586,
          -0.5828045900473553,
          0.6999875362982836,
          1.4157290561910525,
          -0.2545474763266736,
          -0.06635844600466441,
          1.3128491566167955,
          1.3666716103893914,
          1.0976152687543073,
          0.5766801539492326,
          1.3282821123596298,
          0.23445692773368568,
          -0.22090394850419917,
          -0.04547071379197694,
          -0.29067770651465985,
          0.7494721967327052,
          1.1094977387592535,
          -1.0602457606164728,
          -1.462556206687286,
          0.15012992028131691,
          0.530439037971472,
          0.5335618001766947,
          0.04093603976096105,
          0.2011514984833391,
          -0.3283233005971931,
          -0.10187781564428713,
          0.6302727861793072,
          -0.6328838443583044,
          0.7949668768276218,
          1.0090500600649066,
          0.19564889968196575,
          -0.3690716661633098,
          -0.31909105534260324,
          0.46259453813846274,
          -1.3020838656853748,
          -1.0556604225739745,
          0.3009124894473349,
          0.13731425936911598,
          0.6123625139886156,
          -1.2325631669000008,
          -0.3382505412542345,
          0.5540051360413926,
          0.6726028750225459,
          -0.2704256738421094,
          -0.08007090489134763,
          -0.23252300232263587,
          1.8950131667155814,
          0.8991571812860176,
          0.9671752709910636,
          1.9550821872496005,
          -2.283631688471609,
          -0.748441396405634,
          0.8581742868871595,
          1.291228805498429,
          0.3661337892416804,
          0.5467814084409754,
          0.5126259451659437,
          1.2408249981676576,
          -0.6173826431301934,
          0.7227644109663202,
          0.2695019083035619,
          0.1440000302159514,
          0.5922887726703214,
          -0.5527257006843734,
          -0.5949097300835031,
          -1.740621853426016,
          -0.344330344953069,
          0.4532692284554228,
          0.8096441787562916,
          -2.1601283006572203,
          0.5814800064746615,
          -0.07070318643732848,
          0.25765302873568713,
          -0.8605507087804675,
          -0.2894062268895464,
          -0.3357795201537276,
          -0.026189610141917515,
          1.410155240503337,
          -0.18007547689382236,
          1.6586002324504616,
          -2.438149979103692,
          -0.08386401355378911,
          1.3249109556630916,
          1.6907081592368447,
          0.7135280607457023,
          -1.3298547162974597,
          0.6790769242147068,
          0.09040018530390577,
          1.3088233601845343,
          -1.8576315979605724,
          0.7503876028962976,
          -0.2748283727591148,
          0.6895698468859941,
          0.25301347302906346,
          0.1887854646550065,
          -0.32345948257105966,
          -3.175719583332487,
          0.22986751878446987,
          2.1589643079891037,
          -2.0616684797658507,
          -0.4804714636925425,
          -1.482913573364002,
          0.23671522484253243,
          -0.5113591149010139,
          1.4682606063477543,
          -0.7331510337596118,
          0.6714092940829849,
          0.38183091055211305,
          0.8449784420764422,
          0.006876977000099347,
          -1.1266107086054264,
          1.5157929191703463
         ],
         "z": [
          -2.3601165868075973,
          -2.4160537235960238,
          0.2987103594014186,
          -1.6891652172001026,
          0.41206910130982255,
          -0.3092401696600025,
          1.1714935997011515,
          0.5243392825447285,
          -1.0499888949275757,
          -2.039824817086938,
          -0.612584112641167,
          -1.0115414438314352,
          -1.3377623303760662,
          1.6303774248715264,
          0.6034501288723847,
          0.9083912468345412,
          -0.29059527167774823,
          -0.9836810030998676,
          -1.125155818042112,
          0.9237128372891565,
          1.0278394916332692,
          -1.3891232341432567,
          1.0857515045220767,
          -0.4257084803720111,
          -1.1503061090027449,
          0.614672915610583,
          -1.5433688859966705,
          -0.5291196804152928,
          -2.957680422384029,
          -0.6827933011878928,
          0.44847995409979796,
          1.6659662148288907,
          0.22068086679179252,
          0.3057117132763709,
          -2.588590709693221,
          0.10701486443245942,
          -0.5460901070925828,
          0.39811371567418147,
          0.5581958330446811,
          -0.40808690782086116,
          -0.44030593195289175,
          -1.7948796882054139,
          -0.1068442590426529,
          1.7374779091450014,
          1.7131268158762651,
          -0.8733041197134039,
          1.2219641479361052,
          0.6644797519807784,
          0.938267031530745,
          0.9888260503711608,
          0.14966878462148778,
          -0.5398367032266237,
          1.4811561707818122,
          -0.3234941024190355,
          1.0603050123262137,
          -0.09517081647244045,
          -1.176029323417496,
          0.17871260281508258,
          -0.2318543389630212,
          -0.29444747544670574,
          -0.5998736596395448,
          -0.04406175455314127,
          -0.3723120249319372,
          0.33802723347515107,
          -0.1109251337277486,
          1.4386348012093417,
          1.1555396527812587,
          0.13940613386466166,
          -1.381555460967296,
          -0.4352378047386085,
          -0.09857127615883926,
          -0.46098047258084446,
          -0.1625276123249291,
          -1.1974143041330847,
          0.8414333631266374,
          0.6780258145920399,
          -0.6288884160256212,
          -0.7179430817110479,
          -0.5356563715375159,
          -0.39285094378540697,
          1.4475112419426472,
          -0.49012251029801013,
          -0.7776644032947785,
          0.3876143771369083,
          -0.17809175742098007,
          0.3580484852349749,
          0.14308361059502764,
          -0.31534582699578456,
          -0.7246005804760264,
          -0.6127537703859364,
          -0.16721092125697407,
          -0.7793739721631275,
          2.5405447417420066,
          -1.3252935198991267,
          -0.49239011968824087,
          1.6565161640151778,
          -1.9777187045682045,
          -0.024335765686263857,
          -0.24516208939627535,
          0.11886263812016024,
          0.7790331399630408,
          -1.7044337165037355,
          1.1975033449526111,
          -0.7786879757921817,
          0.6103127388489078,
          0.40377194614545064,
          2.1818201085706552,
          -1.2234572353879334,
          -1.6465105772110125,
          1.4694404075704783,
          -0.2440118202464805,
          0.5995924241619778,
          1.2585976511662125,
          -1.0649934900791382,
          -0.5585702847989087,
          2.290545275330728,
          0.9757581019776981,
          1.266175979286284,
          -1.223262629813521,
          -0.6042607740053392,
          0.09400870983690891,
          1.2095839218867055,
          1.1093201815856066,
          0.9521668811277716,
          -1.3208928797242436,
          -0.1812381772129292,
          1.5684536795318906,
          -0.5716393844780502,
          -1.396040618702025,
          0.18678634347793183,
          -0.7469923765204699,
          -0.36823285156247115,
          0.7568392261988468,
          -0.8994308090467015,
          -1.0700200700315228,
          0.8556747468058961,
          0.3285148035816981,
          -1.5200435755884534,
          -0.3713769241776529,
          0.3186950097569636,
          -0.45234240343906457,
          0.5918048343202029,
          -1.1016433703002306,
          -0.356526371394919,
          1.9321994214238747,
          -1.2458501510517268,
          1.0420426454250762,
          -3.0212805890612184,
          0.4510017277783742,
          1.8199938620407048,
          -0.6701053144608602,
          -0.9497078008584872,
          0.6849970946904869,
          -1.0107473402387084,
          -0.9079895363195913,
          0.468824424756188,
          0.029122193084071005,
          -0.8452172204964211,
          -0.016583154452721165,
          0.6137112700748205,
          -1.4861044522589937,
          0.5359397128766531,
          0.15986887000821584,
          -0.12297425545432947,
          -0.10137542729457565,
          0.2469224676974892,
          0.8285747818192929,
          -1.2360738433166947,
          -0.6921286810218656,
          -1.4157293494583252,
          -0.7317793707502194,
          -0.8683285229969897,
          0.8242901122733632,
          0.06097115101943225,
          0.767703890896647,
          -2.889573307914679,
          -1.8178110913210583,
          -0.22094723900339308,
          1.3635969204054346,
          -0.9328868172084959,
          -0.6947017478431291,
          -0.9116333270437446,
          1.2742157443597686,
          -2.3265702608588645,
          -0.9139186876701597,
          -0.5129881451157262,
          -1.0657552011357594,
          0.1989473659779419,
          -0.9727338181240457,
          -0.06866618966613114,
          -2.0157468173664523,
          0.9168552124666864,
          1.8096083777803642,
          1.1814316769006161,
          -1.122394267724777,
          0.9416702516984811,
          -0.6768076163369557,
          -0.06089353800703155,
          0.2505309237907398,
          -1.3875798044531458,
          -0.5041108484058717,
          1.9264847540187737,
          0.6973676963399651,
          0.32160006865355006,
          0.0807941082939926,
          -1.7154048526696761,
          0.87274542059022,
          1.7892866758391197,
          0.8829434522055668,
          -0.5021447427989378,
          0.7735678701754786,
          -0.8993181145806837,
          0.2024153586699555,
          0.5739341828634146,
          0.41211226923779654,
          0.10845564132053351,
          1.245021996210393,
          -1.6494070227366406,
          -1.115289748942664,
          -0.8028503843851732,
          0.10284098214463887,
          0.8675029044917962,
          -0.9842336001036447,
          -0.6629812595450875,
          -0.6269117529534243,
          0.8694119560804302,
          0.19485368176524412,
          -2.3686958300621948,
          -0.6264915030146038,
          0.43210513506389253,
          0.03601935204440574,
          0.8836733578905329,
          0.6820813650548004,
          -0.7483373541093653,
          1.4105621607151517,
          -0.2893934307460851,
          -0.9766791288435307,
          1.3033988786710013,
          0.13509369884921568,
          0.00595676218530236,
          -1.6325484228968583,
          0.49591888061323397,
          -2.1945205822193996,
          -0.3334679943749338,
          1.4115897064682135,
          0.26716908188252214,
          1.0857074951100802,
          -2.5301015575984858,
          1.093862630587407,
          -1.0203184587630938,
          -0.9413474698586437,
          1.510316735039205,
          -1.2083284922638597,
          -0.593903258219849,
          -0.4932864968138221,
          1.1933475701811336,
          0.08764576187889181,
          0.8279079273695338,
          -0.9685888671841745,
          -1.8631095765075858,
          -0.3258508647484372,
          0.007893252264059009,
          -0.3092412955916028,
          -1.511278979962394,
          0.20181347105374461,
          -0.8614906149952898,
          -0.5115696620879022,
          -0.02614186006722196,
          -1.2817330546361632,
          -1.6219728307083758,
          -0.9673826375214218,
          0.2576406701566987,
          -0.45325841029363767,
          -1.4318345913310213,
          1.1432216245174163,
          -0.7913436688365844,
          -0.4908860388605362,
          2.126494700169389,
          2.4019443339072124,
          -0.8803138784186761,
          -0.5815893730640924,
          1.321888871872673,
          -0.25318184643052943,
          -1.5115909837600623,
          -0.5576933780474588,
          1.9886496434798724,
          -0.5473810557985946,
          -0.17970396964161417,
          -0.9737173731231364,
          -0.96153240751481,
          0.2369362300422857,
          -1.0956854014153856,
          -0.06345797662420863,
          0.9466139779998948,
          0.6321456968768844,
          -0.330156743782408,
          -0.6255074906756797,
          -0.6922871714953465,
          0.1622571008658173,
          -0.7265324824084727
         ]
        }
       ],
       "layout": {
        "legend": {
         "bgcolor": "#1A1A1C",
         "font": {
          "color": "#D9D9D9"
         }
        },
        "paper_bgcolor": "#1A1A1C",
        "plot_bgcolor": "#1A1A1C",
        "scene": {
         "xaxis": {
          "gridcolor": "#434343",
          "showgrid": true,
          "tickfont": {
           "color": "#C2C2C2"
          },
          "title": {
           "font": {
            "color": "#D9D9D9"
           },
           "text": ""
          },
          "zerolinecolor": "#666570"
         },
         "yaxis": {
          "gridcolor": "#434343",
          "showgrid": true,
          "tickfont": {
           "color": "#C2C2C2"
          },
          "title": {
           "font": {
            "color": "#D9D9D9"
           },
           "text": ""
          },
          "zerolinecolor": "#666570"
         },
         "zaxis": {
          "gridcolor": "#434343",
          "showgrid": true,
          "tickfont": {
           "color": "#C2C2C2"
          },
          "title": {
           "font": {
            "color": "#D9D9D9"
           },
           "text": ""
          },
          "zerolinecolor": "#666570"
         }
        },
        "template": {
         "data": {
          "bar": [
           {
            "error_x": {
             "color": "#2a3f5f"
            },
            "error_y": {
             "color": "#2a3f5f"
            },
            "marker": {
             "line": {
              "color": "#E5ECF6",
              "width": 0.5
             }
            },
            "type": "bar"
           }
          ],
          "barpolar": [
           {
            "marker": {
             "line": {
              "color": "#E5ECF6",
              "width": 0.5
             }
            },
            "type": "barpolar"
           }
          ],
          "carpet": [
           {
            "aaxis": {
             "endlinecolor": "#2a3f5f",
             "gridcolor": "white",
             "linecolor": "white",
             "minorgridcolor": "white",
             "startlinecolor": "#2a3f5f"
            },
            "baxis": {
             "endlinecolor": "#2a3f5f",
             "gridcolor": "white",
             "linecolor": "white",
             "minorgridcolor": "white",
             "startlinecolor": "#2a3f5f"
            },
            "type": "carpet"
           }
          ],
          "choropleth": [
           {
            "colorbar": {
             "outlinewidth": 0,
             "ticks": ""
            },
            "type": "choropleth"
           }
          ],
          "contour": [
           {
            "colorbar": {
             "outlinewidth": 0,
             "ticks": ""
            },
            "colorscale": [
             [
              0,
              "#0d0887"
             ],
             [
              0.1111111111111111,
              "#46039f"
             ],
             [
              0.2222222222222222,
              "#7201a8"
             ],
             [
              0.3333333333333333,
              "#9c179e"
             ],
             [
              0.4444444444444444,
              "#bd3786"
             ],
             [
              0.5555555555555556,
              "#d8576b"
             ],
             [
              0.6666666666666666,
              "#ed7953"
             ],
             [
              0.7777777777777778,
              "#fb9f3a"
             ],
             [
              0.8888888888888888,
              "#fdca26"
             ],
             [
              1,
              "#f0f921"
             ]
            ],
            "type": "contour"
           }
          ],
          "contourcarpet": [
           {
            "colorbar": {
             "outlinewidth": 0,
             "ticks": ""
            },
            "type": "contourcarpet"
           }
          ],
          "heatmap": [
           {
            "colorbar": {
             "outlinewidth": 0,
             "ticks": ""
            },
            "colorscale": [
             [
              0,
              "#0d0887"
             ],
             [
              0.1111111111111111,
              "#46039f"
             ],
             [
              0.2222222222222222,
              "#7201a8"
             ],
             [
              0.3333333333333333,
              "#9c179e"
             ],
             [
              0.4444444444444444,
              "#bd3786"
             ],
             [
              0.5555555555555556,
              "#d8576b"
             ],
             [
              0.6666666666666666,
              "#ed7953"
             ],
             [
              0.7777777777777778,
              "#fb9f3a"
             ],
             [
              0.8888888888888888,
              "#fdca26"
             ],
             [
              1,
              "#f0f921"
             ]
            ],
            "type": "heatmap"
           }
          ],
          "heatmapgl": [
           {
            "colorbar": {
             "outlinewidth": 0,
             "ticks": ""
            },
            "colorscale": [
             [
              0,
              "#0d0887"
             ],
             [
              0.1111111111111111,
              "#46039f"
             ],
             [
              0.2222222222222222,
              "#7201a8"
             ],
             [
              0.3333333333333333,
              "#9c179e"
             ],
             [
              0.4444444444444444,
              "#bd3786"
             ],
             [
              0.5555555555555556,
              "#d8576b"
             ],
             [
              0.6666666666666666,
              "#ed7953"
             ],
             [
              0.7777777777777778,
              "#fb9f3a"
             ],
             [
              0.8888888888888888,
              "#fdca26"
             ],
             [
              1,
              "#f0f921"
             ]
            ],
            "type": "heatmapgl"
           }
          ],
          "histogram": [
           {
            "marker": {
             "colorbar": {
              "outlinewidth": 0,
              "ticks": ""
             }
            },
            "type": "histogram"
           }
          ],
          "histogram2d": [
           {
            "colorbar": {
             "outlinewidth": 0,
             "ticks": ""
            },
            "colorscale": [
             [
              0,
              "#0d0887"
             ],
             [
              0.1111111111111111,
              "#46039f"
             ],
             [
              0.2222222222222222,
              "#7201a8"
             ],
             [
              0.3333333333333333,
              "#9c179e"
             ],
             [
              0.4444444444444444,
              "#bd3786"
             ],
             [
              0.5555555555555556,
              "#d8576b"
             ],
             [
              0.6666666666666666,
              "#ed7953"
             ],
             [
              0.7777777777777778,
              "#fb9f3a"
             ],
             [
              0.8888888888888888,
              "#fdca26"
             ],
             [
              1,
              "#f0f921"
             ]
            ],
            "type": "histogram2d"
           }
          ],
          "histogram2dcontour": [
           {
            "colorbar": {
             "outlinewidth": 0,
             "ticks": ""
            },
            "colorscale": [
             [
              0,
              "#0d0887"
             ],
             [
              0.1111111111111111,
              "#46039f"
             ],
             [
              0.2222222222222222,
              "#7201a8"
             ],
             [
              0.3333333333333333,
              "#9c179e"
             ],
             [
              0.4444444444444444,
              "#bd3786"
             ],
             [
              0.5555555555555556,
              "#d8576b"
             ],
             [
              0.6666666666666666,
              "#ed7953"
             ],
             [
              0.7777777777777778,
              "#fb9f3a"
             ],
             [
              0.8888888888888888,
              "#fdca26"
             ],
             [
              1,
              "#f0f921"
             ]
            ],
            "type": "histogram2dcontour"
           }
          ],
          "mesh3d": [
           {
            "colorbar": {
             "outlinewidth": 0,
             "ticks": ""
            },
            "type": "mesh3d"
           }
          ],
          "parcoords": [
           {
            "line": {
             "colorbar": {
              "outlinewidth": 0,
              "ticks": ""
             }
            },
            "type": "parcoords"
           }
          ],
          "pie": [
           {
            "automargin": true,
            "type": "pie"
           }
          ],
          "scatter": [
           {
            "marker": {
             "colorbar": {
              "outlinewidth": 0,
              "ticks": ""
             }
            },
            "type": "scatter"
           }
          ],
          "scatter3d": [
           {
            "line": {
             "colorbar": {
              "outlinewidth": 0,
              "ticks": ""
             }
            },
            "marker": {
             "colorbar": {
              "outlinewidth": 0,
              "ticks": ""
             }
            },
            "type": "scatter3d"
           }
          ],
          "scattercarpet": [
           {
            "marker": {
             "colorbar": {
              "outlinewidth": 0,
              "ticks": ""
             }
            },
            "type": "scattercarpet"
           }
          ],
          "scattergeo": [
           {
            "marker": {
             "colorbar": {
              "outlinewidth": 0,
              "ticks": ""
             }
            },
            "type": "scattergeo"
           }
          ],
          "scattergl": [
           {
            "marker": {
             "colorbar": {
              "outlinewidth": 0,
              "ticks": ""
             }
            },
            "type": "scattergl"
           }
          ],
          "scattermapbox": [
           {
            "marker": {
             "colorbar": {
              "outlinewidth": 0,
              "ticks": ""
             }
            },
            "type": "scattermapbox"
           }
          ],
          "scatterpolar": [
           {
            "marker": {
             "colorbar": {
              "outlinewidth": 0,
              "ticks": ""
             }
            },
            "type": "scatterpolar"
           }
          ],
          "scatterpolargl": [
           {
            "marker": {
             "colorbar": {
              "outlinewidth": 0,
              "ticks": ""
             }
            },
            "type": "scatterpolargl"
           }
          ],
          "scatterternary": [
           {
            "marker": {
             "colorbar": {
              "outlinewidth": 0,
              "ticks": ""
             }
            },
            "type": "scatterternary"
           }
          ],
          "surface": [
           {
            "colorbar": {
             "outlinewidth": 0,
             "ticks": ""
            },
            "colorscale": [
             [
              0,
              "#0d0887"
             ],
             [
              0.1111111111111111,
              "#46039f"
             ],
             [
              0.2222222222222222,
              "#7201a8"
             ],
             [
              0.3333333333333333,
              "#9c179e"
             ],
             [
              0.4444444444444444,
              "#bd3786"
             ],
             [
              0.5555555555555556,
              "#d8576b"
             ],
             [
              0.6666666666666666,
              "#ed7953"
             ],
             [
              0.7777777777777778,
              "#fb9f3a"
             ],
             [
              0.8888888888888888,
              "#fdca26"
             ],
             [
              1,
              "#f0f921"
             ]
            ],
            "type": "surface"
           }
          ],
          "table": [
           {
            "cells": {
             "fill": {
              "color": "#EBF0F8"
             },
             "line": {
              "color": "white"
             }
            },
            "header": {
             "fill": {
              "color": "#C8D4E3"
             },
             "line": {
              "color": "white"
             }
            },
            "type": "table"
           }
          ]
         },
         "layout": {
          "annotationdefaults": {
           "arrowcolor": "#2a3f5f",
           "arrowhead": 0,
           "arrowwidth": 1
          },
          "coloraxis": {
           "colorbar": {
            "outlinewidth": 0,
            "ticks": ""
           }
          },
          "colorscale": {
           "diverging": [
            [
             0,
             "#8e0152"
            ],
            [
             0.1,
             "#c51b7d"
            ],
            [
             0.2,
             "#de77ae"
            ],
            [
             0.3,
             "#f1b6da"
            ],
            [
             0.4,
             "#fde0ef"
            ],
            [
             0.5,
             "#f7f7f7"
            ],
            [
             0.6,
             "#e6f5d0"
            ],
            [
             0.7,
             "#b8e186"
            ],
            [
             0.8,
             "#7fbc41"
            ],
            [
             0.9,
             "#4d9221"
            ],
            [
             1,
             "#276419"
            ]
           ],
           "sequential": [
            [
             0,
             "#0d0887"
            ],
            [
             0.1111111111111111,
             "#46039f"
            ],
            [
             0.2222222222222222,
             "#7201a8"
            ],
            [
             0.3333333333333333,
             "#9c179e"
            ],
            [
             0.4444444444444444,
             "#bd3786"
            ],
            [
             0.5555555555555556,
             "#d8576b"
            ],
            [
             0.6666666666666666,
             "#ed7953"
            ],
            [
             0.7777777777777778,
             "#fb9f3a"
            ],
            [
             0.8888888888888888,
             "#fdca26"
            ],
            [
             1,
             "#f0f921"
            ]
           ],
           "sequentialminus": [
            [
             0,
             "#0d0887"
            ],
            [
             0.1111111111111111,
             "#46039f"
            ],
            [
             0.2222222222222222,
             "#7201a8"
            ],
            [
             0.3333333333333333,
             "#9c179e"
            ],
            [
             0.4444444444444444,
             "#bd3786"
            ],
            [
             0.5555555555555556,
             "#d8576b"
            ],
            [
             0.6666666666666666,
             "#ed7953"
            ],
            [
             0.7777777777777778,
             "#fb9f3a"
            ],
            [
             0.8888888888888888,
             "#fdca26"
            ],
            [
             1,
             "#f0f921"
            ]
           ]
          },
          "colorway": [
           "#636efa",
           "#EF553B",
           "#00cc96",
           "#ab63fa",
           "#FFA15A",
           "#19d3f3",
           "#FF6692",
           "#B6E880",
           "#FF97FF",
           "#FECB52"
          ],
          "font": {
           "color": "#2a3f5f"
          },
          "geo": {
           "bgcolor": "white",
           "lakecolor": "white",
           "landcolor": "#E5ECF6",
           "showlakes": true,
           "showland": true,
           "subunitcolor": "white"
          },
          "hoverlabel": {
           "align": "left"
          },
          "hovermode": "closest",
          "mapbox": {
           "style": "light"
          },
          "paper_bgcolor": "white",
          "plot_bgcolor": "#E5ECF6",
          "polar": {
           "angularaxis": {
            "gridcolor": "white",
            "linecolor": "white",
            "ticks": ""
           },
           "bgcolor": "#E5ECF6",
           "radialaxis": {
            "gridcolor": "white",
            "linecolor": "white",
            "ticks": ""
           }
          },
          "scene": {
           "xaxis": {
            "backgroundcolor": "#E5ECF6",
            "gridcolor": "white",
            "gridwidth": 2,
            "linecolor": "white",
            "showbackground": true,
            "ticks": "",
            "zerolinecolor": "white"
           },
           "yaxis": {
            "backgroundcolor": "#E5ECF6",
            "gridcolor": "white",
            "gridwidth": 2,
            "linecolor": "white",
            "showbackground": true,
            "ticks": "",
            "zerolinecolor": "white"
           },
           "zaxis": {
            "backgroundcolor": "#E5ECF6",
            "gridcolor": "white",
            "gridwidth": 2,
            "linecolor": "white",
            "showbackground": true,
            "ticks": "",
            "zerolinecolor": "white"
           }
          },
          "shapedefaults": {
           "line": {
            "color": "#2a3f5f"
           }
          },
          "ternary": {
           "aaxis": {
            "gridcolor": "white",
            "linecolor": "white",
            "ticks": ""
           },
           "baxis": {
            "gridcolor": "white",
            "linecolor": "white",
            "ticks": ""
           },
           "bgcolor": "#E5ECF6",
           "caxis": {
            "gridcolor": "white",
            "linecolor": "white",
            "ticks": ""
           }
          },
          "title": {
           "x": 0.05
          },
          "xaxis": {
           "automargin": true,
           "gridcolor": "white",
           "linecolor": "white",
           "ticks": "",
           "title": {
            "standoff": 15
           },
           "zerolinecolor": "white",
           "zerolinewidth": 2
          },
          "yaxis": {
           "automargin": true,
           "gridcolor": "white",
           "linecolor": "white",
           "ticks": "",
           "title": {
            "standoff": 15
           },
           "zerolinecolor": "white",
           "zerolinewidth": 2
          }
         }
        },
        "title": {
         "font": {
          "color": "#D9D9D9"
         }
        }
       }
      },
      "text/html": [
       "<div>\n",
       "        \n",
       "        \n",
       "            <div id=\"9dacb613-3c72-4824-81b0-01384dea30b9\" class=\"plotly-graph-div\" style=\"height:525px; width:100%;\"></div>\n",
       "            <script type=\"text/javascript\">\n",
       "                require([\"plotly\"], function(Plotly) {\n",
       "                    window.PLOTLYENV=window.PLOTLYENV || {};\n",
       "                    window.PLOTLYENV.BASE_URL='https://plot.ly';\n",
       "                    \n",
       "                if (document.getElementById(\"9dacb613-3c72-4824-81b0-01384dea30b9\")) {\n",
       "                    Plotly.newPlot(\n",
       "                        '9dacb613-3c72-4824-81b0-01384dea30b9',\n",
       "                        [{\"marker\": {\"color\": [\"rgba(255, 153, 51, 1.0)\", \"rgba(55, 128, 191, 1.0)\", \"rgba(50, 171, 96, 1.0)\", \"rgba(128, 0, 128, 1.0)\", \"rgba(219, 64, 82, 1.0)\", \"rgba(0, 128, 128, 1.0)\", \"rgba(255, 255, 51, 1.0)\", \"rgba(128, 128, 0, 1.0)\", \"rgba(251, 128, 114, 1.0)\", \"rgba(128, 177, 211, 1.0)\", \"rgba(128, 177, 211, 0.9733333333333334)\", \"rgba(255, 153, 51, 0.9733333333333334)\", \"rgba(55, 128, 191, 0.9733333333333334)\", \"rgba(50, 171, 96, 0.9733333333333334)\", \"rgba(128, 0, 128, 0.9733333333333334)\", \"rgba(219, 64, 82, 0.9733333333333334)\", \"rgba(0, 128, 128, 0.9733333333333334)\", \"rgba(255, 255, 51, 0.9733333333333334)\", \"rgba(128, 128, 0, 0.9733333333333334)\", \"rgba(251, 128, 114, 0.9733333333333334)\", \"rgba(251, 128, 114, 0.9466666666666665)\", \"rgba(128, 177, 211, 0.9466666666666665)\", \"rgba(255, 153, 51, 0.9466666666666665)\", \"rgba(55, 128, 191, 0.9466666666666665)\", \"rgba(50, 171, 96, 0.9466666666666665)\", \"rgba(128, 0, 128, 0.9466666666666665)\", \"rgba(219, 64, 82, 0.9466666666666665)\", \"rgba(0, 128, 128, 0.9466666666666665)\", \"rgba(255, 255, 51, 0.9466666666666665)\", \"rgba(128, 128, 0, 0.9466666666666665)\", \"rgba(128, 128, 0, 0.9199999999999999)\", \"rgba(251, 128, 114, 0.9199999999999999)\", \"rgba(128, 177, 211, 0.9199999999999999)\", \"rgba(255, 153, 51, 0.9199999999999999)\", \"rgba(55, 128, 191, 0.9199999999999999)\", \"rgba(50, 171, 96, 0.9199999999999999)\", \"rgba(128, 0, 128, 0.9199999999999999)\", \"rgba(219, 64, 82, 0.9199999999999999)\", \"rgba(0, 128, 128, 0.9199999999999999)\", \"rgba(255, 255, 51, 0.9199999999999999)\", \"rgba(255, 255, 51, 0.8933333333333333)\", \"rgba(128, 128, 0, 0.8933333333333333)\", \"rgba(251, 128, 114, 0.8933333333333333)\", \"rgba(128, 177, 211, 0.8933333333333333)\", \"rgba(255, 153, 51, 0.8933333333333333)\", \"rgba(55, 128, 191, 0.8933333333333333)\", \"rgba(50, 171, 96, 0.8933333333333333)\", \"rgba(128, 0, 128, 0.8933333333333333)\", \"rgba(219, 64, 82, 0.8933333333333333)\", \"rgba(0, 128, 128, 0.8933333333333333)\", \"rgba(0, 128, 128, 0.8666666666666667)\", \"rgba(255, 255, 51, 0.8666666666666667)\", \"rgba(128, 128, 0, 0.8666666666666667)\", \"rgba(251, 128, 114, 0.8666666666666667)\", \"rgba(128, 177, 211, 0.8666666666666667)\", \"rgba(255, 153, 51, 0.8666666666666667)\", \"rgba(55, 128, 191, 0.8666666666666667)\", \"rgba(50, 171, 96, 0.8666666666666667)\", \"rgba(128, 0, 128, 0.8666666666666667)\", \"rgba(219, 64, 82, 0.8666666666666667)\", \"rgba(219, 64, 82, 0.8399999999999999)\", \"rgba(0, 128, 128, 0.8399999999999999)\", \"rgba(255, 255, 51, 0.8399999999999999)\", \"rgba(128, 128, 0, 0.8399999999999999)\", \"rgba(251, 128, 114, 0.8399999999999999)\", \"rgba(128, 177, 211, 0.8399999999999999)\", \"rgba(255, 153, 51, 0.8399999999999999)\", \"rgba(55, 128, 191, 0.8399999999999999)\", \"rgba(50, 171, 96, 0.8399999999999999)\", \"rgba(128, 0, 128, 0.8399999999999999)\", \"rgba(128, 0, 128, 0.8133333333333332)\", \"rgba(219, 64, 82, 0.8133333333333332)\", \"rgba(0, 128, 128, 0.8133333333333332)\", \"rgba(255, 255, 51, 0.8133333333333332)\", \"rgba(128, 128, 0, 0.8133333333333332)\", \"rgba(251, 128, 114, 0.8133333333333332)\", \"rgba(128, 177, 211, 0.8133333333333332)\", \"rgba(255, 153, 51, 0.8133333333333332)\", \"rgba(55, 128, 191, 0.8133333333333332)\", \"rgba(50, 171, 96, 0.8133333333333332)\", \"rgba(50, 171, 96, 0.7866666666666666)\", \"rgba(128, 0, 128, 0.7866666666666666)\", \"rgba(219, 64, 82, 0.7866666666666666)\", \"rgba(0, 128, 128, 0.7866666666666666)\", \"rgba(255, 255, 51, 0.7866666666666666)\", \"rgba(128, 128, 0, 0.7866666666666666)\", \"rgba(251, 128, 114, 0.7866666666666666)\", \"rgba(128, 177, 211, 0.7866666666666666)\", \"rgba(255, 153, 51, 0.7866666666666666)\", \"rgba(55, 128, 191, 0.7866666666666666)\", \"rgba(55, 128, 191, 0.76)\", \"rgba(50, 171, 96, 0.76)\", \"rgba(128, 0, 128, 0.76)\", \"rgba(219, 64, 82, 0.76)\", \"rgba(0, 128, 128, 0.76)\", \"rgba(255, 255, 51, 0.76)\", \"rgba(128, 128, 0, 0.76)\", \"rgba(251, 128, 114, 0.76)\", \"rgba(128, 177, 211, 0.76)\", \"rgba(255, 153, 51, 0.76)\", \"rgba(255, 153, 51, 0.7333333333333332)\", \"rgba(55, 128, 191, 0.7333333333333332)\", \"rgba(50, 171, 96, 0.7333333333333332)\", \"rgba(128, 0, 128, 0.7333333333333332)\", \"rgba(219, 64, 82, 0.7333333333333332)\", \"rgba(0, 128, 128, 0.7333333333333332)\", \"rgba(255, 255, 51, 0.7333333333333332)\", \"rgba(128, 128, 0, 0.7333333333333332)\", \"rgba(251, 128, 114, 0.7333333333333332)\", \"rgba(128, 177, 211, 0.7333333333333332)\", \"rgba(128, 177, 211, 0.7066666666666666)\", \"rgba(255, 153, 51, 0.7066666666666666)\", \"rgba(55, 128, 191, 0.7066666666666666)\", \"rgba(50, 171, 96, 0.7066666666666666)\", \"rgba(128, 0, 128, 0.7066666666666666)\", \"rgba(219, 64, 82, 0.7066666666666666)\", \"rgba(0, 128, 128, 0.7066666666666666)\", \"rgba(255, 255, 51, 0.7066666666666666)\", \"rgba(128, 128, 0, 0.7066666666666666)\", \"rgba(251, 128, 114, 0.7066666666666666)\", \"rgba(251, 128, 114, 0.6799999999999999)\", \"rgba(128, 177, 211, 0.6799999999999999)\", \"rgba(255, 153, 51, 0.6799999999999999)\", \"rgba(55, 128, 191, 0.6799999999999999)\", \"rgba(50, 171, 96, 0.6799999999999999)\", \"rgba(128, 0, 128, 0.6799999999999999)\", \"rgba(219, 64, 82, 0.6799999999999999)\", \"rgba(0, 128, 128, 0.6799999999999999)\", \"rgba(255, 255, 51, 0.6799999999999999)\", \"rgba(128, 128, 0, 0.6799999999999999)\", \"rgba(128, 128, 0, 0.6533333333333333)\", \"rgba(251, 128, 114, 0.6533333333333333)\", \"rgba(128, 177, 211, 0.6533333333333333)\", \"rgba(255, 153, 51, 0.6533333333333333)\", \"rgba(55, 128, 191, 0.6533333333333333)\", \"rgba(50, 171, 96, 0.6533333333333333)\", \"rgba(128, 0, 128, 0.6533333333333333)\", \"rgba(219, 64, 82, 0.6533333333333333)\", \"rgba(0, 128, 128, 0.6533333333333333)\", \"rgba(255, 255, 51, 0.6533333333333333)\", \"rgba(255, 255, 51, 0.6266666666666665)\", \"rgba(128, 128, 0, 0.6266666666666665)\", \"rgba(251, 128, 114, 0.6266666666666665)\", \"rgba(128, 177, 211, 0.6266666666666665)\", \"rgba(255, 153, 51, 0.6266666666666665)\", \"rgba(55, 128, 191, 0.6266666666666665)\", \"rgba(50, 171, 96, 0.6266666666666665)\", \"rgba(128, 0, 128, 0.6266666666666665)\", \"rgba(219, 64, 82, 0.6266666666666665)\", \"rgba(0, 128, 128, 0.6266666666666665)\", \"rgba(0, 128, 128, 0.5999999999999999)\", \"rgba(255, 255, 51, 0.5999999999999999)\", \"rgba(128, 128, 0, 0.5999999999999999)\", \"rgba(251, 128, 114, 0.5999999999999999)\", \"rgba(128, 177, 211, 0.5999999999999999)\", \"rgba(255, 153, 51, 0.5999999999999999)\", \"rgba(55, 128, 191, 0.5999999999999999)\", \"rgba(50, 171, 96, 0.5999999999999999)\", \"rgba(128, 0, 128, 0.5999999999999999)\", \"rgba(219, 64, 82, 0.5999999999999999)\", \"rgba(219, 64, 82, 0.5733333333333333)\", \"rgba(0, 128, 128, 0.5733333333333333)\", \"rgba(255, 255, 51, 0.5733333333333333)\", \"rgba(128, 128, 0, 0.5733333333333333)\", \"rgba(251, 128, 114, 0.5733333333333333)\", \"rgba(128, 177, 211, 0.5733333333333333)\", \"rgba(255, 153, 51, 0.5733333333333333)\", \"rgba(55, 128, 191, 0.5733333333333333)\", \"rgba(50, 171, 96, 0.5733333333333333)\", \"rgba(128, 0, 128, 0.5733333333333333)\", \"rgba(128, 0, 128, 0.5466666666666666)\", \"rgba(219, 64, 82, 0.5466666666666666)\", \"rgba(0, 128, 128, 0.5466666666666666)\", \"rgba(255, 255, 51, 0.5466666666666666)\", \"rgba(128, 128, 0, 0.5466666666666666)\", \"rgba(251, 128, 114, 0.5466666666666666)\", \"rgba(128, 177, 211, 0.5466666666666666)\", \"rgba(255, 153, 51, 0.5466666666666666)\", \"rgba(55, 128, 191, 0.5466666666666666)\", \"rgba(50, 171, 96, 0.5466666666666666)\", \"rgba(50, 171, 96, 0.5199999999999998)\", \"rgba(128, 0, 128, 0.5199999999999998)\", \"rgba(219, 64, 82, 0.5199999999999998)\", \"rgba(0, 128, 128, 0.5199999999999998)\", \"rgba(255, 255, 51, 0.5199999999999998)\", \"rgba(128, 128, 0, 0.5199999999999998)\", \"rgba(251, 128, 114, 0.5199999999999998)\", \"rgba(128, 177, 211, 0.5199999999999998)\", \"rgba(255, 153, 51, 0.5199999999999998)\", \"rgba(55, 128, 191, 0.5199999999999998)\", \"rgba(55, 128, 191, 0.49333333333333323)\", \"rgba(50, 171, 96, 0.49333333333333323)\", \"rgba(128, 0, 128, 0.49333333333333323)\", \"rgba(219, 64, 82, 0.49333333333333323)\", \"rgba(0, 128, 128, 0.49333333333333323)\", \"rgba(255, 255, 51, 0.49333333333333323)\", \"rgba(128, 128, 0, 0.49333333333333323)\", \"rgba(251, 128, 114, 0.49333333333333323)\", \"rgba(128, 177, 211, 0.49333333333333323)\", \"rgba(255, 153, 51, 0.49333333333333323)\", \"rgba(255, 153, 51, 0.4666666666666666)\", \"rgba(55, 128, 191, 0.4666666666666666)\", \"rgba(50, 171, 96, 0.4666666666666666)\", \"rgba(128, 0, 128, 0.4666666666666666)\", \"rgba(219, 64, 82, 0.4666666666666666)\", \"rgba(0, 128, 128, 0.4666666666666666)\", \"rgba(255, 255, 51, 0.4666666666666666)\", \"rgba(128, 128, 0, 0.4666666666666666)\", \"rgba(251, 128, 114, 0.4666666666666666)\", \"rgba(128, 177, 211, 0.4666666666666666)\", \"rgba(128, 177, 211, 0.44)\", \"rgba(255, 153, 51, 0.44)\", \"rgba(55, 128, 191, 0.44)\", \"rgba(50, 171, 96, 0.44)\", \"rgba(128, 0, 128, 0.44)\", \"rgba(219, 64, 82, 0.44)\", \"rgba(0, 128, 128, 0.44)\", \"rgba(255, 255, 51, 0.44)\", \"rgba(128, 128, 0, 0.44)\", \"rgba(251, 128, 114, 0.44)\", \"rgba(251, 128, 114, 0.41333333333333316)\", \"rgba(128, 177, 211, 0.41333333333333316)\", \"rgba(255, 153, 51, 0.41333333333333316)\", \"rgba(55, 128, 191, 0.41333333333333316)\", \"rgba(50, 171, 96, 0.41333333333333316)\", \"rgba(128, 0, 128, 0.41333333333333316)\", \"rgba(219, 64, 82, 0.41333333333333316)\", \"rgba(0, 128, 128, 0.41333333333333316)\", \"rgba(255, 255, 51, 0.41333333333333316)\", \"rgba(128, 128, 0, 0.41333333333333316)\", \"rgba(128, 128, 0, 0.38666666666666655)\", \"rgba(251, 128, 114, 0.38666666666666655)\", \"rgba(128, 177, 211, 0.38666666666666655)\", \"rgba(255, 153, 51, 0.38666666666666655)\", \"rgba(55, 128, 191, 0.38666666666666655)\", \"rgba(50, 171, 96, 0.38666666666666655)\", \"rgba(128, 0, 128, 0.38666666666666655)\", \"rgba(219, 64, 82, 0.38666666666666655)\", \"rgba(0, 128, 128, 0.38666666666666655)\", \"rgba(255, 255, 51, 0.38666666666666655)\", \"rgba(255, 255, 51, 0.35999999999999993)\", \"rgba(128, 128, 0, 0.35999999999999993)\", \"rgba(251, 128, 114, 0.35999999999999993)\", \"rgba(128, 177, 211, 0.35999999999999993)\", \"rgba(255, 153, 51, 0.35999999999999993)\", \"rgba(55, 128, 191, 0.35999999999999993)\", \"rgba(50, 171, 96, 0.35999999999999993)\", \"rgba(128, 0, 128, 0.35999999999999993)\", \"rgba(219, 64, 82, 0.35999999999999993)\", \"rgba(0, 128, 128, 0.35999999999999993)\", \"rgba(0, 128, 128, 0.3333333333333333)\", \"rgba(255, 255, 51, 0.3333333333333333)\", \"rgba(128, 128, 0, 0.3333333333333333)\", \"rgba(251, 128, 114, 0.3333333333333333)\", \"rgba(128, 177, 211, 0.3333333333333333)\", \"rgba(255, 153, 51, 0.3333333333333333)\", \"rgba(55, 128, 191, 0.3333333333333333)\", \"rgba(50, 171, 96, 0.3333333333333333)\", \"rgba(128, 0, 128, 0.3333333333333333)\", \"rgba(219, 64, 82, 0.3333333333333333)\", \"rgba(219, 64, 82, 0.3066666666666665)\", \"rgba(0, 128, 128, 0.3066666666666665)\", \"rgba(255, 255, 51, 0.3066666666666665)\", \"rgba(128, 128, 0, 0.3066666666666665)\", \"rgba(251, 128, 114, 0.3066666666666665)\", \"rgba(128, 177, 211, 0.3066666666666665)\", \"rgba(255, 153, 51, 0.3066666666666665)\", \"rgba(55, 128, 191, 0.3066666666666665)\", \"rgba(50, 171, 96, 0.3066666666666665)\", \"rgba(128, 0, 128, 0.3066666666666665)\", \"rgba(128, 0, 128, 0.27999999999999986)\", \"rgba(219, 64, 82, 0.27999999999999986)\", \"rgba(0, 128, 128, 0.27999999999999986)\", \"rgba(255, 255, 51, 0.27999999999999986)\", \"rgba(128, 128, 0, 0.27999999999999986)\", \"rgba(251, 128, 114, 0.27999999999999986)\", \"rgba(128, 177, 211, 0.27999999999999986)\", \"rgba(255, 153, 51, 0.27999999999999986)\", \"rgba(55, 128, 191, 0.27999999999999986)\", \"rgba(50, 171, 96, 0.27999999999999986)\", \"rgba(50, 171, 96, 0.25333333333333324)\", \"rgba(128, 0, 128, 0.25333333333333324)\", \"rgba(219, 64, 82, 0.25333333333333324)\", \"rgba(0, 128, 128, 0.25333333333333324)\", \"rgba(255, 255, 51, 0.25333333333333324)\", \"rgba(128, 128, 0, 0.25333333333333324)\", \"rgba(251, 128, 114, 0.25333333333333324)\", \"rgba(128, 177, 211, 0.25333333333333324)\", \"rgba(255, 153, 51, 0.25333333333333324)\", \"rgba(55, 128, 191, 0.25333333333333324)\", \"rgba(55, 128, 191, 0.22666666666666663)\", \"rgba(50, 171, 96, 0.22666666666666663)\", \"rgba(128, 0, 128, 0.22666666666666663)\", \"rgba(219, 64, 82, 0.22666666666666663)\", \"rgba(0, 128, 128, 0.22666666666666663)\", \"rgba(255, 255, 51, 0.22666666666666663)\", \"rgba(128, 128, 0, 0.22666666666666663)\", \"rgba(251, 128, 114, 0.22666666666666663)\", \"rgba(128, 177, 211, 0.22666666666666663)\", \"rgba(255, 153, 51, 0.22666666666666663)\"], \"opacity\": 0.8, \"size\": [12, 12, 12, 12, 12, 12, 12, 12, 12, 12, 12, 12, 12, 12, 12, 12, 12, 12, 12, 12, 12, 12, 12, 12, 12, 12, 12, 12, 12, 12, 12, 12, 12, 12, 12, 12, 12, 12, 12, 12, 12, 12, 12, 12, 12, 12, 12, 12, 12, 12, 12, 12, 12, 12, 12, 12, 12, 12, 12, 12, 12, 12, 12, 12, 12, 12, 12, 12, 12, 12, 12, 12, 12, 12, 12, 12, 12, 12, 12, 12, 12, 12, 12, 12, 12, 12, 12, 12, 12, 12, 12, 12, 12, 12, 12, 12, 12, 12, 12, 12, 12, 12, 12, 12, 12, 12, 12, 12, 12, 12, 12, 12, 12, 12, 12, 12, 12, 12, 12, 12, 12, 12, 12, 12, 12, 12, 12, 12, 12, 12, 12, 12, 12, 12, 12, 12, 12, 12, 12, 12, 12, 12, 12, 12, 12, 12, 12, 12, 12, 12, 12, 12, 12, 12, 12, 12, 12, 12, 12, 12, 12, 12, 12, 12, 12, 12, 12, 12, 12, 12, 12, 12, 12, 12, 12, 12, 12, 12, 12, 12, 12, 12, 12, 12, 12, 12, 12, 12, 12, 12, 12, 12, 12, 12, 12, 12, 12, 12, 12, 12, 12, 12, 12, 12, 12, 12, 12, 12, 12, 12, 12, 12, 12, 12, 12, 12, 12, 12, 12, 12, 12, 12, 12, 12, 12, 12, 12, 12, 12, 12, 12, 12, 12, 12, 12, 12, 12, 12, 12, 12, 12, 12, 12, 12, 12, 12, 12, 12, 12, 12, 12, 12, 12, 12, 12, 12, 12, 12, 12, 12, 12, 12, 12, 12, 12, 12, 12, 12, 12, 12, 12, 12, 12, 12, 12, 12, 12, 12, 12, 12, 12, 12, 12, 12, 12, 12, 12, 12, 12, 12, 12, 12, 12, 12, 12, 12, 12, 12, 12, 12], \"symbol\": \"circle\"}, \"mode\": \"markers\", \"text\": [\"0\", \"1\", \"2\", \"3\", \"4\", \"5\", \"6\", \"7\", \"8\", \"9\", \"10\", \"11\", \"12\", \"13\", \"14\", \"15\", \"16\", \"17\", \"18\", \"19\", \"20\", \"21\", \"22\", \"23\", \"24\", \"25\", \"26\", \"27\", \"28\", \"29\", \"30\", \"31\", \"32\", \"33\", \"34\", \"35\", \"36\", \"37\", \"38\", \"39\", \"40\", \"41\", \"42\", \"43\", \"44\", \"45\", \"46\", \"47\", \"48\", \"49\", \"50\", \"51\", \"52\", \"53\", \"54\", \"55\", \"56\", \"57\", \"58\", \"59\", \"60\", \"61\", \"62\", \"63\", \"64\", \"65\", \"66\", \"67\", \"68\", \"69\", \"70\", \"71\", \"72\", \"73\", \"74\", \"75\", \"76\", \"77\", \"78\", \"79\", \"80\", \"81\", \"82\", \"83\", \"84\", \"85\", \"86\", \"87\", \"88\", \"89\", \"90\", \"91\", \"92\", \"93\", \"94\", \"95\", \"96\", \"97\", \"98\", \"99\", \"100\", \"101\", \"102\", \"103\", \"104\", \"105\", \"106\", \"107\", \"108\", \"109\", \"110\", \"111\", \"112\", \"113\", \"114\", \"115\", \"116\", \"117\", \"118\", \"119\", \"120\", \"121\", \"122\", \"123\", \"124\", \"125\", \"126\", \"127\", \"128\", \"129\", \"130\", \"131\", \"132\", \"133\", \"134\", \"135\", \"136\", \"137\", \"138\", \"139\", \"140\", \"141\", \"142\", \"143\", \"144\", \"145\", \"146\", \"147\", \"148\", \"149\", \"150\", \"151\", \"152\", \"153\", \"154\", \"155\", \"156\", \"157\", \"158\", \"159\", \"160\", \"161\", \"162\", \"163\", \"164\", \"165\", \"166\", \"167\", \"168\", \"169\", \"170\", \"171\", \"172\", \"173\", \"174\", \"175\", \"176\", \"177\", \"178\", \"179\", \"180\", \"181\", \"182\", \"183\", \"184\", \"185\", \"186\", \"187\", \"188\", \"189\", \"190\", \"191\", \"192\", \"193\", \"194\", \"195\", \"196\", \"197\", \"198\", \"199\", \"200\", \"201\", \"202\", \"203\", \"204\", \"205\", \"206\", \"207\", \"208\", \"209\", \"210\", \"211\", \"212\", \"213\", \"214\", \"215\", \"216\", \"217\", \"218\", \"219\", \"220\", \"221\", \"222\", \"223\", \"224\", \"225\", \"226\", \"227\", \"228\", \"229\", \"230\", \"231\", \"232\", \"233\", \"234\", \"235\", \"236\", \"237\", \"238\", \"239\", \"240\", \"241\", \"242\", \"243\", \"244\", \"245\", \"246\", \"247\", \"248\", \"249\", \"250\", \"251\", \"252\", \"253\", \"254\", \"255\", \"256\", \"257\", \"258\", \"259\", \"260\", \"261\", \"262\", \"263\", \"264\", \"265\", \"266\", \"267\", \"268\", \"269\", \"270\", \"271\", \"272\", \"273\", \"274\", \"275\", \"276\", \"277\", \"278\", \"279\", \"280\", \"281\", \"282\", \"283\", \"284\", \"285\", \"286\", \"287\", \"288\", \"289\", \"290\", \"291\", \"292\", \"293\", \"294\", \"295\", \"296\", \"297\", \"298\", \"299\"], \"type\": \"scatter3d\", \"x\": [1.5453283565024312, -0.8731488267778855, -0.5204958868564024, 1.256599638751138, 0.33157332963599934, -0.3202883026759514, 0.12614222326926003, -0.7471821122461282, 0.26187593804100523, 0.17405614091721824, 1.9347305792198242, 0.23620812995729598, 1.886242533511763, -0.6144272883620214, 0.5437282787880937, -0.5606646537282963, -1.0588334839090396, 0.3864754477590648, 0.27194536273752346, -0.4650864512395984, 0.389929546644914, 0.26812553738783096, -0.1481891505582523, 0.21084741242460664, -0.23016163389313973, -1.1391321480372256, -0.6608369430851441, -0.6098642649911419, -0.5014603572216527, -1.1895622889501638, -0.14860593071294972, -0.09662677744071849, -0.07176074120596423, 0.05126125082846317, -0.2980334663782202, -1.2356501632177492, -0.904936416921577, 1.3218320369654206, -0.10733725013903798, 1.0069746378279123, -0.17521134736523977, -0.3941982335155418, 0.5260939302287906, 0.7822323755684892, 1.1852435348725785, 0.42724594216945616, -2.4783888925651967, 0.059683942625720285, -1.0029228227140414, -1.35834249324642, -0.34795393466012536, 0.34595450353751755, -0.18683821097017045, 0.8747297479532771, -0.4247278705953959, 0.12175824354259773, 2.3042434955470745, -1.952100814152419, 0.8283055010023596, -0.9483454975787137, -1.099792439747465, 1.2109739679886837, -0.17471820277341235, 0.5012333124626646, 1.6532640631340556, -1.2045414333472229, 0.04438497967088193, 0.050519147305390234, 1.4990944739102763, -0.3477029437263369, 0.9868248448819601, 0.0853841372740163, -1.5539531956128931, 1.678838582621722, -0.5655258808558287, -0.3265166994704553, 1.1512375678396443, -1.4145987254083396, -1.2129781314074202, 1.4178276347153074, -0.35893722358817104, 1.9329032348866362, -1.6864395585131233, 1.797544214951477, -2.1998521673681037, 2.3983391561783267, 0.21555317031676632, -0.08794235138548137, 0.09639553060639738, 0.4115508971262161, -0.16209776059311143, -0.2803073811418285, -1.6949247643538239, -1.1825252713915326, -0.07347527559876303, 1.6768610944847473, -0.8807942654567806, -1.1372701971903096, 0.08122660797673255, 1.4235245369679175, -1.55644825758755, 0.7278446585166397, -0.07135312496331915, 2.2039744356736546, -2.8582248371092414, 0.10402921027792877, 0.0741756832040289, 0.22789678375561095, 0.972640973799545, -1.1656603561384418, -0.7873139085757386, -0.8229635180587748, -0.0841992544316335, -1.032519476835378, 0.4629745090087341, 1.4032508479966082, 1.1110976189548925, 0.9516070542994925, 0.014477631036021989, 0.6421209942111569, 0.2643793027321222, 0.479157814247637, -1.178857424683946, 0.1034725859383503, -2.0708480426425426, -1.1283903354576366, -0.7735583173214389, -0.975569158571327, -0.29364178720896683, 0.5148641229772265, 0.8543785825294817, 1.3331760415813418, 1.4825647488054328, 0.14253374286199783, -0.8363883685563495, 0.24070265427250492, 2.263498495720197, 0.9023828559212861, -0.8904882122863275, 0.07090821175538181, -1.277489198085359, -0.10527360025461657, -1.3054232179989373, 0.7380178975576889, 0.38015078017446685, 1.1695919786269917, 1.7890539093649378, -1.3128937607702318, -0.985290556650253, -1.3424756526119916, 1.0527943746684378, 1.7925486263293515, 0.5410950399703709, 0.7642595387904254, 1.7766449622122695, -1.408310375417322, 1.8983606068994954, -1.5934555729683977, 1.4956664070850823, 0.312912446935795, 0.5201818376002469, -1.2134677727353822, 1.1249548042998898, -0.5400738462358637, -1.5501745110554956, 0.13927246748425848, 0.12158176878057123, -1.2635763713891495, 1.2032949271494708, -1.4858110747059479, -1.9526999112160768, -1.0703963533883625, 0.26898998476675456, 0.7849295699785734, -0.09475408664724692, 0.17785040438042177, 0.08781619903248505, -1.6050938207145413, -1.0166969500685765, -0.1797743136644175, -0.7192468612711421, -1.3831094610446388, 0.7740263899301901, -0.4188576462805916, 0.4534245727916041, 1.3250138038557482, -0.656230280287482, -1.8996571934785318, -0.04523469725885853, 0.3293987770285677, 0.3183762876376879, -0.871827131893584, 0.39028975761054613, 1.9765672907098295, 0.7307651655648603, 1.2907907324627512, -0.14847745590752381, -0.19740254973111337, -0.1989086763683637, -1.5854381704062042, 1.316695686284214, 1.5259432652966423, -1.5778928931656517, 0.6216505130204734, 1.7093922029812743, -0.8379923902083594, -0.7662406096852229, -1.724593590446045, 1.2865887019534588, -0.29854919426909804, 0.47722480357674923, -1.9267604954137236, -0.54921127301377, 0.7132010611430962, 1.313351851795666, -0.17157761997361104, 0.1778447231356006, 0.5152112443883325, -0.3972332186128756, -0.2759911100912106, -0.6006346058495755, 0.7340359584883124, 0.16124957456122344, 1.79991037527386, -1.135336831885014, 1.4057011177952243, 1.4178836133946662, -0.5791031479076973, -0.7161254573023467, 0.3637230010688564, -0.16910248165913586, 1.487847711618319, -0.9781082342801904, -0.09822551440167512, 1.2635337525284704, 1.1373316485803058, 0.022862625833918463, -0.02160532947168251, -0.5930940632977864, -1.1292473704878032, -0.3720918929799184, -0.610965225642687, -0.03363613163845713, 1.1649444582504034, -0.3988003739016019, 0.9828283304370137, -0.5442767334562884, -0.9217371786325237, 2.109349011101711, 0.8575790679754031, 0.9098400461075639, -0.042340220184424744, -0.584489800349318, -0.14210368864702277, -0.852340661525028, -0.19049643129589797, 0.8409915343662487, -1.8769178058377791, -2.9503026466003233, 2.6163676479985254, 0.182044992394722, -1.100820503375894, -0.5271752584678556, -1.2914215386547203, 0.7883350403731042, 0.14388764659324677, 2.968159004431347, -0.7272512482435304, 0.014243936230288221, -1.3514302160199039, 0.714129614241218, 0.24598116706817671, 0.7765739554060314, -1.520070561814217, -1.7900017898705158, 0.2822934379223978, 1.5883619492441226, -0.2915647946037395, 0.21617625328242546, 0.07652287921297153, -0.555511497720669, -0.0830192625873025, -0.04837930109013681, 0.8058462923884081, -1.6523234838361471, 1.9765779374081507, 1.592858824533024, 0.7934658192533324, 0.061827871693913454, 0.10924241697316284, 0.14282963989991826, 0.6165359644414742, 0.20185200223816943, 0.5035401075062098, 0.037106597467748165, -0.4238334275188671, -0.48158309200642946, -1.748413856750423, -1.5617946813507757, 0.12080263089916904], \"y\": [-0.6358569871220594, -0.06916663936187936, 0.5007987726260584, 1.9891514468918656, -0.3911671303975681, -0.6185588673244762, -0.20483713731377573, 0.6970511070869081, 0.4194957266724947, 0.061681049091514784, -0.9507556644710419, 0.7340593384254429, 0.6139051049732597, -0.8317653684491251, 1.0954442004396332, -1.1581523414465595, 0.3966780376468079, 0.3911334835653038, 1.2095194912637133, 0.7546096977757631, -1.3150179870054592, -0.44464637026532283, 1.1286384284839377, -0.35786232824239456, -0.9336274320787418, 0.5863558023574281, -0.1919210478656607, 0.5378313187354924, 0.09082803619627672, 1.7357221326385033, 1.1556446253223256, 0.5686597698696654, -1.1338032417124926, -0.9553152221549908, -1.7734744605316648, 0.39868760063638614, 1.1782807804737274, -0.6938982134007171, -1.1086136560997801, 0.3204232718464325, -1.1806398279114312, 0.33226045696221457, -0.3635645155671191, 0.22050111182070808, 1.1873887606302356, 1.5684559422962188, -1.0265576789054391, 0.6505214643076325, -0.5834513439943, -0.5268200783617016, 0.6503092030235607, 0.6736755471146182, 1.4148694571160867, -0.022569580004478833, -0.20320652366496075, -0.29387086662203316, -0.5451948597033087, -1.06358208759049, -1.4169157973290598, -1.118309123684479, -0.9499298013641557, -0.7818328641766359, -0.8305414260347557, 1.138280048658311, 0.9827791956418489, -0.7534739522182484, 0.031151918976957113, 0.058969776558379414, -0.31011762031940837, 1.6191912458677857, -0.49745827578734125, 0.405464188720653, -0.8133523677756451, -1.0338862256537948, -1.7748824259558014, -0.9827201647973914, -0.34920108526022475, 0.2812666668813555, 0.01689806462404408, 1.306413012772677, 1.0644106325078488, 0.3337782220265344, 1.380257170016684, -0.13755899337646868, -0.013769941776081575, -0.5408542964447592, 0.03137037167706236, -1.084073342092606, -0.41579142485416964, 0.2809810006303696, -1.7987697246440635, 1.036267895807932, -0.3790424119852946, -0.6711046058589851, -0.1186146918227979, 0.6244041914159955, -0.28016996310202436, -0.3513737360399828, 1.0804652947288627, 0.378344445348406, -1.0341484404743888, 0.862547291216096, -0.6698217325922827, 0.7504903999494242, 1.133460834905563, 0.4946242672483324, -0.10055514296352448, 0.4881393273443606, -0.45604536044337496, 1.7660234165469835, 0.45690610604274456, -0.19807772273596194, 0.24425178899570163, 1.0423058758854986, -1.142514560122431, 0.06087176197903621, -1.1730727089843322, -0.39227552542458727, -0.3378887325312619, 0.17283778661981195, -0.8775243250753965, 0.15009121456019947, -0.799998575814641, -1.3922312010517266, -0.1873125055102102, 2.6144505376452147, 1.2568002678659533, 0.2532488308954093, 1.8096059160131888, -1.2338864447475002, 0.4506326650327278, 0.9494273748410135, 1.6683121540478387, 0.6541744104340571, 0.20257180696299393, -0.807883551421819, -0.42719654735416657, 0.4189730261020536, 0.8545019282075624, 0.2321218128317446, -0.9324121887782745, 1.600694312565596, -0.39345762678786406, -0.6301598693186147, -0.34157370856873115, -0.757577594605336, -1.4860562897925071, 0.07714339342109913, -0.0553193132417719, 1.076905979079629, 0.29835821676329016, -0.41708246564358087, 0.882319128617517, 0.8053275842772022, 1.9428013501983319, -0.6005083612531761, 0.3426975230431459, 0.45080992350621724, -0.19162736491686516, 1.5727945006147088, -0.23476488931599243, 0.9746220597320001, -0.5747178158381694, 0.8778726960293862, 0.9172813809112739, -0.9152303513031546, -2.014833194021006, 1.0040106634552128, 0.628906881982984, -0.2911753563045876, -1.3077580050149529, 1.2884261165646882, -1.3835529106694742, 0.6322536773271952, 0.26829737222164435, 0.5008723427785602, -1.6247806001955263, 0.6469075328523927, -1.0255901179339248, -0.2838246905373467, -0.6390250938449242, 0.6179333382569174, -1.7913408070796308, 1.4915649398329693, -1.0971614411642832, -0.22259117128691328, -0.09224956003379142, -0.8785412957822542, 1.6433193925126586, -0.5828045900473553, 0.6999875362982836, 1.4157290561910525, -0.2545474763266736, -0.06635844600466441, 1.3128491566167955, 1.3666716103893914, 1.0976152687543073, 0.5766801539492326, 1.3282821123596298, 0.23445692773368568, -0.22090394850419917, -0.04547071379197694, -0.29067770651465985, 0.7494721967327052, 1.1094977387592535, -1.0602457606164728, -1.462556206687286, 0.15012992028131691, 0.530439037971472, 0.5335618001766947, 0.04093603976096105, 0.2011514984833391, -0.3283233005971931, -0.10187781564428713, 0.6302727861793072, -0.6328838443583044, 0.7949668768276218, 1.0090500600649066, 0.19564889968196575, -0.3690716661633098, -0.31909105534260324, 0.46259453813846274, -1.3020838656853748, -1.0556604225739745, 0.3009124894473349, 0.13731425936911598, 0.6123625139886156, -1.2325631669000008, -0.3382505412542345, 0.5540051360413926, 0.6726028750225459, -0.2704256738421094, -0.08007090489134763, -0.23252300232263587, 1.8950131667155814, 0.8991571812860176, 0.9671752709910636, 1.9550821872496005, -2.283631688471609, -0.748441396405634, 0.8581742868871595, 1.291228805498429, 0.3661337892416804, 0.5467814084409754, 0.5126259451659437, 1.2408249981676576, -0.6173826431301934, 0.7227644109663202, 0.2695019083035619, 0.1440000302159514, 0.5922887726703214, -0.5527257006843734, -0.5949097300835031, -1.740621853426016, -0.344330344953069, 0.4532692284554228, 0.8096441787562916, -2.1601283006572203, 0.5814800064746615, -0.07070318643732848, 0.25765302873568713, -0.8605507087804675, -0.2894062268895464, -0.3357795201537276, -0.026189610141917515, 1.410155240503337, -0.18007547689382236, 1.6586002324504616, -2.438149979103692, -0.08386401355378911, 1.3249109556630916, 1.6907081592368447, 0.7135280607457023, -1.3298547162974597, 0.6790769242147068, 0.09040018530390577, 1.3088233601845343, -1.8576315979605724, 0.7503876028962976, -0.2748283727591148, 0.6895698468859941, 0.25301347302906346, 0.1887854646550065, -0.32345948257105966, -3.175719583332487, 0.22986751878446987, 2.1589643079891037, -2.0616684797658507, -0.4804714636925425, -1.482913573364002, 0.23671522484253243, -0.5113591149010139, 1.4682606063477543, -0.7331510337596118, 0.6714092940829849, 0.38183091055211305, 0.8449784420764422, 0.006876977000099347, -1.1266107086054264, 1.5157929191703463], \"z\": [-2.3601165868075973, -2.4160537235960238, 0.2987103594014186, -1.6891652172001026, 0.41206910130982255, -0.3092401696600025, 1.1714935997011515, 0.5243392825447285, -1.0499888949275757, -2.039824817086938, -0.612584112641167, -1.0115414438314352, -1.3377623303760662, 1.6303774248715264, 0.6034501288723847, 0.9083912468345412, -0.29059527167774823, -0.9836810030998676, -1.125155818042112, 0.9237128372891565, 1.0278394916332692, -1.3891232341432567, 1.0857515045220767, -0.4257084803720111, -1.1503061090027449, 0.614672915610583, -1.5433688859966705, -0.5291196804152928, -2.957680422384029, -0.6827933011878928, 0.44847995409979796, 1.6659662148288907, 0.22068086679179252, 0.3057117132763709, -2.588590709693221, 0.10701486443245942, -0.5460901070925828, 0.39811371567418147, 0.5581958330446811, -0.40808690782086116, -0.44030593195289175, -1.7948796882054139, -0.1068442590426529, 1.7374779091450014, 1.7131268158762651, -0.8733041197134039, 1.2219641479361052, 0.6644797519807784, 0.938267031530745, 0.9888260503711608, 0.14966878462148778, -0.5398367032266237, 1.4811561707818122, -0.3234941024190355, 1.0603050123262137, -0.09517081647244045, -1.176029323417496, 0.17871260281508258, -0.2318543389630212, -0.29444747544670574, -0.5998736596395448, -0.04406175455314127, -0.3723120249319372, 0.33802723347515107, -0.1109251337277486, 1.4386348012093417, 1.1555396527812587, 0.13940613386466166, -1.381555460967296, -0.4352378047386085, -0.09857127615883926, -0.46098047258084446, -0.1625276123249291, -1.1974143041330847, 0.8414333631266374, 0.6780258145920399, -0.6288884160256212, -0.7179430817110479, -0.5356563715375159, -0.39285094378540697, 1.4475112419426472, -0.49012251029801013, -0.7776644032947785, 0.3876143771369083, -0.17809175742098007, 0.3580484852349749, 0.14308361059502764, -0.31534582699578456, -0.7246005804760264, -0.6127537703859364, -0.16721092125697407, -0.7793739721631275, 2.5405447417420066, -1.3252935198991267, -0.49239011968824087, 1.6565161640151778, -1.9777187045682045, -0.024335765686263857, -0.24516208939627535, 0.11886263812016024, 0.7790331399630408, -1.7044337165037355, 1.1975033449526111, -0.7786879757921817, 0.6103127388489078, 0.40377194614545064, 2.1818201085706552, -1.2234572353879334, -1.6465105772110125, 1.4694404075704783, -0.2440118202464805, 0.5995924241619778, 1.2585976511662125, -1.0649934900791382, -0.5585702847989087, 2.290545275330728, 0.9757581019776981, 1.266175979286284, -1.223262629813521, -0.6042607740053392, 0.09400870983690891, 1.2095839218867055, 1.1093201815856066, 0.9521668811277716, -1.3208928797242436, -0.1812381772129292, 1.5684536795318906, -0.5716393844780502, -1.396040618702025, 0.18678634347793183, -0.7469923765204699, -0.36823285156247115, 0.7568392261988468, -0.8994308090467015, -1.0700200700315228, 0.8556747468058961, 0.3285148035816981, -1.5200435755884534, -0.3713769241776529, 0.3186950097569636, -0.45234240343906457, 0.5918048343202029, -1.1016433703002306, -0.356526371394919, 1.9321994214238747, -1.2458501510517268, 1.0420426454250762, -3.0212805890612184, 0.4510017277783742, 1.8199938620407048, -0.6701053144608602, -0.9497078008584872, 0.6849970946904869, -1.0107473402387084, -0.9079895363195913, 0.468824424756188, 0.029122193084071005, -0.8452172204964211, -0.016583154452721165, 0.6137112700748205, -1.4861044522589937, 0.5359397128766531, 0.15986887000821584, -0.12297425545432947, -0.10137542729457565, 0.2469224676974892, 0.8285747818192929, -1.2360738433166947, -0.6921286810218656, -1.4157293494583252, -0.7317793707502194, -0.8683285229969897, 0.8242901122733632, 0.06097115101943225, 0.767703890896647, -2.889573307914679, -1.8178110913210583, -0.22094723900339308, 1.3635969204054346, -0.9328868172084959, -0.6947017478431291, -0.9116333270437446, 1.2742157443597686, -2.3265702608588645, -0.9139186876701597, -0.5129881451157262, -1.0657552011357594, 0.1989473659779419, -0.9727338181240457, -0.06866618966613114, -2.0157468173664523, 0.9168552124666864, 1.8096083777803642, 1.1814316769006161, -1.122394267724777, 0.9416702516984811, -0.6768076163369557, -0.06089353800703155, 0.2505309237907398, -1.3875798044531458, -0.5041108484058717, 1.9264847540187737, 0.6973676963399651, 0.32160006865355006, 0.0807941082939926, -1.7154048526696761, 0.87274542059022, 1.7892866758391197, 0.8829434522055668, -0.5021447427989378, 0.7735678701754786, -0.8993181145806837, 0.2024153586699555, 0.5739341828634146, 0.41211226923779654, 0.10845564132053351, 1.245021996210393, -1.6494070227366406, -1.115289748942664, -0.8028503843851732, 0.10284098214463887, 0.8675029044917962, -0.9842336001036447, -0.6629812595450875, -0.6269117529534243, 0.8694119560804302, 0.19485368176524412, -2.3686958300621948, -0.6264915030146038, 0.43210513506389253, 0.03601935204440574, 0.8836733578905329, 0.6820813650548004, -0.7483373541093653, 1.4105621607151517, -0.2893934307460851, -0.9766791288435307, 1.3033988786710013, 0.13509369884921568, 0.00595676218530236, -1.6325484228968583, 0.49591888061323397, -2.1945205822193996, -0.3334679943749338, 1.4115897064682135, 0.26716908188252214, 1.0857074951100802, -2.5301015575984858, 1.093862630587407, -1.0203184587630938, -0.9413474698586437, 1.510316735039205, -1.2083284922638597, -0.593903258219849, -0.4932864968138221, 1.1933475701811336, 0.08764576187889181, 0.8279079273695338, -0.9685888671841745, -1.8631095765075858, -0.3258508647484372, 0.007893252264059009, -0.3092412955916028, -1.511278979962394, 0.20181347105374461, -0.8614906149952898, -0.5115696620879022, -0.02614186006722196, -1.2817330546361632, -1.6219728307083758, -0.9673826375214218, 0.2576406701566987, -0.45325841029363767, -1.4318345913310213, 1.1432216245174163, -0.7913436688365844, -0.4908860388605362, 2.126494700169389, 2.4019443339072124, -0.8803138784186761, -0.5815893730640924, 1.321888871872673, -0.25318184643052943, -1.5115909837600623, -0.5576933780474588, 1.9886496434798724, -0.5473810557985946, -0.17970396964161417, -0.9737173731231364, -0.96153240751481, 0.2369362300422857, -1.0956854014153856, -0.06345797662420863, 0.9466139779998948, 0.6321456968768844, -0.330156743782408, -0.6255074906756797, -0.6922871714953465, 0.1622571008658173, -0.7265324824084727]}],\n",
       "                        {\"legend\": {\"bgcolor\": \"#1A1A1C\", \"font\": {\"color\": \"#D9D9D9\"}}, \"paper_bgcolor\": \"#1A1A1C\", \"plot_bgcolor\": \"#1A1A1C\", \"scene\": {\"xaxis\": {\"gridcolor\": \"#434343\", \"showgrid\": true, \"tickfont\": {\"color\": \"#C2C2C2\"}, \"title\": {\"font\": {\"color\": \"#D9D9D9\"}, \"text\": \"\"}, \"zerolinecolor\": \"#666570\"}, \"yaxis\": {\"gridcolor\": \"#434343\", \"showgrid\": true, \"tickfont\": {\"color\": \"#C2C2C2\"}, \"title\": {\"font\": {\"color\": \"#D9D9D9\"}, \"text\": \"\"}, \"zerolinecolor\": \"#666570\"}, \"zaxis\": {\"gridcolor\": \"#434343\", \"showgrid\": true, \"tickfont\": {\"color\": \"#C2C2C2\"}, \"title\": {\"font\": {\"color\": \"#D9D9D9\"}, \"text\": \"\"}, \"zerolinecolor\": \"#666570\"}}, \"template\": {\"data\": {\"bar\": [{\"error_x\": {\"color\": \"#2a3f5f\"}, \"error_y\": {\"color\": \"#2a3f5f\"}, \"marker\": {\"line\": {\"color\": \"#E5ECF6\", \"width\": 0.5}}, \"type\": \"bar\"}], \"barpolar\": [{\"marker\": {\"line\": {\"color\": \"#E5ECF6\", \"width\": 0.5}}, \"type\": \"barpolar\"}], \"carpet\": [{\"aaxis\": {\"endlinecolor\": \"#2a3f5f\", \"gridcolor\": \"white\", \"linecolor\": \"white\", \"minorgridcolor\": \"white\", \"startlinecolor\": \"#2a3f5f\"}, \"baxis\": {\"endlinecolor\": \"#2a3f5f\", \"gridcolor\": \"white\", \"linecolor\": \"white\", \"minorgridcolor\": \"white\", \"startlinecolor\": \"#2a3f5f\"}, \"type\": \"carpet\"}], \"choropleth\": [{\"colorbar\": {\"outlinewidth\": 0, \"ticks\": \"\"}, \"type\": \"choropleth\"}], \"contour\": [{\"colorbar\": {\"outlinewidth\": 0, \"ticks\": \"\"}, \"colorscale\": [[0.0, \"#0d0887\"], [0.1111111111111111, \"#46039f\"], [0.2222222222222222, \"#7201a8\"], [0.3333333333333333, \"#9c179e\"], [0.4444444444444444, \"#bd3786\"], [0.5555555555555556, \"#d8576b\"], [0.6666666666666666, \"#ed7953\"], [0.7777777777777778, \"#fb9f3a\"], [0.8888888888888888, \"#fdca26\"], [1.0, \"#f0f921\"]], \"type\": \"contour\"}], \"contourcarpet\": [{\"colorbar\": {\"outlinewidth\": 0, \"ticks\": \"\"}, \"type\": \"contourcarpet\"}], \"heatmap\": [{\"colorbar\": {\"outlinewidth\": 0, \"ticks\": \"\"}, \"colorscale\": [[0.0, \"#0d0887\"], [0.1111111111111111, \"#46039f\"], [0.2222222222222222, \"#7201a8\"], [0.3333333333333333, \"#9c179e\"], [0.4444444444444444, \"#bd3786\"], [0.5555555555555556, \"#d8576b\"], [0.6666666666666666, \"#ed7953\"], [0.7777777777777778, \"#fb9f3a\"], [0.8888888888888888, \"#fdca26\"], [1.0, \"#f0f921\"]], \"type\": \"heatmap\"}], \"heatmapgl\": [{\"colorbar\": {\"outlinewidth\": 0, \"ticks\": \"\"}, \"colorscale\": [[0.0, \"#0d0887\"], [0.1111111111111111, \"#46039f\"], [0.2222222222222222, \"#7201a8\"], [0.3333333333333333, \"#9c179e\"], [0.4444444444444444, \"#bd3786\"], [0.5555555555555556, \"#d8576b\"], [0.6666666666666666, \"#ed7953\"], [0.7777777777777778, \"#fb9f3a\"], [0.8888888888888888, \"#fdca26\"], [1.0, \"#f0f921\"]], \"type\": \"heatmapgl\"}], \"histogram\": [{\"marker\": {\"colorbar\": {\"outlinewidth\": 0, \"ticks\": \"\"}}, \"type\": \"histogram\"}], \"histogram2d\": [{\"colorbar\": {\"outlinewidth\": 0, \"ticks\": \"\"}, \"colorscale\": [[0.0, \"#0d0887\"], [0.1111111111111111, \"#46039f\"], [0.2222222222222222, \"#7201a8\"], [0.3333333333333333, \"#9c179e\"], [0.4444444444444444, \"#bd3786\"], [0.5555555555555556, \"#d8576b\"], [0.6666666666666666, \"#ed7953\"], [0.7777777777777778, \"#fb9f3a\"], [0.8888888888888888, \"#fdca26\"], [1.0, \"#f0f921\"]], \"type\": \"histogram2d\"}], \"histogram2dcontour\": [{\"colorbar\": {\"outlinewidth\": 0, \"ticks\": \"\"}, \"colorscale\": [[0.0, \"#0d0887\"], [0.1111111111111111, \"#46039f\"], [0.2222222222222222, \"#7201a8\"], [0.3333333333333333, \"#9c179e\"], [0.4444444444444444, \"#bd3786\"], [0.5555555555555556, \"#d8576b\"], [0.6666666666666666, \"#ed7953\"], [0.7777777777777778, \"#fb9f3a\"], [0.8888888888888888, \"#fdca26\"], [1.0, \"#f0f921\"]], \"type\": \"histogram2dcontour\"}], \"mesh3d\": [{\"colorbar\": {\"outlinewidth\": 0, \"ticks\": \"\"}, \"type\": \"mesh3d\"}], \"parcoords\": [{\"line\": {\"colorbar\": {\"outlinewidth\": 0, \"ticks\": \"\"}}, \"type\": \"parcoords\"}], \"pie\": [{\"automargin\": true, \"type\": \"pie\"}], \"scatter\": [{\"marker\": {\"colorbar\": {\"outlinewidth\": 0, \"ticks\": \"\"}}, \"type\": \"scatter\"}], \"scatter3d\": [{\"line\": {\"colorbar\": {\"outlinewidth\": 0, \"ticks\": \"\"}}, \"marker\": {\"colorbar\": {\"outlinewidth\": 0, \"ticks\": \"\"}}, \"type\": \"scatter3d\"}], \"scattercarpet\": [{\"marker\": {\"colorbar\": {\"outlinewidth\": 0, \"ticks\": \"\"}}, \"type\": \"scattercarpet\"}], \"scattergeo\": [{\"marker\": {\"colorbar\": {\"outlinewidth\": 0, \"ticks\": \"\"}}, \"type\": \"scattergeo\"}], \"scattergl\": [{\"marker\": {\"colorbar\": {\"outlinewidth\": 0, \"ticks\": \"\"}}, \"type\": \"scattergl\"}], \"scattermapbox\": [{\"marker\": {\"colorbar\": {\"outlinewidth\": 0, \"ticks\": \"\"}}, \"type\": \"scattermapbox\"}], \"scatterpolar\": [{\"marker\": {\"colorbar\": {\"outlinewidth\": 0, \"ticks\": \"\"}}, \"type\": \"scatterpolar\"}], \"scatterpolargl\": [{\"marker\": {\"colorbar\": {\"outlinewidth\": 0, \"ticks\": \"\"}}, \"type\": \"scatterpolargl\"}], \"scatterternary\": [{\"marker\": {\"colorbar\": {\"outlinewidth\": 0, \"ticks\": \"\"}}, \"type\": \"scatterternary\"}], \"surface\": [{\"colorbar\": {\"outlinewidth\": 0, \"ticks\": \"\"}, \"colorscale\": [[0.0, \"#0d0887\"], [0.1111111111111111, \"#46039f\"], [0.2222222222222222, \"#7201a8\"], [0.3333333333333333, \"#9c179e\"], [0.4444444444444444, \"#bd3786\"], [0.5555555555555556, \"#d8576b\"], [0.6666666666666666, \"#ed7953\"], [0.7777777777777778, \"#fb9f3a\"], [0.8888888888888888, \"#fdca26\"], [1.0, \"#f0f921\"]], \"type\": \"surface\"}], \"table\": [{\"cells\": {\"fill\": {\"color\": \"#EBF0F8\"}, \"line\": {\"color\": \"white\"}}, \"header\": {\"fill\": {\"color\": \"#C8D4E3\"}, \"line\": {\"color\": \"white\"}}, \"type\": \"table\"}]}, \"layout\": {\"annotationdefaults\": {\"arrowcolor\": \"#2a3f5f\", \"arrowhead\": 0, \"arrowwidth\": 1}, \"coloraxis\": {\"colorbar\": {\"outlinewidth\": 0, \"ticks\": \"\"}}, \"colorscale\": {\"diverging\": [[0, \"#8e0152\"], [0.1, \"#c51b7d\"], [0.2, \"#de77ae\"], [0.3, \"#f1b6da\"], [0.4, \"#fde0ef\"], [0.5, \"#f7f7f7\"], [0.6, \"#e6f5d0\"], [0.7, \"#b8e186\"], [0.8, \"#7fbc41\"], [0.9, \"#4d9221\"], [1, \"#276419\"]], \"sequential\": [[0.0, \"#0d0887\"], [0.1111111111111111, \"#46039f\"], [0.2222222222222222, \"#7201a8\"], [0.3333333333333333, \"#9c179e\"], [0.4444444444444444, \"#bd3786\"], [0.5555555555555556, \"#d8576b\"], [0.6666666666666666, \"#ed7953\"], [0.7777777777777778, \"#fb9f3a\"], [0.8888888888888888, \"#fdca26\"], [1.0, \"#f0f921\"]], \"sequentialminus\": [[0.0, \"#0d0887\"], [0.1111111111111111, \"#46039f\"], [0.2222222222222222, \"#7201a8\"], [0.3333333333333333, \"#9c179e\"], [0.4444444444444444, \"#bd3786\"], [0.5555555555555556, \"#d8576b\"], [0.6666666666666666, \"#ed7953\"], [0.7777777777777778, \"#fb9f3a\"], [0.8888888888888888, \"#fdca26\"], [1.0, \"#f0f921\"]]}, \"colorway\": [\"#636efa\", \"#EF553B\", \"#00cc96\", \"#ab63fa\", \"#FFA15A\", \"#19d3f3\", \"#FF6692\", \"#B6E880\", \"#FF97FF\", \"#FECB52\"], \"font\": {\"color\": \"#2a3f5f\"}, \"geo\": {\"bgcolor\": \"white\", \"lakecolor\": \"white\", \"landcolor\": \"#E5ECF6\", \"showlakes\": true, \"showland\": true, \"subunitcolor\": \"white\"}, \"hoverlabel\": {\"align\": \"left\"}, \"hovermode\": \"closest\", \"mapbox\": {\"style\": \"light\"}, \"paper_bgcolor\": \"white\", \"plot_bgcolor\": \"#E5ECF6\", \"polar\": {\"angularaxis\": {\"gridcolor\": \"white\", \"linecolor\": \"white\", \"ticks\": \"\"}, \"bgcolor\": \"#E5ECF6\", \"radialaxis\": {\"gridcolor\": \"white\", \"linecolor\": \"white\", \"ticks\": \"\"}}, \"scene\": {\"xaxis\": {\"backgroundcolor\": \"#E5ECF6\", \"gridcolor\": \"white\", \"gridwidth\": 2, \"linecolor\": \"white\", \"showbackground\": true, \"ticks\": \"\", \"zerolinecolor\": \"white\"}, \"yaxis\": {\"backgroundcolor\": \"#E5ECF6\", \"gridcolor\": \"white\", \"gridwidth\": 2, \"linecolor\": \"white\", \"showbackground\": true, \"ticks\": \"\", \"zerolinecolor\": \"white\"}, \"zaxis\": {\"backgroundcolor\": \"#E5ECF6\", \"gridcolor\": \"white\", \"gridwidth\": 2, \"linecolor\": \"white\", \"showbackground\": true, \"ticks\": \"\", \"zerolinecolor\": \"white\"}}, \"shapedefaults\": {\"line\": {\"color\": \"#2a3f5f\"}}, \"ternary\": {\"aaxis\": {\"gridcolor\": \"white\", \"linecolor\": \"white\", \"ticks\": \"\"}, \"baxis\": {\"gridcolor\": \"white\", \"linecolor\": \"white\", \"ticks\": \"\"}, \"bgcolor\": \"#E5ECF6\", \"caxis\": {\"gridcolor\": \"white\", \"linecolor\": \"white\", \"ticks\": \"\"}}, \"title\": {\"x\": 0.05}, \"xaxis\": {\"automargin\": true, \"gridcolor\": \"white\", \"linecolor\": \"white\", \"ticks\": \"\", \"title\": {\"standoff\": 15}, \"zerolinecolor\": \"white\", \"zerolinewidth\": 2}, \"yaxis\": {\"automargin\": true, \"gridcolor\": \"white\", \"linecolor\": \"white\", \"ticks\": \"\", \"title\": {\"standoff\": 15}, \"zerolinecolor\": \"white\", \"zerolinewidth\": 2}}}, \"title\": {\"font\": {\"color\": \"#D9D9D9\"}}},\n",
       "                        {\"showLink\": true, \"linkText\": \"Export to plot.ly\", \"plotlyServerURL\": \"https://plot.ly\", \"responsive\": true}\n",
       "                    ).then(function(){\n",
       "                            \n",
       "var gd = document.getElementById('9dacb613-3c72-4824-81b0-01384dea30b9');\n",
       "var x = new MutationObserver(function (mutations, observer) {{\n",
       "        var display = window.getComputedStyle(gd).display;\n",
       "        if (!display || display === 'none') {{\n",
       "            console.log([gd, 'removed!']);\n",
       "            Plotly.purge(gd);\n",
       "            observer.disconnect();\n",
       "        }}\n",
       "}});\n",
       "\n",
       "// Listen for the removal of the full notebook cells\n",
       "var notebookContainer = gd.closest('#notebook-container');\n",
       "if (notebookContainer) {{\n",
       "    x.observe(notebookContainer, {childList: true});\n",
       "}}\n",
       "\n",
       "// Listen for the clearing of the current output cell\n",
       "var outputEl = gd.closest('.output');\n",
       "if (outputEl) {{\n",
       "    x.observe(outputEl, {childList: true});\n",
       "}}\n",
       "\n",
       "                        })\n",
       "                };\n",
       "                });\n",
       "            </script>\n",
       "        </div>"
      ]
     },
     "metadata": {},
     "output_type": "display_data"
    }
   ],
   "source": [
    "cf.datagen.scatter3d(2, 150, mode = 'stocks').iplot(kind = 'scatter3d', x = 'x', y= 'y', z = 'z')"
   ]
  },
  {
   "cell_type": "code",
   "execution_count": 80,
   "metadata": {},
   "outputs": [
    {
     "data": {
      "application/vnd.plotly.v1+json": {
       "config": {
        "linkText": "Export to plot.ly",
        "plotlyServerURL": "https://plot.ly",
        "showLink": true
       },
       "data": [
        {
         "histfunc": "count",
         "histnorm": "",
         "marker": {
          "color": "rgba(255, 153, 51, 1.0)",
          "line": {
           "color": "#D9D9D9",
           "width": 1.3
          }
         },
         "name": "A",
         "nbinsx": 30,
         "opacity": 0.8,
         "orientation": "v",
         "type": "histogram",
         "x": [
          18.939836529413366,
          18.57536317065325,
          18.336635226348214,
          18.697863962736864,
          19.366290077918997,
          19.092877224412625,
          19.261927308479674,
          19.070284867263755,
          21.431589346093155,
          20.475609087731144,
          18.974584338404725,
          18.543508338820796,
          18.082622133483657,
          19.69665413077819,
          18.974847645815437,
          17.237599352876373,
          16.272477837350642,
          16.884011620497258,
          15.690410493034438,
          15.363712087275186,
          16.225956134402548,
          15.673437402089853,
          15.689721555994854,
          14.874995704220487,
          16.781349846692613,
          16.766746588722278,
          17.437023461421365,
          18.407254621023664,
          18.778322874746365,
          18.983167775362922,
          20.280012505532344,
          20.966727262132668,
          21.3469385769036,
          18.109732789961864,
          17.74223490805164,
          16.67645900722814,
          17.2109808368415,
          16.225926830666246,
          16.280290562618234,
          16.310036144986377,
          16.75261515323721,
          15.849319662830442,
          16.593276042002714,
          18.49288801271804,
          19.353968848237443,
          17.93862487493714,
          18.324248321201814,
          18.925068710509603,
          17.392229168570704,
          16.191286317981696,
          17.253830607391073,
          15.952339438509785,
          15.297738981433854,
          16.283707299270795,
          15.749084701700184,
          14.370752817349668,
          15.303463746448205,
          13.827456294134599,
          13.81516644052611,
          14.325623370447243,
          15.97271169687874,
          15.085252769120892,
          14.817254258513294,
          14.241794570869569,
          14.208284738686732,
          12.966561751953925,
          12.590482441266257,
          9.948038467487647,
          11.032266409982899,
          8.891491839984331,
          8.163049698022995,
          8.979907465238242,
          9.287343172794754,
          10.114616024723174,
          10.465815149781305,
          12.496273529110058,
          12.255291716666108,
          12.48570479434714,
          12.052354735540451,
          10.303924782744446,
          8.572860049980218,
          7.293868133117167,
          8.437051955852471,
          8.27326115872482,
          9.053010838181457,
          6.851951218144077,
          6.7132342761241794,
          7.857634380841375,
          9.254614304695345,
          12.032692181592157,
          11.567349553414724,
          8.992923530539171,
          6.987426346784449,
          6.443275573164618,
          5.666244245097008,
          7.37917778442533,
          5.541628217325204,
          5.328180819895762,
          5.444276528135589,
          5.602228529266361
         ]
        },
        {
         "histfunc": "count",
         "histnorm": "",
         "marker": {
          "color": "rgba(55, 128, 191, 1.0)",
          "line": {
           "color": "#D9D9D9",
           "width": 1.3
          }
         },
         "name": "B",
         "nbinsx": 30,
         "opacity": 0.8,
         "orientation": "v",
         "type": "histogram",
         "x": [
          19.57811765823711,
          20.67821727264487,
          21.468674831135477,
          21.992650726303197,
          22.59070512232445,
          20.867900003575024,
          20.365513305889916,
          20.913470537490042,
          21.090882817729412,
          21.68193571878041,
          22.636158920705995,
          23.536766878768287,
          23.971367204293422,
          24.587802024695673,
          25.398796398181773,
          25.198735063890453,
          25.248666318458625,
          24.2572815816471,
          24.725622045472626,
          24.70606590576826,
          24.904816173365795,
          25.69274160358888,
          25.318222557924997,
          25.881797294360027,
          25.149005275607976,
          26.158306200641068,
          24.96467012433253,
          25.703393643547926,
          24.501570109309206,
          24.801022335851982,
          25.501324319961423,
          25.50086978292324,
          25.56794289117986,
          26.05129699810626,
          27.879270978399088,
          28.035715011190494,
          28.417621536191334,
          27.45150432479886,
          25.365409693787665,
          25.569699453062658,
          25.871828040861512,
          25.811349616237685,
          25.507065615897233,
          25.359834372240382,
          24.461654398131433,
          25.713853093333597,
          24.36999338773402,
          24.21381050894856,
          23.521083330480558,
          24.812337744604157,
          26.22442520575146,
          25.42282289886684,
          24.801672584853485,
          23.795197723661467,
          23.218274304310114,
          24.441539869052512,
          23.38321461149637,
          22.605941570869334,
          22.961896130440156,
          22.225405362707768,
          22.10595019122328,
          22.517392115635495,
          21.475553665572292,
          21.769720295929822,
          20.14714973294842,
          20.01295951168225,
          20.642452444786795,
          20.07646910957776,
          20.717595768900587,
          21.90117045667466,
          21.144119719795288,
          20.21568542385949,
          20.11832983031426,
          20.25320071536521,
          21.079422705104005,
          20.178029294199376,
          20.41702064132579,
          19.53350372776044,
          17.2389060491363,
          17.919819649682246,
          17.873327116523644,
          19.16249070679284,
          18.548690862504664,
          19.44310771240245,
          19.1972035065841,
          18.712028267850634,
          18.48844417247204,
          18.15349006866355,
          17.867561285442036,
          17.29321406647523,
          17.398166853899877,
          19.247233445105156,
          20.047597351883915,
          18.78589828631096,
          19.297309251402723,
          19.07135904384581,
          18.723948022892316,
          19.530950057733442,
          19.068236729746076,
          16.898675239248913
         ]
        },
        {
         "histfunc": "count",
         "histnorm": "",
         "marker": {
          "color": "rgba(50, 171, 96, 1.0)",
          "line": {
           "color": "#D9D9D9",
           "width": 1.3
          }
         },
         "name": "C",
         "nbinsx": 30,
         "opacity": 0.8,
         "orientation": "v",
         "type": "histogram",
         "x": [
          19.60142742296272,
          19.850834310233786,
          17.26295717314104,
          18.575130234244927,
          18.649815081003418,
          16.187364271401435,
          16.83327707529083,
          17.00829837263115,
          19.208742179909265,
          16.895158132496448,
          17.319347698131015,
          16.939276576515184,
          17.445366576364325,
          17.638588609076354,
          17.258509481465452,
          17.286869221921418,
          16.506548141702037,
          16.151709024133623,
          16.09848802515722,
          17.092421192295976,
          17.872105000572574,
          17.806117362194872,
          18.150007123655403,
          16.957122125424352,
          16.92994835512515,
          16.758553949623117,
          15.774845681256942,
          18.060152262817095,
          18.15229282455728,
          19.02795900495338,
          19.49302099652112,
          18.836755265502706,
          16.878896305092276,
          15.687515713008718,
          15.940164884463984,
          16.464089189174473,
          16.55546174456284,
          17.002618386359664,
          17.205102920401043,
          19.17203130140711,
          18.57801051926247,
          18.456585892440255,
          17.6193624525526,
          18.732100151060042,
          17.556766750936994,
          15.945535123872169,
          16.577448209785068,
          16.757449951175825,
          16.326060136179365,
          13.669310530754606,
          12.56779501388871,
          12.785708153691573,
          15.223884679756864,
          15.894497039607295,
          15.098340845301632,
          14.953377725149977,
          15.357102114195273,
          15.983788153268696,
          14.868106909858069,
          14.026933126308741,
          13.7568883447751,
          15.231989630000637,
          15.383881880895478,
          16.382588531083307,
          16.43322132276507,
          16.461558197689243,
          17.305011421274564,
          16.010747846021136,
          16.839646372310973,
          18.005743115693416,
          17.48742238164607,
          17.69108585845791,
          17.835111137476378,
          16.894666400726123,
          17.191622339832097,
          17.167071839480002,
          17.68691715092639,
          17.028739902661005,
          15.414571912627235,
          15.45576031216001,
          16.232317046637696,
          15.445976972864562,
          17.211532521350136,
          18.483445261686082,
          18.030804994536023,
          18.464612018830422,
          17.948728927363632,
          17.212379914264904,
          17.231048164772314,
          15.53966706854438,
          16.15486292195792,
          15.56126396950727,
          14.313029895849528,
          12.118614728283392,
          11.666360294191552,
          13.516095653489876,
          15.144094960578572,
          14.263878277842988,
          14.858855311310744,
          14.050273317419077
         ]
        }
       ],
       "layout": {
        "bargap": 0.5,
        "barmode": "overlay",
        "legend": {
         "bgcolor": "#1A1A1C",
         "font": {
          "color": "#D9D9D9"
         }
        },
        "paper_bgcolor": "#1A1A1C",
        "plot_bgcolor": "#1A1A1C",
        "template": {
         "data": {
          "bar": [
           {
            "error_x": {
             "color": "#2a3f5f"
            },
            "error_y": {
             "color": "#2a3f5f"
            },
            "marker": {
             "line": {
              "color": "#E5ECF6",
              "width": 0.5
             }
            },
            "type": "bar"
           }
          ],
          "barpolar": [
           {
            "marker": {
             "line": {
              "color": "#E5ECF6",
              "width": 0.5
             }
            },
            "type": "barpolar"
           }
          ],
          "carpet": [
           {
            "aaxis": {
             "endlinecolor": "#2a3f5f",
             "gridcolor": "white",
             "linecolor": "white",
             "minorgridcolor": "white",
             "startlinecolor": "#2a3f5f"
            },
            "baxis": {
             "endlinecolor": "#2a3f5f",
             "gridcolor": "white",
             "linecolor": "white",
             "minorgridcolor": "white",
             "startlinecolor": "#2a3f5f"
            },
            "type": "carpet"
           }
          ],
          "choropleth": [
           {
            "colorbar": {
             "outlinewidth": 0,
             "ticks": ""
            },
            "type": "choropleth"
           }
          ],
          "contour": [
           {
            "colorbar": {
             "outlinewidth": 0,
             "ticks": ""
            },
            "colorscale": [
             [
              0,
              "#0d0887"
             ],
             [
              0.1111111111111111,
              "#46039f"
             ],
             [
              0.2222222222222222,
              "#7201a8"
             ],
             [
              0.3333333333333333,
              "#9c179e"
             ],
             [
              0.4444444444444444,
              "#bd3786"
             ],
             [
              0.5555555555555556,
              "#d8576b"
             ],
             [
              0.6666666666666666,
              "#ed7953"
             ],
             [
              0.7777777777777778,
              "#fb9f3a"
             ],
             [
              0.8888888888888888,
              "#fdca26"
             ],
             [
              1,
              "#f0f921"
             ]
            ],
            "type": "contour"
           }
          ],
          "contourcarpet": [
           {
            "colorbar": {
             "outlinewidth": 0,
             "ticks": ""
            },
            "type": "contourcarpet"
           }
          ],
          "heatmap": [
           {
            "colorbar": {
             "outlinewidth": 0,
             "ticks": ""
            },
            "colorscale": [
             [
              0,
              "#0d0887"
             ],
             [
              0.1111111111111111,
              "#46039f"
             ],
             [
              0.2222222222222222,
              "#7201a8"
             ],
             [
              0.3333333333333333,
              "#9c179e"
             ],
             [
              0.4444444444444444,
              "#bd3786"
             ],
             [
              0.5555555555555556,
              "#d8576b"
             ],
             [
              0.6666666666666666,
              "#ed7953"
             ],
             [
              0.7777777777777778,
              "#fb9f3a"
             ],
             [
              0.8888888888888888,
              "#fdca26"
             ],
             [
              1,
              "#f0f921"
             ]
            ],
            "type": "heatmap"
           }
          ],
          "heatmapgl": [
           {
            "colorbar": {
             "outlinewidth": 0,
             "ticks": ""
            },
            "colorscale": [
             [
              0,
              "#0d0887"
             ],
             [
              0.1111111111111111,
              "#46039f"
             ],
             [
              0.2222222222222222,
              "#7201a8"
             ],
             [
              0.3333333333333333,
              "#9c179e"
             ],
             [
              0.4444444444444444,
              "#bd3786"
             ],
             [
              0.5555555555555556,
              "#d8576b"
             ],
             [
              0.6666666666666666,
              "#ed7953"
             ],
             [
              0.7777777777777778,
              "#fb9f3a"
             ],
             [
              0.8888888888888888,
              "#fdca26"
             ],
             [
              1,
              "#f0f921"
             ]
            ],
            "type": "heatmapgl"
           }
          ],
          "histogram": [
           {
            "marker": {
             "colorbar": {
              "outlinewidth": 0,
              "ticks": ""
             }
            },
            "type": "histogram"
           }
          ],
          "histogram2d": [
           {
            "colorbar": {
             "outlinewidth": 0,
             "ticks": ""
            },
            "colorscale": [
             [
              0,
              "#0d0887"
             ],
             [
              0.1111111111111111,
              "#46039f"
             ],
             [
              0.2222222222222222,
              "#7201a8"
             ],
             [
              0.3333333333333333,
              "#9c179e"
             ],
             [
              0.4444444444444444,
              "#bd3786"
             ],
             [
              0.5555555555555556,
              "#d8576b"
             ],
             [
              0.6666666666666666,
              "#ed7953"
             ],
             [
              0.7777777777777778,
              "#fb9f3a"
             ],
             [
              0.8888888888888888,
              "#fdca26"
             ],
             [
              1,
              "#f0f921"
             ]
            ],
            "type": "histogram2d"
           }
          ],
          "histogram2dcontour": [
           {
            "colorbar": {
             "outlinewidth": 0,
             "ticks": ""
            },
            "colorscale": [
             [
              0,
              "#0d0887"
             ],
             [
              0.1111111111111111,
              "#46039f"
             ],
             [
              0.2222222222222222,
              "#7201a8"
             ],
             [
              0.3333333333333333,
              "#9c179e"
             ],
             [
              0.4444444444444444,
              "#bd3786"
             ],
             [
              0.5555555555555556,
              "#d8576b"
             ],
             [
              0.6666666666666666,
              "#ed7953"
             ],
             [
              0.7777777777777778,
              "#fb9f3a"
             ],
             [
              0.8888888888888888,
              "#fdca26"
             ],
             [
              1,
              "#f0f921"
             ]
            ],
            "type": "histogram2dcontour"
           }
          ],
          "mesh3d": [
           {
            "colorbar": {
             "outlinewidth": 0,
             "ticks": ""
            },
            "type": "mesh3d"
           }
          ],
          "parcoords": [
           {
            "line": {
             "colorbar": {
              "outlinewidth": 0,
              "ticks": ""
             }
            },
            "type": "parcoords"
           }
          ],
          "pie": [
           {
            "automargin": true,
            "type": "pie"
           }
          ],
          "scatter": [
           {
            "marker": {
             "colorbar": {
              "outlinewidth": 0,
              "ticks": ""
             }
            },
            "type": "scatter"
           }
          ],
          "scatter3d": [
           {
            "line": {
             "colorbar": {
              "outlinewidth": 0,
              "ticks": ""
             }
            },
            "marker": {
             "colorbar": {
              "outlinewidth": 0,
              "ticks": ""
             }
            },
            "type": "scatter3d"
           }
          ],
          "scattercarpet": [
           {
            "marker": {
             "colorbar": {
              "outlinewidth": 0,
              "ticks": ""
             }
            },
            "type": "scattercarpet"
           }
          ],
          "scattergeo": [
           {
            "marker": {
             "colorbar": {
              "outlinewidth": 0,
              "ticks": ""
             }
            },
            "type": "scattergeo"
           }
          ],
          "scattergl": [
           {
            "marker": {
             "colorbar": {
              "outlinewidth": 0,
              "ticks": ""
             }
            },
            "type": "scattergl"
           }
          ],
          "scattermapbox": [
           {
            "marker": {
             "colorbar": {
              "outlinewidth": 0,
              "ticks": ""
             }
            },
            "type": "scattermapbox"
           }
          ],
          "scatterpolar": [
           {
            "marker": {
             "colorbar": {
              "outlinewidth": 0,
              "ticks": ""
             }
            },
            "type": "scatterpolar"
           }
          ],
          "scatterpolargl": [
           {
            "marker": {
             "colorbar": {
              "outlinewidth": 0,
              "ticks": ""
             }
            },
            "type": "scatterpolargl"
           }
          ],
          "scatterternary": [
           {
            "marker": {
             "colorbar": {
              "outlinewidth": 0,
              "ticks": ""
             }
            },
            "type": "scatterternary"
           }
          ],
          "surface": [
           {
            "colorbar": {
             "outlinewidth": 0,
             "ticks": ""
            },
            "colorscale": [
             [
              0,
              "#0d0887"
             ],
             [
              0.1111111111111111,
              "#46039f"
             ],
             [
              0.2222222222222222,
              "#7201a8"
             ],
             [
              0.3333333333333333,
              "#9c179e"
             ],
             [
              0.4444444444444444,
              "#bd3786"
             ],
             [
              0.5555555555555556,
              "#d8576b"
             ],
             [
              0.6666666666666666,
              "#ed7953"
             ],
             [
              0.7777777777777778,
              "#fb9f3a"
             ],
             [
              0.8888888888888888,
              "#fdca26"
             ],
             [
              1,
              "#f0f921"
             ]
            ],
            "type": "surface"
           }
          ],
          "table": [
           {
            "cells": {
             "fill": {
              "color": "#EBF0F8"
             },
             "line": {
              "color": "white"
             }
            },
            "header": {
             "fill": {
              "color": "#C8D4E3"
             },
             "line": {
              "color": "white"
             }
            },
            "type": "table"
           }
          ]
         },
         "layout": {
          "annotationdefaults": {
           "arrowcolor": "#2a3f5f",
           "arrowhead": 0,
           "arrowwidth": 1
          },
          "coloraxis": {
           "colorbar": {
            "outlinewidth": 0,
            "ticks": ""
           }
          },
          "colorscale": {
           "diverging": [
            [
             0,
             "#8e0152"
            ],
            [
             0.1,
             "#c51b7d"
            ],
            [
             0.2,
             "#de77ae"
            ],
            [
             0.3,
             "#f1b6da"
            ],
            [
             0.4,
             "#fde0ef"
            ],
            [
             0.5,
             "#f7f7f7"
            ],
            [
             0.6,
             "#e6f5d0"
            ],
            [
             0.7,
             "#b8e186"
            ],
            [
             0.8,
             "#7fbc41"
            ],
            [
             0.9,
             "#4d9221"
            ],
            [
             1,
             "#276419"
            ]
           ],
           "sequential": [
            [
             0,
             "#0d0887"
            ],
            [
             0.1111111111111111,
             "#46039f"
            ],
            [
             0.2222222222222222,
             "#7201a8"
            ],
            [
             0.3333333333333333,
             "#9c179e"
            ],
            [
             0.4444444444444444,
             "#bd3786"
            ],
            [
             0.5555555555555556,
             "#d8576b"
            ],
            [
             0.6666666666666666,
             "#ed7953"
            ],
            [
             0.7777777777777778,
             "#fb9f3a"
            ],
            [
             0.8888888888888888,
             "#fdca26"
            ],
            [
             1,
             "#f0f921"
            ]
           ],
           "sequentialminus": [
            [
             0,
             "#0d0887"
            ],
            [
             0.1111111111111111,
             "#46039f"
            ],
            [
             0.2222222222222222,
             "#7201a8"
            ],
            [
             0.3333333333333333,
             "#9c179e"
            ],
            [
             0.4444444444444444,
             "#bd3786"
            ],
            [
             0.5555555555555556,
             "#d8576b"
            ],
            [
             0.6666666666666666,
             "#ed7953"
            ],
            [
             0.7777777777777778,
             "#fb9f3a"
            ],
            [
             0.8888888888888888,
             "#fdca26"
            ],
            [
             1,
             "#f0f921"
            ]
           ]
          },
          "colorway": [
           "#636efa",
           "#EF553B",
           "#00cc96",
           "#ab63fa",
           "#FFA15A",
           "#19d3f3",
           "#FF6692",
           "#B6E880",
           "#FF97FF",
           "#FECB52"
          ],
          "font": {
           "color": "#2a3f5f"
          },
          "geo": {
           "bgcolor": "white",
           "lakecolor": "white",
           "landcolor": "#E5ECF6",
           "showlakes": true,
           "showland": true,
           "subunitcolor": "white"
          },
          "hoverlabel": {
           "align": "left"
          },
          "hovermode": "closest",
          "mapbox": {
           "style": "light"
          },
          "paper_bgcolor": "white",
          "plot_bgcolor": "#E5ECF6",
          "polar": {
           "angularaxis": {
            "gridcolor": "white",
            "linecolor": "white",
            "ticks": ""
           },
           "bgcolor": "#E5ECF6",
           "radialaxis": {
            "gridcolor": "white",
            "linecolor": "white",
            "ticks": ""
           }
          },
          "scene": {
           "xaxis": {
            "backgroundcolor": "#E5ECF6",
            "gridcolor": "white",
            "gridwidth": 2,
            "linecolor": "white",
            "showbackground": true,
            "ticks": "",
            "zerolinecolor": "white"
           },
           "yaxis": {
            "backgroundcolor": "#E5ECF6",
            "gridcolor": "white",
            "gridwidth": 2,
            "linecolor": "white",
            "showbackground": true,
            "ticks": "",
            "zerolinecolor": "white"
           },
           "zaxis": {
            "backgroundcolor": "#E5ECF6",
            "gridcolor": "white",
            "gridwidth": 2,
            "linecolor": "white",
            "showbackground": true,
            "ticks": "",
            "zerolinecolor": "white"
           }
          },
          "shapedefaults": {
           "line": {
            "color": "#2a3f5f"
           }
          },
          "ternary": {
           "aaxis": {
            "gridcolor": "white",
            "linecolor": "white",
            "ticks": ""
           },
           "baxis": {
            "gridcolor": "white",
            "linecolor": "white",
            "ticks": ""
           },
           "bgcolor": "#E5ECF6",
           "caxis": {
            "gridcolor": "white",
            "linecolor": "white",
            "ticks": ""
           }
          },
          "title": {
           "x": 0.05
          },
          "xaxis": {
           "automargin": true,
           "gridcolor": "white",
           "linecolor": "white",
           "ticks": "",
           "title": {
            "standoff": 15
           },
           "zerolinecolor": "white",
           "zerolinewidth": 2
          },
          "yaxis": {
           "automargin": true,
           "gridcolor": "white",
           "linecolor": "white",
           "ticks": "",
           "title": {
            "standoff": 15
           },
           "zerolinecolor": "white",
           "zerolinewidth": 2
          }
         }
        },
        "title": {
         "font": {
          "color": "#D9D9D9"
         }
        },
        "xaxis": {
         "gridcolor": "#434343",
         "showgrid": true,
         "tickfont": {
          "color": "#C2C2C2"
         },
         "title": {
          "font": {
           "color": "#D9D9D9"
          },
          "text": ""
         },
         "zerolinecolor": "#666570"
        },
        "yaxis": {
         "gridcolor": "#434343",
         "showgrid": true,
         "tickfont": {
          "color": "#C2C2C2"
         },
         "title": {
          "font": {
           "color": "#D9D9D9"
          },
          "text": ""
         },
         "zerolinecolor": "#666570"
        }
       }
      },
      "text/html": [
       "<div>\n",
       "        \n",
       "        \n",
       "            <div id=\"2b627dac-a9c5-418c-b0d2-6744e3b571d1\" class=\"plotly-graph-div\" style=\"height:525px; width:100%;\"></div>\n",
       "            <script type=\"text/javascript\">\n",
       "                require([\"plotly\"], function(Plotly) {\n",
       "                    window.PLOTLYENV=window.PLOTLYENV || {};\n",
       "                    window.PLOTLYENV.BASE_URL='https://plot.ly';\n",
       "                    \n",
       "                if (document.getElementById(\"2b627dac-a9c5-418c-b0d2-6744e3b571d1\")) {\n",
       "                    Plotly.newPlot(\n",
       "                        '2b627dac-a9c5-418c-b0d2-6744e3b571d1',\n",
       "                        [{\"histfunc\": \"count\", \"histnorm\": \"\", \"marker\": {\"color\": \"rgba(255, 153, 51, 1.0)\", \"line\": {\"color\": \"#D9D9D9\", \"width\": 1.3}}, \"name\": \"A\", \"nbinsx\": 30, \"opacity\": 0.8, \"orientation\": \"v\", \"type\": \"histogram\", \"x\": [18.939836529413366, 18.57536317065325, 18.336635226348214, 18.697863962736864, 19.366290077918997, 19.092877224412625, 19.261927308479674, 19.070284867263755, 21.431589346093155, 20.475609087731144, 18.974584338404725, 18.543508338820796, 18.082622133483657, 19.69665413077819, 18.974847645815437, 17.237599352876373, 16.272477837350642, 16.884011620497258, 15.690410493034438, 15.363712087275186, 16.225956134402548, 15.673437402089853, 15.689721555994854, 14.874995704220487, 16.781349846692613, 16.766746588722278, 17.437023461421365, 18.407254621023664, 18.778322874746365, 18.983167775362922, 20.280012505532344, 20.966727262132668, 21.3469385769036, 18.109732789961864, 17.74223490805164, 16.67645900722814, 17.2109808368415, 16.225926830666246, 16.280290562618234, 16.310036144986377, 16.75261515323721, 15.849319662830442, 16.593276042002714, 18.49288801271804, 19.353968848237443, 17.93862487493714, 18.324248321201814, 18.925068710509603, 17.392229168570704, 16.191286317981696, 17.253830607391073, 15.952339438509785, 15.297738981433854, 16.283707299270795, 15.749084701700184, 14.370752817349668, 15.303463746448205, 13.827456294134599, 13.81516644052611, 14.325623370447243, 15.97271169687874, 15.085252769120892, 14.817254258513294, 14.241794570869569, 14.208284738686732, 12.966561751953925, 12.590482441266257, 9.948038467487647, 11.032266409982899, 8.891491839984331, 8.163049698022995, 8.979907465238242, 9.287343172794754, 10.114616024723174, 10.465815149781305, 12.496273529110058, 12.255291716666108, 12.48570479434714, 12.052354735540451, 10.303924782744446, 8.572860049980218, 7.293868133117167, 8.437051955852471, 8.27326115872482, 9.053010838181457, 6.851951218144077, 6.7132342761241794, 7.857634380841375, 9.254614304695345, 12.032692181592157, 11.567349553414724, 8.992923530539171, 6.987426346784449, 6.443275573164618, 5.666244245097008, 7.37917778442533, 5.541628217325204, 5.328180819895762, 5.444276528135589, 5.602228529266361]}, {\"histfunc\": \"count\", \"histnorm\": \"\", \"marker\": {\"color\": \"rgba(55, 128, 191, 1.0)\", \"line\": {\"color\": \"#D9D9D9\", \"width\": 1.3}}, \"name\": \"B\", \"nbinsx\": 30, \"opacity\": 0.8, \"orientation\": \"v\", \"type\": \"histogram\", \"x\": [19.57811765823711, 20.67821727264487, 21.468674831135477, 21.992650726303197, 22.59070512232445, 20.867900003575024, 20.365513305889916, 20.913470537490042, 21.090882817729412, 21.68193571878041, 22.636158920705995, 23.536766878768287, 23.971367204293422, 24.587802024695673, 25.398796398181773, 25.198735063890453, 25.248666318458625, 24.2572815816471, 24.725622045472626, 24.70606590576826, 24.904816173365795, 25.69274160358888, 25.318222557924997, 25.881797294360027, 25.149005275607976, 26.158306200641068, 24.96467012433253, 25.703393643547926, 24.501570109309206, 24.801022335851982, 25.501324319961423, 25.50086978292324, 25.56794289117986, 26.05129699810626, 27.879270978399088, 28.035715011190494, 28.417621536191334, 27.45150432479886, 25.365409693787665, 25.569699453062658, 25.871828040861512, 25.811349616237685, 25.507065615897233, 25.359834372240382, 24.461654398131433, 25.713853093333597, 24.36999338773402, 24.21381050894856, 23.521083330480558, 24.812337744604157, 26.22442520575146, 25.42282289886684, 24.801672584853485, 23.795197723661467, 23.218274304310114, 24.441539869052512, 23.38321461149637, 22.605941570869334, 22.961896130440156, 22.225405362707768, 22.10595019122328, 22.517392115635495, 21.475553665572292, 21.769720295929822, 20.14714973294842, 20.01295951168225, 20.642452444786795, 20.07646910957776, 20.717595768900587, 21.90117045667466, 21.144119719795288, 20.21568542385949, 20.11832983031426, 20.25320071536521, 21.079422705104005, 20.178029294199376, 20.41702064132579, 19.53350372776044, 17.2389060491363, 17.919819649682246, 17.873327116523644, 19.16249070679284, 18.548690862504664, 19.44310771240245, 19.1972035065841, 18.712028267850634, 18.48844417247204, 18.15349006866355, 17.867561285442036, 17.29321406647523, 17.398166853899877, 19.247233445105156, 20.047597351883915, 18.78589828631096, 19.297309251402723, 19.07135904384581, 18.723948022892316, 19.530950057733442, 19.068236729746076, 16.898675239248913]}, {\"histfunc\": \"count\", \"histnorm\": \"\", \"marker\": {\"color\": \"rgba(50, 171, 96, 1.0)\", \"line\": {\"color\": \"#D9D9D9\", \"width\": 1.3}}, \"name\": \"C\", \"nbinsx\": 30, \"opacity\": 0.8, \"orientation\": \"v\", \"type\": \"histogram\", \"x\": [19.60142742296272, 19.850834310233786, 17.26295717314104, 18.575130234244927, 18.649815081003418, 16.187364271401435, 16.83327707529083, 17.00829837263115, 19.208742179909265, 16.895158132496448, 17.319347698131015, 16.939276576515184, 17.445366576364325, 17.638588609076354, 17.258509481465452, 17.286869221921418, 16.506548141702037, 16.151709024133623, 16.09848802515722, 17.092421192295976, 17.872105000572574, 17.806117362194872, 18.150007123655403, 16.957122125424352, 16.92994835512515, 16.758553949623117, 15.774845681256942, 18.060152262817095, 18.15229282455728, 19.02795900495338, 19.49302099652112, 18.836755265502706, 16.878896305092276, 15.687515713008718, 15.940164884463984, 16.464089189174473, 16.55546174456284, 17.002618386359664, 17.205102920401043, 19.17203130140711, 18.57801051926247, 18.456585892440255, 17.6193624525526, 18.732100151060042, 17.556766750936994, 15.945535123872169, 16.577448209785068, 16.757449951175825, 16.326060136179365, 13.669310530754606, 12.56779501388871, 12.785708153691573, 15.223884679756864, 15.894497039607295, 15.098340845301632, 14.953377725149977, 15.357102114195273, 15.983788153268696, 14.868106909858069, 14.026933126308741, 13.7568883447751, 15.231989630000637, 15.383881880895478, 16.382588531083307, 16.43322132276507, 16.461558197689243, 17.305011421274564, 16.010747846021136, 16.839646372310973, 18.005743115693416, 17.48742238164607, 17.69108585845791, 17.835111137476378, 16.894666400726123, 17.191622339832097, 17.167071839480002, 17.68691715092639, 17.028739902661005, 15.414571912627235, 15.45576031216001, 16.232317046637696, 15.445976972864562, 17.211532521350136, 18.483445261686082, 18.030804994536023, 18.464612018830422, 17.948728927363632, 17.212379914264904, 17.231048164772314, 15.53966706854438, 16.15486292195792, 15.56126396950727, 14.313029895849528, 12.118614728283392, 11.666360294191552, 13.516095653489876, 15.144094960578572, 14.263878277842988, 14.858855311310744, 14.050273317419077]}],\n",
       "                        {\"bargap\": 0.5, \"barmode\": \"overlay\", \"legend\": {\"bgcolor\": \"#1A1A1C\", \"font\": {\"color\": \"#D9D9D9\"}}, \"paper_bgcolor\": \"#1A1A1C\", \"plot_bgcolor\": \"#1A1A1C\", \"template\": {\"data\": {\"bar\": [{\"error_x\": {\"color\": \"#2a3f5f\"}, \"error_y\": {\"color\": \"#2a3f5f\"}, \"marker\": {\"line\": {\"color\": \"#E5ECF6\", \"width\": 0.5}}, \"type\": \"bar\"}], \"barpolar\": [{\"marker\": {\"line\": {\"color\": \"#E5ECF6\", \"width\": 0.5}}, \"type\": \"barpolar\"}], \"carpet\": [{\"aaxis\": {\"endlinecolor\": \"#2a3f5f\", \"gridcolor\": \"white\", \"linecolor\": \"white\", \"minorgridcolor\": \"white\", \"startlinecolor\": \"#2a3f5f\"}, \"baxis\": {\"endlinecolor\": \"#2a3f5f\", \"gridcolor\": \"white\", \"linecolor\": \"white\", \"minorgridcolor\": \"white\", \"startlinecolor\": \"#2a3f5f\"}, \"type\": \"carpet\"}], \"choropleth\": [{\"colorbar\": {\"outlinewidth\": 0, \"ticks\": \"\"}, \"type\": \"choropleth\"}], \"contour\": [{\"colorbar\": {\"outlinewidth\": 0, \"ticks\": \"\"}, \"colorscale\": [[0.0, \"#0d0887\"], [0.1111111111111111, \"#46039f\"], [0.2222222222222222, \"#7201a8\"], [0.3333333333333333, \"#9c179e\"], [0.4444444444444444, \"#bd3786\"], [0.5555555555555556, \"#d8576b\"], [0.6666666666666666, \"#ed7953\"], [0.7777777777777778, \"#fb9f3a\"], [0.8888888888888888, \"#fdca26\"], [1.0, \"#f0f921\"]], \"type\": \"contour\"}], \"contourcarpet\": [{\"colorbar\": {\"outlinewidth\": 0, \"ticks\": \"\"}, \"type\": \"contourcarpet\"}], \"heatmap\": [{\"colorbar\": {\"outlinewidth\": 0, \"ticks\": \"\"}, \"colorscale\": [[0.0, \"#0d0887\"], [0.1111111111111111, \"#46039f\"], [0.2222222222222222, \"#7201a8\"], [0.3333333333333333, \"#9c179e\"], [0.4444444444444444, \"#bd3786\"], [0.5555555555555556, \"#d8576b\"], [0.6666666666666666, \"#ed7953\"], [0.7777777777777778, \"#fb9f3a\"], [0.8888888888888888, \"#fdca26\"], [1.0, \"#f0f921\"]], \"type\": \"heatmap\"}], \"heatmapgl\": [{\"colorbar\": {\"outlinewidth\": 0, \"ticks\": \"\"}, \"colorscale\": [[0.0, \"#0d0887\"], [0.1111111111111111, \"#46039f\"], [0.2222222222222222, \"#7201a8\"], [0.3333333333333333, \"#9c179e\"], [0.4444444444444444, \"#bd3786\"], [0.5555555555555556, \"#d8576b\"], [0.6666666666666666, \"#ed7953\"], [0.7777777777777778, \"#fb9f3a\"], [0.8888888888888888, \"#fdca26\"], [1.0, \"#f0f921\"]], \"type\": \"heatmapgl\"}], \"histogram\": [{\"marker\": {\"colorbar\": {\"outlinewidth\": 0, \"ticks\": \"\"}}, \"type\": \"histogram\"}], \"histogram2d\": [{\"colorbar\": {\"outlinewidth\": 0, \"ticks\": \"\"}, \"colorscale\": [[0.0, \"#0d0887\"], [0.1111111111111111, \"#46039f\"], [0.2222222222222222, \"#7201a8\"], [0.3333333333333333, \"#9c179e\"], [0.4444444444444444, \"#bd3786\"], [0.5555555555555556, \"#d8576b\"], [0.6666666666666666, \"#ed7953\"], [0.7777777777777778, \"#fb9f3a\"], [0.8888888888888888, \"#fdca26\"], [1.0, \"#f0f921\"]], \"type\": \"histogram2d\"}], \"histogram2dcontour\": [{\"colorbar\": {\"outlinewidth\": 0, \"ticks\": \"\"}, \"colorscale\": [[0.0, \"#0d0887\"], [0.1111111111111111, \"#46039f\"], [0.2222222222222222, \"#7201a8\"], [0.3333333333333333, \"#9c179e\"], [0.4444444444444444, \"#bd3786\"], [0.5555555555555556, \"#d8576b\"], [0.6666666666666666, \"#ed7953\"], [0.7777777777777778, \"#fb9f3a\"], [0.8888888888888888, \"#fdca26\"], [1.0, \"#f0f921\"]], \"type\": \"histogram2dcontour\"}], \"mesh3d\": [{\"colorbar\": {\"outlinewidth\": 0, \"ticks\": \"\"}, \"type\": \"mesh3d\"}], \"parcoords\": [{\"line\": {\"colorbar\": {\"outlinewidth\": 0, \"ticks\": \"\"}}, \"type\": \"parcoords\"}], \"pie\": [{\"automargin\": true, \"type\": \"pie\"}], \"scatter\": [{\"marker\": {\"colorbar\": {\"outlinewidth\": 0, \"ticks\": \"\"}}, \"type\": \"scatter\"}], \"scatter3d\": [{\"line\": {\"colorbar\": {\"outlinewidth\": 0, \"ticks\": \"\"}}, \"marker\": {\"colorbar\": {\"outlinewidth\": 0, \"ticks\": \"\"}}, \"type\": \"scatter3d\"}], \"scattercarpet\": [{\"marker\": {\"colorbar\": {\"outlinewidth\": 0, \"ticks\": \"\"}}, \"type\": \"scattercarpet\"}], \"scattergeo\": [{\"marker\": {\"colorbar\": {\"outlinewidth\": 0, \"ticks\": \"\"}}, \"type\": \"scattergeo\"}], \"scattergl\": [{\"marker\": {\"colorbar\": {\"outlinewidth\": 0, \"ticks\": \"\"}}, \"type\": \"scattergl\"}], \"scattermapbox\": [{\"marker\": {\"colorbar\": {\"outlinewidth\": 0, \"ticks\": \"\"}}, \"type\": \"scattermapbox\"}], \"scatterpolar\": [{\"marker\": {\"colorbar\": {\"outlinewidth\": 0, \"ticks\": \"\"}}, \"type\": \"scatterpolar\"}], \"scatterpolargl\": [{\"marker\": {\"colorbar\": {\"outlinewidth\": 0, \"ticks\": \"\"}}, \"type\": \"scatterpolargl\"}], \"scatterternary\": [{\"marker\": {\"colorbar\": {\"outlinewidth\": 0, \"ticks\": \"\"}}, \"type\": \"scatterternary\"}], \"surface\": [{\"colorbar\": {\"outlinewidth\": 0, \"ticks\": \"\"}, \"colorscale\": [[0.0, \"#0d0887\"], [0.1111111111111111, \"#46039f\"], [0.2222222222222222, \"#7201a8\"], [0.3333333333333333, \"#9c179e\"], [0.4444444444444444, \"#bd3786\"], [0.5555555555555556, \"#d8576b\"], [0.6666666666666666, \"#ed7953\"], [0.7777777777777778, \"#fb9f3a\"], [0.8888888888888888, \"#fdca26\"], [1.0, \"#f0f921\"]], \"type\": \"surface\"}], \"table\": [{\"cells\": {\"fill\": {\"color\": \"#EBF0F8\"}, \"line\": {\"color\": \"white\"}}, \"header\": {\"fill\": {\"color\": \"#C8D4E3\"}, \"line\": {\"color\": \"white\"}}, \"type\": \"table\"}]}, \"layout\": {\"annotationdefaults\": {\"arrowcolor\": \"#2a3f5f\", \"arrowhead\": 0, \"arrowwidth\": 1}, \"coloraxis\": {\"colorbar\": {\"outlinewidth\": 0, \"ticks\": \"\"}}, \"colorscale\": {\"diverging\": [[0, \"#8e0152\"], [0.1, \"#c51b7d\"], [0.2, \"#de77ae\"], [0.3, \"#f1b6da\"], [0.4, \"#fde0ef\"], [0.5, \"#f7f7f7\"], [0.6, \"#e6f5d0\"], [0.7, \"#b8e186\"], [0.8, \"#7fbc41\"], [0.9, \"#4d9221\"], [1, \"#276419\"]], \"sequential\": [[0.0, \"#0d0887\"], [0.1111111111111111, \"#46039f\"], [0.2222222222222222, \"#7201a8\"], [0.3333333333333333, \"#9c179e\"], [0.4444444444444444, \"#bd3786\"], [0.5555555555555556, \"#d8576b\"], [0.6666666666666666, \"#ed7953\"], [0.7777777777777778, \"#fb9f3a\"], [0.8888888888888888, \"#fdca26\"], [1.0, \"#f0f921\"]], \"sequentialminus\": [[0.0, \"#0d0887\"], [0.1111111111111111, \"#46039f\"], [0.2222222222222222, \"#7201a8\"], [0.3333333333333333, \"#9c179e\"], [0.4444444444444444, \"#bd3786\"], [0.5555555555555556, \"#d8576b\"], [0.6666666666666666, \"#ed7953\"], [0.7777777777777778, \"#fb9f3a\"], [0.8888888888888888, \"#fdca26\"], [1.0, \"#f0f921\"]]}, \"colorway\": [\"#636efa\", \"#EF553B\", \"#00cc96\", \"#ab63fa\", \"#FFA15A\", \"#19d3f3\", \"#FF6692\", \"#B6E880\", \"#FF97FF\", \"#FECB52\"], \"font\": {\"color\": \"#2a3f5f\"}, \"geo\": {\"bgcolor\": \"white\", \"lakecolor\": \"white\", \"landcolor\": \"#E5ECF6\", \"showlakes\": true, \"showland\": true, \"subunitcolor\": \"white\"}, \"hoverlabel\": {\"align\": \"left\"}, \"hovermode\": \"closest\", \"mapbox\": {\"style\": \"light\"}, \"paper_bgcolor\": \"white\", \"plot_bgcolor\": \"#E5ECF6\", \"polar\": {\"angularaxis\": {\"gridcolor\": \"white\", \"linecolor\": \"white\", \"ticks\": \"\"}, \"bgcolor\": \"#E5ECF6\", \"radialaxis\": {\"gridcolor\": \"white\", \"linecolor\": \"white\", \"ticks\": \"\"}}, \"scene\": {\"xaxis\": {\"backgroundcolor\": \"#E5ECF6\", \"gridcolor\": \"white\", \"gridwidth\": 2, \"linecolor\": \"white\", \"showbackground\": true, \"ticks\": \"\", \"zerolinecolor\": \"white\"}, \"yaxis\": {\"backgroundcolor\": \"#E5ECF6\", \"gridcolor\": \"white\", \"gridwidth\": 2, \"linecolor\": \"white\", \"showbackground\": true, \"ticks\": \"\", \"zerolinecolor\": \"white\"}, \"zaxis\": {\"backgroundcolor\": \"#E5ECF6\", \"gridcolor\": \"white\", \"gridwidth\": 2, \"linecolor\": \"white\", \"showbackground\": true, \"ticks\": \"\", \"zerolinecolor\": \"white\"}}, \"shapedefaults\": {\"line\": {\"color\": \"#2a3f5f\"}}, \"ternary\": {\"aaxis\": {\"gridcolor\": \"white\", \"linecolor\": \"white\", \"ticks\": \"\"}, \"baxis\": {\"gridcolor\": \"white\", \"linecolor\": \"white\", \"ticks\": \"\"}, \"bgcolor\": \"#E5ECF6\", \"caxis\": {\"gridcolor\": \"white\", \"linecolor\": \"white\", \"ticks\": \"\"}}, \"title\": {\"x\": 0.05}, \"xaxis\": {\"automargin\": true, \"gridcolor\": \"white\", \"linecolor\": \"white\", \"ticks\": \"\", \"title\": {\"standoff\": 15}, \"zerolinecolor\": \"white\", \"zerolinewidth\": 2}, \"yaxis\": {\"automargin\": true, \"gridcolor\": \"white\", \"linecolor\": \"white\", \"ticks\": \"\", \"title\": {\"standoff\": 15}, \"zerolinecolor\": \"white\", \"zerolinewidth\": 2}}}, \"title\": {\"font\": {\"color\": \"#D9D9D9\"}}, \"xaxis\": {\"gridcolor\": \"#434343\", \"showgrid\": true, \"tickfont\": {\"color\": \"#C2C2C2\"}, \"title\": {\"font\": {\"color\": \"#D9D9D9\"}, \"text\": \"\"}, \"zerolinecolor\": \"#666570\"}, \"yaxis\": {\"gridcolor\": \"#434343\", \"showgrid\": true, \"tickfont\": {\"color\": \"#C2C2C2\"}, \"title\": {\"font\": {\"color\": \"#D9D9D9\"}, \"text\": \"\"}, \"zerolinecolor\": \"#666570\"}},\n",
       "                        {\"showLink\": true, \"linkText\": \"Export to plot.ly\", \"plotlyServerURL\": \"https://plot.ly\", \"responsive\": true}\n",
       "                    ).then(function(){\n",
       "                            \n",
       "var gd = document.getElementById('2b627dac-a9c5-418c-b0d2-6744e3b571d1');\n",
       "var x = new MutationObserver(function (mutations, observer) {{\n",
       "        var display = window.getComputedStyle(gd).display;\n",
       "        if (!display || display === 'none') {{\n",
       "            console.log([gd, 'removed!']);\n",
       "            Plotly.purge(gd);\n",
       "            observer.disconnect();\n",
       "        }}\n",
       "}});\n",
       "\n",
       "// Listen for the removal of the full notebook cells\n",
       "var notebookContainer = gd.closest('#notebook-container');\n",
       "if (notebookContainer) {{\n",
       "    x.observe(notebookContainer, {childList: true});\n",
       "}}\n",
       "\n",
       "// Listen for the clearing of the current output cell\n",
       "var outputEl = gd.closest('.output');\n",
       "if (outputEl) {{\n",
       "    x.observe(outputEl, {childList: true});\n",
       "}}\n",
       "\n",
       "                        })\n",
       "                };\n",
       "                });\n",
       "            </script>\n",
       "        </div>"
      ]
     },
     "metadata": {},
     "output_type": "display_data"
    }
   ],
   "source": [
    "df.iplot(kind='hist', bins = 30, bargap=0.5)"
   ]
  },
  {
   "cell_type": "code",
   "execution_count": 81,
   "metadata": {
    "scrolled": true
   },
   "outputs": [
    {
     "data": {
      "application/vnd.plotly.v1+json": {
       "config": {
        "linkText": "Export to plot.ly",
        "plotlyServerURL": "https://plot.ly",
        "showLink": true
       },
       "data": [
        {
         "colorscale": [
          [
           0,
           "rgb(158,1,66)"
          ],
          [
           0.1,
           "rgb(213,62,79)"
          ],
          [
           0.2,
           "rgb(244,109,67)"
          ],
          [
           0.3,
           "rgb(253,174,97)"
          ],
          [
           0.4,
           "rgb(254,224,139)"
          ],
          [
           0.5,
           "rgb(255,255,191)"
          ],
          [
           0.6,
           "rgb(230,245,152)"
          ],
          [
           0.7,
           "rgb(171,221,164)"
          ],
          [
           0.8,
           "rgb(102,194,165)"
          ],
          [
           0.9,
           "rgb(50,136,189)"
          ],
          [
           1,
           "rgb(94,79,162)"
          ]
         ],
         "type": "heatmap",
         "x": [
          "x_0",
          "x_1",
          "x_2",
          "x_3",
          "x_4",
          "x_5",
          "x_6",
          "x_7",
          "x_8",
          "x_9",
          "x_10",
          "x_11",
          "x_12",
          "x_13",
          "x_14",
          "x_15",
          "x_16",
          "x_17",
          "x_18",
          "x_19"
         ],
         "y": [
          "y_0",
          "y_1",
          "y_2",
          "y_3",
          "y_4",
          "y_5",
          "y_6",
          "y_7",
          "y_8",
          "y_9",
          "y_10",
          "y_11",
          "y_12",
          "y_13",
          "y_14",
          "y_15",
          "y_16",
          "y_17",
          "y_18",
          "y_19"
         ],
         "z": [
          [
           28,
           26.489485331095377,
           32.68040807489289,
           26.025195913565017,
           31.839884373224564,
           27.693989478521114,
           29.434081075395035,
           31.419913950337218,
           24.308700507963398,
           20.230254767883388,
           28.20261500690198,
           30.094630539762235,
           31.30140123725175,
           20.796003974267705,
           43.146321912793184,
           38.10370514979293,
           27.906432311429043,
           26.39255888851923,
           23.72017070959554,
           26.05762940577319
          ],
          [
           26.470108419453798,
           34.19346742104443,
           41.86206020770091,
           15.530144539196392,
           24.532578021198812,
           40.065499354335884,
           32.74638275911916,
           32.69976084960608,
           36.35810157644677,
           15.63566080081403,
           38.91852621676252,
           38.54759583083633,
           31.345432451730154,
           22.08389261424246,
           41.336505963746035,
           38.747898774932416,
           27.009737089483586,
           24.314595398294294,
           10.787998034394557,
           27.482350913677852
          ],
          [
           25.38497564037598,
           32.878420247456596,
           42.93513739681818,
           18.78528132982911,
           23.939372328482104,
           37.69647302534245,
           27.634393898509266,
           30.255385852953687,
           30.753328037576246,
           16.86364118690333,
           38.41518194101342,
           24.906879703887107,
           31.121644544358897,
           10.482074656399682,
           41.80050995674027,
           36.524178424918496,
           23.924679135307837,
           23.574552854539878,
           10.807244612661316,
           31.359652824759465
          ],
          [
           25.504160000615943,
           49.497028703660376,
           38.98333403845998,
           17.741275897927054,
           17.542474639461407,
           35.26807452813699,
           28.68620587728185,
           38.19315626658607,
           37.524849301341845,
           19.7160849937451,
           38.66094532924212,
           27.21846190834145,
           30.854840669581414,
           14.026438917989914,
           41.83526411499115,
           41.04407786132328,
           28.43989406578237,
           30.776868042526775,
           9.42757978928514,
           46.89965846023196
          ],
          [
           27.94436169505545,
           51.46537769479416,
           33.45776890705648,
           22.794784875624003,
           20.824108824590233,
           34.474331036436254,
           33.438499405008486,
           38.62785937262669,
           39.55718549011642,
           13.885079484953366,
           39.079298115960825,
           30.54752734427875,
           31.75970597154916,
           15.575395343888033,
           41.54312254404749,
           41.21096296091857,
           31.30180109376462,
           29.91720230545591,
           -0.6068519032114139,
           47.320561041628046
          ],
          [
           13.396245283419699,
           42.35459561282511,
           35.28403529688939,
           27.61444282661936,
           19.06297058921509,
           33.576359690999936,
           32.01063537904359,
           40.14316800311063,
           28.777504232781475,
           11.739092099810845,
           40.63783498995954,
           29.280200449942505,
           44.93606635547567,
           16.950684659424603,
           41.290949961983344,
           28.56281457515442,
           41.667980318231166,
           33.35643990242832,
           2.6333869444969,
           43.582895033176555
          ],
          [
           9.655366299615563,
           51.38925680891662,
           41.15429714386636,
           23.157894720147556,
           18.083729708467317,
           44.061628509902306,
           25.281723678123598,
           45.81080623621429,
           27.783059386073038,
           13.732796774922711,
           34.368343271170076,
           26.176287394331176,
           42.7935035868431,
           18.689866563932572,
           50.67843102042425,
           23.204062704592616,
           39.348760043958244,
           38.78639245096888,
           1.734417585310749,
           47.48378577820221
          ],
          [
           15.57831969720171,
           44.42101238859998,
           42.910256349889806,
           26.635785132616462,
           17.908956674808152,
           44.393772508370795,
           45.953743640279455,
           46.521238789168905,
           40.69990919761383,
           15.802695354861516,
           40.31631815048761,
           23.310199004400385,
           43.621715128284336,
           16.666909997432565,
           41.25658708642845,
           23.54533717145776,
           44.767603808236146,
           42.670025591630825,
           -0.8101221718355196,
           48.99693461994819
          ],
          [
           16.075479962686178,
           54.057977216707044,
           47.900229919341704,
           26.551692611518657,
           22.281310440192414,
           35.06695008909635,
           41.08433083938471,
           44.47452541633222,
           40.30253399766611,
           17.223447068365495,
           33.75211893434492,
           19.8009944190446,
           39.486986166034946,
           10.950092673832039,
           40.44537165572408,
           17.926950548090414,
           46.69862596363223,
           34.058732514170046,
           -4.378066687614128,
           50.025110647596165
          ],
          [
           16.020294227664674,
           53.8282560756218,
           46.79715024860366,
           28.130832216627365,
           9.051856042227667,
           48.11956180901054,
           43.72669722051429,
           50.09865224920634,
           40.716781997170365,
           20.423206084277233,
           36.06425730125997,
           17.684684400195174,
           39.418834071831256,
           15.195062901384263,
           47.889251667553864,
           8.086694467488517,
           45.258991346468484,
           16.120473226369295,
           -12.497493006906423,
           38.773369153479926
          ],
          [
           21.526740783991425,
           43.78960441199874,
           39.51215376583508,
           34.82517610377169,
           8.757461163582974,
           44.88902004252361,
           42.60915274303212,
           50.67641758245191,
           46.937779976664324,
           13.103811461818058,
           41.03558255050731,
           23.080874968454637,
           34.718207335993256,
           21.768355440810524,
           69.94713248059227,
           4.1997915219122435,
           44.33592048509253,
           13.820912441579559,
           -19.23967178185122,
           35.6331015821715
          ],
          [
           25.735947457139567,
           21.76664888633839,
           48.6497784530805,
           37.318993089647456,
           11.631524763267617,
           44.28785213358591,
           43.60704576142496,
           52.075066917054116,
           37.66253550061124,
           12.44109324888204,
           42.908950607386714,
           16.180125036030496,
           30.523564681794163,
           17.792786668862536,
           70.39357696427598,
           5.465396130190564,
           45.58376619757652,
           12.64459935693653,
           -18.41868492074981,
           35.673641678682515
          ],
          [
           27.3857932195822,
           39.29644673380684,
           48.37274639085111,
           34.96576545525225,
           14.658111369766644,
           42.48039568343969,
           32.22284538601578,
           48.611680972244805,
           31.572367203437857,
           21.245526115687923,
           41.81094563809983,
           19.846099597995416,
           27.82578272940619,
           16.94000078622346,
           60.20626387961924,
           8.806915861296998,
           44.996305503897005,
           12.45501958602131,
           -18.827209573996743,
           46.5580702711009
          ],
          [
           28.407744914854216,
           40.305141307519,
           53.14359874837483,
           34.28532976018327,
           17.03832119391866,
           42.99145404439936,
           31.846376404717613,
           60.8236471384361,
           37.45915216692153,
           34.10796174357349,
           37.690149260342466,
           18.179725229093247,
           24.697644614431887,
           17.772313513318196,
           63.9549301159699,
           10.066126605313176,
           44.412349021025776,
           1.0328201186225243,
           -19.874826733911622,
           48.224226243402114
          ],
          [
           37.00249227371085,
           35.32889924387911,
           56.20407545865141,
           31.475415465345353,
           14.74567466256429,
           40.55316239462778,
           32.973742725385556,
           61.79788341997394,
           44.07949035080517,
           33.50748650945394,
           35.50624059973365,
           17.61285744846905,
           8.900450507143642,
           17.372865062757583,
           64.74635438398708,
           9.756616064251192,
           44.95655204926113,
           2.367680386286306,
           -17.647772303065555,
           46.91629250993951
          ],
          [
           39.298342925263334,
           38.09757696027991,
           56.28725487024549,
           38.31307749112552,
           14.92720675400496,
           41.44220752506868,
           29.23236536109114,
           62.664971976419004,
           37.55520923447906,
           32.75100732115877,
           26.302518167378345,
           0.8419958783257577,
           -1.8693991744895797,
           17.095072224538526,
           65.10308238008872,
           10.412592086454076,
           44.937401752155196,
           6.18532066583707,
           -17.079229049716428,
           45.75604224431063
          ],
          [
           37.85983333866443,
           39.95302184022564,
           56.34580035357026,
           39.465687207327065,
           16.402640201792106,
           38.342267064873106,
           31.460465383847435,
           60.777252950144614,
           37.535401326934156,
           35.62493820930303,
           26.477197213611216,
           4.2507752819155105,
           -17.775099047635017,
           9.52129269342253,
           72.48146210777206,
           4.1584192805904365,
           51.225896496994224,
           14.758954658210266,
           -16.04344912262018,
           40.45127567234008
          ],
          [
           40.62300971591347,
           26.3878915146132,
           56.383931964307195,
           40.35233465557887,
           22.123717649949395,
           38.64386587159437,
           35.79197654131063,
           66.47826069237145,
           48.08695367299122,
           36.56880847878913,
           46.200024201674594,
           -3.783050566952765,
           -15.7145659518232,
           2.4619912328443005,
           73.54907829916773,
           8.640373554941299,
           49.11442992327458,
           19.003248496116857,
           -17.409347942298666,
           45.33742092133727
          ],
          [
           40.334075461126,
           31.122713136745006,
           56.16866317116778,
           41.434593140227605,
           23.298679784398235,
           29.194248088593977,
           39.644429656515015,
           76.64239129356034,
           55.28637086431066,
           38.13886880845669,
           46.361399933169274,
           -27.238114573550334,
           -14.711167225884173,
           6.212083773639341,
           66.04986308977513,
           8.300229755648711,
           52.080757792568306,
           21.32375420532826,
           -27.29748869863893,
           45.07824300235788
          ],
          [
           42.89402054653727,
           28.27748351366083,
           54.66588510191509,
           41.65471361483494,
           24.404104555009283,
           31.30741399077407,
           46.36492932440528,
           79.47714032687395,
           59.482505682196155,
           35.38367586584961,
           47.199757315536864,
           -38.197033465994394,
           -11.560168156689597,
           9.127432246542089,
           65.37803279212132,
           2.677973661781814,
           51.176587926221906,
           19.673513131323144,
           -29.33454974886566,
           41.150345774587755
          ]
         ],
         "zmax": 79.47714032687395,
         "zmin": -38.197033465994394
        }
       ],
       "layout": {
        "legend": {
         "bgcolor": "#1A1A1C",
         "font": {
          "color": "#D9D9D9"
         }
        },
        "paper_bgcolor": "#1A1A1C",
        "plot_bgcolor": "#1A1A1C",
        "template": {
         "data": {
          "bar": [
           {
            "error_x": {
             "color": "#2a3f5f"
            },
            "error_y": {
             "color": "#2a3f5f"
            },
            "marker": {
             "line": {
              "color": "#E5ECF6",
              "width": 0.5
             }
            },
            "type": "bar"
           }
          ],
          "barpolar": [
           {
            "marker": {
             "line": {
              "color": "#E5ECF6",
              "width": 0.5
             }
            },
            "type": "barpolar"
           }
          ],
          "carpet": [
           {
            "aaxis": {
             "endlinecolor": "#2a3f5f",
             "gridcolor": "white",
             "linecolor": "white",
             "minorgridcolor": "white",
             "startlinecolor": "#2a3f5f"
            },
            "baxis": {
             "endlinecolor": "#2a3f5f",
             "gridcolor": "white",
             "linecolor": "white",
             "minorgridcolor": "white",
             "startlinecolor": "#2a3f5f"
            },
            "type": "carpet"
           }
          ],
          "choropleth": [
           {
            "colorbar": {
             "outlinewidth": 0,
             "ticks": ""
            },
            "type": "choropleth"
           }
          ],
          "contour": [
           {
            "colorbar": {
             "outlinewidth": 0,
             "ticks": ""
            },
            "colorscale": [
             [
              0,
              "#0d0887"
             ],
             [
              0.1111111111111111,
              "#46039f"
             ],
             [
              0.2222222222222222,
              "#7201a8"
             ],
             [
              0.3333333333333333,
              "#9c179e"
             ],
             [
              0.4444444444444444,
              "#bd3786"
             ],
             [
              0.5555555555555556,
              "#d8576b"
             ],
             [
              0.6666666666666666,
              "#ed7953"
             ],
             [
              0.7777777777777778,
              "#fb9f3a"
             ],
             [
              0.8888888888888888,
              "#fdca26"
             ],
             [
              1,
              "#f0f921"
             ]
            ],
            "type": "contour"
           }
          ],
          "contourcarpet": [
           {
            "colorbar": {
             "outlinewidth": 0,
             "ticks": ""
            },
            "type": "contourcarpet"
           }
          ],
          "heatmap": [
           {
            "colorbar": {
             "outlinewidth": 0,
             "ticks": ""
            },
            "colorscale": [
             [
              0,
              "#0d0887"
             ],
             [
              0.1111111111111111,
              "#46039f"
             ],
             [
              0.2222222222222222,
              "#7201a8"
             ],
             [
              0.3333333333333333,
              "#9c179e"
             ],
             [
              0.4444444444444444,
              "#bd3786"
             ],
             [
              0.5555555555555556,
              "#d8576b"
             ],
             [
              0.6666666666666666,
              "#ed7953"
             ],
             [
              0.7777777777777778,
              "#fb9f3a"
             ],
             [
              0.8888888888888888,
              "#fdca26"
             ],
             [
              1,
              "#f0f921"
             ]
            ],
            "type": "heatmap"
           }
          ],
          "heatmapgl": [
           {
            "colorbar": {
             "outlinewidth": 0,
             "ticks": ""
            },
            "colorscale": [
             [
              0,
              "#0d0887"
             ],
             [
              0.1111111111111111,
              "#46039f"
             ],
             [
              0.2222222222222222,
              "#7201a8"
             ],
             [
              0.3333333333333333,
              "#9c179e"
             ],
             [
              0.4444444444444444,
              "#bd3786"
             ],
             [
              0.5555555555555556,
              "#d8576b"
             ],
             [
              0.6666666666666666,
              "#ed7953"
             ],
             [
              0.7777777777777778,
              "#fb9f3a"
             ],
             [
              0.8888888888888888,
              "#fdca26"
             ],
             [
              1,
              "#f0f921"
             ]
            ],
            "type": "heatmapgl"
           }
          ],
          "histogram": [
           {
            "marker": {
             "colorbar": {
              "outlinewidth": 0,
              "ticks": ""
             }
            },
            "type": "histogram"
           }
          ],
          "histogram2d": [
           {
            "colorbar": {
             "outlinewidth": 0,
             "ticks": ""
            },
            "colorscale": [
             [
              0,
              "#0d0887"
             ],
             [
              0.1111111111111111,
              "#46039f"
             ],
             [
              0.2222222222222222,
              "#7201a8"
             ],
             [
              0.3333333333333333,
              "#9c179e"
             ],
             [
              0.4444444444444444,
              "#bd3786"
             ],
             [
              0.5555555555555556,
              "#d8576b"
             ],
             [
              0.6666666666666666,
              "#ed7953"
             ],
             [
              0.7777777777777778,
              "#fb9f3a"
             ],
             [
              0.8888888888888888,
              "#fdca26"
             ],
             [
              1,
              "#f0f921"
             ]
            ],
            "type": "histogram2d"
           }
          ],
          "histogram2dcontour": [
           {
            "colorbar": {
             "outlinewidth": 0,
             "ticks": ""
            },
            "colorscale": [
             [
              0,
              "#0d0887"
             ],
             [
              0.1111111111111111,
              "#46039f"
             ],
             [
              0.2222222222222222,
              "#7201a8"
             ],
             [
              0.3333333333333333,
              "#9c179e"
             ],
             [
              0.4444444444444444,
              "#bd3786"
             ],
             [
              0.5555555555555556,
              "#d8576b"
             ],
             [
              0.6666666666666666,
              "#ed7953"
             ],
             [
              0.7777777777777778,
              "#fb9f3a"
             ],
             [
              0.8888888888888888,
              "#fdca26"
             ],
             [
              1,
              "#f0f921"
             ]
            ],
            "type": "histogram2dcontour"
           }
          ],
          "mesh3d": [
           {
            "colorbar": {
             "outlinewidth": 0,
             "ticks": ""
            },
            "type": "mesh3d"
           }
          ],
          "parcoords": [
           {
            "line": {
             "colorbar": {
              "outlinewidth": 0,
              "ticks": ""
             }
            },
            "type": "parcoords"
           }
          ],
          "pie": [
           {
            "automargin": true,
            "type": "pie"
           }
          ],
          "scatter": [
           {
            "marker": {
             "colorbar": {
              "outlinewidth": 0,
              "ticks": ""
             }
            },
            "type": "scatter"
           }
          ],
          "scatter3d": [
           {
            "line": {
             "colorbar": {
              "outlinewidth": 0,
              "ticks": ""
             }
            },
            "marker": {
             "colorbar": {
              "outlinewidth": 0,
              "ticks": ""
             }
            },
            "type": "scatter3d"
           }
          ],
          "scattercarpet": [
           {
            "marker": {
             "colorbar": {
              "outlinewidth": 0,
              "ticks": ""
             }
            },
            "type": "scattercarpet"
           }
          ],
          "scattergeo": [
           {
            "marker": {
             "colorbar": {
              "outlinewidth": 0,
              "ticks": ""
             }
            },
            "type": "scattergeo"
           }
          ],
          "scattergl": [
           {
            "marker": {
             "colorbar": {
              "outlinewidth": 0,
              "ticks": ""
             }
            },
            "type": "scattergl"
           }
          ],
          "scattermapbox": [
           {
            "marker": {
             "colorbar": {
              "outlinewidth": 0,
              "ticks": ""
             }
            },
            "type": "scattermapbox"
           }
          ],
          "scatterpolar": [
           {
            "marker": {
             "colorbar": {
              "outlinewidth": 0,
              "ticks": ""
             }
            },
            "type": "scatterpolar"
           }
          ],
          "scatterpolargl": [
           {
            "marker": {
             "colorbar": {
              "outlinewidth": 0,
              "ticks": ""
             }
            },
            "type": "scatterpolargl"
           }
          ],
          "scatterternary": [
           {
            "marker": {
             "colorbar": {
              "outlinewidth": 0,
              "ticks": ""
             }
            },
            "type": "scatterternary"
           }
          ],
          "surface": [
           {
            "colorbar": {
             "outlinewidth": 0,
             "ticks": ""
            },
            "colorscale": [
             [
              0,
              "#0d0887"
             ],
             [
              0.1111111111111111,
              "#46039f"
             ],
             [
              0.2222222222222222,
              "#7201a8"
             ],
             [
              0.3333333333333333,
              "#9c179e"
             ],
             [
              0.4444444444444444,
              "#bd3786"
             ],
             [
              0.5555555555555556,
              "#d8576b"
             ],
             [
              0.6666666666666666,
              "#ed7953"
             ],
             [
              0.7777777777777778,
              "#fb9f3a"
             ],
             [
              0.8888888888888888,
              "#fdca26"
             ],
             [
              1,
              "#f0f921"
             ]
            ],
            "type": "surface"
           }
          ],
          "table": [
           {
            "cells": {
             "fill": {
              "color": "#EBF0F8"
             },
             "line": {
              "color": "white"
             }
            },
            "header": {
             "fill": {
              "color": "#C8D4E3"
             },
             "line": {
              "color": "white"
             }
            },
            "type": "table"
           }
          ]
         },
         "layout": {
          "annotationdefaults": {
           "arrowcolor": "#2a3f5f",
           "arrowhead": 0,
           "arrowwidth": 1
          },
          "coloraxis": {
           "colorbar": {
            "outlinewidth": 0,
            "ticks": ""
           }
          },
          "colorscale": {
           "diverging": [
            [
             0,
             "#8e0152"
            ],
            [
             0.1,
             "#c51b7d"
            ],
            [
             0.2,
             "#de77ae"
            ],
            [
             0.3,
             "#f1b6da"
            ],
            [
             0.4,
             "#fde0ef"
            ],
            [
             0.5,
             "#f7f7f7"
            ],
            [
             0.6,
             "#e6f5d0"
            ],
            [
             0.7,
             "#b8e186"
            ],
            [
             0.8,
             "#7fbc41"
            ],
            [
             0.9,
             "#4d9221"
            ],
            [
             1,
             "#276419"
            ]
           ],
           "sequential": [
            [
             0,
             "#0d0887"
            ],
            [
             0.1111111111111111,
             "#46039f"
            ],
            [
             0.2222222222222222,
             "#7201a8"
            ],
            [
             0.3333333333333333,
             "#9c179e"
            ],
            [
             0.4444444444444444,
             "#bd3786"
            ],
            [
             0.5555555555555556,
             "#d8576b"
            ],
            [
             0.6666666666666666,
             "#ed7953"
            ],
            [
             0.7777777777777778,
             "#fb9f3a"
            ],
            [
             0.8888888888888888,
             "#fdca26"
            ],
            [
             1,
             "#f0f921"
            ]
           ],
           "sequentialminus": [
            [
             0,
             "#0d0887"
            ],
            [
             0.1111111111111111,
             "#46039f"
            ],
            [
             0.2222222222222222,
             "#7201a8"
            ],
            [
             0.3333333333333333,
             "#9c179e"
            ],
            [
             0.4444444444444444,
             "#bd3786"
            ],
            [
             0.5555555555555556,
             "#d8576b"
            ],
            [
             0.6666666666666666,
             "#ed7953"
            ],
            [
             0.7777777777777778,
             "#fb9f3a"
            ],
            [
             0.8888888888888888,
             "#fdca26"
            ],
            [
             1,
             "#f0f921"
            ]
           ]
          },
          "colorway": [
           "#636efa",
           "#EF553B",
           "#00cc96",
           "#ab63fa",
           "#FFA15A",
           "#19d3f3",
           "#FF6692",
           "#B6E880",
           "#FF97FF",
           "#FECB52"
          ],
          "font": {
           "color": "#2a3f5f"
          },
          "geo": {
           "bgcolor": "white",
           "lakecolor": "white",
           "landcolor": "#E5ECF6",
           "showlakes": true,
           "showland": true,
           "subunitcolor": "white"
          },
          "hoverlabel": {
           "align": "left"
          },
          "hovermode": "closest",
          "mapbox": {
           "style": "light"
          },
          "paper_bgcolor": "white",
          "plot_bgcolor": "#E5ECF6",
          "polar": {
           "angularaxis": {
            "gridcolor": "white",
            "linecolor": "white",
            "ticks": ""
           },
           "bgcolor": "#E5ECF6",
           "radialaxis": {
            "gridcolor": "white",
            "linecolor": "white",
            "ticks": ""
           }
          },
          "scene": {
           "xaxis": {
            "backgroundcolor": "#E5ECF6",
            "gridcolor": "white",
            "gridwidth": 2,
            "linecolor": "white",
            "showbackground": true,
            "ticks": "",
            "zerolinecolor": "white"
           },
           "yaxis": {
            "backgroundcolor": "#E5ECF6",
            "gridcolor": "white",
            "gridwidth": 2,
            "linecolor": "white",
            "showbackground": true,
            "ticks": "",
            "zerolinecolor": "white"
           },
           "zaxis": {
            "backgroundcolor": "#E5ECF6",
            "gridcolor": "white",
            "gridwidth": 2,
            "linecolor": "white",
            "showbackground": true,
            "ticks": "",
            "zerolinecolor": "white"
           }
          },
          "shapedefaults": {
           "line": {
            "color": "#2a3f5f"
           }
          },
          "ternary": {
           "aaxis": {
            "gridcolor": "white",
            "linecolor": "white",
            "ticks": ""
           },
           "baxis": {
            "gridcolor": "white",
            "linecolor": "white",
            "ticks": ""
           },
           "bgcolor": "#E5ECF6",
           "caxis": {
            "gridcolor": "white",
            "linecolor": "white",
            "ticks": ""
           }
          },
          "title": {
           "x": 0.05
          },
          "xaxis": {
           "automargin": true,
           "gridcolor": "white",
           "linecolor": "white",
           "ticks": "",
           "title": {
            "standoff": 15
           },
           "zerolinecolor": "white",
           "zerolinewidth": 2
          },
          "yaxis": {
           "automargin": true,
           "gridcolor": "white",
           "linecolor": "white",
           "ticks": "",
           "title": {
            "standoff": 15
           },
           "zerolinecolor": "white",
           "zerolinewidth": 2
          }
         }
        },
        "title": {
         "font": {
          "color": "#D9D9D9"
         },
         "text": "Cufflinks - Heatmap"
        },
        "xaxis": {
         "gridcolor": "#434343",
         "showgrid": true,
         "tickfont": {
          "color": "#C2C2C2"
         },
         "title": {
          "font": {
           "color": "#D9D9D9"
          },
          "text": ""
         },
         "zerolinecolor": "#666570"
        },
        "yaxis": {
         "gridcolor": "#434343",
         "showgrid": true,
         "tickfont": {
          "color": "#C2C2C2"
         },
         "title": {
          "font": {
           "color": "#D9D9D9"
          },
          "text": ""
         },
         "zerolinecolor": "#666570"
        }
       }
      },
      "text/html": [
       "<div>\n",
       "        \n",
       "        \n",
       "            <div id=\"8194b5c8-51b6-46e4-b9f1-d3dade1ea6b0\" class=\"plotly-graph-div\" style=\"height:525px; width:100%;\"></div>\n",
       "            <script type=\"text/javascript\">\n",
       "                require([\"plotly\"], function(Plotly) {\n",
       "                    window.PLOTLYENV=window.PLOTLYENV || {};\n",
       "                    window.PLOTLYENV.BASE_URL='https://plot.ly';\n",
       "                    \n",
       "                if (document.getElementById(\"8194b5c8-51b6-46e4-b9f1-d3dade1ea6b0\")) {\n",
       "                    Plotly.newPlot(\n",
       "                        '8194b5c8-51b6-46e4-b9f1-d3dade1ea6b0',\n",
       "                        [{\"colorscale\": [[0.0, \"rgb(158,1,66)\"], [0.1, \"rgb(213,62,79)\"], [0.2, \"rgb(244,109,67)\"], [0.3, \"rgb(253,174,97)\"], [0.4, \"rgb(254,224,139)\"], [0.5, \"rgb(255,255,191)\"], [0.6, \"rgb(230,245,152)\"], [0.7, \"rgb(171,221,164)\"], [0.8, \"rgb(102,194,165)\"], [0.9, \"rgb(50,136,189)\"], [1.0, \"rgb(94,79,162)\"]], \"type\": \"heatmap\", \"x\": [\"x_0\", \"x_1\", \"x_2\", \"x_3\", \"x_4\", \"x_5\", \"x_6\", \"x_7\", \"x_8\", \"x_9\", \"x_10\", \"x_11\", \"x_12\", \"x_13\", \"x_14\", \"x_15\", \"x_16\", \"x_17\", \"x_18\", \"x_19\"], \"y\": [\"y_0\", \"y_1\", \"y_2\", \"y_3\", \"y_4\", \"y_5\", \"y_6\", \"y_7\", \"y_8\", \"y_9\", \"y_10\", \"y_11\", \"y_12\", \"y_13\", \"y_14\", \"y_15\", \"y_16\", \"y_17\", \"y_18\", \"y_19\"], \"z\": [[28.0, 26.489485331095377, 32.68040807489289, 26.025195913565017, 31.839884373224564, 27.693989478521114, 29.434081075395035, 31.419913950337218, 24.308700507963398, 20.230254767883388, 28.20261500690198, 30.094630539762235, 31.30140123725175, 20.796003974267705, 43.146321912793184, 38.10370514979293, 27.906432311429043, 26.39255888851923, 23.72017070959554, 26.05762940577319], [26.470108419453798, 34.19346742104443, 41.86206020770091, 15.530144539196392, 24.532578021198812, 40.065499354335884, 32.74638275911916, 32.69976084960608, 36.35810157644677, 15.63566080081403, 38.91852621676252, 38.54759583083633, 31.345432451730154, 22.08389261424246, 41.336505963746035, 38.747898774932416, 27.009737089483586, 24.314595398294294, 10.787998034394557, 27.482350913677852], [25.38497564037598, 32.878420247456596, 42.93513739681818, 18.78528132982911, 23.939372328482104, 37.69647302534245, 27.634393898509266, 30.255385852953687, 30.753328037576246, 16.86364118690333, 38.41518194101342, 24.906879703887107, 31.121644544358897, 10.482074656399682, 41.80050995674027, 36.524178424918496, 23.924679135307837, 23.574552854539878, 10.807244612661316, 31.359652824759465], [25.504160000615943, 49.497028703660376, 38.98333403845998, 17.741275897927054, 17.542474639461407, 35.26807452813699, 28.68620587728185, 38.19315626658607, 37.524849301341845, 19.7160849937451, 38.66094532924212, 27.21846190834145, 30.854840669581414, 14.026438917989914, 41.83526411499115, 41.04407786132328, 28.43989406578237, 30.776868042526775, 9.42757978928514, 46.89965846023196], [27.94436169505545, 51.46537769479416, 33.45776890705648, 22.794784875624003, 20.824108824590233, 34.474331036436254, 33.438499405008486, 38.62785937262669, 39.55718549011642, 13.885079484953366, 39.079298115960825, 30.54752734427875, 31.75970597154916, 15.575395343888033, 41.54312254404749, 41.21096296091857, 31.30180109376462, 29.91720230545591, -0.6068519032114139, 47.320561041628046], [13.396245283419699, 42.35459561282511, 35.28403529688939, 27.61444282661936, 19.06297058921509, 33.576359690999936, 32.01063537904359, 40.14316800311063, 28.777504232781475, 11.739092099810845, 40.63783498995954, 29.280200449942505, 44.93606635547567, 16.950684659424603, 41.290949961983344, 28.56281457515442, 41.667980318231166, 33.35643990242832, 2.6333869444969, 43.582895033176555], [9.655366299615563, 51.38925680891662, 41.15429714386636, 23.157894720147556, 18.083729708467317, 44.061628509902306, 25.281723678123598, 45.81080623621429, 27.783059386073038, 13.732796774922711, 34.368343271170076, 26.176287394331176, 42.7935035868431, 18.689866563932572, 50.67843102042425, 23.204062704592616, 39.348760043958244, 38.78639245096888, 1.734417585310749, 47.48378577820221], [15.57831969720171, 44.42101238859998, 42.910256349889806, 26.635785132616462, 17.908956674808152, 44.393772508370795, 45.953743640279455, 46.521238789168905, 40.69990919761383, 15.802695354861516, 40.31631815048761, 23.310199004400385, 43.621715128284336, 16.666909997432565, 41.25658708642845, 23.54533717145776, 44.767603808236146, 42.670025591630825, -0.8101221718355196, 48.99693461994819], [16.075479962686178, 54.057977216707044, 47.900229919341704, 26.551692611518657, 22.281310440192414, 35.06695008909635, 41.08433083938471, 44.47452541633222, 40.30253399766611, 17.223447068365495, 33.75211893434492, 19.8009944190446, 39.486986166034946, 10.950092673832039, 40.44537165572408, 17.926950548090414, 46.69862596363223, 34.058732514170046, -4.378066687614128, 50.025110647596165], [16.020294227664674, 53.8282560756218, 46.79715024860366, 28.130832216627365, 9.051856042227667, 48.11956180901054, 43.72669722051429, 50.09865224920634, 40.716781997170365, 20.423206084277233, 36.06425730125997, 17.684684400195174, 39.418834071831256, 15.195062901384263, 47.889251667553864, 8.086694467488517, 45.258991346468484, 16.120473226369295, -12.497493006906423, 38.773369153479926], [21.526740783991425, 43.78960441199874, 39.51215376583508, 34.82517610377169, 8.757461163582974, 44.88902004252361, 42.60915274303212, 50.67641758245191, 46.937779976664324, 13.103811461818058, 41.03558255050731, 23.080874968454637, 34.718207335993256, 21.768355440810524, 69.94713248059227, 4.1997915219122435, 44.33592048509253, 13.820912441579559, -19.23967178185122, 35.6331015821715], [25.735947457139567, 21.76664888633839, 48.6497784530805, 37.318993089647456, 11.631524763267617, 44.28785213358591, 43.60704576142496, 52.075066917054116, 37.66253550061124, 12.44109324888204, 42.908950607386714, 16.180125036030496, 30.523564681794163, 17.792786668862536, 70.39357696427598, 5.465396130190564, 45.58376619757652, 12.64459935693653, -18.41868492074981, 35.673641678682515], [27.3857932195822, 39.29644673380684, 48.37274639085111, 34.96576545525225, 14.658111369766644, 42.48039568343969, 32.22284538601578, 48.611680972244805, 31.572367203437857, 21.245526115687923, 41.81094563809983, 19.846099597995416, 27.82578272940619, 16.94000078622346, 60.20626387961924, 8.806915861296998, 44.996305503897005, 12.45501958602131, -18.827209573996743, 46.5580702711009], [28.407744914854216, 40.305141307519, 53.14359874837483, 34.28532976018327, 17.03832119391866, 42.99145404439936, 31.846376404717613, 60.8236471384361, 37.45915216692153, 34.10796174357349, 37.690149260342466, 18.179725229093247, 24.697644614431887, 17.772313513318196, 63.9549301159699, 10.066126605313176, 44.412349021025776, 1.0328201186225243, -19.874826733911622, 48.224226243402114], [37.00249227371085, 35.32889924387911, 56.20407545865141, 31.475415465345353, 14.74567466256429, 40.55316239462778, 32.973742725385556, 61.79788341997394, 44.07949035080517, 33.50748650945394, 35.50624059973365, 17.61285744846905, 8.900450507143642, 17.372865062757583, 64.74635438398708, 9.756616064251192, 44.95655204926113, 2.367680386286306, -17.647772303065555, 46.91629250993951], [39.298342925263334, 38.09757696027991, 56.28725487024549, 38.31307749112552, 14.92720675400496, 41.44220752506868, 29.23236536109114, 62.664971976419004, 37.55520923447906, 32.75100732115877, 26.302518167378345, 0.8419958783257577, -1.8693991744895797, 17.095072224538526, 65.10308238008872, 10.412592086454076, 44.937401752155196, 6.18532066583707, -17.079229049716428, 45.75604224431063], [37.85983333866443, 39.95302184022564, 56.34580035357026, 39.465687207327065, 16.402640201792106, 38.342267064873106, 31.460465383847435, 60.777252950144614, 37.535401326934156, 35.62493820930303, 26.477197213611216, 4.2507752819155105, -17.775099047635017, 9.52129269342253, 72.48146210777206, 4.1584192805904365, 51.225896496994224, 14.758954658210266, -16.04344912262018, 40.45127567234008], [40.62300971591347, 26.3878915146132, 56.383931964307195, 40.35233465557887, 22.123717649949395, 38.64386587159437, 35.79197654131063, 66.47826069237145, 48.08695367299122, 36.56880847878913, 46.200024201674594, -3.783050566952765, -15.7145659518232, 2.4619912328443005, 73.54907829916773, 8.640373554941299, 49.11442992327458, 19.003248496116857, -17.409347942298666, 45.33742092133727], [40.334075461126, 31.122713136745006, 56.16866317116778, 41.434593140227605, 23.298679784398235, 29.194248088593977, 39.644429656515015, 76.64239129356034, 55.28637086431066, 38.13886880845669, 46.361399933169274, -27.238114573550334, -14.711167225884173, 6.212083773639341, 66.04986308977513, 8.300229755648711, 52.080757792568306, 21.32375420532826, -27.29748869863893, 45.07824300235788], [42.89402054653727, 28.27748351366083, 54.66588510191509, 41.65471361483494, 24.404104555009283, 31.30741399077407, 46.36492932440528, 79.47714032687395, 59.482505682196155, 35.38367586584961, 47.199757315536864, -38.197033465994394, -11.560168156689597, 9.127432246542089, 65.37803279212132, 2.677973661781814, 51.176587926221906, 19.673513131323144, -29.33454974886566, 41.150345774587755]], \"zmax\": 79.47714032687395, \"zmin\": -38.197033465994394}],\n",
       "                        {\"legend\": {\"bgcolor\": \"#1A1A1C\", \"font\": {\"color\": \"#D9D9D9\"}}, \"paper_bgcolor\": \"#1A1A1C\", \"plot_bgcolor\": \"#1A1A1C\", \"template\": {\"data\": {\"bar\": [{\"error_x\": {\"color\": \"#2a3f5f\"}, \"error_y\": {\"color\": \"#2a3f5f\"}, \"marker\": {\"line\": {\"color\": \"#E5ECF6\", \"width\": 0.5}}, \"type\": \"bar\"}], \"barpolar\": [{\"marker\": {\"line\": {\"color\": \"#E5ECF6\", \"width\": 0.5}}, \"type\": \"barpolar\"}], \"carpet\": [{\"aaxis\": {\"endlinecolor\": \"#2a3f5f\", \"gridcolor\": \"white\", \"linecolor\": \"white\", \"minorgridcolor\": \"white\", \"startlinecolor\": \"#2a3f5f\"}, \"baxis\": {\"endlinecolor\": \"#2a3f5f\", \"gridcolor\": \"white\", \"linecolor\": \"white\", \"minorgridcolor\": \"white\", \"startlinecolor\": \"#2a3f5f\"}, \"type\": \"carpet\"}], \"choropleth\": [{\"colorbar\": {\"outlinewidth\": 0, \"ticks\": \"\"}, \"type\": \"choropleth\"}], \"contour\": [{\"colorbar\": {\"outlinewidth\": 0, \"ticks\": \"\"}, \"colorscale\": [[0.0, \"#0d0887\"], [0.1111111111111111, \"#46039f\"], [0.2222222222222222, \"#7201a8\"], [0.3333333333333333, \"#9c179e\"], [0.4444444444444444, \"#bd3786\"], [0.5555555555555556, \"#d8576b\"], [0.6666666666666666, \"#ed7953\"], [0.7777777777777778, \"#fb9f3a\"], [0.8888888888888888, \"#fdca26\"], [1.0, \"#f0f921\"]], \"type\": \"contour\"}], \"contourcarpet\": [{\"colorbar\": {\"outlinewidth\": 0, \"ticks\": \"\"}, \"type\": \"contourcarpet\"}], \"heatmap\": [{\"colorbar\": {\"outlinewidth\": 0, \"ticks\": \"\"}, \"colorscale\": [[0.0, \"#0d0887\"], [0.1111111111111111, \"#46039f\"], [0.2222222222222222, \"#7201a8\"], [0.3333333333333333, \"#9c179e\"], [0.4444444444444444, \"#bd3786\"], [0.5555555555555556, \"#d8576b\"], [0.6666666666666666, \"#ed7953\"], [0.7777777777777778, \"#fb9f3a\"], [0.8888888888888888, \"#fdca26\"], [1.0, \"#f0f921\"]], \"type\": \"heatmap\"}], \"heatmapgl\": [{\"colorbar\": {\"outlinewidth\": 0, \"ticks\": \"\"}, \"colorscale\": [[0.0, \"#0d0887\"], [0.1111111111111111, \"#46039f\"], [0.2222222222222222, \"#7201a8\"], [0.3333333333333333, \"#9c179e\"], [0.4444444444444444, \"#bd3786\"], [0.5555555555555556, \"#d8576b\"], [0.6666666666666666, \"#ed7953\"], [0.7777777777777778, \"#fb9f3a\"], [0.8888888888888888, \"#fdca26\"], [1.0, \"#f0f921\"]], \"type\": \"heatmapgl\"}], \"histogram\": [{\"marker\": {\"colorbar\": {\"outlinewidth\": 0, \"ticks\": \"\"}}, \"type\": \"histogram\"}], \"histogram2d\": [{\"colorbar\": {\"outlinewidth\": 0, \"ticks\": \"\"}, \"colorscale\": [[0.0, \"#0d0887\"], [0.1111111111111111, \"#46039f\"], [0.2222222222222222, \"#7201a8\"], [0.3333333333333333, \"#9c179e\"], [0.4444444444444444, \"#bd3786\"], [0.5555555555555556, \"#d8576b\"], [0.6666666666666666, \"#ed7953\"], [0.7777777777777778, \"#fb9f3a\"], [0.8888888888888888, \"#fdca26\"], [1.0, \"#f0f921\"]], \"type\": \"histogram2d\"}], \"histogram2dcontour\": [{\"colorbar\": {\"outlinewidth\": 0, \"ticks\": \"\"}, \"colorscale\": [[0.0, \"#0d0887\"], [0.1111111111111111, \"#46039f\"], [0.2222222222222222, \"#7201a8\"], [0.3333333333333333, \"#9c179e\"], [0.4444444444444444, \"#bd3786\"], [0.5555555555555556, \"#d8576b\"], [0.6666666666666666, \"#ed7953\"], [0.7777777777777778, \"#fb9f3a\"], [0.8888888888888888, \"#fdca26\"], [1.0, \"#f0f921\"]], \"type\": \"histogram2dcontour\"}], \"mesh3d\": [{\"colorbar\": {\"outlinewidth\": 0, \"ticks\": \"\"}, \"type\": \"mesh3d\"}], \"parcoords\": [{\"line\": {\"colorbar\": {\"outlinewidth\": 0, \"ticks\": \"\"}}, \"type\": \"parcoords\"}], \"pie\": [{\"automargin\": true, \"type\": \"pie\"}], \"scatter\": [{\"marker\": {\"colorbar\": {\"outlinewidth\": 0, \"ticks\": \"\"}}, \"type\": \"scatter\"}], \"scatter3d\": [{\"line\": {\"colorbar\": {\"outlinewidth\": 0, \"ticks\": \"\"}}, \"marker\": {\"colorbar\": {\"outlinewidth\": 0, \"ticks\": \"\"}}, \"type\": \"scatter3d\"}], \"scattercarpet\": [{\"marker\": {\"colorbar\": {\"outlinewidth\": 0, \"ticks\": \"\"}}, \"type\": \"scattercarpet\"}], \"scattergeo\": [{\"marker\": {\"colorbar\": {\"outlinewidth\": 0, \"ticks\": \"\"}}, \"type\": \"scattergeo\"}], \"scattergl\": [{\"marker\": {\"colorbar\": {\"outlinewidth\": 0, \"ticks\": \"\"}}, \"type\": \"scattergl\"}], \"scattermapbox\": [{\"marker\": {\"colorbar\": {\"outlinewidth\": 0, \"ticks\": \"\"}}, \"type\": \"scattermapbox\"}], \"scatterpolar\": [{\"marker\": {\"colorbar\": {\"outlinewidth\": 0, \"ticks\": \"\"}}, \"type\": \"scatterpolar\"}], \"scatterpolargl\": [{\"marker\": {\"colorbar\": {\"outlinewidth\": 0, \"ticks\": \"\"}}, \"type\": \"scatterpolargl\"}], \"scatterternary\": [{\"marker\": {\"colorbar\": {\"outlinewidth\": 0, \"ticks\": \"\"}}, \"type\": \"scatterternary\"}], \"surface\": [{\"colorbar\": {\"outlinewidth\": 0, \"ticks\": \"\"}, \"colorscale\": [[0.0, \"#0d0887\"], [0.1111111111111111, \"#46039f\"], [0.2222222222222222, \"#7201a8\"], [0.3333333333333333, \"#9c179e\"], [0.4444444444444444, \"#bd3786\"], [0.5555555555555556, \"#d8576b\"], [0.6666666666666666, \"#ed7953\"], [0.7777777777777778, \"#fb9f3a\"], [0.8888888888888888, \"#fdca26\"], [1.0, \"#f0f921\"]], \"type\": \"surface\"}], \"table\": [{\"cells\": {\"fill\": {\"color\": \"#EBF0F8\"}, \"line\": {\"color\": \"white\"}}, \"header\": {\"fill\": {\"color\": \"#C8D4E3\"}, \"line\": {\"color\": \"white\"}}, \"type\": \"table\"}]}, \"layout\": {\"annotationdefaults\": {\"arrowcolor\": \"#2a3f5f\", \"arrowhead\": 0, \"arrowwidth\": 1}, \"coloraxis\": {\"colorbar\": {\"outlinewidth\": 0, \"ticks\": \"\"}}, \"colorscale\": {\"diverging\": [[0, \"#8e0152\"], [0.1, \"#c51b7d\"], [0.2, \"#de77ae\"], [0.3, \"#f1b6da\"], [0.4, \"#fde0ef\"], [0.5, \"#f7f7f7\"], [0.6, \"#e6f5d0\"], [0.7, \"#b8e186\"], [0.8, \"#7fbc41\"], [0.9, \"#4d9221\"], [1, \"#276419\"]], \"sequential\": [[0.0, \"#0d0887\"], [0.1111111111111111, \"#46039f\"], [0.2222222222222222, \"#7201a8\"], [0.3333333333333333, \"#9c179e\"], [0.4444444444444444, \"#bd3786\"], [0.5555555555555556, \"#d8576b\"], [0.6666666666666666, \"#ed7953\"], [0.7777777777777778, \"#fb9f3a\"], [0.8888888888888888, \"#fdca26\"], [1.0, \"#f0f921\"]], \"sequentialminus\": [[0.0, \"#0d0887\"], [0.1111111111111111, \"#46039f\"], [0.2222222222222222, \"#7201a8\"], [0.3333333333333333, \"#9c179e\"], [0.4444444444444444, \"#bd3786\"], [0.5555555555555556, \"#d8576b\"], [0.6666666666666666, \"#ed7953\"], [0.7777777777777778, \"#fb9f3a\"], [0.8888888888888888, \"#fdca26\"], [1.0, \"#f0f921\"]]}, \"colorway\": [\"#636efa\", \"#EF553B\", \"#00cc96\", \"#ab63fa\", \"#FFA15A\", \"#19d3f3\", \"#FF6692\", \"#B6E880\", \"#FF97FF\", \"#FECB52\"], \"font\": {\"color\": \"#2a3f5f\"}, \"geo\": {\"bgcolor\": \"white\", \"lakecolor\": \"white\", \"landcolor\": \"#E5ECF6\", \"showlakes\": true, \"showland\": true, \"subunitcolor\": \"white\"}, \"hoverlabel\": {\"align\": \"left\"}, \"hovermode\": \"closest\", \"mapbox\": {\"style\": \"light\"}, \"paper_bgcolor\": \"white\", \"plot_bgcolor\": \"#E5ECF6\", \"polar\": {\"angularaxis\": {\"gridcolor\": \"white\", \"linecolor\": \"white\", \"ticks\": \"\"}, \"bgcolor\": \"#E5ECF6\", \"radialaxis\": {\"gridcolor\": \"white\", \"linecolor\": \"white\", \"ticks\": \"\"}}, \"scene\": {\"xaxis\": {\"backgroundcolor\": \"#E5ECF6\", \"gridcolor\": \"white\", \"gridwidth\": 2, \"linecolor\": \"white\", \"showbackground\": true, \"ticks\": \"\", \"zerolinecolor\": \"white\"}, \"yaxis\": {\"backgroundcolor\": \"#E5ECF6\", \"gridcolor\": \"white\", \"gridwidth\": 2, \"linecolor\": \"white\", \"showbackground\": true, \"ticks\": \"\", \"zerolinecolor\": \"white\"}, \"zaxis\": {\"backgroundcolor\": \"#E5ECF6\", \"gridcolor\": \"white\", \"gridwidth\": 2, \"linecolor\": \"white\", \"showbackground\": true, \"ticks\": \"\", \"zerolinecolor\": \"white\"}}, \"shapedefaults\": {\"line\": {\"color\": \"#2a3f5f\"}}, \"ternary\": {\"aaxis\": {\"gridcolor\": \"white\", \"linecolor\": \"white\", \"ticks\": \"\"}, \"baxis\": {\"gridcolor\": \"white\", \"linecolor\": \"white\", \"ticks\": \"\"}, \"bgcolor\": \"#E5ECF6\", \"caxis\": {\"gridcolor\": \"white\", \"linecolor\": \"white\", \"ticks\": \"\"}}, \"title\": {\"x\": 0.05}, \"xaxis\": {\"automargin\": true, \"gridcolor\": \"white\", \"linecolor\": \"white\", \"ticks\": \"\", \"title\": {\"standoff\": 15}, \"zerolinecolor\": \"white\", \"zerolinewidth\": 2}, \"yaxis\": {\"automargin\": true, \"gridcolor\": \"white\", \"linecolor\": \"white\", \"ticks\": \"\", \"title\": {\"standoff\": 15}, \"zerolinecolor\": \"white\", \"zerolinewidth\": 2}}}, \"title\": {\"font\": {\"color\": \"#D9D9D9\"}, \"text\": \"Cufflinks - Heatmap\"}, \"xaxis\": {\"gridcolor\": \"#434343\", \"showgrid\": true, \"tickfont\": {\"color\": \"#C2C2C2\"}, \"title\": {\"font\": {\"color\": \"#D9D9D9\"}, \"text\": \"\"}, \"zerolinecolor\": \"#666570\"}, \"yaxis\": {\"gridcolor\": \"#434343\", \"showgrid\": true, \"tickfont\": {\"color\": \"#C2C2C2\"}, \"title\": {\"font\": {\"color\": \"#D9D9D9\"}, \"text\": \"\"}, \"zerolinecolor\": \"#666570\"}},\n",
       "                        {\"showLink\": true, \"linkText\": \"Export to plot.ly\", \"plotlyServerURL\": \"https://plot.ly\", \"responsive\": true}\n",
       "                    ).then(function(){\n",
       "                            \n",
       "var gd = document.getElementById('8194b5c8-51b6-46e4-b9f1-d3dade1ea6b0');\n",
       "var x = new MutationObserver(function (mutations, observer) {{\n",
       "        var display = window.getComputedStyle(gd).display;\n",
       "        if (!display || display === 'none') {{\n",
       "            console.log([gd, 'removed!']);\n",
       "            Plotly.purge(gd);\n",
       "            observer.disconnect();\n",
       "        }}\n",
       "}});\n",
       "\n",
       "// Listen for the removal of the full notebook cells\n",
       "var notebookContainer = gd.closest('#notebook-container');\n",
       "if (notebookContainer) {{\n",
       "    x.observe(notebookContainer, {childList: true});\n",
       "}}\n",
       "\n",
       "// Listen for the clearing of the current output cell\n",
       "var outputEl = gd.closest('.output');\n",
       "if (outputEl) {{\n",
       "    x.observe(outputEl, {childList: true});\n",
       "}}\n",
       "\n",
       "                        })\n",
       "                };\n",
       "                });\n",
       "            </script>\n",
       "        </div>"
      ]
     },
     "metadata": {},
     "output_type": "display_data"
    }
   ],
   "source": [
    "cf.datagen.heatmap(20,20).iplot(kind = 'heatmap', colorscale='spectral', title='Cufflinks - Heatmap')"
   ]
  },
  {
   "cell_type": "code",
   "execution_count": null,
   "metadata": {},
   "outputs": [],
   "source": []
  }
 ],
 "metadata": {
  "kernelspec": {
   "display_name": "Python 3",
   "language": "python",
   "name": "python3"
  },
  "language_info": {
   "codemirror_mode": {
    "name": "ipython",
    "version": 3
   },
   "file_extension": ".py",
   "mimetype": "text/x-python",
   "name": "python",
   "nbconvert_exporter": "python",
   "pygments_lexer": "ipython3",
   "version": "3.7.6"
  }
 },
 "nbformat": 4,
 "nbformat_minor": 2
}
